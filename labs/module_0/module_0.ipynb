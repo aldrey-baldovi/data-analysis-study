{
 "cells": [
  {
   "cell_type": "code",
   "execution_count": 8,
   "metadata": {},
   "outputs": [
    {
     "name": "stdout",
     "output_type": "stream",
     "text": [
      "Happy variable is set to True\n"
     ]
    }
   ],
   "source": [
    "happy = True\n",
    "print(\"Happy variable is set to\", happy)"
   ]
  },
  {
   "cell_type": "code",
   "execution_count": 9,
   "metadata": {},
   "outputs": [
    {
     "name": "stdout",
     "output_type": "stream",
     "text": [
      "True\n",
      "True\n",
      "False\n"
     ]
    }
   ],
   "source": [
    "print(5+5==10)\n",
    "print('apple' != 'orange')\n",
    "print(3 not in [1,2,3,4,5,6,7,8])"
   ]
  },
  {
   "cell_type": "code",
   "execution_count": 10,
   "metadata": {},
   "outputs": [
    {
     "name": "stdout",
     "output_type": "stream",
     "text": [
      "True\n",
      "True\n"
     ]
    }
   ],
   "source": [
    "print((5+5==10) and ('apple' != 'orange'))\n",
    "print(('apple' != 'orange')|(3 not in [1,2,3,4,5,6,7,8]))"
   ]
  },
  {
   "cell_type": "code",
   "execution_count": 11,
   "metadata": {},
   "outputs": [
    {
     "name": "stdout",
     "output_type": "stream",
     "text": [
      "Number is exactly 10\n"
     ]
    }
   ],
   "source": [
    "number = 10\n",
    "\n",
    "if number < 10:\n",
    "    print (\"Number is less than 10\")\n",
    "elif number > 10:\n",
    "    print (\"Number is greater than 10\")\n",
    "elif number == 10:\n",
    "    print (\"Number is exactly 10\")\n",
    "else:\n",
    "    print(\"Number is probably not a number at all\")"
   ]
  },
  {
   "cell_type": "code",
   "execution_count": 12,
   "metadata": {},
   "outputs": [
    {
     "name": "stdout",
     "output_type": "stream",
     "text": [
      "Your total commute time is expected to be 50 minutes.\n"
     ]
    }
   ],
   "source": [
    "commute = 30\n",
    "rain = False\n",
    "traffic = True\n",
    "\n",
    "if (rain == True) | (traffic == True):\n",
    "    if (rain == True) & (traffic == True):\n",
    "        total_commute = commute + 15 + 20\n",
    "    elif (rain == True) & (traffic == False):\n",
    "        total_commute = commute + 15\n",
    "    elif (rain == False) & (traffic == True):\n",
    "        total_commute = commute + 20\n",
    "else:\n",
    "    total_commute = commute\n",
    "    \n",
    "print (\"Your total commute time is expected to be\", total_commute,\"minutes.\")"
   ]
  },
  {
   "cell_type": "code",
   "execution_count": 13,
   "metadata": {},
   "outputs": [
    {
     "data": {
      "text/plain": [
       "range(0, 10)"
      ]
     },
     "execution_count": 13,
     "metadata": {},
     "output_type": "execute_result"
    }
   ],
   "source": [
    "range(10)"
   ]
  },
  {
   "cell_type": "code",
   "execution_count": 14,
   "metadata": {},
   "outputs": [
    {
     "data": {
      "text/plain": [
       "10"
      ]
     },
     "execution_count": 14,
     "metadata": {},
     "output_type": "execute_result"
    }
   ],
   "source": [
    "len(range(5,15))"
   ]
  },
  {
   "cell_type": "code",
   "execution_count": 15,
   "metadata": {},
   "outputs": [
    {
     "name": "stdout",
     "output_type": "stream",
     "text": [
      "5\n",
      "6\n",
      "7\n",
      "8\n",
      "9\n",
      "10\n",
      "11\n",
      "12\n",
      "13\n",
      "14\n"
     ]
    }
   ],
   "source": [
    "for i in range(5,15):\n",
    "    print(i)"
   ]
  },
  {
   "cell_type": "code",
   "execution_count": 16,
   "metadata": {},
   "outputs": [
    {
     "name": "stdout",
     "output_type": "stream",
     "text": [
      "apple\n",
      "orange\n",
      "banana\n",
      "grapes\n",
      "pineapple\n"
     ]
    }
   ],
   "source": [
    "fruits = ['apple','orange','banana','grapes','pineapple']\n",
    "\n",
    "for fruit in fruits:\n",
    "    print(fruit)"
   ]
  },
  {
   "cell_type": "code",
   "execution_count": 17,
   "metadata": {},
   "outputs": [
    {
     "name": "stdout",
     "output_type": "stream",
     "text": [
      "Brian is 23 years old.\n",
      "Amy is 22 years old.\n",
      "Darlene is 47 years old.\n",
      "Ralph is 32 years old.\n",
      "Jordan is 28 years old.\n",
      "Stephanie is 35 years old.\n"
     ]
    }
   ],
   "source": [
    "ages = {'Brian':23, 'Amy':22, 'Darlene':47, 'Ralph':32, 'Jordan':28, 'Stephanie':35}\n",
    "\n",
    "for name, age in ages.items():\n",
    "    print(name,\"is\", age, \"years old.\")"
   ]
  },
  {
   "cell_type": "code",
   "execution_count": 18,
   "metadata": {},
   "outputs": [
    {
     "name": "stdout",
     "output_type": "stream",
     "text": [
      "Total is currently 34\n",
      "Total is currently 46\n",
      "Total is currently 139\n",
      "Total is currently 922\n",
      "Total is currently 1252\n",
      "Total is currently 2148\n",
      "Total is currently 2149\n",
      "Total is currently 2204\n"
     ]
    }
   ],
   "source": [
    "num_list = [34, 12, 93, 783, 330, 896, 1, 55]\n",
    "\n",
    "total = 0\n",
    "\n",
    "for i in num_list:\n",
    "    total += i\n",
    "    print(\"Total is currently\", total)"
   ]
  },
  {
   "cell_type": "code",
   "execution_count": 19,
   "metadata": {},
   "outputs": [
    {
     "name": "stdout",
     "output_type": "stream",
     "text": [
      "Cake is in the oven.\n",
      "After 15 minutes, the cake is not done yet.\n",
      "After 30 minutes, the cake is not done yet.\n",
      "After 45 minutes, the cake is not done yet.\n",
      "After 60 minutes, it is done. Let's eat cake!\n"
     ]
    }
   ],
   "source": [
    "total_time = 60\n",
    "minutes_elapsed = 0\n",
    "wait = 15\n",
    "\n",
    "print(\"Cake is in the oven.\")\n",
    "minutes_elapsed += wait\n",
    "\n",
    "while minutes_elapsed < total_time:\n",
    "    print(\"After\", minutes_elapsed,\"minutes, the cake is not done yet.\")\n",
    "    minutes_elapsed += wait\n",
    "    \n",
    "print (\"After\", minutes_elapsed,\"minutes, it is done. Let's eat cake!\")"
   ]
  },
  {
   "cell_type": "code",
   "execution_count": 20,
   "metadata": {},
   "outputs": [],
   "source": [
    "import os"
   ]
  },
  {
   "cell_type": "code",
   "execution_count": 21,
   "metadata": {},
   "outputs": [
    {
     "data": {
      "text/plain": [
       "'/Users/aldreybaldovi'"
      ]
     },
     "execution_count": 21,
     "metadata": {},
     "output_type": "execute_result"
    }
   ],
   "source": [
    "os.getcwd()"
   ]
  },
  {
   "cell_type": "code",
   "execution_count": 22,
   "metadata": {},
   "outputs": [
    {
     "data": {
      "text/plain": [
       "'C:/ironhack/module_0/python-beginner/data'"
      ]
     },
     "execution_count": 22,
     "metadata": {},
     "output_type": "execute_result"
    }
   ],
   "source": [
    "root = 'C:'\n",
    "level_1 = 'ironhack'\n",
    "level_2 = 'module_0'\n",
    "level_3 = 'python-beginner'\n",
    "level_4 = 'data'\n",
    "\n",
    "os.path.join(root,level_1,level_2,level_3,level_4)"
   ]
  },
  {
   "cell_type": "code",
   "execution_count": 23,
   "metadata": {},
   "outputs": [],
   "source": [
    "folder_name = 'new_folder'\n",
    "\n",
    "if os.path.exists(folder_name) == False:\n",
    "    os.makedirs(folder_name)"
   ]
  },
  {
   "cell_type": "code",
   "execution_count": 24,
   "metadata": {},
   "outputs": [],
   "source": [
    "with open(\"example.txt\", \"w\") as f:\n",
    "    f.write(\"Hello World! \\n\")\n",
    "    f.write(\"How are you? \\n\")\n",
    "    f.write(\"I'm fine.\")"
   ]
  },
  {
   "cell_type": "code",
   "execution_count": 25,
   "metadata": {},
   "outputs": [
    {
     "name": "stdout",
     "output_type": "stream",
     "text": [
      "Hello World! \n",
      "\n",
      "How are you? \n",
      "\n",
      "I'm fine.\n"
     ]
    }
   ],
   "source": [
    "with open(\"example.txt\",\"r\") as f:\n",
    "    lines = f.readlines()\n",
    "    for line in lines:\n",
    "        print(line)"
   ]
  },
  {
   "cell_type": "code",
   "execution_count": 26,
   "metadata": {},
   "outputs": [],
   "source": [
    "data = []\n",
    "\n",
    "with open(\"/Users/aldreybaldovi/Desktop/Ironhack/weight_height.csv\",\"r\") as f:\n",
    "    lines = f.readlines()\n",
    "    for line in lines:\n",
    "        data.append(line.split()[0].split(\",\"))"
   ]
  },
  {
   "cell_type": "code",
   "execution_count": 27,
   "metadata": {},
   "outputs": [
    {
     "data": {
      "text/plain": [
       "[['gender',\n",
       "  'actual_weight',\n",
       "  'actual_height',\n",
       "  'reported_weight',\n",
       "  'reported_height'],\n",
       " ['M', '77', '182', '77', '180'],\n",
       " ['F', '58', '161', '51', '159'],\n",
       " ['F', '53', '161', '54', '158'],\n",
       " ['M', '68', '177', '70', '175'],\n",
       " ['F', '59', '157', '59', '155'],\n",
       " ['M', '76', '170', '76', '165'],\n",
       " ['M', '76', '167', '77', '165'],\n",
       " ['M', '69', '186', '73', '180'],\n",
       " ['M', '71', '178', '71', '175'],\n",
       " ['M', '65', '171', '64', '170'],\n",
       " ['M', '70', '175', '75', '174'],\n",
       " ['F', '166', '57', '56', '163'],\n",
       " ['F', '51', '161', '52', '158'],\n",
       " ['F', '64', '168', '64', '165'],\n",
       " ['F', '52', '163', '57', '160'],\n",
       " ['F', '65', '166', '66', '165'],\n",
       " ['M', '92', '187', '101', '185'],\n",
       " ['F', '62', '168', '62', '165'],\n",
       " ['M', '76', '197', '75', '200'],\n",
       " ['F', '61', '175', '61', '171'],\n",
       " ['M', '119', '180', '124', '178'],\n",
       " ['F', '61', '170', '61', '170'],\n",
       " ['M', '65', '175', '66', '173'],\n",
       " ['M', '66', '173', '70', '170'],\n",
       " ['F', '54', '171', '59', '168'],\n",
       " ['F', '50', '166', '50', '165'],\n",
       " ['F', '63', '169', '61', '168'],\n",
       " ['F', '58', '166', '60', '160'],\n",
       " ['F', '39', '157', '41', '153'],\n",
       " ['M', '101', '183', '100', '180'],\n",
       " ['F', '71', '166', '71', '165'],\n",
       " ['M', '75', '178', '73', '175'],\n",
       " ['M', '79', '173', '76', '173'],\n",
       " ['F', '52', '164', '52', '161'],\n",
       " ['F', '68', '169', '63', '170'],\n",
       " ['M', '64', '176', '65', '175'],\n",
       " ['F', '56', '166', '54', '165'],\n",
       " ['M', '69', '174', '69', '171'],\n",
       " ['M', '88', '178', '86', '175'],\n",
       " ['M', '65', '187', '67', '188'],\n",
       " ['F', '54', '164', '53', '160'],\n",
       " ['M', '80', '178', '80', '178'],\n",
       " ['F', '63', '163', '59', '159'],\n",
       " ['M', '78', '183', '80', '180'],\n",
       " ['M', '85', '179', '82', '175'],\n",
       " ['F', '54', '160', '55', '158'],\n",
       " ['F', '54', '174', '56', '173'],\n",
       " ['F', '75', '162', '75', '158'],\n",
       " ['M', '82', '182', '85', '183'],\n",
       " ['F', '56', '165', '57', '163'],\n",
       " ['M', '74', '169', '73', '170'],\n",
       " ['M', '102', '185', '107', '185'],\n",
       " ['M', '65', '176', '64', '172'],\n",
       " ['M', '73', '183', '74', '180'],\n",
       " ['M', '75', '172', '70', '169'],\n",
       " ['M', '57', '173', '58', '170'],\n",
       " ['M', '68', '165', '69', '165'],\n",
       " ['M', '71', '177', '71', '170'],\n",
       " ['M', '71', '180', '76', '175'],\n",
       " ['F', '78', '173', '75', '169'],\n",
       " ['M', '97', '189', '98', '185'],\n",
       " ['F', '60', '162', '59', '160'],\n",
       " ['F', '64', '165', '63', '163'],\n",
       " ['F', '64', '164', '62', '161'],\n",
       " ['F', '52', '158', '51', '155'],\n",
       " ['M', '80', '178', '76', '175'],\n",
       " ['F', '62', '175', '61', '171'],\n",
       " ['M', '66', '173', '66', '175'],\n",
       " ['F', '55', '165', '54', '163'],\n",
       " ['F', '56', '163', '57', '159'],\n",
       " ['F', '50', '166', '50', '161'],\n",
       " ['F', '50', '160', '55', '150'],\n",
       " ['F', '63', '160', '64', '158'],\n",
       " ['M', '69', '182', '70', '180'],\n",
       " ['M', '69', '183', '70', '183'],\n",
       " ['F', '61', '165', '60', '163'],\n",
       " ['M', '55', '168', '56', '170'],\n",
       " ['F', '53', '169', '52', '175'],\n",
       " ['F', '60', '167', '55', '163'],\n",
       " ['F', '56', '170', '56', '170'],\n",
       " ['M', '59', '182', '61', '183'],\n",
       " ['M', '62', '178', '66', '175'],\n",
       " ['F', '53', '165', '53', '165'],\n",
       " ['F', '57', '163', '59', '160'],\n",
       " ['F', '57', '162', '56', '160'],\n",
       " ['M', '70', '173', '68', '170'],\n",
       " ['F', '56', '161', '56', '161'],\n",
       " ['M', '84', '184', '86', '183'],\n",
       " ['M', '69', '180', '71', '180'],\n",
       " ['M', '88', '189', '87', '185'],\n",
       " ['F', '56', '165', '57', '160'],\n",
       " ['M', '103', '185', '101', '182'],\n",
       " ['F', '50', '169', '50', '165'],\n",
       " ['F', '52', '159', '52', '153'],\n",
       " ['F', '55', '164', '55', '163'],\n",
       " ['M', '63', '178', '63', '175'],\n",
       " ['F', '47', '163', '47', '160'],\n",
       " ['F', '45', '163', '45', '160'],\n",
       " ['F', '62', '175', '63', '173'],\n",
       " ['F', '53', '164', '51', '160'],\n",
       " ['F', '52', '152', '51', '150'],\n",
       " ['F', '57', '167', '55', '164'],\n",
       " ['F', '64', '166', '64', '165'],\n",
       " ['F', '59', '166', '55', '163'],\n",
       " ['M', '84', '183', '90', '183'],\n",
       " ['M', '79', '179', '79', '171'],\n",
       " ['F', '55', '174', '57', '171'],\n",
       " ['M', '67', '179', '67', '179'],\n",
       " ['F', '76', '167', '77', '165'],\n",
       " ['F', '62', '168', '62', '163'],\n",
       " ['M', '83', '184', '83', '181'],\n",
       " ['M', '96', '184', '94', '183'],\n",
       " ['M', '75', '169', '76', '165'],\n",
       " ['M', '65', '178', '66', '178'],\n",
       " ['M', '78', '178', '77', '175'],\n",
       " ['M', '69', '167', '73', '165'],\n",
       " ['F', '68', '178', '68', '175'],\n",
       " ['F', '55', '165', '55', '163'],\n",
       " ['F', '52', '169', '56', 'NA'],\n",
       " ['F', '45', '157', '45', '153'],\n",
       " ['F', '68', '171', '68', '169'],\n",
       " ['F', '44', '157', '44', '155'],\n",
       " ['F', '62', '166', '61', '163'],\n",
       " ['M', '87', '185', '89', '185'],\n",
       " ['F', '56', '160', '53', '158'],\n",
       " ['F', '50', '148', '47', '148'],\n",
       " ['M', '83', '177', '84', '175'],\n",
       " ['F', '53', '162', '53', '160'],\n",
       " ['F', '64', '172', '62', '168'],\n",
       " ['M', '90', '188', '91', '185'],\n",
       " ['M', '85', '191', '83', '188'],\n",
       " ['M', '66', '175', '68', '175'],\n",
       " ['F', '52', '163', '53', '160'],\n",
       " ['F', '53', '165', '55', '163'],\n",
       " ['F', '54', '176', '55', '176'],\n",
       " ['F', '64', '171', '66', '171'],\n",
       " ['F', '55', '160', '55', '155'],\n",
       " ['F', '55', '165', '55', '165'],\n",
       " ['F', '59', '157', '55', '158'],\n",
       " ['F', '70', '173', '67', '170'],\n",
       " ['M', '88', '184', '86', '183'],\n",
       " ['F', '57', '168', '58', '165'],\n",
       " ['F', '47', '162', '47', '160'],\n",
       " ['F', '47', '150', '45', '152'],\n",
       " ['F', '48', '163', '44', '160'],\n",
       " ['M', '54', '169', '58', '165'],\n",
       " ['M', '69', '172', '68', '174'],\n",
       " ['F', '57', '167', '56', '165'],\n",
       " ['F', '51', '163', '50', '160'],\n",
       " ['F', '54', '161', '54', '160'],\n",
       " ['F', '53', '162', '52', '158'],\n",
       " ['F', '59', '172', '58', '171'],\n",
       " ['M', '56', '163', '58', '161'],\n",
       " ['F', '59', '159', '59', '155'],\n",
       " ['F', '63', '170', '62', '168'],\n",
       " ['F', '66', '166', '66', '165'],\n",
       " ['M', '96', '191', '95', '188'],\n",
       " ['F', '53', '158', '50', '155'],\n",
       " ['M', '76', '169', '75', '165'],\n",
       " ['M', '61', '170', '61', '170'],\n",
       " ['M', '62', '168', '64', '168'],\n",
       " ['M', '71', '178', '68', '178'],\n",
       " ['M', '66', '170', '67', '165'],\n",
       " ['M', '81', '178', '82', '175'],\n",
       " ['M', '68', '174', '68', '173'],\n",
       " ['M', '80', '176', '78', '175'],\n",
       " ['F', '63', '165', '59', '160'],\n",
       " ['M', '70', '173', '70', '173'],\n",
       " ['F', '56', '162', '56', '160'],\n",
       " ['F', '60', '172', '55', '168'],\n",
       " ['F', '58', '169', '54', '166'],\n",
       " ['M', '76', '183', '75', '180'],\n",
       " ['F', '50', '158', '49', '155'],\n",
       " ['M', '88', '185', '93', '188'],\n",
       " ['M', '89', '173', '86', '173'],\n",
       " ['F', '59', '164', '59', '165'],\n",
       " ['F', '51', '156', '51', '158'],\n",
       " ['F', '62', '164', '61', '161'],\n",
       " ['M', '74', '175', '71', '175'],\n",
       " ['M', '83', '180', '80', '180'],\n",
       " ['M', '90', '181', '91', '178'],\n",
       " ['M', '79', '177', '81', '178']]"
      ]
     },
     "execution_count": 27,
     "metadata": {},
     "output_type": "execute_result"
    }
   ],
   "source": [
    "data"
   ]
  },
  {
   "cell_type": "code",
   "execution_count": 28,
   "metadata": {},
   "outputs": [
    {
     "data": {
      "text/plain": [
       "[['M', '77', '182', '77', '180'],\n",
       " ['F', '58', '161', '51', '159'],\n",
       " ['F', '53', '161', '54', '158'],\n",
       " ['M', '68', '177', '70', '175'],\n",
       " ['F', '59', '157', '59', '155'],\n",
       " ['M', '76', '170', '76', '165'],\n",
       " ['M', '76', '167', '77', '165'],\n",
       " ['M', '69', '186', '73', '180'],\n",
       " ['M', '71', '178', '71', '175'],\n",
       " ['M', '65', '171', '64', '170'],\n",
       " ['M', '70', '175', '75', '174'],\n",
       " ['F', '166', '57', '56', '163'],\n",
       " ['F', '51', '161', '52', '158'],\n",
       " ['F', '64', '168', '64', '165'],\n",
       " ['F', '52', '163', '57', '160'],\n",
       " ['F', '65', '166', '66', '165'],\n",
       " ['M', '92', '187', '101', '185'],\n",
       " ['F', '62', '168', '62', '165'],\n",
       " ['M', '76', '197', '75', '200'],\n",
       " ['F', '61', '175', '61', '171'],\n",
       " ['M', '119', '180', '124', '178'],\n",
       " ['F', '61', '170', '61', '170'],\n",
       " ['M', '65', '175', '66', '173'],\n",
       " ['M', '66', '173', '70', '170'],\n",
       " ['F', '54', '171', '59', '168'],\n",
       " ['F', '50', '166', '50', '165'],\n",
       " ['F', '63', '169', '61', '168'],\n",
       " ['F', '58', '166', '60', '160'],\n",
       " ['F', '39', '157', '41', '153'],\n",
       " ['M', '101', '183', '100', '180'],\n",
       " ['F', '71', '166', '71', '165'],\n",
       " ['M', '75', '178', '73', '175'],\n",
       " ['M', '79', '173', '76', '173'],\n",
       " ['F', '52', '164', '52', '161'],\n",
       " ['F', '68', '169', '63', '170'],\n",
       " ['M', '64', '176', '65', '175'],\n",
       " ['F', '56', '166', '54', '165'],\n",
       " ['M', '69', '174', '69', '171'],\n",
       " ['M', '88', '178', '86', '175'],\n",
       " ['M', '65', '187', '67', '188'],\n",
       " ['F', '54', '164', '53', '160'],\n",
       " ['M', '80', '178', '80', '178'],\n",
       " ['F', '63', '163', '59', '159'],\n",
       " ['M', '78', '183', '80', '180'],\n",
       " ['M', '85', '179', '82', '175'],\n",
       " ['F', '54', '160', '55', '158'],\n",
       " ['F', '54', '174', '56', '173'],\n",
       " ['F', '75', '162', '75', '158'],\n",
       " ['M', '82', '182', '85', '183'],\n",
       " ['F', '56', '165', '57', '163'],\n",
       " ['M', '74', '169', '73', '170'],\n",
       " ['M', '102', '185', '107', '185'],\n",
       " ['M', '65', '176', '64', '172'],\n",
       " ['M', '73', '183', '74', '180'],\n",
       " ['M', '75', '172', '70', '169'],\n",
       " ['M', '57', '173', '58', '170'],\n",
       " ['M', '68', '165', '69', '165'],\n",
       " ['M', '71', '177', '71', '170'],\n",
       " ['M', '71', '180', '76', '175'],\n",
       " ['F', '78', '173', '75', '169'],\n",
       " ['M', '97', '189', '98', '185'],\n",
       " ['F', '60', '162', '59', '160'],\n",
       " ['F', '64', '165', '63', '163'],\n",
       " ['F', '64', '164', '62', '161'],\n",
       " ['F', '52', '158', '51', '155'],\n",
       " ['M', '80', '178', '76', '175'],\n",
       " ['F', '62', '175', '61', '171'],\n",
       " ['M', '66', '173', '66', '175'],\n",
       " ['F', '55', '165', '54', '163'],\n",
       " ['F', '56', '163', '57', '159'],\n",
       " ['F', '50', '166', '50', '161'],\n",
       " ['F', '50', '160', '55', '150'],\n",
       " ['F', '63', '160', '64', '158'],\n",
       " ['M', '69', '182', '70', '180'],\n",
       " ['M', '69', '183', '70', '183'],\n",
       " ['F', '61', '165', '60', '163'],\n",
       " ['M', '55', '168', '56', '170'],\n",
       " ['F', '53', '169', '52', '175'],\n",
       " ['F', '60', '167', '55', '163'],\n",
       " ['F', '56', '170', '56', '170'],\n",
       " ['M', '59', '182', '61', '183'],\n",
       " ['M', '62', '178', '66', '175'],\n",
       " ['F', '53', '165', '53', '165'],\n",
       " ['F', '57', '163', '59', '160'],\n",
       " ['F', '57', '162', '56', '160'],\n",
       " ['M', '70', '173', '68', '170'],\n",
       " ['F', '56', '161', '56', '161'],\n",
       " ['M', '84', '184', '86', '183'],\n",
       " ['M', '69', '180', '71', '180'],\n",
       " ['M', '88', '189', '87', '185'],\n",
       " ['F', '56', '165', '57', '160'],\n",
       " ['M', '103', '185', '101', '182'],\n",
       " ['F', '50', '169', '50', '165'],\n",
       " ['F', '52', '159', '52', '153'],\n",
       " ['F', '55', '164', '55', '163'],\n",
       " ['M', '63', '178', '63', '175'],\n",
       " ['F', '47', '163', '47', '160'],\n",
       " ['F', '45', '163', '45', '160'],\n",
       " ['F', '62', '175', '63', '173'],\n",
       " ['F', '53', '164', '51', '160'],\n",
       " ['F', '52', '152', '51', '150'],\n",
       " ['F', '57', '167', '55', '164'],\n",
       " ['F', '64', '166', '64', '165'],\n",
       " ['F', '59', '166', '55', '163'],\n",
       " ['M', '84', '183', '90', '183'],\n",
       " ['M', '79', '179', '79', '171'],\n",
       " ['F', '55', '174', '57', '171'],\n",
       " ['M', '67', '179', '67', '179'],\n",
       " ['F', '76', '167', '77', '165'],\n",
       " ['F', '62', '168', '62', '163'],\n",
       " ['M', '83', '184', '83', '181'],\n",
       " ['M', '96', '184', '94', '183'],\n",
       " ['M', '75', '169', '76', '165'],\n",
       " ['M', '65', '178', '66', '178'],\n",
       " ['M', '78', '178', '77', '175'],\n",
       " ['M', '69', '167', '73', '165'],\n",
       " ['F', '68', '178', '68', '175'],\n",
       " ['F', '55', '165', '55', '163'],\n",
       " ['F', '52', '169', '56', 'NA'],\n",
       " ['F', '45', '157', '45', '153'],\n",
       " ['F', '68', '171', '68', '169'],\n",
       " ['F', '44', '157', '44', '155'],\n",
       " ['F', '62', '166', '61', '163'],\n",
       " ['M', '87', '185', '89', '185'],\n",
       " ['F', '56', '160', '53', '158'],\n",
       " ['F', '50', '148', '47', '148'],\n",
       " ['M', '83', '177', '84', '175'],\n",
       " ['F', '53', '162', '53', '160'],\n",
       " ['F', '64', '172', '62', '168'],\n",
       " ['M', '90', '188', '91', '185'],\n",
       " ['M', '85', '191', '83', '188'],\n",
       " ['M', '66', '175', '68', '175'],\n",
       " ['F', '52', '163', '53', '160'],\n",
       " ['F', '53', '165', '55', '163'],\n",
       " ['F', '54', '176', '55', '176'],\n",
       " ['F', '64', '171', '66', '171'],\n",
       " ['F', '55', '160', '55', '155'],\n",
       " ['F', '55', '165', '55', '165'],\n",
       " ['F', '59', '157', '55', '158'],\n",
       " ['F', '70', '173', '67', '170'],\n",
       " ['M', '88', '184', '86', '183'],\n",
       " ['F', '57', '168', '58', '165'],\n",
       " ['F', '47', '162', '47', '160'],\n",
       " ['F', '47', '150', '45', '152'],\n",
       " ['F', '48', '163', '44', '160'],\n",
       " ['M', '54', '169', '58', '165'],\n",
       " ['M', '69', '172', '68', '174'],\n",
       " ['F', '57', '167', '56', '165'],\n",
       " ['F', '51', '163', '50', '160'],\n",
       " ['F', '54', '161', '54', '160'],\n",
       " ['F', '53', '162', '52', '158'],\n",
       " ['F', '59', '172', '58', '171'],\n",
       " ['M', '56', '163', '58', '161'],\n",
       " ['F', '59', '159', '59', '155'],\n",
       " ['F', '63', '170', '62', '168'],\n",
       " ['F', '66', '166', '66', '165'],\n",
       " ['M', '96', '191', '95', '188'],\n",
       " ['F', '53', '158', '50', '155'],\n",
       " ['M', '76', '169', '75', '165'],\n",
       " ['M', '61', '170', '61', '170'],\n",
       " ['M', '62', '168', '64', '168'],\n",
       " ['M', '71', '178', '68', '178'],\n",
       " ['M', '66', '170', '67', '165'],\n",
       " ['M', '81', '178', '82', '175'],\n",
       " ['M', '68', '174', '68', '173'],\n",
       " ['M', '80', '176', '78', '175'],\n",
       " ['F', '63', '165', '59', '160'],\n",
       " ['M', '70', '173', '70', '173'],\n",
       " ['F', '56', '162', '56', '160'],\n",
       " ['F', '60', '172', '55', '168'],\n",
       " ['F', '58', '169', '54', '166'],\n",
       " ['M', '76', '183', '75', '180'],\n",
       " ['F', '50', '158', '49', '155'],\n",
       " ['M', '88', '185', '93', '188'],\n",
       " ['M', '89', '173', '86', '173'],\n",
       " ['F', '59', '164', '59', '165'],\n",
       " ['F', '51', '156', '51', '158'],\n",
       " ['F', '62', '164', '61', '161'],\n",
       " ['M', '74', '175', '71', '175'],\n",
       " ['M', '83', '180', '80', '180'],\n",
       " ['M', '90', '181', '91', '178'],\n",
       " ['M', '79', '177', '81', '178']]"
      ]
     },
     "execution_count": 28,
     "metadata": {},
     "output_type": "execute_result"
    }
   ],
   "source": [
    "data[1:]"
   ]
  },
  {
   "cell_type": "code",
   "execution_count": 29,
   "metadata": {},
   "outputs": [
    {
     "data": {
      "text/plain": [
       "'F'"
      ]
     },
     "execution_count": 29,
     "metadata": {},
     "output_type": "execute_result"
    }
   ],
   "source": [
    "data[2][0]"
   ]
  },
  {
   "cell_type": "code",
   "execution_count": 30,
   "metadata": {},
   "outputs": [],
   "source": [
    "heights = []\n",
    "\n",
    "for person in data[1::]:\n",
    "    height = int(person[2])\n",
    "    heights.append(height)"
   ]
  },
  {
   "cell_type": "code",
   "execution_count": 31,
   "metadata": {},
   "outputs": [
    {
     "data": {
      "text/plain": [
       "[182,\n",
       " 161,\n",
       " 161,\n",
       " 177,\n",
       " 157,\n",
       " 170,\n",
       " 167,\n",
       " 186,\n",
       " 178,\n",
       " 171,\n",
       " 175,\n",
       " 57,\n",
       " 161,\n",
       " 168,\n",
       " 163,\n",
       " 166,\n",
       " 187,\n",
       " 168,\n",
       " 197,\n",
       " 175,\n",
       " 180,\n",
       " 170,\n",
       " 175,\n",
       " 173,\n",
       " 171,\n",
       " 166,\n",
       " 169,\n",
       " 166,\n",
       " 157,\n",
       " 183,\n",
       " 166,\n",
       " 178,\n",
       " 173,\n",
       " 164,\n",
       " 169,\n",
       " 176,\n",
       " 166,\n",
       " 174,\n",
       " 178,\n",
       " 187,\n",
       " 164,\n",
       " 178,\n",
       " 163,\n",
       " 183,\n",
       " 179,\n",
       " 160,\n",
       " 174,\n",
       " 162,\n",
       " 182,\n",
       " 165,\n",
       " 169,\n",
       " 185,\n",
       " 176,\n",
       " 183,\n",
       " 172,\n",
       " 173,\n",
       " 165,\n",
       " 177,\n",
       " 180,\n",
       " 173,\n",
       " 189,\n",
       " 162,\n",
       " 165,\n",
       " 164,\n",
       " 158,\n",
       " 178,\n",
       " 175,\n",
       " 173,\n",
       " 165,\n",
       " 163,\n",
       " 166,\n",
       " 160,\n",
       " 160,\n",
       " 182,\n",
       " 183,\n",
       " 165,\n",
       " 168,\n",
       " 169,\n",
       " 167,\n",
       " 170,\n",
       " 182,\n",
       " 178,\n",
       " 165,\n",
       " 163,\n",
       " 162,\n",
       " 173,\n",
       " 161,\n",
       " 184,\n",
       " 180,\n",
       " 189,\n",
       " 165,\n",
       " 185,\n",
       " 169,\n",
       " 159,\n",
       " 164,\n",
       " 178,\n",
       " 163,\n",
       " 163,\n",
       " 175,\n",
       " 164,\n",
       " 152,\n",
       " 167,\n",
       " 166,\n",
       " 166,\n",
       " 183,\n",
       " 179,\n",
       " 174,\n",
       " 179,\n",
       " 167,\n",
       " 168,\n",
       " 184,\n",
       " 184,\n",
       " 169,\n",
       " 178,\n",
       " 178,\n",
       " 167,\n",
       " 178,\n",
       " 165,\n",
       " 169,\n",
       " 157,\n",
       " 171,\n",
       " 157,\n",
       " 166,\n",
       " 185,\n",
       " 160,\n",
       " 148,\n",
       " 177,\n",
       " 162,\n",
       " 172,\n",
       " 188,\n",
       " 191,\n",
       " 175,\n",
       " 163,\n",
       " 165,\n",
       " 176,\n",
       " 171,\n",
       " 160,\n",
       " 165,\n",
       " 157,\n",
       " 173,\n",
       " 184,\n",
       " 168,\n",
       " 162,\n",
       " 150,\n",
       " 163,\n",
       " 169,\n",
       " 172,\n",
       " 167,\n",
       " 163,\n",
       " 161,\n",
       " 162,\n",
       " 172,\n",
       " 163,\n",
       " 159,\n",
       " 170,\n",
       " 166,\n",
       " 191,\n",
       " 158,\n",
       " 169,\n",
       " 170,\n",
       " 168,\n",
       " 178,\n",
       " 170,\n",
       " 178,\n",
       " 174,\n",
       " 176,\n",
       " 165,\n",
       " 173,\n",
       " 162,\n",
       " 172,\n",
       " 169,\n",
       " 183,\n",
       " 158,\n",
       " 185,\n",
       " 173,\n",
       " 164,\n",
       " 156,\n",
       " 164,\n",
       " 175,\n",
       " 180,\n",
       " 181,\n",
       " 177]"
      ]
     },
     "execution_count": 31,
     "metadata": {},
     "output_type": "execute_result"
    }
   ],
   "source": [
    "heights"
   ]
  },
  {
   "cell_type": "code",
   "execution_count": 32,
   "metadata": {},
   "outputs": [
    {
     "name": "stdout",
     "output_type": "stream",
     "text": [
      "170.14835164835165\n"
     ]
    }
   ],
   "source": [
    "avg_height = sum(heights)/len(heights)\n",
    "print(avg_height)"
   ]
  },
  {
   "cell_type": "code",
   "execution_count": 33,
   "metadata": {},
   "outputs": [
    {
     "name": "stdout",
     "output_type": "stream",
     "text": [
      "Avg male height: 178.0121951219512\n",
      "Avg female height 163.7\n"
     ]
    }
   ],
   "source": [
    "male_heights = []\n",
    "female_heights = []\n",
    "\n",
    "for person in data[1:]:\n",
    "    height = int(person[2])\n",
    "    if person[0] == 'M':\n",
    "        male_heights.append(height)\n",
    "    elif person[0] == 'F':\n",
    "        female_heights.append(height)\n",
    "\n",
    "avg_male_height = sum(male_heights)/len(male_heights)\n",
    "avg_female_height = sum(female_heights)/len(female_heights)\n",
    "\n",
    "print(\"Avg male height:\", avg_male_height)\n",
    "print(\"Avg female height\", avg_female_height)\n"
   ]
  },
  {
   "cell_type": "code",
   "execution_count": 34,
   "metadata": {},
   "outputs": [],
   "source": [
    "#The Snail and the Well"
   ]
  },
  {
   "cell_type": "code",
   "execution_count": 35,
   "metadata": {},
   "outputs": [
    {
     "name": "stdout",
     "output_type": "stream",
     "text": [
      "The snail is at the bottom of the well.\n",
      "After 1 days, the snail didn't surpassed the well.\n",
      "Position 10\n",
      "After 2 days, the snail didn't surpassed the well.\n",
      "Position 20\n",
      "After 3 days, the snail didn't surpassed the well.\n",
      "Position 30\n",
      "After 4 days, the snail didn't surpassed the well.\n",
      "Position 40\n",
      "After 5 days, the snail didn't surpassed the well.\n",
      "Position 50\n",
      "After 6 days, the snail didn't surpassed the well.\n",
      "Position 60\n",
      "After 7 days, the snail didn't surpassed the well.\n",
      "Position 70\n",
      "After 8 days, the snail didn't surpassed the well.\n",
      "Position 80\n",
      "After 9 days, the snail didn't surpassed the well.\n",
      "Position 90\n",
      "After 10 days, the snail didn't surpassed the well.\n",
      "Position 100\n",
      "After 11 days, the snail surpassed the well!\n"
     ]
    }
   ],
   "source": [
    "well_height = 125\n",
    "daily_distance = 30\n",
    "nigthly_distance = -20\n",
    "snail_position = 0\n",
    "snail_advance = 0\n",
    "days = 0\n",
    "\n",
    "print(\"The snail is at the bottom of the well.\")\n",
    "snail_position += daily_distance\n",
    "\n",
    "while snail_position < well_height:\n",
    "    snail_position += nigthly_distance\n",
    "    days += 1\n",
    "    print(\"After\", days,\"days, the snail didn't surpassed the well.\")\n",
    "    print(\"Position\", snail_position)\n",
    "    snail_position += daily_distance\n",
    "    \n",
    "print (\"After\", days + 1,\"days, the snail surpassed the well!\")"
   ]
  },
  {
   "cell_type": "code",
   "execution_count": 36,
   "metadata": {},
   "outputs": [
    {
     "name": "stdout",
     "output_type": "stream",
     "text": [
      "The snail is at the bottom of the well.\n",
      "After 1 days, the snail didn't surpassed the well!\n",
      "After 2 days, the snail didn't surpassed the well!\n",
      "After 3 days, the snail didn't surpassed the well!\n",
      "After 4 days, the snail didn't surpassed the well!\n",
      "After 5 days, the snail didn't surpassed the well!\n",
      "After 6 days, the snail surpassed the well!\n",
      "maximum distance per day (cm/day): 77\n",
      "minimum distance per day (cm/day): 12\n",
      "average distance per day (cm/day): 38.09090909090909\n",
      "standard deviation distance per day(cm/day): 17.996969441850734\n"
     ]
    }
   ],
   "source": [
    "from statistics import mean, stdev\n",
    "\n",
    "well_height = 125\n",
    "advanced_cm = [30, 21, 33, 77, 44, 45, 23, 45, 12, 34, 55]\n",
    "nigthly_distance = -20\n",
    "snail_position = 0\n",
    "days = 0\n",
    "\n",
    "print(\"The snail is at the bottom of the well.\")\n",
    "daily_distance = advanced_cm[days]\n",
    "snail_position += daily_distance\n",
    "\n",
    "while snail_position <= well_height:\n",
    "    snail_position += nigthly_distance\n",
    "    days += 1\n",
    "    print(\"After\", days,\"days, the snail didn't surpassed the well!\")\n",
    "    daily_distance = advanced_cm[days]\n",
    "    snail_position += daily_distance\n",
    "\n",
    "print (\"After\", days + 1,\"days, the snail surpassed the well!\")\n",
    "print (\"maximum distance per day (cm/day):\", max(advanced_cm))\n",
    "print (\"minimum distance per day (cm/day):\", min(advanced_cm))\n",
    "print (\"average distance per day (cm/day):\", mean(advanced_cm))\n",
    "print (\"standard deviation distance per day(cm/day):\", stdev(advanced_cm))"
   ]
  },
  {
   "cell_type": "code",
   "execution_count": 37,
   "metadata": {},
   "outputs": [],
   "source": [
    "#Duel os Sorcerers"
   ]
  },
  {
   "cell_type": "code",
   "execution_count": 38,
   "metadata": {},
   "outputs": [
    {
     "name": "stdout",
     "output_type": "stream",
     "text": [
      "Clash 1 : Saruman won\n",
      "Clash 2 : Saruman won\n",
      "Clash 3 : Galdalf won\n",
      "Clash 4 : Saruman won\n",
      "Clash 5 : Galdalf won\n",
      "Clash 6 : Galdalf won\n",
      "Clash 7 : Saruman won\n",
      "Clash 8 : Galdalf won\n",
      "Clash 9 : Galdalf won\n",
      "Clash 10 : Galdalf won\n",
      "Gandalf won 6 times.\n",
      "Saruman won 4 times.\n",
      "So, the winner is Gandalf!\n"
     ]
    }
   ],
   "source": [
    "gandalf = [10, 11, 13, 30, 22, 11, 10, 33, 22, 22]\n",
    "saruman = [23, 66, 12, 43, 12, 10, 44, 23, 12, 17]\n",
    "spells_gandalf = []\n",
    "spells_saruman = []\n",
    "galdalf_wins = 0\n",
    "saruman_wins = 0\n",
    "clash = 0\n",
    "\n",
    "for (a,b) in zip(gandalf, saruman):\n",
    "    clash += 1\n",
    "    if a > b:\n",
    "        spells_gandalf.append(a)\n",
    "        print (\"Clash\", clash, \": Galdalf won\")\n",
    "    elif a < b:\n",
    "        spells_saruman.append(b)\n",
    "        print (\"Clash\", clash, \": Saruman won\")\n",
    "    else:\n",
    "        print (\"Clash\", clash, \": Tie\")\n",
    "        \n",
    "gandalf_wins = len(spells_gandalf)\n",
    "saruman_wins = len(spells_saruman)\n",
    "\n",
    "print(\"Gandalf won\", gandalf_wins, \"times.\")\n",
    "print(\"Saruman won\", saruman_wins, \"times.\")\n",
    "\n",
    "if gandalf_wins > saruman_wins:\n",
    "    print (\"So, the winner is Gandalf!\")\n",
    "elif gandalf_wins < saruman_wins:\n",
    "    print (\"So, the winner is Saruman!\")\n",
    "else:\n",
    "    print (\"It's a tie\")"
   ]
  },
  {
   "cell_type": "code",
   "execution_count": 39,
   "metadata": {},
   "outputs": [
    {
     "name": "stdout",
     "output_type": "stream",
     "text": [
      "0-Gandalf: 10, Saruman: 23\n",
      "1-Gandalf: 11, Saruman: 66\n",
      "2-Gandalf: 13, Saruman: 12\n",
      "3-Gandalf: 30, Saruman: 43\n",
      "4-Gandalf: 22, Saruman: 12\n",
      "5-Gandalf: 11, Saruman: 10\n",
      "6-Gandalf: 10, Saruman: 44\n",
      "7-Gandalf: 33, Saruman: 23\n",
      "8-Gandalf: 22, Saruman: 12\n",
      "9-Gandalf: 22, Saruman: 17\n"
     ]
    }
   ],
   "source": [
    "for i in range(len(gandalf)):\n",
    "    a = gandalf[i]\n",
    "    b = saruman[i]\n",
    "    print(i,f'Gandalf: {a}, Saruman: {b}', sep='-')"
   ]
  },
  {
   "cell_type": "code",
   "execution_count": 40,
   "metadata": {},
   "outputs": [
    {
     "ename": "NameError",
     "evalue": "name 'POWER' is not defined",
     "output_type": "error",
     "traceback": [
      "\u001b[0;31m---------------------------------------------------------------------------\u001b[0m",
      "\u001b[0;31mNameError\u001b[0m                                 Traceback (most recent call last)",
      "\u001b[0;32m<ipython-input-40-c8a9ae02d9ab>\u001b[0m in \u001b[0;36m<module>\u001b[0;34m\u001b[0m\n\u001b[0;32m----> 1\u001b[0;31m \u001b[0mPOWER\u001b[0m\u001b[0;34m[\u001b[0m\u001b[0;34m\"Fireball\"\u001b[0m\u001b[0;34m]\u001b[0m\u001b[0;34m\u001b[0m\u001b[0;34m\u001b[0m\u001b[0m\n\u001b[0m",
      "\u001b[0;31mNameError\u001b[0m: name 'POWER' is not defined"
     ]
    }
   ],
   "source": [
    "POWER[\"Fireball\"]"
   ]
  },
  {
   "cell_type": "code",
   "execution_count": 41,
   "metadata": {},
   "outputs": [
    {
     "data": {
      "text/plain": [
       "list"
      ]
     },
     "execution_count": 41,
     "metadata": {},
     "output_type": "execute_result"
    }
   ],
   "source": [
    "type (gandalf)"
   ]
  },
  {
   "cell_type": "code",
   "execution_count": 42,
   "metadata": {},
   "outputs": [
    {
     "data": {
      "text/plain": [
       "[10, 11, 13, 30, 22, 11, 10, 33, 22, 22]"
      ]
     },
     "execution_count": 42,
     "metadata": {},
     "output_type": "execute_result"
    }
   ],
   "source": [
    "gandalf"
   ]
  },
  {
   "cell_type": "code",
   "execution_count": 43,
   "metadata": {},
   "outputs": [
    {
     "data": {
      "text/plain": [
       "10"
      ]
     },
     "execution_count": 43,
     "metadata": {},
     "output_type": "execute_result"
    }
   ],
   "source": [
    "gandalf[0]"
   ]
  },
  {
   "cell_type": "code",
   "execution_count": 44,
   "metadata": {},
   "outputs": [
    {
     "ename": "NameError",
     "evalue": "name 'POWER' is not defined",
     "output_type": "error",
     "traceback": [
      "\u001b[0;31m---------------------------------------------------------------------------\u001b[0m",
      "\u001b[0;31mNameError\u001b[0m                                 Traceback (most recent call last)",
      "\u001b[0;32m<ipython-input-44-36de5536bf66>\u001b[0m in \u001b[0;36m<module>\u001b[0;34m\u001b[0m\n\u001b[1;32m      6\u001b[0m \u001b[0;34m\u001b[0m\u001b[0m\n\u001b[1;32m      7\u001b[0m \u001b[0;32mfor\u001b[0m \u001b[0mgandalf_power\u001b[0m\u001b[0;34m,\u001b[0m\u001b[0msaruman_power\u001b[0m \u001b[0;32min\u001b[0m \u001b[0mzip\u001b[0m \u001b[0;34m(\u001b[0m\u001b[0mgandalf\u001b[0m\u001b[0;34m,\u001b[0m\u001b[0msaruman\u001b[0m\u001b[0;34m)\u001b[0m\u001b[0;34m:\u001b[0m\u001b[0;34m\u001b[0m\u001b[0;34m\u001b[0m\u001b[0m\n\u001b[0;32m----> 8\u001b[0;31m     \u001b[0mprint\u001b[0m\u001b[0;34m(\u001b[0m\u001b[0mgandalf_power\u001b[0m\u001b[0;34m,\u001b[0m \u001b[0mPOWER\u001b[0m\u001b[0;34m[\u001b[0m\u001b[0mgandalf_power\u001b[0m\u001b[0;34m]\u001b[0m\u001b[0;34m)\u001b[0m\u001b[0;34m\u001b[0m\u001b[0;34m\u001b[0m\u001b[0m\n\u001b[0m\u001b[1;32m      9\u001b[0m     \u001b[0mprint\u001b[0m\u001b[0;34m(\u001b[0m\u001b[0msaruman_power\u001b[0m\u001b[0;34m,\u001b[0m \u001b[0mPOWER\u001b[0m\u001b[0;34m[\u001b[0m\u001b[0msaruman_power\u001b[0m\u001b[0;34m]\u001b[0m\u001b[0;34m)\u001b[0m\u001b[0;34m\u001b[0m\u001b[0;34m\u001b[0m\u001b[0m\n\u001b[1;32m     10\u001b[0m \u001b[0;34m\u001b[0m\u001b[0m\n",
      "\u001b[0;31mNameError\u001b[0m: name 'POWER' is not defined"
     ]
    }
   ],
   "source": [
    "spells_gandalf = []\n",
    "spells_saruman = []\n",
    "galdalf_wins = 0\n",
    "saruman_wins = 0\n",
    "counter = 0\n",
    "\n",
    "for gandalf_power,saruman_power in zip (gandalf,saruman):\n",
    "    print(gandalf_power, POWER[gandalf_power])\n",
    "    print(saruman_power, POWER[saruman_power])\n",
    "    \n",
    "    a = POWER[gandalf_power]\n",
    "    b = POWER[saruman_power]\n",
    "    \n",
    "    if a > b:\n",
    "        spells_gandalf.append(a)\n",
    "        winner = \"Gandalf\"\n",
    "        print (\"The winner is: \",winner)\n",
    "    elif a < b:\n",
    "        spells_saruman.append(b)\n",
    "        winner = \"Saruman\"\n",
    "        print (\"The winner is: \",winner)\n",
    "    else:\n",
    "        print (\"It's a tie!\")\n",
    "        \n",
    "    gandalf_wins = len(spells_gandalf)\n",
    "    saruman_wins = len(spells_saruman)\n",
    "\n",
    "    print(\"Gandalf won\", gandalf_wins, \"times.\")\n",
    "    print(\"Saruman won\", saruman_wins, \"times.\")\n",
    "\n",
    "    if gandalf_wins > saruman_wins:\n",
    "        print (\"So, the winner is Gandalf!\")\n",
    "    elif gandalf_wins < saruman_wins:\n",
    "        print (\"So, the winner is Saruman!\")\n",
    "    else:\n",
    "        print (\"It's a tie\")"
   ]
  },
  {
   "cell_type": "code",
   "execution_count": null,
   "metadata": {},
   "outputs": [],
   "source": []
  },
  {
   "cell_type": "code",
   "execution_count": 45,
   "metadata": {},
   "outputs": [
    {
     "name": "stdout",
     "output_type": "stream",
     "text": [
      "> Round start! Gandalf's Fireball vs. Saruman's Contagion:\n",
      "Gandalf wins the round! 1 round(s) in a row.\n",
      "None won 3 rounds in a row yet.\n",
      "> Round start! Gandalf's Lightning bolt vs. Saruman's Contagion:\n",
      "Saruman wins the round! 1 round(s) in a row.\n",
      "None won 3 rounds in a row yet.\n",
      "> Round start! Gandalf's Lightning bolt vs. Saruman's Black Tentacles:\n",
      "Gandalf wins the round! 1 round(s) in a row.\n",
      "None won 3 rounds in a row yet.\n",
      "> Round start! Gandalf's Magic arrow vs. Saruman's Fireball:\n",
      "Saruman wins the round! 1 round(s) in a row.\n",
      "None won 3 rounds in a row yet.\n",
      "> Round start! Gandalf's Fireball vs. Saruman's Black Tentacles:\n",
      "Gandalf wins the round! 1 round(s) in a row.\n",
      "None won 3 rounds in a row yet.\n",
      "> Round start! Gandalf's Magic arrow vs. Saruman's Lightning bolt:\n",
      "Saruman wins the round! 1 round(s) in a row.\n",
      "None won 3 rounds in a row yet.\n",
      "> Round start! Gandalf's Lightning bolt vs. Saruman's Magic arrow:\n",
      "Gandalf wins the round! 1 round(s) in a row.\n",
      "None won 3 rounds in a row yet.\n",
      "> Round start! Gandalf's Fireball vs. Saruman's Contagion:\n",
      "Gandalf wins the round! 2 round(s) in a row.\n",
      "None won 3 rounds in a row yet.\n",
      "> Round start! Gandalf's Fireball vs. Saruman's Magic arrow:\n",
      "Gandalf wins the round! 3 round(s) in a row.\n",
      "GANDALF WINS THE BATTLE!\n"
     ]
    }
   ],
   "source": [
    "from statistics import mean, stdev\n",
    "POWER = {\n",
    "    'Fireball': 50, \n",
    "    'Lightning bolt': 40, \n",
    "    'Magic arrow': 10, \n",
    "    'Black Tentacles': 25, \n",
    "    'Contagion': 45\n",
    "}\n",
    "\n",
    "gandalf = ['Fireball', 'Lightning bolt', 'Lightning bolt', 'Magic arrow', 'Fireball', \n",
    "           'Magic arrow', 'Lightning bolt', 'Fireball', 'Fireball', 'Fireball']\n",
    "saruman = ['Contagion', 'Contagion', 'Black Tentacles', 'Fireball', 'Black Tentacles', \n",
    "           'Lightning bolt', 'Magic arrow', 'Contagion', 'Magic arrow', 'Magic arrow']\n",
    "spells_gandalf = []\n",
    "spells_saruman = []\n",
    "last_winner = None\n",
    "wins = {}\n",
    "    \n",
    "for a,b in zip(gandalf, saruman):\n",
    "    print(f\"> Round start! Gandalf's {a} vs. Saruman's {b}:\")\n",
    "\n",
    "    if POWER[a] == POWER[b]:\n",
    "        print(\"It's a tie!\")\n",
    "        continue\n",
    "    if POWER[a] > POWER[b]:\n",
    "        winner = 'Gandalf'\n",
    "    if POWER[a] < POWER[b]:\n",
    "        winner = 'Saruman'\n",
    "        \n",
    "    if last_winner != winner:\n",
    "        wins[winner] = 1\n",
    "    else:\n",
    "        wins[winner] += 1\n",
    "    last_winner = winner\n",
    "    \n",
    "    print(f\"{winner} wins the round! {wins[winner]} round(s) in a row.\")\n",
    "    if wins[winner] == 3:\n",
    "        print(f\"{winner.upper()} WINS THE BATTLE!\")\n",
    "        break\n",
    "    print(\"None won 3 rounds in a row yet.\")\n",
    "#a = POWER[gandalf_power]\n",
    "#b = POWER[saruman_power]\n",
    "#print (f\"The average spell power of Gandalf is: {mean (a)}, and Saruman's is: {mean (b)}\")\n",
    "#print (f\"The Standard deviationof the spell of Gandalf is: {stdev (a)}, and Saruman's is: {stdev (b)}\")"
   ]
  },
  {
   "cell_type": "code",
   "execution_count": null,
   "metadata": {},
   "outputs": [],
   "source": []
  },
  {
   "cell_type": "code",
   "execution_count": null,
   "metadata": {},
   "outputs": [],
   "source": []
  },
  {
   "cell_type": "code",
   "execution_count": 46,
   "metadata": {},
   "outputs": [
    {
     "ename": "NameError",
     "evalue": "name 'temperatures_C' is not defined",
     "output_type": "error",
     "traceback": [
      "\u001b[0;31m---------------------------------------------------------------------------\u001b[0m",
      "\u001b[0;31mNameError\u001b[0m                                 Traceback (most recent call last)",
      "\u001b[0;32m<ipython-input-46-95d586361e27>\u001b[0m in \u001b[0;36m<module>\u001b[0;34m\u001b[0m\n\u001b[0;32m----> 1\u001b[0;31m \u001b[0;32mfor\u001b[0m \u001b[0mhour\u001b[0m\u001b[0;34m,\u001b[0m \u001b[0mtemp\u001b[0m \u001b[0;32min\u001b[0m \u001b[0menumerate\u001b[0m\u001b[0;34m(\u001b[0m\u001b[0mtemperatures_C\u001b[0m\u001b[0;34m)\u001b[0m\u001b[0;34m:\u001b[0m\u001b[0;34m\u001b[0m\u001b[0;34m\u001b[0m\u001b[0m\n\u001b[0m\u001b[1;32m      2\u001b[0m     \u001b[0;32mif\u001b[0m \u001b[0mtemp\u001b[0m \u001b[0;34m>\u001b[0m \u001b[0;36m70\u001b[0m\u001b[0;34m:\u001b[0m\u001b[0;34m\u001b[0m\u001b[0;34m\u001b[0m\u001b[0m\n\u001b[1;32m      3\u001b[0m         \u001b[0mhours\u001b[0m\u001b[0;34m.\u001b[0m\u001b[0mappend\u001b[0m\u001b[0;34m(\u001b[0m\u001b[0mhour\u001b[0m\u001b[0;34m)\u001b[0m\u001b[0;34m\u001b[0m\u001b[0;34m\u001b[0m\u001b[0m\n\u001b[1;32m      4\u001b[0m \u001b[0;34m...\u001b[0m\u001b[0;34m\u001b[0m\u001b[0;34m\u001b[0m\u001b[0m\n",
      "\u001b[0;31mNameError\u001b[0m: name 'temperatures_C' is not defined"
     ]
    }
   ],
   "source": [
    "for hour, temp in enumerate(temperatures_C):\n",
    "    if temp > 70:\n",
    "        hours.append(hour)\n",
    "...        "
   ]
  },
  {
   "cell_type": "code",
   "execution_count": 47,
   "metadata": {},
   "outputs": [
    {
     "data": {
      "text/plain": [
       "[5, 6, 7, 9, 10, 11, 12, 13, 14]"
      ]
     },
     "execution_count": 47,
     "metadata": {},
     "output_type": "execute_result"
    }
   ],
   "source": [
    "[5,6,7,9,10,11,12,13,14]\n",
    "\n",
    "# 5 ...\n",
    "# if 6 - 5 == 1, count +=1, else count =0 \n",
    "# if 7 - 6 == 1, count +=1, else count =0\n",
    "# if 9 - 7 == 1, count +=1, else count =0\n"
   ]
  },
  {
   "cell_type": "code",
   "execution_count": 48,
   "metadata": {},
   "outputs": [
    {
     "ename": "NameError",
     "evalue": "name 'hours' is not defined",
     "output_type": "error",
     "traceback": [
      "\u001b[0;31m---------------------------------------------------------------------------\u001b[0m",
      "\u001b[0;31mNameError\u001b[0m                                 Traceback (most recent call last)",
      "\u001b[0;32m<ipython-input-48-2aba4c09c37e>\u001b[0m in \u001b[0;36m<module>\u001b[0;34m\u001b[0m\n\u001b[0;32m----> 1\u001b[0;31m \u001b[0mhours\u001b[0m\u001b[0;34m\u001b[0m\u001b[0;34m\u001b[0m\u001b[0m\n\u001b[0m",
      "\u001b[0;31mNameError\u001b[0m: name 'hours' is not defined"
     ]
    }
   ],
   "source": [
    "hours"
   ]
  },
  {
   "cell_type": "code",
   "execution_count": 49,
   "metadata": {},
   "outputs": [
    {
     "name": "stdout",
     "output_type": "stream",
     "text": [
      "1 1\n",
      "1 2\n",
      "2 3\n",
      "1 4\n",
      "1 5\n"
     ]
    }
   ],
   "source": [
    "count = 1\n",
    "teste = [1,2,3,5,6,7]\n",
    "for index, hour in enumerate(teste):\n",
    "    if index != 0:\n",
    "        print(teste[index] - teste[index-1], index)\n",
    "        if teste[index] - teste[index-1] == 1:\n",
    "            count +=1\n",
    "        else:\n",
    "            count = 1"
   ]
  },
  {
   "cell_type": "code",
   "execution_count": 50,
   "metadata": {},
   "outputs": [
    {
     "data": {
      "text/plain": [
       "3"
      ]
     },
     "execution_count": 50,
     "metadata": {},
     "output_type": "execute_result"
    }
   ],
   "source": [
    "count"
   ]
  },
  {
   "cell_type": "code",
   "execution_count": null,
   "metadata": {},
   "outputs": [],
   "source": []
  },
  {
   "cell_type": "code",
   "execution_count": 51,
   "metadata": {},
   "outputs": [],
   "source": [
    "#Bus"
   ]
  },
  {
   "cell_type": "code",
   "execution_count": 52,
   "metadata": {},
   "outputs": [
    {
     "name": "stdout",
     "output_type": "stream",
     "text": [
      "Number of stops:  9\n",
      "Stop 1: 10 passangers\n",
      "Stop 2: 13 passangers\n",
      "Stop 3: 11 passangers\n",
      "Stop 4: 10 passangers\n",
      "Stop 5: 14 passangers\n",
      "Stop 6: 10 passangers\n",
      "Stop 7: 7 passangers\n",
      "Stop 8: 5 passangers\n",
      "Stop 9: 4 passangers\n",
      "Maximum occupation: 14\n",
      "Average occupation: 9.333333333333334\n",
      "Standard deviation of occupation: 3.391164991562634\n"
     ]
    }
   ],
   "source": [
    "from statistics import mean, stdev\n",
    "stops = [(10, 0), (4, 1), (3, 5), (3, 4), (5, 1), (1, 5), (5, 8), (4, 6), (2, 3)]\n",
    "print(\"Number of stops: \", len(stops))\n",
    "\n",
    "number_passangers = []\n",
    "counter = 0\n",
    "number = 0\n",
    "\n",
    "for (inn, out) in stops:\n",
    "    number += inn - out\n",
    "    counter += 1\n",
    "    print (f\"Stop {counter}: {number} passangers\")\n",
    "    number_passangers.append(number)\n",
    "\n",
    "print(\"Maximum occupation:\", max(number_passangers))\n",
    "print(\"Average occupation:\", mean(number_passangers))\n",
    "print(\"Standard deviation of occupation:\", stdev(number_passangers))"
   ]
  },
  {
   "cell_type": "markdown",
   "metadata": {},
   "source": [
    "# Robin Hood"
   ]
  },
  {
   "cell_type": "code",
   "execution_count": 53,
   "metadata": {},
   "outputs": [
    {
     "name": "stdout",
     "output_type": "stream",
     "text": [
      "Arrow 1 lies at Q1\n",
      "Arrow 2 lies at origin\n",
      "Arrow 3 lies at Q1\n",
      "Arrow 4 lies at Q4\n",
      "Arrow 5 lies at Q4\n",
      "Arrow 6 lies at Q1\n",
      "Arrow 7 lies at Q1\n",
      "Arrow 8 lies at Q1\n",
      "Arrow 9 lies at Q2\n",
      "Arrow 10 lies at Q1\n",
      "Arrow 11 lies at Q2\n",
      "Arrow 12 lies at origin\n",
      "Arrow 13 lies at Q2\n",
      "Arrow 14 lies at Q2\n",
      "Arrow 15 lies at Q2\n",
      "Arrow 16 lies at Q3\n",
      "Arrow 17 lies at Q2\n",
      "Arrow 18 lies at Q1\n",
      "Arrow 19 lies at Q1\n",
      "Arrow 20 lies at Q1\n",
      "Arrow 21 lies at Q1\n",
      "Arrow 22 lies at Q3\n",
      "Number of arrows at Q1:  10\n",
      "Number of arrows at Q2:  6\n",
      "Number of arrows at Q3:  2\n",
      "Number of arrows at Q4:  2\n",
      "Number of arrows at origin:  2\n",
      "Closest distance to origin: 2.0\n",
      "Distances to origin: [6.4031242374328485, 2.0, 8.06225774829855, 3.1622776601683795, 3.605551275463989, 6.4031242374328485, 3.605551275463989, 8.602325267042627, 8.602325267042627, 2.8284271247461903, 6.4031242374328485, 2.0, 8.06225774829855, 3.1622776601683795, 3.605551275463989, 6.4031242374328485, 3.605551275463989, 8.602325267042627, 8.602325267042627, 2.8284271247461903, 12.727922061357855, 12.041594578792296]\n",
      "Point of minimun distance: (0,2)\n",
      "Number of arrows that won't hit the target: 20\n"
     ]
    }
   ],
   "source": [
    "import math\n",
    "#quadrants:\n",
    "#Q2 (-,+) Q1 (+,+)\n",
    "#Q3 (-,-) Q4 (+,-)\n",
    "points = [(4, 5), (0, 2), (4, 7), (1, -3), (3, -2), (4, 5), \n",
    "          (3, 2), (5, 7), (-5, 7), (2, 2), (-4, 5), (0, -2),\n",
    "          (-4, 7), (-1, 3), (-3, 2), (-4, -5), (-3, 2), (5, 7), \n",
    "          (5, 7), (2, 2), (9, 9), (-8, -9)]\n",
    "arrow = 0\n",
    "q1 = []\n",
    "q2 = []\n",
    "q3 = []\n",
    "q4 = []\n",
    "origin = []\n",
    "list_dist = []\n",
    "min_dist = 9999999\n",
    "dist_radius = 0\n",
    "\n",
    "for (x, y) in points:\n",
    "    arrow += 1\n",
    "    if (x > 0 and y > 0):\n",
    "        print(f\"Arrow {arrow} lies at Q1\")\n",
    "        q1.append(arrow)\n",
    "    elif (x < 0 and y > 0):\n",
    "        print(f\"Arrow {arrow} lies at Q2\")\n",
    "        q2.append(arrow)\n",
    "    elif (x < 0 and y < 0):\n",
    "        print(f\"Arrow {arrow} lies at Q3\")\n",
    "        q3.append(arrow)\n",
    "    elif (x > 0 and y < 0):\n",
    "        print(f\"Arrow {arrow} lies at Q4\")\n",
    "        q4.append(arrow)\n",
    "    elif (x == 0 or y == 0):\n",
    "        print(f\"Arrow {arrow} lies at origin\")\n",
    "        origin.append(arrow)\n",
    "    dist = math.sqrt((x-0)**2 + (y-0)**2)\n",
    "    \n",
    "    if dist < min_dist:\n",
    "        min_dist = dist\n",
    "        x_min = x\n",
    "        y_min = y\n",
    "    list_dist.append(dist)\n",
    "\n",
    "    if dist < 9:\n",
    "        dist_radius += 1\n",
    "    \n",
    "print(\"Number of arrows at Q1: \", len(q1))\n",
    "print(\"Number of arrows at Q2: \", len(q2))\n",
    "print(\"Number of arrows at Q3: \", len(q3))\n",
    "print(\"Number of arrows at Q4: \", len(q4))\n",
    "print(\"Number of arrows at origin: \", len(origin))\n",
    "print(\"Closest distance to origin:\", min(list_dist))\n",
    "print(\"Distances to origin:\", list_dist)\n",
    "print (f\"Point of minimun distance: ({x_min},{y_min})\")\n",
    "print (f\"Number of arrows that won't hit the target: {dist_radius}\")"
   ]
  },
  {
   "cell_type": "markdown",
   "metadata": {},
   "source": [
    "# Temperature Sensor"
   ]
  },
  {
   "cell_type": "code",
   "execution_count": 54,
   "metadata": {},
   "outputs": [
    {
     "name": "stdout",
     "output_type": "stream",
     "text": [
      "Min temperature (C): 0\n",
      "Max temperature (C): 90\n",
      "Average temperature (C): 60.25\n",
      "Temperature greater than ou equal to 70ºC: [70, 76, 80, 81, 80, 83, 90, 79]\n",
      "Temperature in Farenheit: [91.4, 150.8, 149.0, 32.0, 138.2, 140.0, 143.60000000000002, 147.2, 158.0, 168.8, 176.0, 177.8, 176.0, 181.4, 194.0, 174.20000000000002, 141.8, 127.4, 122.0, 120.2, 127.4, 118.4, 113.0, 102.2]\n",
      "The cooling system needs to be replaced for a new one to avoid damaging the processor\n"
     ]
    }
   ],
   "source": [
    "from numpy import nan\n",
    "# 1) More than 4 temperatures are greater than or equal to 70ºC.\n",
    "# 2) Any temperature is above 80ºC.\n",
    "# 3) The average temperature exceeds 65ºC.\n",
    "\n",
    "temperatures_C = [33, 66, 65, 0, 59, 60, 62, 64, 70, 76, 80, \n",
    "                  81, 80, 83, 90, 79, 61, 53, 50, 49, 53, 48, \n",
    "                  45, 39]\n",
    "temperature_70 = []\n",
    "temperature_F = []\n",
    "temperature_80 = 0\n",
    "min_temperature = min(temperatures_C)\n",
    "print(f\"Min temperature (C): {min_temperature}\")\n",
    "max_temperature = max(temperatures_C)\n",
    "print(f\"Max temperature (C): {max_temperature}\")\n",
    "avg_temperature = mean(temperatures_C)\n",
    "print(f\"Average temperature (C): {avg_temperature}\")\n",
    "\n",
    "for temp in temperatures_C:\n",
    "    if temp >= 70:\n",
    "        temperature_70.append(temp)\n",
    "    list_dist.append(dist)\n",
    "    if temp >= 80:\n",
    "        temperature_80 += 1\n",
    "    temp_F = ((1.8*(temp))+32)\n",
    "    temperature_F.append(temp_F)\n",
    "     \n",
    "\n",
    "print(\"Temperature greater than ou equal to 70ºC:\", temperature_70)\n",
    "print(\"Temperature in Farenheit:\", temperature_F)\n",
    "\n",
    "if len(temperature_70) > 4 or temperature_80 >= 1 or avg_temperature > 65:\n",
    "    print(\"The cooling system needs to be replaced for a new one to avoid damaging the processor\")\n",
    "else:\n",
    "    print(\"The cooling system don't need to be replaced for a new one\")"
   ]
  },
  {
   "cell_type": "code",
   "execution_count": 55,
   "metadata": {},
   "outputs": [],
   "source": [
    "#dado = [temperatures_C[2], temperatures_C[4]]\n",
    "\n",
    "temperatures_C[3]= mean([temperatures_C[2], temperatures_C[4]])\n",
    "#temperatures_C[3]= mean(dado)"
   ]
  },
  {
   "cell_type": "code",
   "execution_count": 56,
   "metadata": {},
   "outputs": [
    {
     "data": {
      "text/plain": [
       "62"
      ]
     },
     "execution_count": 56,
     "metadata": {},
     "output_type": "execute_result"
    }
   ],
   "source": [
    "temperatures_C[3]"
   ]
  },
  {
   "cell_type": "code",
   "execution_count": 57,
   "metadata": {},
   "outputs": [
    {
     "name": "stdout",
     "output_type": "stream",
     "text": [
      "Hours: [8, 9, 10, 11, 12, 13, 14, 15]\n",
      "Temperature greater than 70ºC: [(1, 70), (2, 76), (3, 80), (4, 81), (5, 80), (6, 83), (7, 90), (8, 79)]\n",
      "Temperature greater than ou equal to 70ºC: [70, 76, 80, 81, 80, 83, 90, 79]\n",
      "Temperature in Farenheit: [91.4, 150.8, 149.0, 32.0, 138.2, 140.0, 143.60000000000002, 147.2, 158.0, 168.8, 176.0, 177.8, 176.0, 181.4, 194.0, 174.20000000000002, 141.8, 127.4, 122.0, 120.2, 127.4, 118.4, 113.0, 102.2]\n",
      "Min temperature (C): 0\n",
      "Max temperature (C): 90\n",
      "Average temperature (C): 60.25\n",
      "Average temperature (F): 140.45000000000002\n",
      "Standard deviation of temperature (C): 19.700474503223873\n",
      "Standard deviation of temperature (F): 35.46085410580297\n"
     ]
    }
   ],
   "source": [
    "#1) The temperature is greater than 70ºC during more than 4 consecutive hours.\n",
    "#2) Any temperature is above 80ºC.\n",
    "#3) The average temperature exceeds 65ºC.\n",
    "from numpy import nan\n",
    "temperatures_C = [33, 66, 65, 0, 59, 60, 62, 64, 70, 76, 80, \n",
    "                  81, 80, 83, 90, 79, 61, 53, 50, 49, 53, 48, \n",
    "                  45, 39]\n",
    "\n",
    "hours = []\n",
    "temperature_70 = []\n",
    "temperatures_F = []\n",
    "temperature_80 = 0\n",
    "last_temp = None\n",
    "\n",
    "for hour, temp in enumerate(temperatures_C):\n",
    "    if temp >= 70:\n",
    "        temperature_70.append(temp)\n",
    "        hours.append(hour)\n",
    "    if temp >= 80:\n",
    "        temperature_80 += 1\n",
    "    temp_F = ((1.8*(temp))+32)\n",
    "    temperatures_F.append(temp_F)\n",
    "    \n",
    "\n",
    "\n",
    "\n",
    "\n",
    "    \n",
    "print(\"Hours:\", hours)\n",
    "print(\"Temperature greater than 70ºC:\", list(enumerate(temperature_70, start =1)))    \n",
    "print(\"Temperature greater than ou equal to 70ºC:\", temperature_70)\n",
    "print(\"Temperature in Farenheit:\", temperature_F)\n",
    "\n",
    "min_temperature = min(temperatures_C)\n",
    "print(f\"Min temperature (C): {min_temperature}\")\n",
    "max_temperature = max(temperatures_C)\n",
    "print(f\"Max temperature (C): {max_temperature}\")\n",
    "avg_temperature = mean(temperatures_C)\n",
    "print(f\"Average temperature (C): {avg_temperature}\")\n",
    "avg_temperature_F = mean(temperatures_F)\n",
    "print(f\"Average temperature (F): {avg_temperature_F}\")\n",
    "stdev_temperature = stdev(temperatures_C)\n",
    "print(f\"Standard deviation of temperature (C): {stdev_temperature}\")\n",
    "stdev_temperature_F = stdev(temperatures_F)\n",
    "print(f\"Standard deviation of temperature (F): {stdev_temperature_F}\")\n",
    "\n"
   ]
  },
  {
   "cell_type": "code",
   "execution_count": null,
   "metadata": {},
   "outputs": [],
   "source": []
  },
  {
   "cell_type": "code",
   "execution_count": null,
   "metadata": {},
   "outputs": [],
   "source": []
  },
  {
   "cell_type": "code",
   "execution_count": null,
   "metadata": {},
   "outputs": [],
   "source": []
  },
  {
   "cell_type": "code",
   "execution_count": 58,
   "metadata": {},
   "outputs": [
    {
     "data": {
      "text/plain": [
       "8"
      ]
     },
     "execution_count": 58,
     "metadata": {},
     "output_type": "execute_result"
    }
   ],
   "source": [
    "count = 1\n",
    "\n",
    "for i, hour in enumerate(hours):\n",
    "    if i != 0: # pular primeiro item\n",
    "        if hours[i] - hours[i-1] == 1:\n",
    "            count+=1\n",
    "        else:\n",
    "            count = 1\n",
    "            \n",
    "consecutive_condition = (count > 4)\n",
    "count"
   ]
  },
  {
   "cell_type": "code",
   "execution_count": 59,
   "metadata": {},
   "outputs": [
    {
     "data": {
      "text/plain": [
       "5"
      ]
     },
     "execution_count": 59,
     "metadata": {},
     "output_type": "execute_result"
    }
   ],
   "source": [
    "temperature_80"
   ]
  },
  {
   "cell_type": "code",
   "execution_count": 60,
   "metadata": {},
   "outputs": [
    {
     "name": "stdout",
     "output_type": "stream",
     "text": [
      "Consecutive condition: True\n",
      "Any temperature > 80: True\n",
      "Avg Temperature > 65: False\n",
      "The cooling system needs to be replaced for a new one to avoid damaging the processor\n"
     ]
    }
   ],
   "source": [
    "if (count > 4) | (temperature_80 >= 1) | (avg_temperature > 65):\n",
    "    print(f'Consecutive condition: {count >4}')\n",
    "    print(f'Any temperature > 80: {temperature_80 > 1}')\n",
    "    print(f'Avg Temperature > 65: {avg_temperature >65}')\n",
    "    print(\"The cooling system needs to be replaced for a new one to avoid damaging the processor\")\n",
    "else:\n",
    "    print(\"The cooling system don't need to be replaced for a new one\")"
   ]
  },
  {
   "cell_type": "code",
   "execution_count": null,
   "metadata": {},
   "outputs": [],
   "source": []
  },
  {
   "cell_type": "code",
   "execution_count": null,
   "metadata": {},
   "outputs": [],
   "source": []
  },
  {
   "cell_type": "code",
   "execution_count": null,
   "metadata": {},
   "outputs": [],
   "source": []
  },
  {
   "cell_type": "code",
   "execution_count": null,
   "metadata": {},
   "outputs": [],
   "source": []
  },
  {
   "cell_type": "code",
   "execution_count": null,
   "metadata": {},
   "outputs": [],
   "source": []
  },
  {
   "cell_type": "code",
   "execution_count": null,
   "metadata": {},
   "outputs": [],
   "source": []
  },
  {
   "cell_type": "code",
   "execution_count": null,
   "metadata": {},
   "outputs": [],
   "source": []
  },
  {
   "cell_type": "code",
   "execution_count": null,
   "metadata": {},
   "outputs": [],
   "source": []
  },
  {
   "cell_type": "code",
   "execution_count": 86,
   "metadata": {},
   "outputs": [
    {
     "name": "stdout",
     "output_type": "stream",
     "text": [
      "1 9 8\n",
      "2 10 9\n",
      "3 11 10\n",
      "4 12 11\n",
      "5 13 12\n",
      "6 14 13\n",
      "7 15 14\n"
     ]
    }
   ],
   "source": [
    "# verifying if hour has more than 4 consecutive hours\n",
    "for index, hour in enumerate(hours):\n",
    "    if index != 0:\n",
    "        print(index, hours[index], hours[index-1])\n"
   ]
  },
  {
   "cell_type": "markdown",
   "metadata": {},
   "source": [
    "# Rock, Paper & Scissors\n",
    "\n"
   ]
  },
  {
   "cell_type": "code",
   "execution_count": 3,
   "metadata": {},
   "outputs": [],
   "source": [
    "from random import choice"
   ]
  },
  {
   "cell_type": "code",
   "execution_count": 4,
   "metadata": {},
   "outputs": [],
   "source": [
    "gestures = ['rock','paper','scissors']"
   ]
  },
  {
   "cell_type": "code",
   "execution_count": 5,
   "metadata": {},
   "outputs": [],
   "source": [
    "n_rounds = 3"
   ]
  },
  {
   "cell_type": "code",
   "execution_count": 6,
   "metadata": {},
   "outputs": [
    {
     "data": {
      "text/plain": [
       "4"
      ]
     },
     "execution_count": 6,
     "metadata": {},
     "output_type": "execute_result"
    }
   ],
   "source": [
    "int(9/2)"
   ]
  },
  {
   "cell_type": "code",
   "execution_count": 7,
   "metadata": {},
   "outputs": [
    {
     "data": {
      "text/plain": [
       "4"
      ]
     },
     "execution_count": 7,
     "metadata": {},
     "output_type": "execute_result"
    }
   ],
   "source": [
    "9//2"
   ]
  },
  {
   "cell_type": "code",
   "execution_count": 8,
   "metadata": {},
   "outputs": [],
   "source": [
    "rounds_to_win = n_rounds - int(n_rounds/2)"
   ]
  },
  {
   "cell_type": "code",
   "execution_count": 9,
   "metadata": {},
   "outputs": [
    {
     "data": {
      "text/plain": [
       "2"
      ]
     },
     "execution_count": 9,
     "metadata": {},
     "output_type": "execute_result"
    }
   ],
   "source": [
    "rounds_to_win"
   ]
  },
  {
   "cell_type": "code",
   "execution_count": null,
   "metadata": {},
   "outputs": [],
   "source": []
  },
  {
   "cell_type": "code",
   "execution_count": 10,
   "metadata": {},
   "outputs": [
    {
     "data": {
      "text/plain": [
       "'scissors'"
      ]
     },
     "execution_count": 10,
     "metadata": {},
     "output_type": "execute_result"
    }
   ],
   "source": [
    "choices = choice(['rock','paper','scissors'])\n",
    "choices"
   ]
  },
  {
   "cell_type": "code",
   "execution_count": 11,
   "metadata": {},
   "outputs": [
    {
     "data": {
      "text/plain": [
       "['rock', 'paper', 'scissors']"
      ]
     },
     "execution_count": 11,
     "metadata": {},
     "output_type": "execute_result"
    }
   ],
   "source": [
    "gestures"
   ]
  },
  {
   "cell_type": "code",
   "execution_count": 12,
   "metadata": {},
   "outputs": [
    {
     "data": {
      "text/plain": [
       "True"
      ]
     },
     "execution_count": 12,
     "metadata": {},
     "output_type": "execute_result"
    }
   ],
   "source": [
    "'rock' in gestures"
   ]
  },
  {
   "cell_type": "code",
   "execution_count": null,
   "metadata": {},
   "outputs": [],
   "source": []
  },
  {
   "cell_type": "code",
   "execution_count": 13,
   "metadata": {},
   "outputs": [],
   "source": [
    "#def choose_gesture():\n",
    "    \n",
    "#    gesture = input('Choose your gesture: ')\n",
    "    \n",
    "#    if gesture in gestures:\n",
    "#        print('ok')\n",
    "#    else:\n",
    "#        print('Choose one of: ', gestures)\n",
    "#choose_gesture()"
   ]
  },
  {
   "cell_type": "code",
   "execution_count": 14,
   "metadata": {},
   "outputs": [],
   "source": [
    "def choose_gesture():\n",
    "    \n",
    "    gesture = input('Choose your gesture: ')\n",
    "    \n",
    "    while gesture not in gestures:\n",
    "        print('Choose one of: ', gestures)\n",
    "        gesture = input('Choose your gesture: ')\n",
    "        \n",
    "    return gesture"
   ]
  },
  {
   "cell_type": "code",
   "execution_count": 15,
   "metadata": {},
   "outputs": [
    {
     "ename": "KeyboardInterrupt",
     "evalue": "",
     "output_type": "error",
     "traceback": [
      "\u001b[0;31m---------------------------------------------------------------------------\u001b[0m",
      "\u001b[0;31mKeyboardInterrupt\u001b[0m                         Traceback (most recent call last)",
      "\u001b[0;32m~/opt/anaconda3/lib/python3.7/site-packages/ipykernel/kernelbase.py\u001b[0m in \u001b[0;36m_input_request\u001b[0;34m(self, prompt, ident, parent, password)\u001b[0m\n\u001b[1;32m    883\u001b[0m             \u001b[0;32mtry\u001b[0m\u001b[0;34m:\u001b[0m\u001b[0;34m\u001b[0m\u001b[0;34m\u001b[0m\u001b[0m\n\u001b[0;32m--> 884\u001b[0;31m                 \u001b[0mident\u001b[0m\u001b[0;34m,\u001b[0m \u001b[0mreply\u001b[0m \u001b[0;34m=\u001b[0m \u001b[0mself\u001b[0m\u001b[0;34m.\u001b[0m\u001b[0msession\u001b[0m\u001b[0;34m.\u001b[0m\u001b[0mrecv\u001b[0m\u001b[0;34m(\u001b[0m\u001b[0mself\u001b[0m\u001b[0;34m.\u001b[0m\u001b[0mstdin_socket\u001b[0m\u001b[0;34m,\u001b[0m \u001b[0;36m0\u001b[0m\u001b[0;34m)\u001b[0m\u001b[0;34m\u001b[0m\u001b[0;34m\u001b[0m\u001b[0m\n\u001b[0m\u001b[1;32m    885\u001b[0m             \u001b[0;32mexcept\u001b[0m \u001b[0mException\u001b[0m\u001b[0;34m:\u001b[0m\u001b[0;34m\u001b[0m\u001b[0;34m\u001b[0m\u001b[0m\n",
      "\u001b[0;32m~/opt/anaconda3/lib/python3.7/site-packages/jupyter_client/session.py\u001b[0m in \u001b[0;36mrecv\u001b[0;34m(self, socket, mode, content, copy)\u001b[0m\n\u001b[1;32m    802\u001b[0m         \u001b[0;32mtry\u001b[0m\u001b[0;34m:\u001b[0m\u001b[0;34m\u001b[0m\u001b[0;34m\u001b[0m\u001b[0m\n\u001b[0;32m--> 803\u001b[0;31m             \u001b[0mmsg_list\u001b[0m \u001b[0;34m=\u001b[0m \u001b[0msocket\u001b[0m\u001b[0;34m.\u001b[0m\u001b[0mrecv_multipart\u001b[0m\u001b[0;34m(\u001b[0m\u001b[0mmode\u001b[0m\u001b[0;34m,\u001b[0m \u001b[0mcopy\u001b[0m\u001b[0;34m=\u001b[0m\u001b[0mcopy\u001b[0m\u001b[0;34m)\u001b[0m\u001b[0;34m\u001b[0m\u001b[0;34m\u001b[0m\u001b[0m\n\u001b[0m\u001b[1;32m    804\u001b[0m         \u001b[0;32mexcept\u001b[0m \u001b[0mzmq\u001b[0m\u001b[0;34m.\u001b[0m\u001b[0mZMQError\u001b[0m \u001b[0;32mas\u001b[0m \u001b[0me\u001b[0m\u001b[0;34m:\u001b[0m\u001b[0;34m\u001b[0m\u001b[0;34m\u001b[0m\u001b[0m\n",
      "\u001b[0;32m~/opt/anaconda3/lib/python3.7/site-packages/zmq/sugar/socket.py\u001b[0m in \u001b[0;36mrecv_multipart\u001b[0;34m(self, flags, copy, track)\u001b[0m\n\u001b[1;32m    474\u001b[0m         \"\"\"\n\u001b[0;32m--> 475\u001b[0;31m         \u001b[0mparts\u001b[0m \u001b[0;34m=\u001b[0m \u001b[0;34m[\u001b[0m\u001b[0mself\u001b[0m\u001b[0;34m.\u001b[0m\u001b[0mrecv\u001b[0m\u001b[0;34m(\u001b[0m\u001b[0mflags\u001b[0m\u001b[0;34m,\u001b[0m \u001b[0mcopy\u001b[0m\u001b[0;34m=\u001b[0m\u001b[0mcopy\u001b[0m\u001b[0;34m,\u001b[0m \u001b[0mtrack\u001b[0m\u001b[0;34m=\u001b[0m\u001b[0mtrack\u001b[0m\u001b[0;34m)\u001b[0m\u001b[0;34m]\u001b[0m\u001b[0;34m\u001b[0m\u001b[0;34m\u001b[0m\u001b[0m\n\u001b[0m\u001b[1;32m    476\u001b[0m         \u001b[0;31m# have first part already, only loop while more to receive\u001b[0m\u001b[0;34m\u001b[0m\u001b[0;34m\u001b[0m\u001b[0;34m\u001b[0m\u001b[0m\n",
      "\u001b[0;32mzmq/backend/cython/socket.pyx\u001b[0m in \u001b[0;36mzmq.backend.cython.socket.Socket.recv\u001b[0;34m()\u001b[0m\n",
      "\u001b[0;32mzmq/backend/cython/socket.pyx\u001b[0m in \u001b[0;36mzmq.backend.cython.socket.Socket.recv\u001b[0;34m()\u001b[0m\n",
      "\u001b[0;32mzmq/backend/cython/socket.pyx\u001b[0m in \u001b[0;36mzmq.backend.cython.socket._recv_copy\u001b[0;34m()\u001b[0m\n",
      "\u001b[0;32m~/opt/anaconda3/lib/python3.7/site-packages/zmq/backend/cython/checkrc.pxd\u001b[0m in \u001b[0;36mzmq.backend.cython.checkrc._check_rc\u001b[0;34m()\u001b[0m\n",
      "\u001b[0;31mKeyboardInterrupt\u001b[0m: ",
      "\nDuring handling of the above exception, another exception occurred:\n",
      "\u001b[0;31mKeyboardInterrupt\u001b[0m                         Traceback (most recent call last)",
      "\u001b[0;32m<ipython-input-15-8c05ac785f75>\u001b[0m in \u001b[0;36m<module>\u001b[0;34m\u001b[0m\n\u001b[0;32m----> 1\u001b[0;31m \u001b[0muser_choice\u001b[0m \u001b[0;34m=\u001b[0m \u001b[0mchoose_gesture\u001b[0m\u001b[0;34m(\u001b[0m\u001b[0;34m)\u001b[0m\u001b[0;34m\u001b[0m\u001b[0;34m\u001b[0m\u001b[0m\n\u001b[0m",
      "\u001b[0;32m<ipython-input-14-53140fa287e0>\u001b[0m in \u001b[0;36mchoose_gesture\u001b[0;34m()\u001b[0m\n\u001b[1;32m      1\u001b[0m \u001b[0;32mdef\u001b[0m \u001b[0mchoose_gesture\u001b[0m\u001b[0;34m(\u001b[0m\u001b[0;34m)\u001b[0m\u001b[0;34m:\u001b[0m\u001b[0;34m\u001b[0m\u001b[0;34m\u001b[0m\u001b[0m\n\u001b[1;32m      2\u001b[0m \u001b[0;34m\u001b[0m\u001b[0m\n\u001b[0;32m----> 3\u001b[0;31m     \u001b[0mgesture\u001b[0m \u001b[0;34m=\u001b[0m \u001b[0minput\u001b[0m\u001b[0;34m(\u001b[0m\u001b[0;34m'Choose your gesture: '\u001b[0m\u001b[0;34m)\u001b[0m\u001b[0;34m\u001b[0m\u001b[0;34m\u001b[0m\u001b[0m\n\u001b[0m\u001b[1;32m      4\u001b[0m \u001b[0;34m\u001b[0m\u001b[0m\n\u001b[1;32m      5\u001b[0m     \u001b[0;32mwhile\u001b[0m \u001b[0mgesture\u001b[0m \u001b[0;32mnot\u001b[0m \u001b[0;32min\u001b[0m \u001b[0mgestures\u001b[0m\u001b[0;34m:\u001b[0m\u001b[0;34m\u001b[0m\u001b[0;34m\u001b[0m\u001b[0m\n",
      "\u001b[0;32m~/opt/anaconda3/lib/python3.7/site-packages/ipykernel/kernelbase.py\u001b[0m in \u001b[0;36mraw_input\u001b[0;34m(self, prompt)\u001b[0m\n\u001b[1;32m    857\u001b[0m             \u001b[0mself\u001b[0m\u001b[0;34m.\u001b[0m\u001b[0m_parent_ident\u001b[0m\u001b[0;34m,\u001b[0m\u001b[0;34m\u001b[0m\u001b[0;34m\u001b[0m\u001b[0m\n\u001b[1;32m    858\u001b[0m             \u001b[0mself\u001b[0m\u001b[0;34m.\u001b[0m\u001b[0m_parent_header\u001b[0m\u001b[0;34m,\u001b[0m\u001b[0;34m\u001b[0m\u001b[0;34m\u001b[0m\u001b[0m\n\u001b[0;32m--> 859\u001b[0;31m             \u001b[0mpassword\u001b[0m\u001b[0;34m=\u001b[0m\u001b[0;32mFalse\u001b[0m\u001b[0;34m,\u001b[0m\u001b[0;34m\u001b[0m\u001b[0;34m\u001b[0m\u001b[0m\n\u001b[0m\u001b[1;32m    860\u001b[0m         )\n\u001b[1;32m    861\u001b[0m \u001b[0;34m\u001b[0m\u001b[0m\n",
      "\u001b[0;32m~/opt/anaconda3/lib/python3.7/site-packages/ipykernel/kernelbase.py\u001b[0m in \u001b[0;36m_input_request\u001b[0;34m(self, prompt, ident, parent, password)\u001b[0m\n\u001b[1;32m    887\u001b[0m             \u001b[0;32mexcept\u001b[0m \u001b[0mKeyboardInterrupt\u001b[0m\u001b[0;34m:\u001b[0m\u001b[0;34m\u001b[0m\u001b[0;34m\u001b[0m\u001b[0m\n\u001b[1;32m    888\u001b[0m                 \u001b[0;31m# re-raise KeyboardInterrupt, to truncate traceback\u001b[0m\u001b[0;34m\u001b[0m\u001b[0;34m\u001b[0m\u001b[0;34m\u001b[0m\u001b[0m\n\u001b[0;32m--> 889\u001b[0;31m                 \u001b[0;32mraise\u001b[0m \u001b[0mKeyboardInterrupt\u001b[0m\u001b[0;34m\u001b[0m\u001b[0;34m\u001b[0m\u001b[0m\n\u001b[0m\u001b[1;32m    890\u001b[0m             \u001b[0;32melse\u001b[0m\u001b[0;34m:\u001b[0m\u001b[0;34m\u001b[0m\u001b[0;34m\u001b[0m\u001b[0m\n\u001b[1;32m    891\u001b[0m                 \u001b[0;32mbreak\u001b[0m\u001b[0;34m\u001b[0m\u001b[0;34m\u001b[0m\u001b[0m\n",
      "\u001b[0;31mKeyboardInterrupt\u001b[0m: "
     ]
    }
   ],
   "source": [
    "user_choice = choose_gesture()"
   ]
  },
  {
   "cell_type": "code",
   "execution_count": null,
   "metadata": {},
   "outputs": [],
   "source": []
  },
  {
   "cell_type": "code",
   "execution_count": 98,
   "metadata": {},
   "outputs": [],
   "source": [
    "def multiply_by_2(x):\n",
    "    return 2 * x"
   ]
  },
  {
   "cell_type": "code",
   "execution_count": 99,
   "metadata": {},
   "outputs": [
    {
     "data": {
      "text/plain": [
       "20"
      ]
     },
     "execution_count": 99,
     "metadata": {},
     "output_type": "execute_result"
    }
   ],
   "source": [
    "x = multiply_by_2(10)\n",
    "x"
   ]
  },
  {
   "cell_type": "code",
   "execution_count": null,
   "metadata": {},
   "outputs": [],
   "source": []
  },
  {
   "cell_type": "code",
   "execution_count": 140,
   "metadata": {},
   "outputs": [],
   "source": [
    "cpu_score = 0\n",
    "player_score = 0"
   ]
  },
  {
   "cell_type": "code",
   "execution_count": 141,
   "metadata": {},
   "outputs": [],
   "source": [
    "def winner():\n",
    "    \n",
    "    \n",
    "    if cpu_score == player_score:\n",
    "        return 0\n",
    "    elif cpu_score > player_score:\n",
    "        return 1\n",
    "    else:\n",
    "        return 2"
   ]
  },
  {
   "cell_type": "code",
   "execution_count": 171,
   "metadata": {},
   "outputs": [],
   "source": [
    "def check_winner(cpu_score, player_score):\n",
    "    if cpu_score == player_score:\n",
    "        return 0\n",
    "    elif cpu_score > player_score:\n",
    "        return 1\n",
    "    else:\n",
    "        return 2"
   ]
  },
  {
   "cell_type": "code",
   "execution_count": 168,
   "metadata": {},
   "outputs": [],
   "source": [
    "def message_winner():\n",
    "    global cpu_score, player_score\n",
    "    \n",
    "    #print(f\"Computer's choice: {choices}\")\n",
    "    #print(f\"Player's choice: {user_choice}\")\n",
    "    \n",
    "    if choices == gestures [0] and user_choice == gestures [0]:\n",
    "        print(f\"It's a tie!\")\n",
    "        \n",
    "    elif choices == gestures [0] and user_choice == gestures [1]:\n",
    "        player_score += 1\n",
    "        print(f\"You won!\")\n",
    "        \n",
    "    elif choices == gestures [0] and user_choice == gestures [2]:\n",
    "        cpu_score += 1\n",
    "        print(f\"Computer won!\")\n",
    "        \n",
    "    elif choices == gestures [1] and user_choice == gestures [0]:\n",
    "        cpu_score += 1\n",
    "        print(f\"Computer won!\")\n",
    "        \n",
    "    elif choices == gestures [1] and user_choice == gestures [1]:\n",
    "        print(f\"It's a tie!\")\n",
    "    elif choices == gestures [1] and user_choice == gestures [2]:\n",
    "        player_score += 1\n",
    "        print(f\"You won!\")\n",
    "        \n",
    "    elif choices == gestures [2] and user_choice == gestures [0]:\n",
    "        player_score += 1\n",
    "        print(f\"You won!\")\n",
    "        \n",
    "    elif choices == gestures [2] and user_choice == gestures [1]:\n",
    "        cpu_score += 1\n",
    "        print(f\"Computer won!\")\n",
    "        \n",
    "    elif choices == gestures [2] and user_choice == gestures [2]:\n",
    "        print(f\"It's a tie!\")\n",
    "        \n",
    "    "
   ]
  },
  {
   "cell_type": "code",
   "execution_count": 169,
   "metadata": {},
   "outputs": [
    {
     "name": "stdout",
     "output_type": "stream",
     "text": [
      "Scores CPU: 0, Scores Player: 0\n"
     ]
    }
   ],
   "source": [
    "print(f\"Scores CPU: {cpu_score}, Scores Player: {player_score}\")"
   ]
  },
  {
   "cell_type": "code",
   "execution_count": 175,
   "metadata": {},
   "outputs": [
    {
     "name": "stdout",
     "output_type": "stream",
     "text": [
      "Choose your gesture: paper\n",
      "Computer: scissors\n",
      "Computer won!\n",
      "Choose your gesture: paper\n",
      "Computer: scissors\n",
      "Computer won!\n"
     ]
    },
    {
     "data": {
      "text/plain": [
       "2"
      ]
     },
     "execution_count": 175,
     "metadata": {},
     "output_type": "execute_result"
    }
   ],
   "source": [
    "rounds = 0\n",
    "while rounds < rounds_to_win and rounds < n_rounds:\n",
    "    rounds += 1\n",
    "    user_choice = choose_gesture()\n",
    "    #print(f\"Round {rounds} - Player: {user_choice}\")\n",
    "    print(\"Computer:\", choices)\n",
    "    message_winner()\n",
    "    \n",
    "    \n",
    "check_winner(cpu_score, player_score)"
   ]
  },
  {
   "cell_type": "code",
   "execution_count": null,
   "metadata": {},
   "outputs": [],
   "source": []
  },
  {
   "cell_type": "code",
   "execution_count": null,
   "metadata": {},
   "outputs": [],
   "source": []
  },
  {
   "cell_type": "code",
   "execution_count": null,
   "metadata": {},
   "outputs": [],
   "source": []
  },
  {
   "cell_type": "code",
   "execution_count": null,
   "metadata": {},
   "outputs": [],
   "source": []
  },
  {
   "cell_type": "code",
   "execution_count": null,
   "metadata": {},
   "outputs": [],
   "source": []
  }
 ],
 "metadata": {
  "kernelspec": {
   "display_name": "Python 3",
   "language": "python",
   "name": "python3"
  },
  "language_info": {
   "codemirror_mode": {
    "name": "ipython",
    "version": 3
   },
   "file_extension": ".py",
   "mimetype": "text/x-python",
   "name": "python",
   "nbconvert_exporter": "python",
   "pygments_lexer": "ipython3",
   "version": "3.7.6"
  }
 },
 "nbformat": 4,
 "nbformat_minor": 4
}
