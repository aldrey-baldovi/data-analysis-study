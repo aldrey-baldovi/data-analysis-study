{
 "cells": [
  {
   "cell_type": "markdown",
   "metadata": {
    "colab_type": "text",
    "id": "GSxLkJ7Zd1q8"
   },
   "source": [
    "![Ironhack logo](https://i.imgur.com/1QgrNNw.png)\n",
    "\n",
    "# Lab | Advanced Regular Expressions\n",
    "\n",
    "## Introduction\n",
    "\n",
    "In the Advanced Regular Expressions lesson, you learned about the various components of regular expressions as well as how to use them both in isolation and together with other components.\n",
    "\n",
    "In this lab, you will practice putting together your own regular expressions from scratch. Some of the examples are similar to the ones we went over in the lesson, while others have slight modifications included to test your knowledge and ensure that you grasp the concepts covered.\n",
    "\n",
    "## Getting Started\n",
    "\n",
    "There are a bunch of questions to be solved. If you get stuck in one exercise you can skip to the next one. Read each instruction carefully and provide your answer beneath it.\n",
    "\n",
    "## Resources\n",
    "\n",
    "- [Regular Expression Operations | Python Documentation](https://docs.python.org/3/library/re.html)\n",
    "- [Regular Expression How To | Python Documentation](https://docs.python.org/3/howto/regex.html)\n",
    "- [Python - Regular Expressions | TutorialsPoint](https://www.tutorialspoint.com/python/python_reg_expressions.htm)"
   ]
  },
  {
   "cell_type": "markdown",
   "metadata": {
    "colab_type": "text",
    "id": "u6zh1Gl2Wc36"
   },
   "source": [
    "# Advanced Regular Expressions Lab\n",
    "\n",
    "Complete the following set of exercises to solidify your knowledge of regular expressions."
   ]
  },
  {
   "cell_type": "code",
   "execution_count": 2,
   "metadata": {
    "ExecuteTime": {
     "end_time": "2020-09-21T17:19:27.098524Z",
     "start_time": "2020-09-21T17:19:26.419344Z"
    },
    "colab": {},
    "colab_type": "code",
    "id": "6uhESlsRWc38"
   },
   "outputs": [],
   "source": [
    "import pandas as pd\n",
    "import numpy as np\n",
    "\n",
    "import re"
   ]
  },
  {
   "cell_type": "markdown",
   "metadata": {
    "colab_type": "text",
    "id": "Wv1ZB0VyWc3_"
   },
   "source": [
    "### 1. Use a regular expression to find and extract all vowels in the following text."
   ]
  },
  {
   "cell_type": "code",
   "execution_count": 4,
   "metadata": {
    "ExecuteTime": {
     "end_time": "2020-09-21T17:20:29.833108Z",
     "start_time": "2020-09-21T17:20:29.827766Z"
    },
    "colab": {},
    "colab_type": "code",
    "id": "5xB4WxDWWc4A"
   },
   "outputs": [],
   "source": [
    "text = \"This is going to be a sentence with a good number of vowels in it.\""
   ]
  },
  {
   "cell_type": "code",
   "execution_count": 7,
   "metadata": {
    "ExecuteTime": {
     "end_time": "2020-09-21T17:20:43.953477Z",
     "start_time": "2020-09-21T17:20:43.944491Z"
    },
    "colab": {},
    "colab_type": "code",
    "id": "E3kPA2MuWc4C"
   },
   "outputs": [
    {
     "name": "stdout",
     "output_type": "stream",
     "text": [
      "['i', 'i', 'o', 'i', 'o', 'e', 'a', 'e', 'e', 'e', 'i', 'a', 'o', 'o', 'u', 'e', 'o', 'o', 'e', 'i', 'i']\n"
     ]
    }
   ],
   "source": [
    "pattern = '[aeiou]'\n",
    "print(re.findall(pattern, text))"
   ]
  },
  {
   "cell_type": "markdown",
   "metadata": {
    "colab_type": "text",
    "id": "huHIPXdmWc4E"
   },
   "source": [
    "### 2. Use a regular expression to find and extract all occurrences and tenses (singular and plural) of the word \"puppy\" in the text below."
   ]
  },
  {
   "cell_type": "code",
   "execution_count": 12,
   "metadata": {
    "ExecuteTime": {
     "end_time": "2020-09-21T17:22:24.579963Z",
     "start_time": "2020-09-21T17:22:24.575831Z"
    },
    "colab": {},
    "colab_type": "code",
    "id": "Ke3sqPqnWc4F"
   },
   "outputs": [],
   "source": [
    "text = \"The puppy saw all the rest of the puppies playing and wanted to join them. I saw this and wanted a puppy of my own!\""
   ]
  },
  {
   "cell_type": "code",
   "execution_count": 31,
   "metadata": {
    "ExecuteTime": {
     "end_time": "2020-09-21T17:30:23.650832Z",
     "start_time": "2020-09-21T17:30:23.643631Z"
    },
    "colab": {},
    "colab_type": "code",
    "id": "L5Pz507mWc4I"
   },
   "outputs": [
    {
     "name": "stdout",
     "output_type": "stream",
     "text": [
      "['puppy', 'puppies', 'puppy']\n"
     ]
    }
   ],
   "source": [
    "pattern = 'puppy|puppies'\n",
    "print(re.findall(pattern, text))"
   ]
  },
  {
   "cell_type": "markdown",
   "metadata": {
    "colab_type": "text",
    "id": "hrNlK8uOWc4L"
   },
   "source": [
    "### 3. Use a regular expression to find and extract all tenses (present and past) of the word \"run\" in the text below."
   ]
  },
  {
   "cell_type": "code",
   "execution_count": 37,
   "metadata": {
    "ExecuteTime": {
     "end_time": "2020-09-21T17:32:51.317249Z",
     "start_time": "2020-09-21T17:32:51.309291Z"
    },
    "colab": {},
    "colab_type": "code",
    "id": "1OzE93pqWc4L"
   },
   "outputs": [],
   "source": [
    "text = \"I ran the relay race the only way I knew how to run it.\""
   ]
  },
  {
   "cell_type": "code",
   "execution_count": 38,
   "metadata": {
    "ExecuteTime": {
     "end_time": "2020-09-21T17:32:51.545076Z",
     "start_time": "2020-09-21T17:32:51.529480Z"
    },
    "colab": {},
    "colab_type": "code",
    "id": "V7jSxyZPWc4O"
   },
   "outputs": [
    {
     "name": "stdout",
     "output_type": "stream",
     "text": [
      "['ran', 'run']\n"
     ]
    }
   ],
   "source": [
    "pattern = 'r[au]n'\n",
    "print(re.findall(pattern, text))"
   ]
  },
  {
   "cell_type": "markdown",
   "metadata": {
    "colab_type": "text",
    "id": "A2UY2k-oWc4Q"
   },
   "source": [
    "### 4. Use a regular expression to find and extract all words that begin with the letter \"r\" from the previous text."
   ]
  },
  {
   "cell_type": "code",
   "execution_count": 45,
   "metadata": {
    "ExecuteTime": {
     "end_time": "2020-09-21T17:34:46.380991Z",
     "start_time": "2020-09-21T17:34:46.373894Z"
    },
    "colab": {},
    "colab_type": "code",
    "id": "g0znvtI1Wc4R"
   },
   "outputs": [
    {
     "name": "stdout",
     "output_type": "stream",
     "text": [
      "['ran', 'relay', 'race', 'run']\n"
     ]
    }
   ],
   "source": [
    "pattern = 'r\\w+'\n",
    "print(re.findall(pattern, text))"
   ]
  },
  {
   "cell_type": "markdown",
   "metadata": {
    "colab_type": "text",
    "id": "Nc2bO2meWc4V"
   },
   "source": [
    "### 5. Use a regular expression to find and substitute the letter \"i\" for the exclamation marks in the text below."
   ]
  },
  {
   "cell_type": "code",
   "execution_count": 46,
   "metadata": {
    "ExecuteTime": {
     "end_time": "2020-09-21T17:35:22.598639Z",
     "start_time": "2020-09-21T17:35:22.593066Z"
    },
    "colab": {},
    "colab_type": "code",
    "id": "sN4XWmB6Wc4V"
   },
   "outputs": [],
   "source": [
    "text = \"Th!s !s a sentence w!th spec!al characters !n !t.\""
   ]
  },
  {
   "cell_type": "code",
   "execution_count": 48,
   "metadata": {
    "ExecuteTime": {
     "end_time": "2020-09-21T17:36:19.823333Z",
     "start_time": "2020-09-21T17:36:19.816265Z"
    },
    "colab": {},
    "colab_type": "code",
    "id": "tO5KYC1dWc4Y"
   },
   "outputs": [
    {
     "name": "stdout",
     "output_type": "stream",
     "text": [
      "This is a sentence with special characters in it.\n"
     ]
    }
   ],
   "source": [
    "pattern = '!'\n",
    "print(re.sub(pattern,'i', text))"
   ]
  },
  {
   "cell_type": "markdown",
   "metadata": {
    "colab_type": "text",
    "id": "kj4YHgVVWc4a"
   },
   "source": [
    "### 6. Use a regular expression to find and extract words longer than 4 characters in the text below."
   ]
  },
  {
   "cell_type": "code",
   "execution_count": 50,
   "metadata": {
    "ExecuteTime": {
     "end_time": "2020-09-21T17:37:10.661511Z",
     "start_time": "2020-09-21T17:37:10.655769Z"
    },
    "colab": {},
    "colab_type": "code",
    "id": "E1d38WK9Wc4a"
   },
   "outputs": [],
   "source": [
    "text = \"This sentence has words of varying lengths.\""
   ]
  },
  {
   "cell_type": "code",
   "execution_count": 54,
   "metadata": {
    "ExecuteTime": {
     "end_time": "2020-09-21T17:38:03.235142Z",
     "start_time": "2020-09-21T17:38:03.227446Z"
    },
    "colab": {},
    "colab_type": "code",
    "id": "NzsCWgdMWc4c"
   },
   "outputs": [
    {
     "name": "stdout",
     "output_type": "stream",
     "text": [
      "['sentence', 'words', 'varying', 'lengths']\n"
     ]
    }
   ],
   "source": [
    "pattern = '\\w{5,}'\n",
    "print(re.findall(pattern, text))"
   ]
  },
  {
   "cell_type": "markdown",
   "metadata": {
    "colab_type": "text",
    "id": "9ktIdGJwWc4e"
   },
   "source": [
    "### 7. Use a regular expression to find and extract all occurrences of the letter \"b\", some letter(s), and then the letter \"t\" in the sentence below."
   ]
  },
  {
   "cell_type": "code",
   "execution_count": 60,
   "metadata": {
    "ExecuteTime": {
     "end_time": "2020-09-21T17:39:45.376499Z",
     "start_time": "2020-09-21T17:39:45.371552Z"
    },
    "colab": {},
    "colab_type": "code",
    "id": "n39CZov3Wc4f"
   },
   "outputs": [],
   "source": [
    "text = \"I bet the robot couldn't beat the other bot with a bat, but instead it bit me.\""
   ]
  },
  {
   "cell_type": "code",
   "execution_count": 62,
   "metadata": {
    "ExecuteTime": {
     "end_time": "2020-09-21T17:39:50.671347Z",
     "start_time": "2020-09-21T17:39:50.664179Z"
    },
    "colab": {},
    "colab_type": "code",
    "id": "-V4SXt-LWc4h"
   },
   "outputs": [
    {
     "name": "stdout",
     "output_type": "stream",
     "text": [
      "['bet', 'bot', 'beat', 'bot', 'bat', 'but', 'bit']\n"
     ]
    }
   ],
   "source": [
    "pattern = 'b\\w+t'\n",
    "print(re.findall(pattern, text))"
   ]
  },
  {
   "cell_type": "markdown",
   "metadata": {
    "colab_type": "text",
    "id": "uDQSsLRJWc4j"
   },
   "source": [
    "### 8. Use a regular expression to find and extract all words that contain either \"ea\" or \"eo\" in them."
   ]
  },
  {
   "cell_type": "code",
   "execution_count": 67,
   "metadata": {
    "ExecuteTime": {
     "end_time": "2020-09-21T17:41:14.623558Z",
     "start_time": "2020-09-21T17:41:14.618317Z"
    },
    "colab": {},
    "colab_type": "code",
    "id": "CYlQ6MY2Wc4k"
   },
   "outputs": [],
   "source": [
    "text = \"During many of the peaks and troughs of history, the people living it didn't fully realize what was unfolding. But we all know we're navigating breathtaking history: Nearly every day could be — maybe will be — a book.\"\n"
   ]
  },
  {
   "cell_type": "code",
   "execution_count": 72,
   "metadata": {
    "ExecuteTime": {
     "end_time": "2020-09-21T17:43:11.791513Z",
     "start_time": "2020-09-21T17:43:11.783480Z"
    },
    "colab": {},
    "colab_type": "code",
    "id": "ON5uuFEyWc4m"
   },
   "outputs": [
    {
     "name": "stdout",
     "output_type": "stream",
     "text": [
      "['peaks', 'people', 'realize', 'breathtaking', 'Nearly']\n"
     ]
    }
   ],
   "source": [
    "pattern = '\\w*e[ao]\\w*'\n",
    "print(re.findall(pattern, text))"
   ]
  },
  {
   "cell_type": "markdown",
   "metadata": {
    "colab_type": "text",
    "id": "GvibshnsWc4n"
   },
   "source": [
    "### 9. Use a regular expression to find and extract all the capitalized words in the text below individually."
   ]
  },
  {
   "cell_type": "code",
   "execution_count": 73,
   "metadata": {
    "ExecuteTime": {
     "end_time": "2020-09-21T17:43:46.272115Z",
     "start_time": "2020-09-21T17:43:46.266705Z"
    },
    "colab": {},
    "colab_type": "code",
    "id": "T8vW83EsWc4o"
   },
   "outputs": [],
   "source": [
    "text = \"Teddy Roosevelt and Abraham Lincoln walk into a bar.\""
   ]
  },
  {
   "cell_type": "code",
   "execution_count": 79,
   "metadata": {
    "ExecuteTime": {
     "end_time": "2020-09-21T17:44:49.390545Z",
     "start_time": "2020-09-21T17:44:49.383403Z"
    },
    "colab": {},
    "colab_type": "code",
    "id": "2C0ZMuv2Wc4q"
   },
   "outputs": [
    {
     "name": "stdout",
     "output_type": "stream",
     "text": [
      "['Teddy', 'Roosevelt', 'Abraham', 'Lincoln']\n"
     ]
    }
   ],
   "source": [
    "pattern = '[A-Z][a-z]+'\n",
    "print(re.findall(pattern, text))"
   ]
  },
  {
   "cell_type": "markdown",
   "metadata": {
    "colab_type": "text",
    "id": "jrd894uxWc4s"
   },
   "source": [
    "### 10. Use a regular expression to find and extract all the sets of consecutive capitalized words in the text above."
   ]
  },
  {
   "cell_type": "code",
   "execution_count": 81,
   "metadata": {
    "ExecuteTime": {
     "end_time": "2020-09-21T17:46:24.950859Z",
     "start_time": "2020-09-21T17:46:24.944457Z"
    },
    "colab": {},
    "colab_type": "code",
    "id": "D6cNET_-Wc4t"
   },
   "outputs": [
    {
     "name": "stdout",
     "output_type": "stream",
     "text": [
      "['Teddy Roosevelt', 'Abraham Lincoln']\n"
     ]
    }
   ],
   "source": [
    "pattern = '[A-Z][a-z]+ [A-Z][a-z]+'\n",
    "print(re.findall(pattern, text))"
   ]
  },
  {
   "cell_type": "markdown",
   "metadata": {
    "colab_type": "text",
    "id": "rJwFfXtAWc4v"
   },
   "source": [
    "### 11. Use a regular expression to find and extract all the quotes from the text below.\n",
    "\n",
    "*Hint: This one is a little more complex than the single quote example in the lesson because there are multiple quotes in the text.*"
   ]
  },
  {
   "cell_type": "code",
   "execution_count": 83,
   "metadata": {
    "ExecuteTime": {
     "end_time": "2020-09-21T17:47:26.159131Z",
     "start_time": "2020-09-21T17:47:26.154419Z"
    },
    "colab": {},
    "colab_type": "code",
    "id": "biVWmSWXWc4v"
   },
   "outputs": [],
   "source": [
    "text = 'Roosevelt says to Lincoln, \"I will bet you $50 I can get the bartender to give me a free drink.\" Lincoln says, \"I am in!\"'"
   ]
  },
  {
   "cell_type": "code",
   "execution_count": 89,
   "metadata": {
    "ExecuteTime": {
     "end_time": "2020-09-21T17:53:30.920160Z",
     "start_time": "2020-09-21T17:53:30.912922Z"
    },
    "colab": {},
    "colab_type": "code",
    "id": "7f7Xut9sWc4x"
   },
   "outputs": [
    {
     "name": "stdout",
     "output_type": "stream",
     "text": [
      "['\"I will bet you $50 I can get the bartender to give me a free drink.\"', '\"I am in!\"']\n"
     ]
    }
   ],
   "source": [
    "pattern = '\".*?\"'\n",
    "print(re.findall(pattern, text))\n",
    "\n",
    "#The regex pattern above looks for double quotes in the text and then returns all the characters ( `.`) \n",
    "#in between them where the series of characters can be of 0 or greater length ( `*`)\n",
    "# `?`: Matches previous character 0 or 1 times (optional)"
   ]
  },
  {
   "cell_type": "markdown",
   "metadata": {
    "colab_type": "text",
    "id": "LMcfzklpWc4y"
   },
   "source": [
    "### 12. Use a regular expression to find and extract all the numbers from the text below."
   ]
  },
  {
   "cell_type": "code",
   "execution_count": 91,
   "metadata": {
    "ExecuteTime": {
     "end_time": "2020-09-21T17:54:00.700944Z",
     "start_time": "2020-09-21T17:54:00.695610Z"
    },
    "colab": {},
    "colab_type": "code",
    "id": "DDdSohMOWc4z"
   },
   "outputs": [],
   "source": [
    "text = \"There were 30 students in the class. Of the 30 students, 14 were male and 16 were female. Only 10 students got A's on the exam.\"\n"
   ]
  },
  {
   "cell_type": "code",
   "execution_count": 93,
   "metadata": {
    "ExecuteTime": {
     "end_time": "2020-09-21T17:54:11.453903Z",
     "start_time": "2020-09-21T17:54:11.447243Z"
    },
    "colab": {},
    "colab_type": "code",
    "id": "OiQ6jfMhWc41"
   },
   "outputs": [
    {
     "name": "stdout",
     "output_type": "stream",
     "text": [
      "['30', '30', '14', '16', '10']\n"
     ]
    }
   ],
   "source": [
    "pattern = '\\d+'\n",
    "print(re.findall(pattern, text))"
   ]
  },
  {
   "cell_type": "markdown",
   "metadata": {
    "colab_type": "text",
    "id": "DBWXDFZSWc43"
   },
   "source": [
    "### 13. Use a regular expression to find and extract all the social security numbers from the text below."
   ]
  },
  {
   "cell_type": "code",
   "execution_count": 103,
   "metadata": {
    "ExecuteTime": {
     "end_time": "2020-09-21T17:56:32.261959Z",
     "start_time": "2020-09-21T17:56:32.239719Z"
    },
    "colab": {},
    "colab_type": "code",
    "id": "Cj5Xn0EGWc44"
   },
   "outputs": [],
   "source": [
    "text = \"\"\"\n",
    "Henry's social security number is 876-93-2289 and his phone number is (847)789-0984.\n",
    "Darlene's social security number is 098-32-5295 and her phone number is (987)222-0901.\n",
    "\"\"\""
   ]
  },
  {
   "cell_type": "code",
   "execution_count": 104,
   "metadata": {
    "ExecuteTime": {
     "end_time": "2020-09-21T17:56:32.501232Z",
     "start_time": "2020-09-21T17:56:32.495147Z"
    },
    "colab": {},
    "colab_type": "code",
    "id": "Pl3qPxbzWc46"
   },
   "outputs": [
    {
     "name": "stdout",
     "output_type": "stream",
     "text": [
      "['876-93-2289', '098-32-5295']\n"
     ]
    }
   ],
   "source": [
    "pattern = '\\d\\d\\d-\\d\\d-\\d\\d\\d\\d'\n",
    "print(re.findall(pattern, text))"
   ]
  },
  {
   "cell_type": "markdown",
   "metadata": {
    "colab_type": "text",
    "id": "VuxCxkU2Wc48"
   },
   "source": [
    "### 14. Use a regular expression to find and extract all the phone numbers from the same text."
   ]
  },
  {
   "cell_type": "code",
   "execution_count": 108,
   "metadata": {
    "ExecuteTime": {
     "end_time": "2020-09-21T17:57:49.771968Z",
     "start_time": "2020-09-21T17:57:49.765154Z"
    },
    "colab": {},
    "colab_type": "code",
    "id": "Z2y5zfykWc49"
   },
   "outputs": [
    {
     "name": "stdout",
     "output_type": "stream",
     "text": [
      "['(847)789-0984', '(987)222-0901']\n"
     ]
    }
   ],
   "source": [
    "pattern = '\\(\\d\\d\\d\\)\\d\\d\\d-\\d\\d\\d\\d'\n",
    "print(re.findall(pattern, text))"
   ]
  },
  {
   "cell_type": "markdown",
   "metadata": {
    "colab_type": "text",
    "id": "IlRyjuDPWc4-"
   },
   "source": [
    "### 15. Use a regular expression to find and extract all the formatted numbers (both social security and phone) from the text."
   ]
  },
  {
   "cell_type": "code",
   "execution_count": 113,
   "metadata": {
    "ExecuteTime": {
     "end_time": "2020-09-21T18:01:17.439482Z",
     "start_time": "2020-09-21T18:01:17.432744Z"
    },
    "colab": {},
    "colab_type": "code",
    "id": "o4N-d4NlWc4_"
   },
   "outputs": [
    {
     "name": "stdout",
     "output_type": "stream",
     "text": [
      "['876-93-2289', '(847)789-0984', '098-32-5295', '(987)222-0901']\n"
     ]
    }
   ],
   "source": [
    "pattern = '\\(\\d\\d\\d\\)\\d\\d\\d-\\d\\d\\d\\d|\\d\\d\\d-\\d\\d-\\d\\d\\d\\d'\n",
    "print(re.findall(pattern, text))"
   ]
  }
 ],
 "metadata": {
  "colab": {
   "collapsed_sections": [],
   "name": "main.ipynb",
   "provenance": []
  },
  "hide_input": false,
  "kernelspec": {
   "display_name": "Python 3",
   "language": "python",
   "name": "python3"
  },
  "language_info": {
   "codemirror_mode": {
    "name": "ipython",
    "version": 3
   },
   "file_extension": ".py",
   "mimetype": "text/x-python",
   "name": "python",
   "nbconvert_exporter": "python",
   "pygments_lexer": "ipython3",
   "version": "3.7.6"
  },
  "toc": {
   "base_numbering": 1,
   "nav_menu": {},
   "number_sections": true,
   "sideBar": true,
   "skip_h1_title": false,
   "title_cell": "Table of Contents",
   "title_sidebar": "Contents",
   "toc_cell": false,
   "toc_position": {},
   "toc_section_display": true,
   "toc_window_display": false
  },
  "varInspector": {
   "cols": {
    "lenName": 16,
    "lenType": 16,
    "lenVar": 40
   },
   "kernels_config": {
    "python": {
     "delete_cmd_postfix": "",
     "delete_cmd_prefix": "del ",
     "library": "var_list.py",
     "varRefreshCmd": "print(var_dic_list())"
    },
    "r": {
     "delete_cmd_postfix": ") ",
     "delete_cmd_prefix": "rm(",
     "library": "var_list.r",
     "varRefreshCmd": "cat(var_dic_list()) "
    }
   },
   "types_to_exclude": [
    "module",
    "function",
    "builtin_function_or_method",
    "instance",
    "_Feature"
   ],
   "window_display": false
  }
 },
 "nbformat": 4,
 "nbformat_minor": 1
}
