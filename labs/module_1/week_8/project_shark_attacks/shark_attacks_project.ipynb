{
 "cells": [
  {
   "cell_type": "markdown",
   "metadata": {},
   "source": [
    "# Project Shark Attacks\n",
    "\n",
    "link: "
   ]
  },
  {
   "cell_type": "code",
   "execution_count": 1,
   "metadata": {
    "ExecuteTime": {
     "end_time": "2020-09-24T21:59:12.953371Z",
     "start_time": "2020-09-24T21:59:11.395674Z"
    }
   },
   "outputs": [],
   "source": [
    "import pandas as pd\n",
    "import numpy as np\n",
    "import re"
   ]
  },
  {
   "cell_type": "code",
   "execution_count": 2,
   "metadata": {
    "ExecuteTime": {
     "end_time": "2020-09-24T21:59:13.096421Z",
     "start_time": "2020-09-24T21:59:12.959442Z"
    }
   },
   "outputs": [
    {
     "name": "stdout",
     "output_type": "stream",
     "text": [
      "/Users/aldreybaldovi/Desktop/ironhack/labs/module_1/week_8/project_shark_attacks\r\n"
     ]
    }
   ],
   "source": [
    "!pwd"
   ]
  },
  {
   "cell_type": "code",
   "execution_count": 3,
   "metadata": {
    "ExecuteTime": {
     "end_time": "2020-09-24T21:59:15.542955Z",
     "start_time": "2020-09-24T21:59:13.103126Z"
    }
   },
   "outputs": [
    {
     "data": {
      "text/html": [
       "<div>\n",
       "<style scoped>\n",
       "    .dataframe tbody tr th:only-of-type {\n",
       "        vertical-align: middle;\n",
       "    }\n",
       "\n",
       "    .dataframe tbody tr th {\n",
       "        vertical-align: top;\n",
       "    }\n",
       "\n",
       "    .dataframe thead th {\n",
       "        text-align: right;\n",
       "    }\n",
       "</style>\n",
       "<table border=\"1\" class=\"dataframe\">\n",
       "  <thead>\n",
       "    <tr style=\"text-align: right;\">\n",
       "      <th></th>\n",
       "      <th>Case Number</th>\n",
       "      <th>Date</th>\n",
       "      <th>Year</th>\n",
       "      <th>Type</th>\n",
       "      <th>Country</th>\n",
       "      <th>Area</th>\n",
       "      <th>Location</th>\n",
       "      <th>Activity</th>\n",
       "      <th>Name</th>\n",
       "      <th>Sex</th>\n",
       "      <th>...</th>\n",
       "      <th>Species</th>\n",
       "      <th>Investigator or Source</th>\n",
       "      <th>pdf</th>\n",
       "      <th>href formula</th>\n",
       "      <th>href</th>\n",
       "      <th>Case Number.1</th>\n",
       "      <th>Case Number.2</th>\n",
       "      <th>original order</th>\n",
       "      <th>Unnamed: 22</th>\n",
       "      <th>Unnamed: 23</th>\n",
       "    </tr>\n",
       "  </thead>\n",
       "  <tbody>\n",
       "    <tr>\n",
       "      <th>0</th>\n",
       "      <td>2020.09.20</td>\n",
       "      <td>20-Sep-2020</td>\n",
       "      <td>2020.0</td>\n",
       "      <td>Unprovoked</td>\n",
       "      <td>USA</td>\n",
       "      <td>Florida</td>\n",
       "      <td>Sombero Key Light, Monroe County</td>\n",
       "      <td>Snorkeling</td>\n",
       "      <td>Andrew Charles Eddy</td>\n",
       "      <td>M</td>\n",
       "      <td>...</td>\n",
       "      <td>Bull shark</td>\n",
       "      <td>Click Orlando, 9/20/2020</td>\n",
       "      <td>2020.09.20-Eddy.pdf</td>\n",
       "      <td>http://sharkattackfile.net/spreadsheets/pdf_di...</td>\n",
       "      <td>http://sharkattackfile.net/spreadsheets/pdf_di...</td>\n",
       "      <td>2020.09.20</td>\n",
       "      <td>2020.09.20</td>\n",
       "      <td>6576.0</td>\n",
       "      <td>NaN</td>\n",
       "      <td>NaN</td>\n",
       "    </tr>\n",
       "    <tr>\n",
       "      <th>1</th>\n",
       "      <td>2020.09.17</td>\n",
       "      <td>17-Sep-2020</td>\n",
       "      <td>2020.0</td>\n",
       "      <td>Provoked</td>\n",
       "      <td>AUSTRALIA</td>\n",
       "      <td>Queensland</td>\n",
       "      <td>Fraser Island</td>\n",
       "      <td>Fishing</td>\n",
       "      <td>male</td>\n",
       "      <td>M</td>\n",
       "      <td>...</td>\n",
       "      <td>\"whitetip shark\"</td>\n",
       "      <td>K. McMurray, Tracking Sharks.com and B. Myatt,...</td>\n",
       "      <td>2020.09.17-FraserIsland.pdf</td>\n",
       "      <td>http://sharkattackfile.net/spreadsheets/pdf_di...</td>\n",
       "      <td>http://sharkattackfile.net/spreadsheets/pdf_di...</td>\n",
       "      <td>2020.09.17</td>\n",
       "      <td>2020.09.17</td>\n",
       "      <td>6575.0</td>\n",
       "      <td>NaN</td>\n",
       "      <td>NaN</td>\n",
       "    </tr>\n",
       "    <tr>\n",
       "      <th>2</th>\n",
       "      <td>2020.09.16.b</td>\n",
       "      <td>16-Sep-2020</td>\n",
       "      <td>2020.0</td>\n",
       "      <td>Unprovoked</td>\n",
       "      <td>AUSTRALIA</td>\n",
       "      <td>New South Wales</td>\n",
       "      <td>Cabarita Beach</td>\n",
       "      <td>Foil-boarding</td>\n",
       "      <td>Christian Bungate</td>\n",
       "      <td>M</td>\n",
       "      <td>...</td>\n",
       "      <td>White shark</td>\n",
       "      <td>B. Myatt, GSAF</td>\n",
       "      <td>2020.09.16.b-Bungate.pdf</td>\n",
       "      <td>http://sharkattackfile.net/spreadsheets/pdf_di...</td>\n",
       "      <td>http://sharkattackfile.net/spreadsheets/pdf_di...</td>\n",
       "      <td>2020.09.16.b</td>\n",
       "      <td>2020.09.16.b</td>\n",
       "      <td>6574.0</td>\n",
       "      <td>NaN</td>\n",
       "      <td>NaN</td>\n",
       "    </tr>\n",
       "    <tr>\n",
       "      <th>3</th>\n",
       "      <td>2020.09.16</td>\n",
       "      <td>16-Sep-2020</td>\n",
       "      <td>2020.0</td>\n",
       "      <td>NaN</td>\n",
       "      <td>USA</td>\n",
       "      <td>Florida</td>\n",
       "      <td>Daytona Beach Shores, Volusia County</td>\n",
       "      <td>Swimming</td>\n",
       "      <td>Eric Bowman</td>\n",
       "      <td>M</td>\n",
       "      <td>...</td>\n",
       "      <td>Shark involvement not confirmed</td>\n",
       "      <td>K. McMurray, TrackingSharks.com</td>\n",
       "      <td>2020.09.16-Bowman.pdf</td>\n",
       "      <td>http://sharkattackfile.net/spreadsheets/pdf_di...</td>\n",
       "      <td>http://sharkattackfile.net/spreadsheets/pdf_di...</td>\n",
       "      <td>2020.09.16</td>\n",
       "      <td>2020.09.16</td>\n",
       "      <td>6573.0</td>\n",
       "      <td>NaN</td>\n",
       "      <td>NaN</td>\n",
       "    </tr>\n",
       "    <tr>\n",
       "      <th>4</th>\n",
       "      <td>2020.09.15.b</td>\n",
       "      <td>15-Sep-2020</td>\n",
       "      <td>2020.0</td>\n",
       "      <td>Unprovoked</td>\n",
       "      <td>USA</td>\n",
       "      <td>Florida</td>\n",
       "      <td>Ponce Inlet, Volusia County</td>\n",
       "      <td>Surfing</td>\n",
       "      <td>Cole Smyth</td>\n",
       "      <td>M</td>\n",
       "      <td>...</td>\n",
       "      <td>NaN</td>\n",
       "      <td>K. McMurray, TrackingSharks.com</td>\n",
       "      <td>2020.09.15.b-Smyth.pdf</td>\n",
       "      <td>http://sharkattackfile.net/spreadsheets/pdf_di...</td>\n",
       "      <td>http://sharkattackfile.net/spreadsheets/pdf_di...</td>\n",
       "      <td>2020.09.15.b</td>\n",
       "      <td>2020.09.15.b</td>\n",
       "      <td>6572.0</td>\n",
       "      <td>NaN</td>\n",
       "      <td>NaN</td>\n",
       "    </tr>\n",
       "  </tbody>\n",
       "</table>\n",
       "<p>5 rows × 24 columns</p>\n",
       "</div>"
      ],
      "text/plain": [
       "    Case Number         Date    Year        Type    Country             Area  \\\n",
       "0    2020.09.20  20-Sep-2020  2020.0  Unprovoked        USA          Florida   \n",
       "1    2020.09.17  17-Sep-2020  2020.0    Provoked  AUSTRALIA       Queensland   \n",
       "2  2020.09.16.b  16-Sep-2020  2020.0  Unprovoked  AUSTRALIA  New South Wales   \n",
       "3    2020.09.16  16-Sep-2020  2020.0         NaN        USA          Florida   \n",
       "4  2020.09.15.b  15-Sep-2020  2020.0  Unprovoked        USA          Florida   \n",
       "\n",
       "                               Location       Activity                 Name  \\\n",
       "0      Sombero Key Light, Monroe County     Snorkeling  Andrew Charles Eddy   \n",
       "1                         Fraser Island        Fishing                 male   \n",
       "2                        Cabarita Beach  Foil-boarding    Christian Bungate   \n",
       "3  Daytona Beach Shores, Volusia County       Swimming          Eric Bowman   \n",
       "4           Ponce Inlet, Volusia County        Surfing           Cole Smyth   \n",
       "\n",
       "  Sex   ...                         Species   \\\n",
       "0    M  ...                       Bull shark   \n",
       "1    M  ...                 \"whitetip shark\"   \n",
       "2    M  ...                      White shark   \n",
       "3    M  ...  Shark involvement not confirmed   \n",
       "4    M  ...                              NaN   \n",
       "\n",
       "                              Investigator or Source  \\\n",
       "0                           Click Orlando, 9/20/2020   \n",
       "1  K. McMurray, Tracking Sharks.com and B. Myatt,...   \n",
       "2                                     B. Myatt, GSAF   \n",
       "3                    K. McMurray, TrackingSharks.com   \n",
       "4                    K. McMurray, TrackingSharks.com   \n",
       "\n",
       "                           pdf  \\\n",
       "0          2020.09.20-Eddy.pdf   \n",
       "1  2020.09.17-FraserIsland.pdf   \n",
       "2     2020.09.16.b-Bungate.pdf   \n",
       "3        2020.09.16-Bowman.pdf   \n",
       "4       2020.09.15.b-Smyth.pdf   \n",
       "\n",
       "                                        href formula  \\\n",
       "0  http://sharkattackfile.net/spreadsheets/pdf_di...   \n",
       "1  http://sharkattackfile.net/spreadsheets/pdf_di...   \n",
       "2  http://sharkattackfile.net/spreadsheets/pdf_di...   \n",
       "3  http://sharkattackfile.net/spreadsheets/pdf_di...   \n",
       "4  http://sharkattackfile.net/spreadsheets/pdf_di...   \n",
       "\n",
       "                                                href Case Number.1  \\\n",
       "0  http://sharkattackfile.net/spreadsheets/pdf_di...    2020.09.20   \n",
       "1  http://sharkattackfile.net/spreadsheets/pdf_di...    2020.09.17   \n",
       "2  http://sharkattackfile.net/spreadsheets/pdf_di...  2020.09.16.b   \n",
       "3  http://sharkattackfile.net/spreadsheets/pdf_di...    2020.09.16   \n",
       "4  http://sharkattackfile.net/spreadsheets/pdf_di...  2020.09.15.b   \n",
       "\n",
       "  Case Number.2 original order Unnamed: 22 Unnamed: 23  \n",
       "0    2020.09.20         6576.0         NaN         NaN  \n",
       "1    2020.09.17         6575.0         NaN         NaN  \n",
       "2  2020.09.16.b         6574.0         NaN         NaN  \n",
       "3    2020.09.16         6573.0         NaN         NaN  \n",
       "4  2020.09.15.b         6572.0         NaN         NaN  \n",
       "\n",
       "[5 rows x 24 columns]"
      ]
     },
     "execution_count": 3,
     "metadata": {},
     "output_type": "execute_result"
    }
   ],
   "source": [
    "df = pd.read_excel('GSAF5.xls', encoding='latin1')\n",
    "df.head()"
   ]
  },
  {
   "cell_type": "code",
   "execution_count": 4,
   "metadata": {
    "ExecuteTime": {
     "end_time": "2020-09-24T21:59:15.570588Z",
     "start_time": "2020-09-24T21:59:15.554859Z"
    }
   },
   "outputs": [
    {
     "data": {
      "text/plain": [
       "Index(['Case Number', 'Date', 'Year', 'Type', 'Country', 'Area', 'Location',\n",
       "       'Activity', 'Name', 'Sex ', 'Age', 'Injury', 'Fatal (Y/N)', 'Time',\n",
       "       'Species ', 'Investigator or Source', 'pdf', 'href formula', 'href',\n",
       "       'Case Number.1', 'Case Number.2', 'original order', 'Unnamed: 22',\n",
       "       'Unnamed: 23'],\n",
       "      dtype='object')"
      ]
     },
     "execution_count": 4,
     "metadata": {},
     "output_type": "execute_result"
    }
   ],
   "source": [
    "df.columns"
   ]
  },
  {
   "cell_type": "code",
   "execution_count": 5,
   "metadata": {
    "ExecuteTime": {
     "end_time": "2020-09-24T21:59:15.588767Z",
     "start_time": "2020-09-24T21:59:15.578861Z"
    }
   },
   "outputs": [
    {
     "data": {
      "text/plain": [
       "25796"
      ]
     },
     "execution_count": 5,
     "metadata": {},
     "output_type": "execute_result"
    }
   ],
   "source": [
    "len(df)"
   ]
  },
  {
   "cell_type": "code",
   "execution_count": 6,
   "metadata": {
    "ExecuteTime": {
     "end_time": "2020-09-24T21:59:15.629722Z",
     "start_time": "2020-09-24T21:59:15.595793Z"
    }
   },
   "outputs": [],
   "source": [
    "df_bkp = df.copy()"
   ]
  },
  {
   "cell_type": "markdown",
   "metadata": {
    "ExecuteTime": {
     "end_time": "2020-09-23T00:02:42.096308Z",
     "start_time": "2020-09-23T00:02:42.075904Z"
    }
   },
   "source": [
    "- Analisar a quantidade de vazios nas colunas de interesse ('Year', 'Sex', 'Country', 'Fatal (Y/N)')"
   ]
  },
  {
   "cell_type": "code",
   "execution_count": 7,
   "metadata": {
    "ExecuteTime": {
     "end_time": "2020-09-24T21:59:15.754126Z",
     "start_time": "2020-09-24T21:59:15.636762Z"
    }
   },
   "outputs": [
    {
     "name": "stdout",
     "output_type": "stream",
     "text": [
      "<class 'pandas.core.frame.DataFrame'>\n",
      "RangeIndex: 25796 entries, 0 to 25795\n",
      "Data columns (total 24 columns):\n",
      " #   Column                  Non-Null Count  Dtype  \n",
      "---  ------                  --------------  -----  \n",
      " 0   Case Number             8775 non-null   object \n",
      " 1   Date                    6575 non-null   object \n",
      " 2   Year                    6573 non-null   float64\n",
      " 3   Type                    6566 non-null   object \n",
      " 4   Country                 6525 non-null   object \n",
      " 5   Area                    6108 non-null   object \n",
      " 6   Location                6025 non-null   object \n",
      " 7   Activity                6018 non-null   object \n",
      " 8   Name                    6360 non-null   object \n",
      " 9   Sex                     6003 non-null   object \n",
      " 10  Age                     3672 non-null   object \n",
      " 11  Injury                  6545 non-null   object \n",
      " 12  Fatal (Y/N)             6023 non-null   object \n",
      " 13  Time                    3154 non-null   object \n",
      " 14  Species                 3622 non-null   object \n",
      " 15  Investigator or Source  6558 non-null   object \n",
      " 16  pdf                     6574 non-null   object \n",
      " 17  href formula            6571 non-null   object \n",
      " 18  href                    6573 non-null   object \n",
      " 19  Case Number.1           6574 non-null   object \n",
      " 20  Case Number.2           6574 non-null   object \n",
      " 21  original order          6575 non-null   float64\n",
      " 22  Unnamed: 22             1 non-null      object \n",
      " 23  Unnamed: 23             2 non-null      object \n",
      "dtypes: float64(2), object(22)\n",
      "memory usage: 4.7+ MB\n"
     ]
    }
   ],
   "source": [
    "df_bkp.info()"
   ]
  },
  {
   "cell_type": "markdown",
   "metadata": {},
   "source": [
    "# HYPOTHESIS: \n",
    "- There is more death cases with **man than woman** (SEX AND FATAL (Y/N) COLUMNS)\n",
    "- Surf is the activity which causes more accident **in the last years** (YEAR AND ACTIVITY COLUMNS)\n",
    "- Most of the cases were **unprovoked** (TYPE COLUMN)\n",
    "- **Young people** is more likely to die by shark attacks (AGE COLUMN)\n",
    "- The **location** with greater number of cases has no legislation or safety measures (COUNTRY AND AREA)\n",
    "- Season with more cases is summer (DATE COLUMN AND **NEW COLUMN SEASON**)\n",
    "- The most dangerous species of shark (SPECIES COLUMN) "
   ]
  },
  {
   "cell_type": "markdown",
   "metadata": {},
   "source": [
    "# STEPS"
   ]
  },
  {
   "cell_type": "markdown",
   "metadata": {
    "ExecuteTime": {
     "end_time": "2020-09-23T01:01:19.232709Z",
     "start_time": "2020-09-23T01:01:19.199951Z"
    }
   },
   "source": [
    "- Use columns: \n",
    "\n",
    "`['Date', 'Year', 'Type', 'Country', 'Area', 'Sex ', 'Age','Species ','Activity','Fatal (Y/N)']`\n",
    "\n",
    "\n",
    "- Drop columns: \n",
    "\n",
    "`['Case Number', 'Name', 'Location', 'Injury', 'Time','Investigator or Source', 'pdf', 'href formula', 'href', 'Case Number.1', 'Case Number.2', 'original order', 'Unnamed: 22', 'Unnamed: 23']`\n",
    "\n",
    "\n",
    "- Rename columns (df = df.rename(columns = {'Date' : 'date'}) OR df.rename({'Date' : 'date'}, axis =1, inplace = True):\n",
    "    - lower case\n",
    "    - no spaces\n",
    "\n",
    "\n",
    "- Rename similar words in lines:\n",
    "    - **m:** male, M \n",
    "    - **f:** female, F \n",
    "    - **y:** Yes, Y, y \n",
    "    - **n:** No, no, N\n",
    "\n",
    "\n",
    "- Analise columns with NAN:\n",
    "    - Substitute NAN to 0 (`df.fillna(0)`) when necessary\n"
   ]
  },
  {
   "cell_type": "code",
   "execution_count": 8,
   "metadata": {
    "ExecuteTime": {
     "end_time": "2020-09-24T21:59:15.800810Z",
     "start_time": "2020-09-24T21:59:15.760264Z"
    }
   },
   "outputs": [
    {
     "data": {
      "text/html": [
       "<div>\n",
       "<style scoped>\n",
       "    .dataframe tbody tr th:only-of-type {\n",
       "        vertical-align: middle;\n",
       "    }\n",
       "\n",
       "    .dataframe tbody tr th {\n",
       "        vertical-align: top;\n",
       "    }\n",
       "\n",
       "    .dataframe thead th {\n",
       "        text-align: right;\n",
       "    }\n",
       "</style>\n",
       "<table border=\"1\" class=\"dataframe\">\n",
       "  <thead>\n",
       "    <tr style=\"text-align: right;\">\n",
       "      <th></th>\n",
       "      <th>Date</th>\n",
       "      <th>Year</th>\n",
       "      <th>Type</th>\n",
       "      <th>Country</th>\n",
       "      <th>Area</th>\n",
       "      <th>Sex</th>\n",
       "      <th>Age</th>\n",
       "      <th>Species</th>\n",
       "      <th>Activity</th>\n",
       "      <th>Fatal (Y/N)</th>\n",
       "    </tr>\n",
       "  </thead>\n",
       "  <tbody>\n",
       "    <tr>\n",
       "      <th>0</th>\n",
       "      <td>20-Sep-2020</td>\n",
       "      <td>2020.0</td>\n",
       "      <td>Unprovoked</td>\n",
       "      <td>USA</td>\n",
       "      <td>Florida</td>\n",
       "      <td>M</td>\n",
       "      <td>30</td>\n",
       "      <td>Bull shark</td>\n",
       "      <td>Snorkeling</td>\n",
       "      <td>N</td>\n",
       "    </tr>\n",
       "    <tr>\n",
       "      <th>1</th>\n",
       "      <td>17-Sep-2020</td>\n",
       "      <td>2020.0</td>\n",
       "      <td>Provoked</td>\n",
       "      <td>AUSTRALIA</td>\n",
       "      <td>Queensland</td>\n",
       "      <td>M</td>\n",
       "      <td>50s</td>\n",
       "      <td>\"whitetip shark\"</td>\n",
       "      <td>Fishing</td>\n",
       "      <td>N</td>\n",
       "    </tr>\n",
       "    <tr>\n",
       "      <th>2</th>\n",
       "      <td>16-Sep-2020</td>\n",
       "      <td>2020.0</td>\n",
       "      <td>Unprovoked</td>\n",
       "      <td>AUSTRALIA</td>\n",
       "      <td>New South Wales</td>\n",
       "      <td>M</td>\n",
       "      <td>NaN</td>\n",
       "      <td>White shark</td>\n",
       "      <td>Foil-boarding</td>\n",
       "      <td>N</td>\n",
       "    </tr>\n",
       "    <tr>\n",
       "      <th>3</th>\n",
       "      <td>16-Sep-2020</td>\n",
       "      <td>2020.0</td>\n",
       "      <td>NaN</td>\n",
       "      <td>USA</td>\n",
       "      <td>Florida</td>\n",
       "      <td>M</td>\n",
       "      <td>48</td>\n",
       "      <td>Shark involvement not confirmed</td>\n",
       "      <td>Swimming</td>\n",
       "      <td>N</td>\n",
       "    </tr>\n",
       "    <tr>\n",
       "      <th>4</th>\n",
       "      <td>15-Sep-2020</td>\n",
       "      <td>2020.0</td>\n",
       "      <td>Unprovoked</td>\n",
       "      <td>USA</td>\n",
       "      <td>Florida</td>\n",
       "      <td>M</td>\n",
       "      <td>15</td>\n",
       "      <td>NaN</td>\n",
       "      <td>Surfing</td>\n",
       "      <td>N</td>\n",
       "    </tr>\n",
       "  </tbody>\n",
       "</table>\n",
       "</div>"
      ],
      "text/plain": [
       "          Date    Year        Type    Country             Area Sex   Age  \\\n",
       "0  20-Sep-2020  2020.0  Unprovoked        USA          Florida    M   30   \n",
       "1  17-Sep-2020  2020.0    Provoked  AUSTRALIA       Queensland    M  50s   \n",
       "2  16-Sep-2020  2020.0  Unprovoked  AUSTRALIA  New South Wales    M  NaN   \n",
       "3  16-Sep-2020  2020.0         NaN        USA          Florida    M   48   \n",
       "4  15-Sep-2020  2020.0  Unprovoked        USA          Florida    M   15   \n",
       "\n",
       "                          Species        Activity Fatal (Y/N)  \n",
       "0                       Bull shark     Snorkeling           N  \n",
       "1                 \"whitetip shark\"        Fishing           N  \n",
       "2                      White shark  Foil-boarding           N  \n",
       "3  Shark involvement not confirmed       Swimming           N  \n",
       "4                              NaN        Surfing           N  "
      ]
     },
     "execution_count": 8,
     "metadata": {},
     "output_type": "execute_result"
    }
   ],
   "source": [
    "df = df.loc[:,['Date', 'Year', 'Type', 'Country', 'Area', 'Sex ', 'Age','Species ','Activity','Fatal (Y/N)']]\n",
    "df.head()"
   ]
  },
  {
   "cell_type": "code",
   "execution_count": 9,
   "metadata": {
    "ExecuteTime": {
     "end_time": "2020-09-24T21:59:15.856710Z",
     "start_time": "2020-09-24T21:59:15.809017Z"
    }
   },
   "outputs": [
    {
     "data": {
      "text/html": [
       "<div>\n",
       "<style scoped>\n",
       "    .dataframe tbody tr th:only-of-type {\n",
       "        vertical-align: middle;\n",
       "    }\n",
       "\n",
       "    .dataframe tbody tr th {\n",
       "        vertical-align: top;\n",
       "    }\n",
       "\n",
       "    .dataframe thead th {\n",
       "        text-align: right;\n",
       "    }\n",
       "</style>\n",
       "<table border=\"1\" class=\"dataframe\">\n",
       "  <thead>\n",
       "    <tr style=\"text-align: right;\">\n",
       "      <th></th>\n",
       "      <th>date</th>\n",
       "      <th>year</th>\n",
       "      <th>type</th>\n",
       "      <th>country</th>\n",
       "      <th>area</th>\n",
       "      <th>sex</th>\n",
       "      <th>age</th>\n",
       "      <th>species</th>\n",
       "      <th>activity</th>\n",
       "      <th>fatal</th>\n",
       "    </tr>\n",
       "  </thead>\n",
       "  <tbody>\n",
       "    <tr>\n",
       "      <th>0</th>\n",
       "      <td>20-Sep-2020</td>\n",
       "      <td>2020.0</td>\n",
       "      <td>Unprovoked</td>\n",
       "      <td>USA</td>\n",
       "      <td>Florida</td>\n",
       "      <td>M</td>\n",
       "      <td>30</td>\n",
       "      <td>Bull shark</td>\n",
       "      <td>Snorkeling</td>\n",
       "      <td>N</td>\n",
       "    </tr>\n",
       "    <tr>\n",
       "      <th>1</th>\n",
       "      <td>17-Sep-2020</td>\n",
       "      <td>2020.0</td>\n",
       "      <td>Provoked</td>\n",
       "      <td>AUSTRALIA</td>\n",
       "      <td>Queensland</td>\n",
       "      <td>M</td>\n",
       "      <td>50s</td>\n",
       "      <td>\"whitetip shark\"</td>\n",
       "      <td>Fishing</td>\n",
       "      <td>N</td>\n",
       "    </tr>\n",
       "    <tr>\n",
       "      <th>2</th>\n",
       "      <td>16-Sep-2020</td>\n",
       "      <td>2020.0</td>\n",
       "      <td>Unprovoked</td>\n",
       "      <td>AUSTRALIA</td>\n",
       "      <td>New South Wales</td>\n",
       "      <td>M</td>\n",
       "      <td>NaN</td>\n",
       "      <td>White shark</td>\n",
       "      <td>Foil-boarding</td>\n",
       "      <td>N</td>\n",
       "    </tr>\n",
       "    <tr>\n",
       "      <th>3</th>\n",
       "      <td>16-Sep-2020</td>\n",
       "      <td>2020.0</td>\n",
       "      <td>NaN</td>\n",
       "      <td>USA</td>\n",
       "      <td>Florida</td>\n",
       "      <td>M</td>\n",
       "      <td>48</td>\n",
       "      <td>Shark involvement not confirmed</td>\n",
       "      <td>Swimming</td>\n",
       "      <td>N</td>\n",
       "    </tr>\n",
       "    <tr>\n",
       "      <th>4</th>\n",
       "      <td>15-Sep-2020</td>\n",
       "      <td>2020.0</td>\n",
       "      <td>Unprovoked</td>\n",
       "      <td>USA</td>\n",
       "      <td>Florida</td>\n",
       "      <td>M</td>\n",
       "      <td>15</td>\n",
       "      <td>NaN</td>\n",
       "      <td>Surfing</td>\n",
       "      <td>N</td>\n",
       "    </tr>\n",
       "  </tbody>\n",
       "</table>\n",
       "</div>"
      ],
      "text/plain": [
       "          date    year        type    country             area sex  age  \\\n",
       "0  20-Sep-2020  2020.0  Unprovoked        USA          Florida   M   30   \n",
       "1  17-Sep-2020  2020.0    Provoked  AUSTRALIA       Queensland   M  50s   \n",
       "2  16-Sep-2020  2020.0  Unprovoked  AUSTRALIA  New South Wales   M  NaN   \n",
       "3  16-Sep-2020  2020.0         NaN        USA          Florida   M   48   \n",
       "4  15-Sep-2020  2020.0  Unprovoked        USA          Florida   M   15   \n",
       "\n",
       "                           species       activity fatal  \n",
       "0                       Bull shark     Snorkeling     N  \n",
       "1                 \"whitetip shark\"        Fishing     N  \n",
       "2                      White shark  Foil-boarding     N  \n",
       "3  Shark involvement not confirmed       Swimming     N  \n",
       "4                              NaN        Surfing     N  "
      ]
     },
     "execution_count": 9,
     "metadata": {},
     "output_type": "execute_result"
    }
   ],
   "source": [
    "df.rename({'Date':'date', 'Year':'year', 'Type':'type', 'Country':'country', 'Area':'area', \n",
    "                 'Sex ':'sex', 'Age':'age','Species ':'species','Activity':'activity',\n",
    "                 'Fatal (Y/N)':'fatal'}, axis =1, inplace = True)\n",
    "df.head()"
   ]
  },
  {
   "cell_type": "markdown",
   "metadata": {},
   "source": [
    "- Working with `date` and `year`:\n",
    "\n",
    "    - Delete null values\n",
    "    \n",
    "    - regex to use only the year\n",
    "    \n",
    "        `pattern = '\\d\\d\\d\\d'`\n",
    "        \n",
    "        `print(re.findall(pattern, text))`\n",
    "        \n",
    "    - group the number of fatal cases of the same year\n",
    "    \n",
    "        `fatal_cases_year = df.groupby('date', as_index = False)`"
   ]
  },
  {
   "cell_type": "code",
   "execution_count": 10,
   "metadata": {
    "ExecuteTime": {
     "end_time": "2020-09-24T21:59:15.896745Z",
     "start_time": "2020-09-24T21:59:15.868604Z"
    }
   },
   "outputs": [
    {
     "data": {
      "text/plain": [
       "1957                    9\n",
       "1942                    8\n",
       "1958                    7\n",
       "1956                    6\n",
       "No date                 6\n",
       "                       ..\n",
       "Reported 08-Feb-1887    1\n",
       "Reported 15-Apr-1869    1\n",
       "04-Jul-2002             1\n",
       "19-Dec-2007             1\n",
       "Reported 11-Oct-1904    1\n",
       "Name: date, Length: 5685, dtype: int64"
      ]
     },
     "execution_count": 10,
     "metadata": {},
     "output_type": "execute_result"
    }
   ],
   "source": [
    "df['date'].value_counts()"
   ]
  },
  {
   "cell_type": "code",
   "execution_count": 11,
   "metadata": {
    "ExecuteTime": {
     "end_time": "2020-09-24T21:59:15.922221Z",
     "start_time": "2020-09-24T21:59:15.901331Z"
    }
   },
   "outputs": [
    {
     "data": {
      "text/plain": [
       "2015.0    143\n",
       "2017.0    139\n",
       "2016.0    131\n",
       "2011.0    128\n",
       "2014.0    127\n",
       "         ... \n",
       "1753.0      1\n",
       "77.0        1\n",
       "1785.0      1\n",
       "1800.0      1\n",
       "1543.0      1\n",
       "Name: year, Length: 251, dtype: int64"
      ]
     },
     "execution_count": 11,
     "metadata": {},
     "output_type": "execute_result"
    }
   ],
   "source": [
    "df['year'].value_counts()"
   ]
  },
  {
   "cell_type": "code",
   "execution_count": 12,
   "metadata": {
    "ExecuteTime": {
     "end_time": "2020-09-24T21:59:15.965141Z",
     "start_time": "2020-09-24T21:59:15.925489Z"
    }
   },
   "outputs": [
    {
     "name": "stdout",
     "output_type": "stream",
     "text": [
      "<class 'pandas.core.frame.DataFrame'>\n",
      "RangeIndex: 25796 entries, 0 to 25795\n",
      "Data columns (total 10 columns):\n",
      " #   Column    Non-Null Count  Dtype  \n",
      "---  ------    --------------  -----  \n",
      " 0   date      6575 non-null   object \n",
      " 1   year      6573 non-null   float64\n",
      " 2   type      6566 non-null   object \n",
      " 3   country   6525 non-null   object \n",
      " 4   area      6108 non-null   object \n",
      " 5   sex       6003 non-null   object \n",
      " 6   age       3672 non-null   object \n",
      " 7   species   3622 non-null   object \n",
      " 8   activity  6018 non-null   object \n",
      " 9   fatal     6023 non-null   object \n",
      "dtypes: float64(1), object(9)\n",
      "memory usage: 2.0+ MB\n"
     ]
    }
   ],
   "source": [
    "df.info()"
   ]
  },
  {
   "cell_type": "code",
   "execution_count": 13,
   "metadata": {
    "ExecuteTime": {
     "end_time": "2020-09-24T21:59:16.032085Z",
     "start_time": "2020-09-24T21:59:15.978678Z"
    }
   },
   "outputs": [
    {
     "data": {
      "text/html": [
       "<div>\n",
       "<style scoped>\n",
       "    .dataframe tbody tr th:only-of-type {\n",
       "        vertical-align: middle;\n",
       "    }\n",
       "\n",
       "    .dataframe tbody tr th {\n",
       "        vertical-align: top;\n",
       "    }\n",
       "\n",
       "    .dataframe thead th {\n",
       "        text-align: right;\n",
       "    }\n",
       "</style>\n",
       "<table border=\"1\" class=\"dataframe\">\n",
       "  <thead>\n",
       "    <tr style=\"text-align: right;\">\n",
       "      <th></th>\n",
       "      <th>date</th>\n",
       "      <th>year</th>\n",
       "      <th>type</th>\n",
       "      <th>country</th>\n",
       "      <th>area</th>\n",
       "      <th>sex</th>\n",
       "      <th>age</th>\n",
       "      <th>species</th>\n",
       "      <th>activity</th>\n",
       "      <th>fatal</th>\n",
       "    </tr>\n",
       "  </thead>\n",
       "  <tbody>\n",
       "    <tr>\n",
       "      <th>444</th>\n",
       "      <td>Reported 08-Jan-2017</td>\n",
       "      <td>NaN</td>\n",
       "      <td>Invalid</td>\n",
       "      <td>AUSTRALIA</td>\n",
       "      <td>Queensland</td>\n",
       "      <td>M</td>\n",
       "      <td>35</td>\n",
       "      <td>Bull shark</td>\n",
       "      <td>Spearfishing</td>\n",
       "      <td>NaN</td>\n",
       "    </tr>\n",
       "    <tr>\n",
       "      <th>6351</th>\n",
       "      <td>Reported 19-Aug-1836</td>\n",
       "      <td>NaN</td>\n",
       "      <td>Unprovoked</td>\n",
       "      <td>ENGLAND</td>\n",
       "      <td>Cumberland</td>\n",
       "      <td>M</td>\n",
       "      <td>NaN</td>\n",
       "      <td>NaN</td>\n",
       "      <td>Swimming</td>\n",
       "      <td>Y</td>\n",
       "    </tr>\n",
       "    <tr>\n",
       "      <th>6575</th>\n",
       "      <td>NaN</td>\n",
       "      <td>NaN</td>\n",
       "      <td>NaN</td>\n",
       "      <td>NaN</td>\n",
       "      <td>NaN</td>\n",
       "      <td>NaN</td>\n",
       "      <td>NaN</td>\n",
       "      <td>NaN</td>\n",
       "      <td>NaN</td>\n",
       "      <td>NaN</td>\n",
       "    </tr>\n",
       "    <tr>\n",
       "      <th>6576</th>\n",
       "      <td>NaN</td>\n",
       "      <td>NaN</td>\n",
       "      <td>NaN</td>\n",
       "      <td>NaN</td>\n",
       "      <td>NaN</td>\n",
       "      <td>NaN</td>\n",
       "      <td>NaN</td>\n",
       "      <td>NaN</td>\n",
       "      <td>NaN</td>\n",
       "      <td>NaN</td>\n",
       "    </tr>\n",
       "    <tr>\n",
       "      <th>6577</th>\n",
       "      <td>NaN</td>\n",
       "      <td>NaN</td>\n",
       "      <td>NaN</td>\n",
       "      <td>NaN</td>\n",
       "      <td>NaN</td>\n",
       "      <td>NaN</td>\n",
       "      <td>NaN</td>\n",
       "      <td>NaN</td>\n",
       "      <td>NaN</td>\n",
       "      <td>NaN</td>\n",
       "    </tr>\n",
       "    <tr>\n",
       "      <th>...</th>\n",
       "      <td>...</td>\n",
       "      <td>...</td>\n",
       "      <td>...</td>\n",
       "      <td>...</td>\n",
       "      <td>...</td>\n",
       "      <td>...</td>\n",
       "      <td>...</td>\n",
       "      <td>...</td>\n",
       "      <td>...</td>\n",
       "      <td>...</td>\n",
       "    </tr>\n",
       "    <tr>\n",
       "      <th>25791</th>\n",
       "      <td>NaN</td>\n",
       "      <td>NaN</td>\n",
       "      <td>NaN</td>\n",
       "      <td>NaN</td>\n",
       "      <td>NaN</td>\n",
       "      <td>NaN</td>\n",
       "      <td>NaN</td>\n",
       "      <td>NaN</td>\n",
       "      <td>NaN</td>\n",
       "      <td>NaN</td>\n",
       "    </tr>\n",
       "    <tr>\n",
       "      <th>25792</th>\n",
       "      <td>NaN</td>\n",
       "      <td>NaN</td>\n",
       "      <td>NaN</td>\n",
       "      <td>NaN</td>\n",
       "      <td>NaN</td>\n",
       "      <td>NaN</td>\n",
       "      <td>NaN</td>\n",
       "      <td>NaN</td>\n",
       "      <td>NaN</td>\n",
       "      <td>NaN</td>\n",
       "    </tr>\n",
       "    <tr>\n",
       "      <th>25793</th>\n",
       "      <td>NaN</td>\n",
       "      <td>NaN</td>\n",
       "      <td>NaN</td>\n",
       "      <td>NaN</td>\n",
       "      <td>NaN</td>\n",
       "      <td>NaN</td>\n",
       "      <td>NaN</td>\n",
       "      <td>NaN</td>\n",
       "      <td>NaN</td>\n",
       "      <td>NaN</td>\n",
       "    </tr>\n",
       "    <tr>\n",
       "      <th>25794</th>\n",
       "      <td>NaN</td>\n",
       "      <td>NaN</td>\n",
       "      <td>NaN</td>\n",
       "      <td>NaN</td>\n",
       "      <td>NaN</td>\n",
       "      <td>NaN</td>\n",
       "      <td>NaN</td>\n",
       "      <td>NaN</td>\n",
       "      <td>NaN</td>\n",
       "      <td>NaN</td>\n",
       "    </tr>\n",
       "    <tr>\n",
       "      <th>25795</th>\n",
       "      <td>NaN</td>\n",
       "      <td>NaN</td>\n",
       "      <td>NaN</td>\n",
       "      <td>NaN</td>\n",
       "      <td>NaN</td>\n",
       "      <td>NaN</td>\n",
       "      <td>NaN</td>\n",
       "      <td>NaN</td>\n",
       "      <td>NaN</td>\n",
       "      <td>NaN</td>\n",
       "    </tr>\n",
       "  </tbody>\n",
       "</table>\n",
       "<p>19223 rows × 10 columns</p>\n",
       "</div>"
      ],
      "text/plain": [
       "                       date  year        type    country        area  sex  \\\n",
       "444    Reported 08-Jan-2017   NaN     Invalid  AUSTRALIA  Queensland    M   \n",
       "6351   Reported 19-Aug-1836   NaN  Unprovoked    ENGLAND  Cumberland    M   \n",
       "6575                    NaN   NaN         NaN        NaN         NaN  NaN   \n",
       "6576                    NaN   NaN         NaN        NaN         NaN  NaN   \n",
       "6577                    NaN   NaN         NaN        NaN         NaN  NaN   \n",
       "...                     ...   ...         ...        ...         ...  ...   \n",
       "25791                   NaN   NaN         NaN        NaN         NaN  NaN   \n",
       "25792                   NaN   NaN         NaN        NaN         NaN  NaN   \n",
       "25793                   NaN   NaN         NaN        NaN         NaN  NaN   \n",
       "25794                   NaN   NaN         NaN        NaN         NaN  NaN   \n",
       "25795                   NaN   NaN         NaN        NaN         NaN  NaN   \n",
       "\n",
       "       age     species      activity fatal  \n",
       "444     35  Bull shark  Spearfishing   NaN  \n",
       "6351   NaN         NaN      Swimming     Y  \n",
       "6575   NaN         NaN           NaN   NaN  \n",
       "6576   NaN         NaN           NaN   NaN  \n",
       "6577   NaN         NaN           NaN   NaN  \n",
       "...    ...         ...           ...   ...  \n",
       "25791  NaN         NaN           NaN   NaN  \n",
       "25792  NaN         NaN           NaN   NaN  \n",
       "25793  NaN         NaN           NaN   NaN  \n",
       "25794  NaN         NaN           NaN   NaN  \n",
       "25795  NaN         NaN           NaN   NaN  \n",
       "\n",
       "[19223 rows x 10 columns]"
      ]
     },
     "execution_count": 13,
     "metadata": {},
     "output_type": "execute_result"
    }
   ],
   "source": [
    "null_lines = df['year'].isnull()\n",
    "df[null_lines]"
   ]
  },
  {
   "cell_type": "code",
   "execution_count": 14,
   "metadata": {
    "ExecuteTime": {
     "end_time": "2020-09-24T21:59:16.060226Z",
     "start_time": "2020-09-24T21:59:16.039411Z"
    }
   },
   "outputs": [
    {
     "data": {
      "text/plain": [
       "19223"
      ]
     },
     "execution_count": 14,
     "metadata": {},
     "output_type": "execute_result"
    }
   ],
   "source": [
    "len(df[null_lines])"
   ]
  },
  {
   "cell_type": "code",
   "execution_count": 15,
   "metadata": {
    "ExecuteTime": {
     "end_time": "2020-09-24T21:59:16.107145Z",
     "start_time": "2020-09-24T21:59:16.066573Z"
    }
   },
   "outputs": [
    {
     "data": {
      "text/plain": [
       "6573"
      ]
     },
     "execution_count": 15,
     "metadata": {},
     "output_type": "execute_result"
    }
   ],
   "source": [
    "drop_lines = list(df[null_lines].index)\n",
    "df = df.drop(drop_lines, axis = 0)\n",
    "len(df)"
   ]
  },
  {
   "cell_type": "code",
   "execution_count": 16,
   "metadata": {
    "ExecuteTime": {
     "end_time": "2020-09-24T21:59:16.162495Z",
     "start_time": "2020-09-24T21:59:16.125062Z"
    }
   },
   "outputs": [
    {
     "data": {
      "text/html": [
       "<div>\n",
       "<style scoped>\n",
       "    .dataframe tbody tr th:only-of-type {\n",
       "        vertical-align: middle;\n",
       "    }\n",
       "\n",
       "    .dataframe tbody tr th {\n",
       "        vertical-align: top;\n",
       "    }\n",
       "\n",
       "    .dataframe thead th {\n",
       "        text-align: right;\n",
       "    }\n",
       "</style>\n",
       "<table border=\"1\" class=\"dataframe\">\n",
       "  <thead>\n",
       "    <tr style=\"text-align: right;\">\n",
       "      <th></th>\n",
       "      <th>date</th>\n",
       "      <th>year</th>\n",
       "      <th>type</th>\n",
       "      <th>country</th>\n",
       "      <th>area</th>\n",
       "      <th>sex</th>\n",
       "      <th>age</th>\n",
       "      <th>species</th>\n",
       "      <th>activity</th>\n",
       "      <th>fatal</th>\n",
       "    </tr>\n",
       "  </thead>\n",
       "  <tbody>\n",
       "    <tr>\n",
       "      <th>6449</th>\n",
       "      <td>Ca. 214 B.C.</td>\n",
       "      <td>0.0</td>\n",
       "      <td>Unprovoked</td>\n",
       "      <td>NaN</td>\n",
       "      <td>Ionian Sea</td>\n",
       "      <td>M</td>\n",
       "      <td>NaN</td>\n",
       "      <td>NaN</td>\n",
       "      <td>Ascending from a dive</td>\n",
       "      <td>Y</td>\n",
       "    </tr>\n",
       "    <tr>\n",
       "      <th>6450</th>\n",
       "      <td>Ca. 336.B.C..</td>\n",
       "      <td>0.0</td>\n",
       "      <td>Unprovoked</td>\n",
       "      <td>GREECE</td>\n",
       "      <td>Piraeus</td>\n",
       "      <td>M</td>\n",
       "      <td>NaN</td>\n",
       "      <td>NaN</td>\n",
       "      <td>Washing his pig in preparation for a religious...</td>\n",
       "      <td>Y</td>\n",
       "    </tr>\n",
       "    <tr>\n",
       "      <th>6451</th>\n",
       "      <td>493 B.C.</td>\n",
       "      <td>0.0</td>\n",
       "      <td>Sea Disaster</td>\n",
       "      <td>GREECE</td>\n",
       "      <td>Off Thessaly</td>\n",
       "      <td>M</td>\n",
       "      <td>NaN</td>\n",
       "      <td>NaN</td>\n",
       "      <td>Shipwrecked Persian Fleet</td>\n",
       "      <td>Y</td>\n",
       "    </tr>\n",
       "    <tr>\n",
       "      <th>6452</th>\n",
       "      <td>Ca. 725 B.C.</td>\n",
       "      <td>0.0</td>\n",
       "      <td>Sea Disaster</td>\n",
       "      <td>ITALY</td>\n",
       "      <td>Tyrrhenian Sea</td>\n",
       "      <td>M</td>\n",
       "      <td>NaN</td>\n",
       "      <td>NaN</td>\n",
       "      <td>Shipwreck</td>\n",
       "      <td>Y</td>\n",
       "    </tr>\n",
       "    <tr>\n",
       "      <th>6453</th>\n",
       "      <td>After 2013</td>\n",
       "      <td>0.0</td>\n",
       "      <td>Unprovoked</td>\n",
       "      <td>AUSTRALIA</td>\n",
       "      <td>Queensland</td>\n",
       "      <td>M</td>\n",
       "      <td>NaN</td>\n",
       "      <td>Hammerhead shark</td>\n",
       "      <td>Spearfishing</td>\n",
       "      <td>N</td>\n",
       "    </tr>\n",
       "    <tr>\n",
       "      <th>...</th>\n",
       "      <td>...</td>\n",
       "      <td>...</td>\n",
       "      <td>...</td>\n",
       "      <td>...</td>\n",
       "      <td>...</td>\n",
       "      <td>...</td>\n",
       "      <td>...</td>\n",
       "      <td>...</td>\n",
       "      <td>...</td>\n",
       "      <td>...</td>\n",
       "    </tr>\n",
       "    <tr>\n",
       "      <th>6570</th>\n",
       "      <td>Before 1903</td>\n",
       "      <td>0.0</td>\n",
       "      <td>Unprovoked</td>\n",
       "      <td>AUSTRALIA</td>\n",
       "      <td>Western Australia</td>\n",
       "      <td>M</td>\n",
       "      <td>NaN</td>\n",
       "      <td>NaN</td>\n",
       "      <td>Diving</td>\n",
       "      <td>Y</td>\n",
       "    </tr>\n",
       "    <tr>\n",
       "      <th>6571</th>\n",
       "      <td>Before 1903</td>\n",
       "      <td>0.0</td>\n",
       "      <td>Unprovoked</td>\n",
       "      <td>AUSTRALIA</td>\n",
       "      <td>Western Australia</td>\n",
       "      <td>M</td>\n",
       "      <td>NaN</td>\n",
       "      <td>NaN</td>\n",
       "      <td>Pearl diving</td>\n",
       "      <td>Y</td>\n",
       "    </tr>\n",
       "    <tr>\n",
       "      <th>6572</th>\n",
       "      <td>1900-1905</td>\n",
       "      <td>0.0</td>\n",
       "      <td>Unprovoked</td>\n",
       "      <td>USA</td>\n",
       "      <td>North Carolina</td>\n",
       "      <td>M</td>\n",
       "      <td>NaN</td>\n",
       "      <td>NaN</td>\n",
       "      <td>Swimming</td>\n",
       "      <td>Y</td>\n",
       "    </tr>\n",
       "    <tr>\n",
       "      <th>6573</th>\n",
       "      <td>1883-1889</td>\n",
       "      <td>0.0</td>\n",
       "      <td>Unprovoked</td>\n",
       "      <td>PANAMA</td>\n",
       "      <td>NaN</td>\n",
       "      <td>M</td>\n",
       "      <td>NaN</td>\n",
       "      <td>NaN</td>\n",
       "      <td>NaN</td>\n",
       "      <td>Y</td>\n",
       "    </tr>\n",
       "    <tr>\n",
       "      <th>6574</th>\n",
       "      <td>1845-1853</td>\n",
       "      <td>0.0</td>\n",
       "      <td>Unprovoked</td>\n",
       "      <td>CEYLON (SRI LANKA)</td>\n",
       "      <td>Eastern Province</td>\n",
       "      <td>M</td>\n",
       "      <td>15</td>\n",
       "      <td>NaN</td>\n",
       "      <td>Swimming</td>\n",
       "      <td>Y</td>\n",
       "    </tr>\n",
       "  </tbody>\n",
       "</table>\n",
       "<p>126 rows × 10 columns</p>\n",
       "</div>"
      ],
      "text/plain": [
       "               date  year          type             country  \\\n",
       "6449   Ca. 214 B.C.   0.0    Unprovoked                 NaN   \n",
       "6450  Ca. 336.B.C..   0.0    Unprovoked              GREECE   \n",
       "6451       493 B.C.   0.0  Sea Disaster              GREECE   \n",
       "6452   Ca. 725 B.C.   0.0  Sea Disaster               ITALY   \n",
       "6453     After 2013   0.0    Unprovoked           AUSTRALIA   \n",
       "...             ...   ...           ...                 ...   \n",
       "6570    Before 1903   0.0    Unprovoked           AUSTRALIA   \n",
       "6571    Before 1903   0.0    Unprovoked           AUSTRALIA   \n",
       "6572      1900-1905   0.0    Unprovoked                 USA   \n",
       "6573      1883-1889   0.0    Unprovoked              PANAMA   \n",
       "6574      1845-1853   0.0    Unprovoked  CEYLON (SRI LANKA)   \n",
       "\n",
       "                   area sex  age           species  \\\n",
       "6449         Ionian Sea   M  NaN               NaN   \n",
       "6450            Piraeus   M  NaN               NaN   \n",
       "6451       Off Thessaly   M  NaN               NaN   \n",
       "6452     Tyrrhenian Sea   M  NaN               NaN   \n",
       "6453         Queensland   M  NaN  Hammerhead shark   \n",
       "...                 ...  ..  ...               ...   \n",
       "6570  Western Australia   M  NaN               NaN   \n",
       "6571  Western Australia   M  NaN               NaN   \n",
       "6572     North Carolina   M  NaN               NaN   \n",
       "6573                NaN   M  NaN               NaN   \n",
       "6574   Eastern Province   M   15               NaN   \n",
       "\n",
       "                                               activity fatal  \n",
       "6449                              Ascending from a dive     Y  \n",
       "6450  Washing his pig in preparation for a religious...     Y  \n",
       "6451                          Shipwrecked Persian Fleet     Y  \n",
       "6452                                          Shipwreck     Y  \n",
       "6453                                      Spearfishing      N  \n",
       "...                                                 ...   ...  \n",
       "6570                                             Diving     Y  \n",
       "6571                                       Pearl diving     Y  \n",
       "6572                                           Swimming     Y  \n",
       "6573                                                NaN     Y  \n",
       "6574                                           Swimming     Y  \n",
       "\n",
       "[126 rows x 10 columns]"
      ]
     },
     "execution_count": 16,
     "metadata": {},
     "output_type": "execute_result"
    }
   ],
   "source": [
    "zero = df.loc[(df['year'] == 0)]\n",
    "zero"
   ]
  },
  {
   "cell_type": "markdown",
   "metadata": {},
   "source": [
    "- **When year is equal 0, it is related to data from around 1900**\n",
    "\n",
    "    - Century XIX: 1801 to 1900\n",
    "    - Century XX: 1901 to 2000\n",
    "    - Century XXI: 2001 to 2100"
   ]
  },
  {
   "cell_type": "code",
   "execution_count": 17,
   "metadata": {
    "ExecuteTime": {
     "end_time": "2020-09-24T21:59:16.179367Z",
     "start_time": "2020-09-24T21:59:16.170987Z"
    }
   },
   "outputs": [],
   "source": [
    "df['year'] = df['year'].astype('int')"
   ]
  },
  {
   "cell_type": "code",
   "execution_count": 18,
   "metadata": {
    "ExecuteTime": {
     "end_time": "2020-09-24T21:59:16.238037Z",
     "start_time": "2020-09-24T21:59:16.191436Z"
    }
   },
   "outputs": [
    {
     "data": {
      "text/html": [
       "<div>\n",
       "<style scoped>\n",
       "    .dataframe tbody tr th:only-of-type {\n",
       "        vertical-align: middle;\n",
       "    }\n",
       "\n",
       "    .dataframe tbody tr th {\n",
       "        vertical-align: top;\n",
       "    }\n",
       "\n",
       "    .dataframe thead th {\n",
       "        text-align: right;\n",
       "    }\n",
       "</style>\n",
       "<table border=\"1\" class=\"dataframe\">\n",
       "  <thead>\n",
       "    <tr style=\"text-align: right;\">\n",
       "      <th></th>\n",
       "      <th>date</th>\n",
       "      <th>year</th>\n",
       "      <th>type</th>\n",
       "      <th>country</th>\n",
       "      <th>area</th>\n",
       "      <th>sex</th>\n",
       "      <th>age</th>\n",
       "      <th>species</th>\n",
       "      <th>activity</th>\n",
       "      <th>fatal</th>\n",
       "    </tr>\n",
       "  </thead>\n",
       "  <tbody>\n",
       "    <tr>\n",
       "      <th>0</th>\n",
       "      <td>20-Sep-2020</td>\n",
       "      <td>2020</td>\n",
       "      <td>Unprovoked</td>\n",
       "      <td>USA</td>\n",
       "      <td>Florida</td>\n",
       "      <td>M</td>\n",
       "      <td>30</td>\n",
       "      <td>Bull shark</td>\n",
       "      <td>Snorkeling</td>\n",
       "      <td>N</td>\n",
       "    </tr>\n",
       "    <tr>\n",
       "      <th>1</th>\n",
       "      <td>17-Sep-2020</td>\n",
       "      <td>2020</td>\n",
       "      <td>Provoked</td>\n",
       "      <td>AUSTRALIA</td>\n",
       "      <td>Queensland</td>\n",
       "      <td>M</td>\n",
       "      <td>50s</td>\n",
       "      <td>\"whitetip shark\"</td>\n",
       "      <td>Fishing</td>\n",
       "      <td>N</td>\n",
       "    </tr>\n",
       "    <tr>\n",
       "      <th>2</th>\n",
       "      <td>16-Sep-2020</td>\n",
       "      <td>2020</td>\n",
       "      <td>Unprovoked</td>\n",
       "      <td>AUSTRALIA</td>\n",
       "      <td>New South Wales</td>\n",
       "      <td>M</td>\n",
       "      <td>NaN</td>\n",
       "      <td>White shark</td>\n",
       "      <td>Foil-boarding</td>\n",
       "      <td>N</td>\n",
       "    </tr>\n",
       "    <tr>\n",
       "      <th>3</th>\n",
       "      <td>16-Sep-2020</td>\n",
       "      <td>2020</td>\n",
       "      <td>NaN</td>\n",
       "      <td>USA</td>\n",
       "      <td>Florida</td>\n",
       "      <td>M</td>\n",
       "      <td>48</td>\n",
       "      <td>Shark involvement not confirmed</td>\n",
       "      <td>Swimming</td>\n",
       "      <td>N</td>\n",
       "    </tr>\n",
       "    <tr>\n",
       "      <th>4</th>\n",
       "      <td>15-Sep-2020</td>\n",
       "      <td>2020</td>\n",
       "      <td>Unprovoked</td>\n",
       "      <td>USA</td>\n",
       "      <td>Florida</td>\n",
       "      <td>M</td>\n",
       "      <td>15</td>\n",
       "      <td>NaN</td>\n",
       "      <td>Surfing</td>\n",
       "      <td>N</td>\n",
       "    </tr>\n",
       "    <tr>\n",
       "      <th>...</th>\n",
       "      <td>...</td>\n",
       "      <td>...</td>\n",
       "      <td>...</td>\n",
       "      <td>...</td>\n",
       "      <td>...</td>\n",
       "      <td>...</td>\n",
       "      <td>...</td>\n",
       "      <td>...</td>\n",
       "      <td>...</td>\n",
       "      <td>...</td>\n",
       "    </tr>\n",
       "    <tr>\n",
       "      <th>6570</th>\n",
       "      <td>Before 1903</td>\n",
       "      <td>0</td>\n",
       "      <td>Unprovoked</td>\n",
       "      <td>AUSTRALIA</td>\n",
       "      <td>Western Australia</td>\n",
       "      <td>M</td>\n",
       "      <td>NaN</td>\n",
       "      <td>NaN</td>\n",
       "      <td>Diving</td>\n",
       "      <td>Y</td>\n",
       "    </tr>\n",
       "    <tr>\n",
       "      <th>6571</th>\n",
       "      <td>Before 1903</td>\n",
       "      <td>0</td>\n",
       "      <td>Unprovoked</td>\n",
       "      <td>AUSTRALIA</td>\n",
       "      <td>Western Australia</td>\n",
       "      <td>M</td>\n",
       "      <td>NaN</td>\n",
       "      <td>NaN</td>\n",
       "      <td>Pearl diving</td>\n",
       "      <td>Y</td>\n",
       "    </tr>\n",
       "    <tr>\n",
       "      <th>6572</th>\n",
       "      <td>1900-1905</td>\n",
       "      <td>0</td>\n",
       "      <td>Unprovoked</td>\n",
       "      <td>USA</td>\n",
       "      <td>North Carolina</td>\n",
       "      <td>M</td>\n",
       "      <td>NaN</td>\n",
       "      <td>NaN</td>\n",
       "      <td>Swimming</td>\n",
       "      <td>Y</td>\n",
       "    </tr>\n",
       "    <tr>\n",
       "      <th>6573</th>\n",
       "      <td>1883-1889</td>\n",
       "      <td>0</td>\n",
       "      <td>Unprovoked</td>\n",
       "      <td>PANAMA</td>\n",
       "      <td>NaN</td>\n",
       "      <td>M</td>\n",
       "      <td>NaN</td>\n",
       "      <td>NaN</td>\n",
       "      <td>NaN</td>\n",
       "      <td>Y</td>\n",
       "    </tr>\n",
       "    <tr>\n",
       "      <th>6574</th>\n",
       "      <td>1845-1853</td>\n",
       "      <td>0</td>\n",
       "      <td>Unprovoked</td>\n",
       "      <td>CEYLON (SRI LANKA)</td>\n",
       "      <td>Eastern Province</td>\n",
       "      <td>M</td>\n",
       "      <td>15</td>\n",
       "      <td>NaN</td>\n",
       "      <td>Swimming</td>\n",
       "      <td>Y</td>\n",
       "    </tr>\n",
       "  </tbody>\n",
       "</table>\n",
       "<p>6573 rows × 10 columns</p>\n",
       "</div>"
      ],
      "text/plain": [
       "             date  year        type             country               area  \\\n",
       "0     20-Sep-2020  2020  Unprovoked                 USA            Florida   \n",
       "1     17-Sep-2020  2020    Provoked           AUSTRALIA         Queensland   \n",
       "2     16-Sep-2020  2020  Unprovoked           AUSTRALIA    New South Wales   \n",
       "3     16-Sep-2020  2020         NaN                 USA            Florida   \n",
       "4     15-Sep-2020  2020  Unprovoked                 USA            Florida   \n",
       "...           ...   ...         ...                 ...                ...   \n",
       "6570  Before 1903     0  Unprovoked           AUSTRALIA  Western Australia   \n",
       "6571  Before 1903     0  Unprovoked           AUSTRALIA  Western Australia   \n",
       "6572    1900-1905     0  Unprovoked                 USA     North Carolina   \n",
       "6573    1883-1889     0  Unprovoked              PANAMA                NaN   \n",
       "6574    1845-1853     0  Unprovoked  CEYLON (SRI LANKA)   Eastern Province   \n",
       "\n",
       "     sex  age                          species       activity fatal  \n",
       "0      M   30                       Bull shark     Snorkeling     N  \n",
       "1      M  50s                 \"whitetip shark\"        Fishing     N  \n",
       "2      M  NaN                      White shark  Foil-boarding     N  \n",
       "3      M   48  Shark involvement not confirmed       Swimming     N  \n",
       "4      M   15                              NaN        Surfing     N  \n",
       "...   ..  ...                              ...            ...   ...  \n",
       "6570   M  NaN                              NaN         Diving     Y  \n",
       "6571   M  NaN                              NaN   Pearl diving     Y  \n",
       "6572   M  NaN                              NaN       Swimming     Y  \n",
       "6573   M  NaN                              NaN            NaN     Y  \n",
       "6574   M   15                              NaN       Swimming     Y  \n",
       "\n",
       "[6573 rows x 10 columns]"
      ]
     },
     "execution_count": 18,
     "metadata": {},
     "output_type": "execute_result"
    }
   ],
   "source": [
    "df"
   ]
  },
  {
   "cell_type": "code",
   "execution_count": 19,
   "metadata": {
    "ExecuteTime": {
     "end_time": "2020-09-24T21:59:16.264768Z",
     "start_time": "2020-09-24T21:59:16.248962Z"
    }
   },
   "outputs": [
    {
     "data": {
      "text/plain": [
       "False    6573\n",
       "Name: year, dtype: int64"
      ]
     },
     "execution_count": 19,
     "metadata": {},
     "output_type": "execute_result"
    }
   ],
   "source": [
    "#Test if the column has null value\n",
    "\n",
    "df['year'].isnull().value_counts()"
   ]
  },
  {
   "cell_type": "code",
   "execution_count": 20,
   "metadata": {
    "ExecuteTime": {
     "end_time": "2020-09-24T21:59:16.285403Z",
     "start_time": "2020-09-24T21:59:16.271038Z"
    }
   },
   "outputs": [
    {
     "name": "stderr",
     "output_type": "stream",
     "text": [
      "/Users/aldreybaldovi/opt/anaconda3/lib/python3.7/site-packages/pandas/core/indexing.py:670: SettingWithCopyWarning: \n",
      "A value is trying to be set on a copy of a slice from a DataFrame\n",
      "\n",
      "See the caveats in the documentation: https://pandas.pydata.org/pandas-docs/stable/user_guide/indexing.html#returning-a-view-versus-a-copy\n",
      "  self._setitem_with_indexer(indexer, value)\n"
     ]
    }
   ],
   "source": [
    "#to update zero values to 1900 in column `year`\n",
    "df['year'].loc[(df['year'] == 0)] = 1900"
   ]
  },
  {
   "cell_type": "code",
   "execution_count": 21,
   "metadata": {
    "ExecuteTime": {
     "end_time": "2020-09-24T21:59:16.310544Z",
     "start_time": "2020-09-24T21:59:16.290147Z"
    }
   },
   "outputs": [
    {
     "data": {
      "text/plain": [
       "2015    143\n",
       "2017    139\n",
       "1900    139\n",
       "2016    131\n",
       "2011    128\n",
       "       ... \n",
       "1822      1\n",
       "1834      1\n",
       "1859      1\n",
       "77        1\n",
       "500       1\n",
       "Name: year, Length: 250, dtype: int64"
      ]
     },
     "execution_count": 21,
     "metadata": {},
     "output_type": "execute_result"
    }
   ],
   "source": [
    "df['year'].value_counts()"
   ]
  },
  {
   "cell_type": "markdown",
   "metadata": {},
   "source": [
    "**Try to find the 4 last numbers in date and replace it after:**"
   ]
  },
  {
   "cell_type": "code",
   "execution_count": 22,
   "metadata": {
    "ExecuteTime": {
     "end_time": "2020-09-24T21:59:16.332143Z",
     "start_time": "2020-09-24T21:59:16.318258Z"
    }
   },
   "outputs": [
    {
     "data": {
      "text/plain": [
       "\"df['date'] = df['date'].astype('str')\""
      ]
     },
     "execution_count": 22,
     "metadata": {},
     "output_type": "execute_result"
    }
   ],
   "source": [
    "'''df['date'] = df['date'].astype('str')'''"
   ]
  },
  {
   "cell_type": "code",
   "execution_count": 23,
   "metadata": {
    "ExecuteTime": {
     "end_time": "2020-09-24T21:59:16.353075Z",
     "start_time": "2020-09-24T21:59:16.339560Z"
    }
   },
   "outputs": [
    {
     "data": {
      "text/plain": [
       "\"text = [i for i in df['date']]\\npattern = '\\\\d\\\\d\\\\d\\\\d$'\\ndf['date_2'] = [re.findall(pattern, text)]\\ndf.head()\""
      ]
     },
     "execution_count": 23,
     "metadata": {},
     "output_type": "execute_result"
    }
   ],
   "source": [
    "'''text = [i for i in df['date']]\n",
    "pattern = '\\d\\d\\d\\d$'\n",
    "df['date_2'] = [re.findall(pattern, text)]\n",
    "df.head()'''"
   ]
  },
  {
   "cell_type": "markdown",
   "metadata": {
    "ExecuteTime": {
     "end_time": "2020-09-24T19:23:06.396357Z",
     "start_time": "2020-09-24T19:23:06.385215Z"
    }
   },
   "source": [
    "- Fatality cases per year according to sex:"
   ]
  },
  {
   "cell_type": "code",
   "execution_count": 24,
   "metadata": {
    "ExecuteTime": {
     "end_time": "2020-09-24T21:59:16.376421Z",
     "start_time": "2020-09-24T21:59:16.361844Z"
    }
   },
   "outputs": [],
   "source": [
    "def fill(x):\n",
    "        \n",
    "    pattern_F = '.*[fF].*'\n",
    "    pattern_M = '.*[mM].*'\n",
    "    \n",
    "    if x != x:\n",
    "        return 'NaN'\n",
    "    \n",
    "    if len(re.findall(pattern_F, x)) == 0 and len(re.findall(pattern_M, x)) == 0:\n",
    "        return 'NaN'\n",
    "\n",
    "    \n",
    "    text = re.sub(pattern_F, 'F', x)\n",
    "    \n",
    "    text = re.sub(pattern_M, 'M', text)\n",
    "    \n",
    "    \n",
    "    \n",
    "    return text"
   ]
  },
  {
   "cell_type": "code",
   "execution_count": 25,
   "metadata": {
    "ExecuteTime": {
     "end_time": "2020-09-24T21:59:16.404184Z",
     "start_time": "2020-09-24T21:59:16.386468Z"
    }
   },
   "outputs": [
    {
     "name": "stdout",
     "output_type": "stream",
     "text": [
      "M\n",
      "M\n",
      "F\n",
      "F\n",
      "NaN\n",
      "M\n",
      "NaN\n"
     ]
    }
   ],
   "source": [
    "#test\n",
    "\n",
    "print(fill(' M'))\n",
    "print(fill('M '))\n",
    "print(fill(' F'))\n",
    "print(fill('F '))\n",
    "print(fill('lli'))\n",
    "print(fill('M x 2'))\n",
    "print(fill(np.nan))\n"
   ]
  },
  {
   "cell_type": "code",
   "execution_count": 26,
   "metadata": {
    "ExecuteTime": {
     "end_time": "2020-09-24T21:59:16.431989Z",
     "start_time": "2020-09-24T21:59:16.410675Z"
    }
   },
   "outputs": [
    {
     "data": {
      "text/plain": [
       "M        5299\n",
       "F         695\n",
       "M           2\n",
       "N           2\n",
       "M x 2       1\n",
       ".           1\n",
       "lli         1\n",
       "Name: sex, dtype: int64"
      ]
     },
     "execution_count": 26,
     "metadata": {},
     "output_type": "execute_result"
    }
   ],
   "source": [
    "df['sex'].value_counts()"
   ]
  },
  {
   "cell_type": "code",
   "execution_count": 45,
   "metadata": {
    "ExecuteTime": {
     "end_time": "2020-09-24T22:00:18.938845Z",
     "start_time": "2020-09-24T22:00:18.889866Z"
    }
   },
   "outputs": [],
   "source": [
    "df['sex'].apply(fill)"
   ]
  },
  {
   "cell_type": "code",
   "execution_count": 46,
   "metadata": {
    "ExecuteTime": {
     "end_time": "2020-09-24T22:00:19.680576Z",
     "start_time": "2020-09-24T22:00:19.669559Z"
    }
   },
   "outputs": [
    {
     "data": {
      "text/plain": [
       "M      5302\n",
       "F       695\n",
       "NaN     576\n",
       "Name: sex, dtype: int64"
      ]
     },
     "execution_count": 46,
     "metadata": {},
     "output_type": "execute_result"
    }
   ],
   "source": [
    "df['sex'].value_counts()"
   ]
  },
  {
   "cell_type": "code",
   "execution_count": 64,
   "metadata": {
    "ExecuteTime": {
     "end_time": "2020-09-25T00:25:37.874740Z",
     "start_time": "2020-09-25T00:25:37.818447Z"
    }
   },
   "outputs": [
    {
     "name": "stderr",
     "output_type": "stream",
     "text": [
      "/Users/aldreybaldovi/opt/anaconda3/lib/python3.7/site-packages/pandas/core/indexing.py:670: SettingWithCopyWarning: \n",
      "A value is trying to be set on a copy of a slice from a DataFrame\n",
      "\n",
      "See the caveats in the documentation: https://pandas.pydata.org/pandas-docs/stable/user_guide/indexing.html#returning-a-view-versus-a-copy\n",
      "  self._setitem_with_indexer(indexer, value)\n"
     ]
    },
    {
     "data": {
      "text/plain": [
       "\"df_fatal_year['fatal'].rename({' Y':'Y', 'Y ':'Y', 'y':'Y', 'y ':'Y', ' y':'Y', 'Y x 2':'Y', 'F':'Y',\\n                               ' N':'N', 'N ':'N', '2017':'UNKNOWN', 'M':'UNKNOWN', 'nan':'UNKNOWN'},\\n                               axis = 0, inplace = True)\\ndf_fatal_year['fatal'].value_counts()\\n\""
      ]
     },
     "execution_count": 64,
     "metadata": {},
     "output_type": "execute_result"
    }
   ],
   "source": [
    "#Correcting data from df['fatal']\n",
    "\n",
    "df['fatal'].fillna(0)\n",
    "df['fatal'].loc[(df['fatal'] == ' Y')] = 'Y'\n",
    "df['fatal'].loc[(df['fatal'] == 'Y ')] = 'Y'\n",
    "df['fatal'].loc[(df['fatal'] == 'y')] = 'Y'\n",
    "df['fatal'].loc[(df['fatal'] == 'y ')] = 'Y'\n",
    "df['fatal'].loc[(df['fatal'] == ' y')] = 'Y'\n",
    "df['fatal'].loc[(df['fatal'] == 'Y x 2')] = 'Y'\n",
    "df['fatal'].loc[(df['fatal'] == 'F')] = 'Y'\n",
    "df['fatal'].loc[(df['fatal'] == ' N')] = 'N'\n",
    "df['fatal'].loc[(df['fatal'] == 'N ')] = 'N'\n",
    "df['fatal'].loc[(df['fatal'] == '2017')] = 'NaN'\n",
    "df['fatal'].loc[(df['fatal'] == 'M')] = 'NaN'\n",
    "df['fatal'].loc[(df['fatal'] == 'nan')] = 'NaN'\n",
    "df['fatal'].loc[(df['fatal'] == 'UNKNOWN')] = 'NaN'\n",
    "\n",
    "\n",
    "'''df_fatal_year['fatal'].rename({' Y':'Y', 'Y ':'Y', 'y':'Y', 'y ':'Y', ' y':'Y', 'Y x 2':'Y', 'F':'Y',\n",
    "                               ' N':'N', 'N ':'N', '2017':'UNKNOWN', 'M':'UNKNOWN', 'nan':'UNKNOWN'},\n",
    "                               axis = 0, inplace = True)\n",
    "df_fatal_year['fatal'].value_counts()\n",
    "'''"
   ]
  },
  {
   "cell_type": "code",
   "execution_count": 65,
   "metadata": {
    "ExecuteTime": {
     "end_time": "2020-09-25T00:25:38.911433Z",
     "start_time": "2020-09-25T00:25:38.892269Z"
    }
   },
   "outputs": [
    {
     "data": {
      "text/html": [
       "<div>\n",
       "<style scoped>\n",
       "    .dataframe tbody tr th:only-of-type {\n",
       "        vertical-align: middle;\n",
       "    }\n",
       "\n",
       "    .dataframe tbody tr th {\n",
       "        vertical-align: top;\n",
       "    }\n",
       "\n",
       "    .dataframe thead th {\n",
       "        text-align: right;\n",
       "    }\n",
       "</style>\n",
       "<table border=\"1\" class=\"dataframe\">\n",
       "  <thead>\n",
       "    <tr style=\"text-align: right;\">\n",
       "      <th></th>\n",
       "      <th>year</th>\n",
       "      <th>fatal</th>\n",
       "      <th>sex</th>\n",
       "    </tr>\n",
       "  </thead>\n",
       "  <tbody>\n",
       "    <tr>\n",
       "      <th>0</th>\n",
       "      <td>2020</td>\n",
       "      <td>N</td>\n",
       "      <td>M</td>\n",
       "    </tr>\n",
       "    <tr>\n",
       "      <th>1</th>\n",
       "      <td>2020</td>\n",
       "      <td>N</td>\n",
       "      <td>M</td>\n",
       "    </tr>\n",
       "    <tr>\n",
       "      <th>2</th>\n",
       "      <td>2020</td>\n",
       "      <td>N</td>\n",
       "      <td>M</td>\n",
       "    </tr>\n",
       "    <tr>\n",
       "      <th>3</th>\n",
       "      <td>2020</td>\n",
       "      <td>N</td>\n",
       "      <td>M</td>\n",
       "    </tr>\n",
       "    <tr>\n",
       "      <th>4</th>\n",
       "      <td>2020</td>\n",
       "      <td>N</td>\n",
       "      <td>M</td>\n",
       "    </tr>\n",
       "    <tr>\n",
       "      <th>...</th>\n",
       "      <td>...</td>\n",
       "      <td>...</td>\n",
       "      <td>...</td>\n",
       "    </tr>\n",
       "    <tr>\n",
       "      <th>6570</th>\n",
       "      <td>1900</td>\n",
       "      <td>Y</td>\n",
       "      <td>M</td>\n",
       "    </tr>\n",
       "    <tr>\n",
       "      <th>6571</th>\n",
       "      <td>1900</td>\n",
       "      <td>Y</td>\n",
       "      <td>M</td>\n",
       "    </tr>\n",
       "    <tr>\n",
       "      <th>6572</th>\n",
       "      <td>1900</td>\n",
       "      <td>Y</td>\n",
       "      <td>M</td>\n",
       "    </tr>\n",
       "    <tr>\n",
       "      <th>6573</th>\n",
       "      <td>1900</td>\n",
       "      <td>Y</td>\n",
       "      <td>M</td>\n",
       "    </tr>\n",
       "    <tr>\n",
       "      <th>6574</th>\n",
       "      <td>1900</td>\n",
       "      <td>Y</td>\n",
       "      <td>M</td>\n",
       "    </tr>\n",
       "  </tbody>\n",
       "</table>\n",
       "<p>6573 rows × 3 columns</p>\n",
       "</div>"
      ],
      "text/plain": [
       "      year fatal sex\n",
       "0     2020     N   M\n",
       "1     2020     N   M\n",
       "2     2020     N   M\n",
       "3     2020     N   M\n",
       "4     2020     N   M\n",
       "...    ...   ...  ..\n",
       "6570  1900     Y   M\n",
       "6571  1900     Y   M\n",
       "6572  1900     Y   M\n",
       "6573  1900     Y   M\n",
       "6574  1900     Y   M\n",
       "\n",
       "[6573 rows x 3 columns]"
      ]
     },
     "execution_count": 65,
     "metadata": {},
     "output_type": "execute_result"
    }
   ],
   "source": [
    "df_fatal_year = df.loc[:,['year', 'fatal', 'sex']]\n",
    "df_fatal_year"
   ]
  },
  {
   "cell_type": "code",
   "execution_count": 66,
   "metadata": {
    "ExecuteTime": {
     "end_time": "2020-09-25T00:25:39.798856Z",
     "start_time": "2020-09-25T00:25:39.792336Z"
    }
   },
   "outputs": [],
   "source": [
    "df['fatal'] = df['fatal'].astype('str')"
   ]
  },
  {
   "cell_type": "code",
   "execution_count": 67,
   "metadata": {
    "ExecuteTime": {
     "end_time": "2020-09-25T00:25:40.655827Z",
     "start_time": "2020-09-25T00:25:40.647856Z"
    }
   },
   "outputs": [
    {
     "data": {
      "text/plain": [
       "\"text = [i for i in df['fatal']]\\n\\npattern = '*yY?'\\n\\nre.sub(pattern, 'Y', text)\""
      ]
     },
     "execution_count": 67,
     "metadata": {},
     "output_type": "execute_result"
    }
   ],
   "source": [
    "'''text = [i for i in df['fatal']]\n",
    "\n",
    "pattern = '*yY?'\n",
    "\n",
    "re.sub(pattern, 'Y', text)'''"
   ]
  },
  {
   "cell_type": "code",
   "execution_count": null,
   "metadata": {
    "ExecuteTime": {
     "end_time": "2020-09-24T21:15:09.429212Z",
     "start_time": "2020-09-24T21:15:09.411359Z"
    }
   },
   "outputs": [],
   "source": []
  },
  {
   "cell_type": "code",
   "execution_count": 68,
   "metadata": {
    "ExecuteTime": {
     "end_time": "2020-09-25T00:25:41.562676Z",
     "start_time": "2020-09-25T00:25:41.541861Z"
    }
   },
   "outputs": [
    {
     "data": {
      "text/html": [
       "<div>\n",
       "<style scoped>\n",
       "    .dataframe tbody tr th:only-of-type {\n",
       "        vertical-align: middle;\n",
       "    }\n",
       "\n",
       "    .dataframe tbody tr th {\n",
       "        vertical-align: top;\n",
       "    }\n",
       "\n",
       "    .dataframe thead th {\n",
       "        text-align: right;\n",
       "    }\n",
       "</style>\n",
       "<table border=\"1\" class=\"dataframe\">\n",
       "  <thead>\n",
       "    <tr style=\"text-align: right;\">\n",
       "      <th></th>\n",
       "      <th>year</th>\n",
       "      <th>fatal</th>\n",
       "      <th>sex</th>\n",
       "    </tr>\n",
       "  </thead>\n",
       "  <tbody>\n",
       "    <tr>\n",
       "      <th>0</th>\n",
       "      <td>5</td>\n",
       "      <td>1</td>\n",
       "      <td>1</td>\n",
       "    </tr>\n",
       "    <tr>\n",
       "      <th>1</th>\n",
       "      <td>77</td>\n",
       "      <td>1</td>\n",
       "      <td>1</td>\n",
       "    </tr>\n",
       "    <tr>\n",
       "      <th>2</th>\n",
       "      <td>500</td>\n",
       "      <td>1</td>\n",
       "      <td>1</td>\n",
       "    </tr>\n",
       "    <tr>\n",
       "      <th>3</th>\n",
       "      <td>1543</td>\n",
       "      <td>1</td>\n",
       "      <td>1</td>\n",
       "    </tr>\n",
       "    <tr>\n",
       "      <th>4</th>\n",
       "      <td>1554</td>\n",
       "      <td>1</td>\n",
       "      <td>1</td>\n",
       "    </tr>\n",
       "    <tr>\n",
       "      <th>...</th>\n",
       "      <td>...</td>\n",
       "      <td>...</td>\n",
       "      <td>...</td>\n",
       "    </tr>\n",
       "    <tr>\n",
       "      <th>245</th>\n",
       "      <td>2016</td>\n",
       "      <td>131</td>\n",
       "      <td>131</td>\n",
       "    </tr>\n",
       "    <tr>\n",
       "      <th>246</th>\n",
       "      <td>2017</td>\n",
       "      <td>139</td>\n",
       "      <td>139</td>\n",
       "    </tr>\n",
       "    <tr>\n",
       "      <th>247</th>\n",
       "      <td>2018</td>\n",
       "      <td>121</td>\n",
       "      <td>121</td>\n",
       "    </tr>\n",
       "    <tr>\n",
       "      <th>248</th>\n",
       "      <td>2019</td>\n",
       "      <td>111</td>\n",
       "      <td>111</td>\n",
       "    </tr>\n",
       "    <tr>\n",
       "      <th>249</th>\n",
       "      <td>2020</td>\n",
       "      <td>75</td>\n",
       "      <td>75</td>\n",
       "    </tr>\n",
       "  </tbody>\n",
       "</table>\n",
       "<p>250 rows × 3 columns</p>\n",
       "</div>"
      ],
      "text/plain": [
       "     year  fatal  sex\n",
       "0       5      1    1\n",
       "1      77      1    1\n",
       "2     500      1    1\n",
       "3    1543      1    1\n",
       "4    1554      1    1\n",
       "..    ...    ...  ...\n",
       "245  2016    131  131\n",
       "246  2017    139  139\n",
       "247  2018    121  121\n",
       "248  2019    111  111\n",
       "249  2020     75   75\n",
       "\n",
       "[250 rows x 3 columns]"
      ]
     },
     "execution_count": 68,
     "metadata": {},
     "output_type": "execute_result"
    }
   ],
   "source": [
    "df_fatal_year.groupby('year', as_index = False).count()"
   ]
  },
  {
   "cell_type": "code",
   "execution_count": 104,
   "metadata": {
    "ExecuteTime": {
     "end_time": "2020-09-25T00:38:52.689928Z",
     "start_time": "2020-09-25T00:38:52.677425Z"
    }
   },
   "outputs": [],
   "source": [
    "#separating intervals between centuries\n",
    "\n",
    "#Before century XIX\n",
    "start_date_BXIX = 0\n",
    "end_date_BXIX = 1800\n",
    "\n",
    "#Century XIX\n",
    "start_date_XIX = 1801\n",
    "end_date_XIX = 1900\n",
    "\n",
    "#Century XX\n",
    "start_date_XX = 1901\n",
    "end_date_XX = 2000\n",
    "\n",
    "#Century XXI\n",
    "start_date_XXI = 2001\n",
    "end_date_XXI = 2020\n",
    "\n",
    "#masks:\n",
    "mask_BXIX = (df_fatal_year['year'] > start_date_BXIX) & (df_fatal_year['year'] <= end_date_BXIX)\n",
    "\n",
    "mask_XIX = (df_fatal_year['year'] > start_date_XIX) & (df_fatal_year['year'] <= end_date_XIX)\n",
    "\n",
    "mask_XX = (df_fatal_year['year'] > start_date_XX) & (df_fatal_year['year'] <= end_date_XX)\n",
    "\n",
    "mask_XXI = (df_fatal_year['year'] > start_date_XXI) & (df_fatal_year['year'] <= end_date_XXI)\n"
   ]
  },
  {
   "cell_type": "code",
   "execution_count": 115,
   "metadata": {
    "ExecuteTime": {
     "end_time": "2020-09-25T00:41:30.466760Z",
     "start_time": "2020-09-25T00:41:30.444269Z"
    }
   },
   "outputs": [
    {
     "data": {
      "text/html": [
       "<div>\n",
       "<style scoped>\n",
       "    .dataframe tbody tr th:only-of-type {\n",
       "        vertical-align: middle;\n",
       "    }\n",
       "\n",
       "    .dataframe tbody tr th {\n",
       "        vertical-align: top;\n",
       "    }\n",
       "\n",
       "    .dataframe thead th {\n",
       "        text-align: right;\n",
       "    }\n",
       "</style>\n",
       "<table border=\"1\" class=\"dataframe\">\n",
       "  <thead>\n",
       "    <tr style=\"text-align: right;\">\n",
       "      <th></th>\n",
       "      <th>fatal</th>\n",
       "      <th>year</th>\n",
       "    </tr>\n",
       "  </thead>\n",
       "  <tbody>\n",
       "    <tr>\n",
       "      <th>0</th>\n",
       "      <td>N</td>\n",
       "      <td>7</td>\n",
       "    </tr>\n",
       "    <tr>\n",
       "      <th>1</th>\n",
       "      <td>NaN</td>\n",
       "      <td>11</td>\n",
       "    </tr>\n",
       "    <tr>\n",
       "      <th>2</th>\n",
       "      <td>Y</td>\n",
       "      <td>27</td>\n",
       "    </tr>\n",
       "  </tbody>\n",
       "</table>\n",
       "</div>"
      ],
      "text/plain": [
       "  fatal  year\n",
       "0     N     7\n",
       "1   NaN    11\n",
       "2     Y    27"
      ]
     },
     "execution_count": 115,
     "metadata": {},
     "output_type": "execute_result"
    }
   ],
   "source": [
    "bxix = df_fatal_year.loc[mask_BXIX].groupby('fatal', as_index = False).count()\n",
    "bxix.loc[:,['fatal', 'year']]"
   ]
  },
  {
   "cell_type": "code",
   "execution_count": 116,
   "metadata": {
    "ExecuteTime": {
     "end_time": "2020-09-25T00:41:31.662885Z",
     "start_time": "2020-09-25T00:41:31.657438Z"
    }
   },
   "outputs": [
    {
     "data": {
      "text/plain": [
       "\"bxix_sex = df_fatal_year.loc[mask_BXIX].groupby('sex', as_index = False).count()\\nbxix_sex.loc[:,['sex', 'fatal']]\""
      ]
     },
     "execution_count": 116,
     "metadata": {},
     "output_type": "execute_result"
    }
   ],
   "source": [
    "'''bxix_sex = df_fatal_year.loc[mask_BXIX].groupby('sex', as_index = False).count()\n",
    "bxix_sex.loc[:,['sex', 'fatal']]'''"
   ]
  },
  {
   "cell_type": "code",
   "execution_count": 117,
   "metadata": {
    "ExecuteTime": {
     "end_time": "2020-09-25T00:41:32.721739Z",
     "start_time": "2020-09-25T00:41:32.703794Z"
    }
   },
   "outputs": [
    {
     "data": {
      "text/html": [
       "<div>\n",
       "<style scoped>\n",
       "    .dataframe tbody tr th:only-of-type {\n",
       "        vertical-align: middle;\n",
       "    }\n",
       "\n",
       "    .dataframe tbody tr th {\n",
       "        vertical-align: top;\n",
       "    }\n",
       "\n",
       "    .dataframe thead th {\n",
       "        text-align: right;\n",
       "    }\n",
       "</style>\n",
       "<table border=\"1\" class=\"dataframe\">\n",
       "  <thead>\n",
       "    <tr style=\"text-align: right;\">\n",
       "      <th></th>\n",
       "      <th>fatal</th>\n",
       "      <th>year</th>\n",
       "    </tr>\n",
       "  </thead>\n",
       "  <tbody>\n",
       "    <tr>\n",
       "      <th>0</th>\n",
       "      <td>N</td>\n",
       "      <td>288</td>\n",
       "    </tr>\n",
       "    <tr>\n",
       "      <th>1</th>\n",
       "      <td>NaN</td>\n",
       "      <td>84</td>\n",
       "    </tr>\n",
       "    <tr>\n",
       "      <th>2</th>\n",
       "      <td>Y</td>\n",
       "      <td>336</td>\n",
       "    </tr>\n",
       "  </tbody>\n",
       "</table>\n",
       "</div>"
      ],
      "text/plain": [
       "  fatal  year\n",
       "0     N   288\n",
       "1   NaN    84\n",
       "2     Y   336"
      ]
     },
     "execution_count": 117,
     "metadata": {},
     "output_type": "execute_result"
    }
   ],
   "source": [
    "xix = df_fatal_year.loc[mask_XIX].groupby('fatal', as_index = False).count()\n",
    "xix.loc[:,['fatal', 'year']]"
   ]
  },
  {
   "cell_type": "code",
   "execution_count": 118,
   "metadata": {
    "ExecuteTime": {
     "end_time": "2020-09-25T00:41:33.819793Z",
     "start_time": "2020-09-25T00:41:33.811945Z"
    }
   },
   "outputs": [
    {
     "data": {
      "text/plain": [
       "\"xix_sex = df_fatal_year.loc[mask_XIX].groupby('sex', as_index = False).count()\\nxix_sex.loc[:,['sex', 'fatal']]\""
      ]
     },
     "execution_count": 118,
     "metadata": {},
     "output_type": "execute_result"
    }
   ],
   "source": [
    "'''xix_sex = df_fatal_year.loc[mask_XIX].groupby('sex', as_index = False).count()\n",
    "xix_sex.loc[:,['sex', 'fatal']]'''"
   ]
  },
  {
   "cell_type": "code",
   "execution_count": 119,
   "metadata": {
    "ExecuteTime": {
     "end_time": "2020-09-25T00:41:35.304765Z",
     "start_time": "2020-09-25T00:41:35.277584Z"
    }
   },
   "outputs": [
    {
     "data": {
      "text/html": [
       "<div>\n",
       "<style scoped>\n",
       "    .dataframe tbody tr th:only-of-type {\n",
       "        vertical-align: middle;\n",
       "    }\n",
       "\n",
       "    .dataframe tbody tr th {\n",
       "        vertical-align: top;\n",
       "    }\n",
       "\n",
       "    .dataframe thead th {\n",
       "        text-align: right;\n",
       "    }\n",
       "</style>\n",
       "<table border=\"1\" class=\"dataframe\">\n",
       "  <thead>\n",
       "    <tr style=\"text-align: right;\">\n",
       "      <th></th>\n",
       "      <th>fatal</th>\n",
       "      <th>year</th>\n",
       "    </tr>\n",
       "  </thead>\n",
       "  <tbody>\n",
       "    <tr>\n",
       "      <th>0</th>\n",
       "      <td>N</td>\n",
       "      <td>2348</td>\n",
       "    </tr>\n",
       "    <tr>\n",
       "      <th>1</th>\n",
       "      <td>NaN</td>\n",
       "      <td>358</td>\n",
       "    </tr>\n",
       "    <tr>\n",
       "      <th>2</th>\n",
       "      <td>Y</td>\n",
       "      <td>864</td>\n",
       "    </tr>\n",
       "  </tbody>\n",
       "</table>\n",
       "</div>"
      ],
      "text/plain": [
       "  fatal  year\n",
       "0     N  2348\n",
       "1   NaN   358\n",
       "2     Y   864"
      ]
     },
     "execution_count": 119,
     "metadata": {},
     "output_type": "execute_result"
    }
   ],
   "source": [
    "xx = df_fatal_year.loc[mask_XX].groupby('fatal', as_index = False).count()\n",
    "xx.loc[:,['fatal', 'year']]"
   ]
  },
  {
   "cell_type": "code",
   "execution_count": 129,
   "metadata": {
    "ExecuteTime": {
     "end_time": "2020-09-25T00:47:21.832041Z",
     "start_time": "2020-09-25T00:47:21.796648Z"
    }
   },
   "outputs": [
    {
     "ename": "TypeError",
     "evalue": "as_index=False only valid with DataFrame",
     "output_type": "error",
     "traceback": [
      "\u001b[0;31m---------------------------------------------------------------------------\u001b[0m",
      "\u001b[0;31mTypeError\u001b[0m                                 Traceback (most recent call last)",
      "\u001b[0;32m<ipython-input-129-52453d4c4e4f>\u001b[0m in \u001b[0;36m<module>\u001b[0;34m\u001b[0m\n\u001b[1;32m      2\u001b[0m \u001b[0mxx_y\u001b[0m\u001b[0;34m\u001b[0m\u001b[0;34m\u001b[0m\u001b[0m\n\u001b[1;32m      3\u001b[0m \u001b[0;34m\u001b[0m\u001b[0m\n\u001b[0;32m----> 4\u001b[0;31m \u001b[0mxx_sex\u001b[0m \u001b[0;34m=\u001b[0m \u001b[0mxx_y\u001b[0m\u001b[0;34m.\u001b[0m\u001b[0mgroupby\u001b[0m\u001b[0;34m(\u001b[0m\u001b[0;34m'sex'\u001b[0m\u001b[0;34m,\u001b[0m \u001b[0mas_index\u001b[0m \u001b[0;34m=\u001b[0m \u001b[0;32mFalse\u001b[0m\u001b[0;34m)\u001b[0m\u001b[0;34m.\u001b[0m\u001b[0mcount\u001b[0m\u001b[0;34m(\u001b[0m\u001b[0;34m)\u001b[0m\u001b[0;34m\u001b[0m\u001b[0;34m\u001b[0m\u001b[0m\n\u001b[0m\u001b[1;32m      5\u001b[0m \u001b[0mxx_sex\u001b[0m\u001b[0;34m.\u001b[0m\u001b[0mloc\u001b[0m\u001b[0;34m[\u001b[0m\u001b[0;34m:\u001b[0m\u001b[0;34m,\u001b[0m\u001b[0;34m[\u001b[0m\u001b[0;34m'sex'\u001b[0m\u001b[0;34m,\u001b[0m \u001b[0;34m'fatal'\u001b[0m\u001b[0;34m]\u001b[0m\u001b[0;34m]\u001b[0m\u001b[0;34m\u001b[0m\u001b[0;34m\u001b[0m\u001b[0m\n",
      "\u001b[0;32m~/opt/anaconda3/lib/python3.7/site-packages/pandas/core/series.py\u001b[0m in \u001b[0;36mgroupby\u001b[0;34m(self, by, axis, level, as_index, sort, group_keys, squeeze, observed)\u001b[0m\n\u001b[1;32m   1685\u001b[0m             \u001b[0mgroup_keys\u001b[0m\u001b[0;34m=\u001b[0m\u001b[0mgroup_keys\u001b[0m\u001b[0;34m,\u001b[0m\u001b[0;34m\u001b[0m\u001b[0;34m\u001b[0m\u001b[0m\n\u001b[1;32m   1686\u001b[0m             \u001b[0msqueeze\u001b[0m\u001b[0;34m=\u001b[0m\u001b[0msqueeze\u001b[0m\u001b[0;34m,\u001b[0m\u001b[0;34m\u001b[0m\u001b[0;34m\u001b[0m\u001b[0m\n\u001b[0;32m-> 1687\u001b[0;31m             \u001b[0mobserved\u001b[0m\u001b[0;34m=\u001b[0m\u001b[0mobserved\u001b[0m\u001b[0;34m,\u001b[0m\u001b[0;34m\u001b[0m\u001b[0;34m\u001b[0m\u001b[0m\n\u001b[0m\u001b[1;32m   1688\u001b[0m         )\n\u001b[1;32m   1689\u001b[0m \u001b[0;34m\u001b[0m\u001b[0m\n",
      "\u001b[0;32m~/opt/anaconda3/lib/python3.7/site-packages/pandas/core/groupby/groupby.py\u001b[0m in \u001b[0;36m__init__\u001b[0;34m(self, obj, keys, axis, level, grouper, exclusions, selection, as_index, sort, group_keys, squeeze, observed, mutated)\u001b[0m\n\u001b[1;32m    385\u001b[0m         \u001b[0;32mif\u001b[0m \u001b[0;32mnot\u001b[0m \u001b[0mas_index\u001b[0m\u001b[0;34m:\u001b[0m\u001b[0;34m\u001b[0m\u001b[0;34m\u001b[0m\u001b[0m\n\u001b[1;32m    386\u001b[0m             \u001b[0;32mif\u001b[0m \u001b[0;32mnot\u001b[0m \u001b[0misinstance\u001b[0m\u001b[0;34m(\u001b[0m\u001b[0mobj\u001b[0m\u001b[0;34m,\u001b[0m \u001b[0mDataFrame\u001b[0m\u001b[0;34m)\u001b[0m\u001b[0;34m:\u001b[0m\u001b[0;34m\u001b[0m\u001b[0;34m\u001b[0m\u001b[0m\n\u001b[0;32m--> 387\u001b[0;31m                 \u001b[0;32mraise\u001b[0m \u001b[0mTypeError\u001b[0m\u001b[0;34m(\u001b[0m\u001b[0;34m\"as_index=False only valid with DataFrame\"\u001b[0m\u001b[0;34m)\u001b[0m\u001b[0;34m\u001b[0m\u001b[0;34m\u001b[0m\u001b[0m\n\u001b[0m\u001b[1;32m    388\u001b[0m             \u001b[0;32mif\u001b[0m \u001b[0maxis\u001b[0m \u001b[0;34m!=\u001b[0m \u001b[0;36m0\u001b[0m\u001b[0;34m:\u001b[0m\u001b[0;34m\u001b[0m\u001b[0;34m\u001b[0m\u001b[0m\n\u001b[1;32m    389\u001b[0m                 \u001b[0;32mraise\u001b[0m \u001b[0mValueError\u001b[0m\u001b[0;34m(\u001b[0m\u001b[0;34m\"as_index=False only valid for axis=0\"\u001b[0m\u001b[0;34m)\u001b[0m\u001b[0;34m\u001b[0m\u001b[0;34m\u001b[0m\u001b[0m\n",
      "\u001b[0;31mTypeError\u001b[0m: as_index=False only valid with DataFrame"
     ]
    }
   ],
   "source": [
    "'''\n",
    "xx_y = xx['sex'][xx['fatal']=='Y']\n",
    "xx_y\n",
    "\n",
    "xx_sex = xx_y.groupby('sex', as_index = False).count()\n",
    "xx_sex.loc[:,['sex', 'fatal']]\n",
    "'''"
   ]
  },
  {
   "cell_type": "code",
   "execution_count": 121,
   "metadata": {
    "ExecuteTime": {
     "end_time": "2020-09-25T00:41:37.447187Z",
     "start_time": "2020-09-25T00:41:37.424001Z"
    }
   },
   "outputs": [
    {
     "data": {
      "text/html": [
       "<div>\n",
       "<style scoped>\n",
       "    .dataframe tbody tr th:only-of-type {\n",
       "        vertical-align: middle;\n",
       "    }\n",
       "\n",
       "    .dataframe tbody tr th {\n",
       "        vertical-align: top;\n",
       "    }\n",
       "\n",
       "    .dataframe thead th {\n",
       "        text-align: right;\n",
       "    }\n",
       "</style>\n",
       "<table border=\"1\" class=\"dataframe\">\n",
       "  <thead>\n",
       "    <tr style=\"text-align: right;\">\n",
       "      <th></th>\n",
       "      <th>fatal</th>\n",
       "      <th>year</th>\n",
       "    </tr>\n",
       "  </thead>\n",
       "  <tbody>\n",
       "    <tr>\n",
       "      <th>0</th>\n",
       "      <td>N</td>\n",
       "      <td>1809</td>\n",
       "    </tr>\n",
       "    <tr>\n",
       "      <th>1</th>\n",
       "      <td>NaN</td>\n",
       "      <td>164</td>\n",
       "    </tr>\n",
       "    <tr>\n",
       "      <th>2</th>\n",
       "      <td>Y</td>\n",
       "      <td>175</td>\n",
       "    </tr>\n",
       "  </tbody>\n",
       "</table>\n",
       "</div>"
      ],
      "text/plain": [
       "  fatal  year\n",
       "0     N  1809\n",
       "1   NaN   164\n",
       "2     Y   175"
      ]
     },
     "execution_count": 121,
     "metadata": {},
     "output_type": "execute_result"
    }
   ],
   "source": [
    "xxi = df_fatal_year.loc[mask_XXI].groupby('fatal', as_index = False).count()\n",
    "xxi.loc[:,['fatal', 'year']]"
   ]
  },
  {
   "cell_type": "code",
   "execution_count": 124,
   "metadata": {
    "ExecuteTime": {
     "end_time": "2020-09-25T00:45:26.859453Z",
     "start_time": "2020-09-25T00:45:26.832933Z"
    }
   },
   "outputs": [
    {
     "data": {
      "text/html": [
       "<div>\n",
       "<style scoped>\n",
       "    .dataframe tbody tr th:only-of-type {\n",
       "        vertical-align: middle;\n",
       "    }\n",
       "\n",
       "    .dataframe tbody tr th {\n",
       "        vertical-align: top;\n",
       "    }\n",
       "\n",
       "    .dataframe thead th {\n",
       "        text-align: right;\n",
       "    }\n",
       "</style>\n",
       "<table border=\"1\" class=\"dataframe\">\n",
       "  <thead>\n",
       "    <tr style=\"text-align: right;\">\n",
       "      <th></th>\n",
       "      <th>sex</th>\n",
       "      <th>fatal</th>\n",
       "    </tr>\n",
       "  </thead>\n",
       "  <tbody>\n",
       "    <tr>\n",
       "      <th>0</th>\n",
       "      <td>F</td>\n",
       "      <td>372</td>\n",
       "    </tr>\n",
       "    <tr>\n",
       "      <th>1</th>\n",
       "      <td>M</td>\n",
       "      <td>1683</td>\n",
       "    </tr>\n",
       "    <tr>\n",
       "      <th>2</th>\n",
       "      <td>NaN</td>\n",
       "      <td>93</td>\n",
       "    </tr>\n",
       "  </tbody>\n",
       "</table>\n",
       "</div>"
      ],
      "text/plain": [
       "   sex  fatal\n",
       "0    F    372\n",
       "1    M   1683\n",
       "2  NaN     93"
      ]
     },
     "execution_count": 124,
     "metadata": {},
     "output_type": "execute_result"
    }
   ],
   "source": [
    "xxi_sex = df_fatal_year.loc[mask_XXI].groupby('sex', as_index = False).count()\n",
    "xxi_sex.loc[:,['sex', 'fatal']]"
   ]
  },
  {
   "cell_type": "code",
   "execution_count": 74,
   "metadata": {
    "ExecuteTime": {
     "end_time": "2020-09-25T00:25:47.868094Z",
     "start_time": "2020-09-25T00:25:47.856252Z"
    }
   },
   "outputs": [
    {
     "name": "stdout",
     "output_type": "stream",
     "text": [
      "[2    27\n",
      "Name: year, dtype: int64, 2    336\n",
      "Name: year, dtype: int64, 2    864\n",
      "Name: year, dtype: int64, 2    175\n",
      "Name: year, dtype: int64]\n"
     ]
    }
   ],
   "source": [
    "bxix_y = bxix['year'][bxix['fatal']=='Y']\n",
    "xix_y = xix['year'][xix['fatal']=='Y']\n",
    "xx_y = xx['year'][xx['fatal']=='Y']\n",
    "xxi_y = xxi['sex'][xxi['fatal']=='Y']\n",
    "\n",
    "century = [bxix_y, xix_y, xx_y, xxi_y]\n",
    "print(century)"
   ]
  },
  {
   "cell_type": "markdown",
   "metadata": {},
   "source": [
    "- Grouping the activities which shows the greatest number of fatalities"
   ]
  },
  {
   "cell_type": "code",
   "execution_count": 42,
   "metadata": {
    "ExecuteTime": {
     "end_time": "2020-09-24T21:59:17.018990Z",
     "start_time": "2020-09-24T21:59:16.993033Z"
    }
   },
   "outputs": [
    {
     "data": {
      "text/html": [
       "<div>\n",
       "<style scoped>\n",
       "    .dataframe tbody tr th:only-of-type {\n",
       "        vertical-align: middle;\n",
       "    }\n",
       "\n",
       "    .dataframe tbody tr th {\n",
       "        vertical-align: top;\n",
       "    }\n",
       "\n",
       "    .dataframe thead th {\n",
       "        text-align: right;\n",
       "    }\n",
       "</style>\n",
       "<table border=\"1\" class=\"dataframe\">\n",
       "  <thead>\n",
       "    <tr style=\"text-align: right;\">\n",
       "      <th></th>\n",
       "      <th>activity</th>\n",
       "      <th>fatal</th>\n",
       "    </tr>\n",
       "  </thead>\n",
       "  <tbody>\n",
       "    <tr>\n",
       "      <th>0</th>\n",
       "      <td>Snorkeling</td>\n",
       "      <td>N</td>\n",
       "    </tr>\n",
       "    <tr>\n",
       "      <th>1</th>\n",
       "      <td>Fishing</td>\n",
       "      <td>N</td>\n",
       "    </tr>\n",
       "    <tr>\n",
       "      <th>2</th>\n",
       "      <td>Foil-boarding</td>\n",
       "      <td>N</td>\n",
       "    </tr>\n",
       "    <tr>\n",
       "      <th>3</th>\n",
       "      <td>Swimming</td>\n",
       "      <td>N</td>\n",
       "    </tr>\n",
       "    <tr>\n",
       "      <th>4</th>\n",
       "      <td>Surfing</td>\n",
       "      <td>N</td>\n",
       "    </tr>\n",
       "    <tr>\n",
       "      <th>...</th>\n",
       "      <td>...</td>\n",
       "      <td>...</td>\n",
       "    </tr>\n",
       "    <tr>\n",
       "      <th>6570</th>\n",
       "      <td>Diving</td>\n",
       "      <td>Y</td>\n",
       "    </tr>\n",
       "    <tr>\n",
       "      <th>6571</th>\n",
       "      <td>Pearl diving</td>\n",
       "      <td>Y</td>\n",
       "    </tr>\n",
       "    <tr>\n",
       "      <th>6572</th>\n",
       "      <td>Swimming</td>\n",
       "      <td>Y</td>\n",
       "    </tr>\n",
       "    <tr>\n",
       "      <th>6573</th>\n",
       "      <td>NaN</td>\n",
       "      <td>Y</td>\n",
       "    </tr>\n",
       "    <tr>\n",
       "      <th>6574</th>\n",
       "      <td>Swimming</td>\n",
       "      <td>Y</td>\n",
       "    </tr>\n",
       "  </tbody>\n",
       "</table>\n",
       "<p>6573 rows × 2 columns</p>\n",
       "</div>"
      ],
      "text/plain": [
       "           activity fatal\n",
       "0        Snorkeling     N\n",
       "1           Fishing     N\n",
       "2     Foil-boarding     N\n",
       "3          Swimming     N\n",
       "4           Surfing     N\n",
       "...             ...   ...\n",
       "6570         Diving     Y\n",
       "6571   Pearl diving     Y\n",
       "6572       Swimming     Y\n",
       "6573            NaN     Y\n",
       "6574       Swimming     Y\n",
       "\n",
       "[6573 rows x 2 columns]"
      ]
     },
     "execution_count": 42,
     "metadata": {},
     "output_type": "execute_result"
    }
   ],
   "source": [
    "df_fatal_act = df.loc[:,['activity', 'fatal']]\n",
    "df_fatal_act"
   ]
  },
  {
   "cell_type": "code",
   "execution_count": 43,
   "metadata": {
    "ExecuteTime": {
     "end_time": "2020-09-24T21:59:17.084536Z",
     "start_time": "2020-09-24T21:59:17.023943Z"
    }
   },
   "outputs": [
    {
     "data": {
      "text/html": [
       "<div>\n",
       "<style scoped>\n",
       "    .dataframe tbody tr th:only-of-type {\n",
       "        vertical-align: middle;\n",
       "    }\n",
       "\n",
       "    .dataframe tbody tr th {\n",
       "        vertical-align: top;\n",
       "    }\n",
       "\n",
       "    .dataframe thead th {\n",
       "        text-align: right;\n",
       "    }\n",
       "</style>\n",
       "<table border=\"1\" class=\"dataframe\">\n",
       "  <thead>\n",
       "    <tr style=\"text-align: right;\">\n",
       "      <th></th>\n",
       "      <th>activity</th>\n",
       "      <th>fatal</th>\n",
       "    </tr>\n",
       "  </thead>\n",
       "  <tbody>\n",
       "    <tr>\n",
       "      <th>0</th>\n",
       "      <td></td>\n",
       "      <td>1</td>\n",
       "    </tr>\n",
       "    <tr>\n",
       "      <th>1</th>\n",
       "      <td></td>\n",
       "      <td>1</td>\n",
       "    </tr>\n",
       "    <tr>\n",
       "      <th>2</th>\n",
       "      <td>Diving for abalone (Hookah)</td>\n",
       "      <td>1</td>\n",
       "    </tr>\n",
       "    <tr>\n",
       "      <th>3</th>\n",
       "      <td>a canoe was pursuing a schooner that had forc...</td>\n",
       "      <td>1</td>\n",
       "    </tr>\n",
       "    <tr>\n",
       "      <th>4</th>\n",
       "      <td>\"Boat accident\"</td>\n",
       "      <td>1</td>\n",
       "    </tr>\n",
       "    <tr>\n",
       "      <th>...</th>\n",
       "      <td>...</td>\n",
       "      <td>...</td>\n",
       "    </tr>\n",
       "    <tr>\n",
       "      <th>1547</th>\n",
       "      <td>ship torpedoed 400 miles off the African coas....</td>\n",
       "      <td>1</td>\n",
       "    </tr>\n",
       "    <tr>\n",
       "      <th>1548</th>\n",
       "      <td>small boat</td>\n",
       "      <td>1</td>\n",
       "    </tr>\n",
       "    <tr>\n",
       "      <th>1549</th>\n",
       "      <td>wreck of the State Oil Company ship Permina</td>\n",
       "      <td>1</td>\n",
       "    </tr>\n",
       "    <tr>\n",
       "      <th>1550</th>\n",
       "      <td>yachting accident</td>\n",
       "      <td>1</td>\n",
       "    </tr>\n",
       "    <tr>\n",
       "      <th>1551</th>\n",
       "      <td>yachtsman in a zodiac</td>\n",
       "      <td>1</td>\n",
       "    </tr>\n",
       "  </tbody>\n",
       "</table>\n",
       "<p>1552 rows × 2 columns</p>\n",
       "</div>"
      ],
      "text/plain": [
       "                                               activity  fatal\n",
       "0                                                            1\n",
       "1                                                            1\n",
       "2                           Diving for abalone (Hookah)      1\n",
       "3      a canoe was pursuing a schooner that had forc...      1\n",
       "4                                       \"Boat accident\"      1\n",
       "...                                                 ...    ...\n",
       "1547  ship torpedoed 400 miles off the African coas....      1\n",
       "1548                                         small boat      1\n",
       "1549        wreck of the State Oil Company ship Permina      1\n",
       "1550                                  yachting accident      1\n",
       "1551                              yachtsman in a zodiac      1\n",
       "\n",
       "[1552 rows x 2 columns]"
      ]
     },
     "execution_count": 43,
     "metadata": {},
     "output_type": "execute_result"
    }
   ],
   "source": [
    "df_fatal_act.groupby('activity', as_index = False).count()"
   ]
  },
  {
   "cell_type": "code",
   "execution_count": 44,
   "metadata": {
    "ExecuteTime": {
     "end_time": "2020-09-24T21:59:17.148537Z",
     "start_time": "2020-09-24T21:59:17.090147Z"
    }
   },
   "outputs": [
    {
     "data": {
      "text/html": [
       "<div>\n",
       "<style scoped>\n",
       "    .dataframe tbody tr th:only-of-type {\n",
       "        vertical-align: middle;\n",
       "    }\n",
       "\n",
       "    .dataframe tbody tr th {\n",
       "        vertical-align: top;\n",
       "    }\n",
       "\n",
       "    .dataframe thead th {\n",
       "        text-align: right;\n",
       "    }\n",
       "</style>\n",
       "<table border=\"1\" class=\"dataframe\">\n",
       "  <thead>\n",
       "    <tr style=\"text-align: right;\">\n",
       "      <th></th>\n",
       "      <th>country</th>\n",
       "      <th>date</th>\n",
       "      <th>year</th>\n",
       "      <th>type</th>\n",
       "      <th>area</th>\n",
       "      <th>sex</th>\n",
       "      <th>age</th>\n",
       "      <th>species</th>\n",
       "      <th>activity</th>\n",
       "      <th>fatal</th>\n",
       "    </tr>\n",
       "  </thead>\n",
       "  <tbody>\n",
       "    <tr>\n",
       "      <th>0</th>\n",
       "      <td>PHILIPPINES</td>\n",
       "      <td>1</td>\n",
       "      <td>1</td>\n",
       "      <td>1</td>\n",
       "      <td>1</td>\n",
       "      <td>1</td>\n",
       "      <td>0</td>\n",
       "      <td>0</td>\n",
       "      <td>1</td>\n",
       "      <td>1</td>\n",
       "    </tr>\n",
       "    <tr>\n",
       "      <th>1</th>\n",
       "      <td>TONGA</td>\n",
       "      <td>3</td>\n",
       "      <td>3</td>\n",
       "      <td>3</td>\n",
       "      <td>3</td>\n",
       "      <td>3</td>\n",
       "      <td>1</td>\n",
       "      <td>3</td>\n",
       "      <td>3</td>\n",
       "      <td>3</td>\n",
       "    </tr>\n",
       "    <tr>\n",
       "      <th>2</th>\n",
       "      <td>ADMIRALTY ISLANDS</td>\n",
       "      <td>1</td>\n",
       "      <td>1</td>\n",
       "      <td>1</td>\n",
       "      <td>1</td>\n",
       "      <td>1</td>\n",
       "      <td>1</td>\n",
       "      <td>0</td>\n",
       "      <td>0</td>\n",
       "      <td>1</td>\n",
       "    </tr>\n",
       "    <tr>\n",
       "      <th>3</th>\n",
       "      <td>AFRICA</td>\n",
       "      <td>1</td>\n",
       "      <td>1</td>\n",
       "      <td>1</td>\n",
       "      <td>0</td>\n",
       "      <td>1</td>\n",
       "      <td>0</td>\n",
       "      <td>0</td>\n",
       "      <td>1</td>\n",
       "      <td>1</td>\n",
       "    </tr>\n",
       "    <tr>\n",
       "      <th>4</th>\n",
       "      <td>ALGERIA</td>\n",
       "      <td>1</td>\n",
       "      <td>1</td>\n",
       "      <td>1</td>\n",
       "      <td>0</td>\n",
       "      <td>1</td>\n",
       "      <td>0</td>\n",
       "      <td>0</td>\n",
       "      <td>1</td>\n",
       "      <td>1</td>\n",
       "    </tr>\n",
       "    <tr>\n",
       "      <th>...</th>\n",
       "      <td>...</td>\n",
       "      <td>...</td>\n",
       "      <td>...</td>\n",
       "      <td>...</td>\n",
       "      <td>...</td>\n",
       "      <td>...</td>\n",
       "      <td>...</td>\n",
       "      <td>...</td>\n",
       "      <td>...</td>\n",
       "      <td>...</td>\n",
       "    </tr>\n",
       "    <tr>\n",
       "      <th>209</th>\n",
       "      <td>VIETNAM</td>\n",
       "      <td>15</td>\n",
       "      <td>15</td>\n",
       "      <td>14</td>\n",
       "      <td>10</td>\n",
       "      <td>15</td>\n",
       "      <td>6</td>\n",
       "      <td>4</td>\n",
       "      <td>12</td>\n",
       "      <td>15</td>\n",
       "    </tr>\n",
       "    <tr>\n",
       "      <th>210</th>\n",
       "      <td>WEST INDIES</td>\n",
       "      <td>2</td>\n",
       "      <td>2</td>\n",
       "      <td>2</td>\n",
       "      <td>0</td>\n",
       "      <td>2</td>\n",
       "      <td>0</td>\n",
       "      <td>0</td>\n",
       "      <td>2</td>\n",
       "      <td>2</td>\n",
       "    </tr>\n",
       "    <tr>\n",
       "      <th>211</th>\n",
       "      <td>WESTERN SAMOA</td>\n",
       "      <td>1</td>\n",
       "      <td>1</td>\n",
       "      <td>1</td>\n",
       "      <td>1</td>\n",
       "      <td>1</td>\n",
       "      <td>1</td>\n",
       "      <td>1</td>\n",
       "      <td>1</td>\n",
       "      <td>1</td>\n",
       "    </tr>\n",
       "    <tr>\n",
       "      <th>212</th>\n",
       "      <td>YEMEN</td>\n",
       "      <td>2</td>\n",
       "      <td>2</td>\n",
       "      <td>2</td>\n",
       "      <td>2</td>\n",
       "      <td>1</td>\n",
       "      <td>0</td>\n",
       "      <td>1</td>\n",
       "      <td>2</td>\n",
       "      <td>2</td>\n",
       "    </tr>\n",
       "    <tr>\n",
       "      <th>213</th>\n",
       "      <td>YEMEN</td>\n",
       "      <td>7</td>\n",
       "      <td>7</td>\n",
       "      <td>7</td>\n",
       "      <td>7</td>\n",
       "      <td>6</td>\n",
       "      <td>2</td>\n",
       "      <td>1</td>\n",
       "      <td>7</td>\n",
       "      <td>7</td>\n",
       "    </tr>\n",
       "  </tbody>\n",
       "</table>\n",
       "<p>214 rows × 10 columns</p>\n",
       "</div>"
      ],
      "text/plain": [
       "               country  date  year  type  area  sex  age  species  activity  \\\n",
       "0          PHILIPPINES     1     1     1     1    1    0        0         1   \n",
       "1                TONGA     3     3     3     3    3    1        3         3   \n",
       "2    ADMIRALTY ISLANDS     1     1     1     1    1    1        0         0   \n",
       "3               AFRICA     1     1     1     0    1    0        0         1   \n",
       "4              ALGERIA     1     1     1     0    1    0        0         1   \n",
       "..                 ...   ...   ...   ...   ...  ...  ...      ...       ...   \n",
       "209            VIETNAM    15    15    14    10   15    6        4        12   \n",
       "210        WEST INDIES     2     2     2     0    2    0        0         2   \n",
       "211      WESTERN SAMOA     1     1     1     1    1    1        1         1   \n",
       "212              YEMEN     2     2     2     2    1    0        1         2   \n",
       "213             YEMEN      7     7     7     7    6    2        1         7   \n",
       "\n",
       "     fatal  \n",
       "0        1  \n",
       "1        3  \n",
       "2        1  \n",
       "3        1  \n",
       "4        1  \n",
       "..     ...  \n",
       "209     15  \n",
       "210      2  \n",
       "211      1  \n",
       "212      2  \n",
       "213      7  \n",
       "\n",
       "[214 rows x 10 columns]"
      ]
     },
     "execution_count": 44,
     "metadata": {},
     "output_type": "execute_result"
    }
   ],
   "source": [
    "df.groupby('country', as_index = False).count()"
   ]
  },
  {
   "cell_type": "code",
   "execution_count": null,
   "metadata": {},
   "outputs": [],
   "source": []
  }
 ],
 "metadata": {
  "hide_input": false,
  "kernelspec": {
   "display_name": "Python 3",
   "language": "python",
   "name": "python3"
  },
  "language_info": {
   "codemirror_mode": {
    "name": "ipython",
    "version": 3
   },
   "file_extension": ".py",
   "mimetype": "text/x-python",
   "name": "python",
   "nbconvert_exporter": "python",
   "pygments_lexer": "ipython3",
   "version": "3.7.6"
  },
  "toc": {
   "base_numbering": 1,
   "nav_menu": {},
   "number_sections": true,
   "sideBar": true,
   "skip_h1_title": false,
   "title_cell": "Table of Contents",
   "title_sidebar": "Contents",
   "toc_cell": false,
   "toc_position": {},
   "toc_section_display": true,
   "toc_window_display": false
  },
  "varInspector": {
   "cols": {
    "lenName": 16,
    "lenType": 16,
    "lenVar": 40
   },
   "kernels_config": {
    "python": {
     "delete_cmd_postfix": "",
     "delete_cmd_prefix": "del ",
     "library": "var_list.py",
     "varRefreshCmd": "print(var_dic_list())"
    },
    "r": {
     "delete_cmd_postfix": ") ",
     "delete_cmd_prefix": "rm(",
     "library": "var_list.r",
     "varRefreshCmd": "cat(var_dic_list()) "
    }
   },
   "types_to_exclude": [
    "module",
    "function",
    "builtin_function_or_method",
    "instance",
    "_Feature"
   ],
   "window_display": false
  }
 },
 "nbformat": 4,
 "nbformat_minor": 4
}
