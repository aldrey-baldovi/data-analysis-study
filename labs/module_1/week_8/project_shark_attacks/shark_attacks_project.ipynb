{
 "cells": [
  {
   "cell_type": "markdown",
   "metadata": {},
   "source": [
    "# Project Shark Attacks\n",
    "\n",
    "link: http://www.sharkattackfile.net/incidentlog.htm"
   ]
  },
  {
   "cell_type": "code",
   "execution_count": 338,
   "metadata": {
    "ExecuteTime": {
     "end_time": "2020-09-30T02:12:25.812498Z",
     "start_time": "2020-09-30T02:12:25.807236Z"
    }
   },
   "outputs": [],
   "source": [
    "import pandas as pd\n",
    "import numpy as np\n",
    "import re"
   ]
  },
  {
   "cell_type": "code",
   "execution_count": 339,
   "metadata": {
    "ExecuteTime": {
     "end_time": "2020-09-30T02:12:27.827587Z",
     "start_time": "2020-09-30T02:12:27.673421Z"
    }
   },
   "outputs": [
    {
     "name": "stdout",
     "output_type": "stream",
     "text": [
      "/Users/aldreybaldovi/Desktop/ironhack/labs/module_1/week_8/project_shark_attacks\r\n"
     ]
    }
   ],
   "source": [
    "!pwd"
   ]
  },
  {
   "cell_type": "code",
   "execution_count": 340,
   "metadata": {
    "ExecuteTime": {
     "end_time": "2020-09-30T02:12:31.216408Z",
     "start_time": "2020-09-30T02:12:29.368802Z"
    }
   },
   "outputs": [
    {
     "data": {
      "text/html": [
       "<div>\n",
       "<style scoped>\n",
       "    .dataframe tbody tr th:only-of-type {\n",
       "        vertical-align: middle;\n",
       "    }\n",
       "\n",
       "    .dataframe tbody tr th {\n",
       "        vertical-align: top;\n",
       "    }\n",
       "\n",
       "    .dataframe thead th {\n",
       "        text-align: right;\n",
       "    }\n",
       "</style>\n",
       "<table border=\"1\" class=\"dataframe\">\n",
       "  <thead>\n",
       "    <tr style=\"text-align: right;\">\n",
       "      <th></th>\n",
       "      <th>Case Number</th>\n",
       "      <th>Date</th>\n",
       "      <th>Year</th>\n",
       "      <th>Type</th>\n",
       "      <th>Country</th>\n",
       "      <th>Area</th>\n",
       "      <th>Location</th>\n",
       "      <th>Activity</th>\n",
       "      <th>Name</th>\n",
       "      <th>Sex</th>\n",
       "      <th>...</th>\n",
       "      <th>Species</th>\n",
       "      <th>Investigator or Source</th>\n",
       "      <th>pdf</th>\n",
       "      <th>href formula</th>\n",
       "      <th>href</th>\n",
       "      <th>Case Number.1</th>\n",
       "      <th>Case Number.2</th>\n",
       "      <th>original order</th>\n",
       "      <th>Unnamed: 22</th>\n",
       "      <th>Unnamed: 23</th>\n",
       "    </tr>\n",
       "  </thead>\n",
       "  <tbody>\n",
       "    <tr>\n",
       "      <th>0</th>\n",
       "      <td>2020.09.20</td>\n",
       "      <td>20-Sep-2020</td>\n",
       "      <td>2020.0</td>\n",
       "      <td>Unprovoked</td>\n",
       "      <td>USA</td>\n",
       "      <td>Florida</td>\n",
       "      <td>Sombero Key Light, Monroe County</td>\n",
       "      <td>Snorkeling</td>\n",
       "      <td>Andrew Charles Eddy</td>\n",
       "      <td>M</td>\n",
       "      <td>...</td>\n",
       "      <td>Bull shark</td>\n",
       "      <td>Click Orlando, 9/20/2020</td>\n",
       "      <td>2020.09.20-Eddy.pdf</td>\n",
       "      <td>http://sharkattackfile.net/spreadsheets/pdf_di...</td>\n",
       "      <td>http://sharkattackfile.net/spreadsheets/pdf_di...</td>\n",
       "      <td>2020.09.20</td>\n",
       "      <td>2020.09.20</td>\n",
       "      <td>6576.0</td>\n",
       "      <td>NaN</td>\n",
       "      <td>NaN</td>\n",
       "    </tr>\n",
       "    <tr>\n",
       "      <th>1</th>\n",
       "      <td>2020.09.17</td>\n",
       "      <td>17-Sep-2020</td>\n",
       "      <td>2020.0</td>\n",
       "      <td>Provoked</td>\n",
       "      <td>AUSTRALIA</td>\n",
       "      <td>Queensland</td>\n",
       "      <td>Fraser Island</td>\n",
       "      <td>Fishing</td>\n",
       "      <td>male</td>\n",
       "      <td>M</td>\n",
       "      <td>...</td>\n",
       "      <td>\"whitetip shark\"</td>\n",
       "      <td>K. McMurray, Tracking Sharks.com and B. Myatt,...</td>\n",
       "      <td>2020.09.17-FraserIsland.pdf</td>\n",
       "      <td>http://sharkattackfile.net/spreadsheets/pdf_di...</td>\n",
       "      <td>http://sharkattackfile.net/spreadsheets/pdf_di...</td>\n",
       "      <td>2020.09.17</td>\n",
       "      <td>2020.09.17</td>\n",
       "      <td>6575.0</td>\n",
       "      <td>NaN</td>\n",
       "      <td>NaN</td>\n",
       "    </tr>\n",
       "    <tr>\n",
       "      <th>2</th>\n",
       "      <td>2020.09.16.b</td>\n",
       "      <td>16-Sep-2020</td>\n",
       "      <td>2020.0</td>\n",
       "      <td>Unprovoked</td>\n",
       "      <td>AUSTRALIA</td>\n",
       "      <td>New South Wales</td>\n",
       "      <td>Cabarita Beach</td>\n",
       "      <td>Foil-boarding</td>\n",
       "      <td>Christian Bungate</td>\n",
       "      <td>M</td>\n",
       "      <td>...</td>\n",
       "      <td>White shark</td>\n",
       "      <td>B. Myatt, GSAF</td>\n",
       "      <td>2020.09.16.b-Bungate.pdf</td>\n",
       "      <td>http://sharkattackfile.net/spreadsheets/pdf_di...</td>\n",
       "      <td>http://sharkattackfile.net/spreadsheets/pdf_di...</td>\n",
       "      <td>2020.09.16.b</td>\n",
       "      <td>2020.09.16.b</td>\n",
       "      <td>6574.0</td>\n",
       "      <td>NaN</td>\n",
       "      <td>NaN</td>\n",
       "    </tr>\n",
       "    <tr>\n",
       "      <th>3</th>\n",
       "      <td>2020.09.16</td>\n",
       "      <td>16-Sep-2020</td>\n",
       "      <td>2020.0</td>\n",
       "      <td>NaN</td>\n",
       "      <td>USA</td>\n",
       "      <td>Florida</td>\n",
       "      <td>Daytona Beach Shores, Volusia County</td>\n",
       "      <td>Swimming</td>\n",
       "      <td>Eric Bowman</td>\n",
       "      <td>M</td>\n",
       "      <td>...</td>\n",
       "      <td>Shark involvement not confirmed</td>\n",
       "      <td>K. McMurray, TrackingSharks.com</td>\n",
       "      <td>2020.09.16-Bowman.pdf</td>\n",
       "      <td>http://sharkattackfile.net/spreadsheets/pdf_di...</td>\n",
       "      <td>http://sharkattackfile.net/spreadsheets/pdf_di...</td>\n",
       "      <td>2020.09.16</td>\n",
       "      <td>2020.09.16</td>\n",
       "      <td>6573.0</td>\n",
       "      <td>NaN</td>\n",
       "      <td>NaN</td>\n",
       "    </tr>\n",
       "    <tr>\n",
       "      <th>4</th>\n",
       "      <td>2020.09.15.b</td>\n",
       "      <td>15-Sep-2020</td>\n",
       "      <td>2020.0</td>\n",
       "      <td>Unprovoked</td>\n",
       "      <td>USA</td>\n",
       "      <td>Florida</td>\n",
       "      <td>Ponce Inlet, Volusia County</td>\n",
       "      <td>Surfing</td>\n",
       "      <td>Cole Smyth</td>\n",
       "      <td>M</td>\n",
       "      <td>...</td>\n",
       "      <td>NaN</td>\n",
       "      <td>K. McMurray, TrackingSharks.com</td>\n",
       "      <td>2020.09.15.b-Smyth.pdf</td>\n",
       "      <td>http://sharkattackfile.net/spreadsheets/pdf_di...</td>\n",
       "      <td>http://sharkattackfile.net/spreadsheets/pdf_di...</td>\n",
       "      <td>2020.09.15.b</td>\n",
       "      <td>2020.09.15.b</td>\n",
       "      <td>6572.0</td>\n",
       "      <td>NaN</td>\n",
       "      <td>NaN</td>\n",
       "    </tr>\n",
       "  </tbody>\n",
       "</table>\n",
       "<p>5 rows × 24 columns</p>\n",
       "</div>"
      ],
      "text/plain": [
       "    Case Number         Date    Year        Type    Country             Area  \\\n",
       "0    2020.09.20  20-Sep-2020  2020.0  Unprovoked        USA          Florida   \n",
       "1    2020.09.17  17-Sep-2020  2020.0    Provoked  AUSTRALIA       Queensland   \n",
       "2  2020.09.16.b  16-Sep-2020  2020.0  Unprovoked  AUSTRALIA  New South Wales   \n",
       "3    2020.09.16  16-Sep-2020  2020.0         NaN        USA          Florida   \n",
       "4  2020.09.15.b  15-Sep-2020  2020.0  Unprovoked        USA          Florida   \n",
       "\n",
       "                               Location       Activity                 Name  \\\n",
       "0      Sombero Key Light, Monroe County     Snorkeling  Andrew Charles Eddy   \n",
       "1                         Fraser Island        Fishing                 male   \n",
       "2                        Cabarita Beach  Foil-boarding    Christian Bungate   \n",
       "3  Daytona Beach Shores, Volusia County       Swimming          Eric Bowman   \n",
       "4           Ponce Inlet, Volusia County        Surfing           Cole Smyth   \n",
       "\n",
       "  Sex   ...                         Species   \\\n",
       "0    M  ...                       Bull shark   \n",
       "1    M  ...                 \"whitetip shark\"   \n",
       "2    M  ...                      White shark   \n",
       "3    M  ...  Shark involvement not confirmed   \n",
       "4    M  ...                              NaN   \n",
       "\n",
       "                              Investigator or Source  \\\n",
       "0                           Click Orlando, 9/20/2020   \n",
       "1  K. McMurray, Tracking Sharks.com and B. Myatt,...   \n",
       "2                                     B. Myatt, GSAF   \n",
       "3                    K. McMurray, TrackingSharks.com   \n",
       "4                    K. McMurray, TrackingSharks.com   \n",
       "\n",
       "                           pdf  \\\n",
       "0          2020.09.20-Eddy.pdf   \n",
       "1  2020.09.17-FraserIsland.pdf   \n",
       "2     2020.09.16.b-Bungate.pdf   \n",
       "3        2020.09.16-Bowman.pdf   \n",
       "4       2020.09.15.b-Smyth.pdf   \n",
       "\n",
       "                                        href formula  \\\n",
       "0  http://sharkattackfile.net/spreadsheets/pdf_di...   \n",
       "1  http://sharkattackfile.net/spreadsheets/pdf_di...   \n",
       "2  http://sharkattackfile.net/spreadsheets/pdf_di...   \n",
       "3  http://sharkattackfile.net/spreadsheets/pdf_di...   \n",
       "4  http://sharkattackfile.net/spreadsheets/pdf_di...   \n",
       "\n",
       "                                                href Case Number.1  \\\n",
       "0  http://sharkattackfile.net/spreadsheets/pdf_di...    2020.09.20   \n",
       "1  http://sharkattackfile.net/spreadsheets/pdf_di...    2020.09.17   \n",
       "2  http://sharkattackfile.net/spreadsheets/pdf_di...  2020.09.16.b   \n",
       "3  http://sharkattackfile.net/spreadsheets/pdf_di...    2020.09.16   \n",
       "4  http://sharkattackfile.net/spreadsheets/pdf_di...  2020.09.15.b   \n",
       "\n",
       "  Case Number.2 original order Unnamed: 22 Unnamed: 23  \n",
       "0    2020.09.20         6576.0         NaN         NaN  \n",
       "1    2020.09.17         6575.0         NaN         NaN  \n",
       "2  2020.09.16.b         6574.0         NaN         NaN  \n",
       "3    2020.09.16         6573.0         NaN         NaN  \n",
       "4  2020.09.15.b         6572.0         NaN         NaN  \n",
       "\n",
       "[5 rows x 24 columns]"
      ]
     },
     "execution_count": 340,
     "metadata": {},
     "output_type": "execute_result"
    }
   ],
   "source": [
    "df = pd.read_excel('GSAF5.xls', encoding='latin1')\n",
    "df.head()"
   ]
  },
  {
   "cell_type": "code",
   "execution_count": 341,
   "metadata": {
    "ExecuteTime": {
     "end_time": "2020-09-30T02:12:33.361943Z",
     "start_time": "2020-09-30T02:12:33.341011Z"
    }
   },
   "outputs": [
    {
     "data": {
      "text/plain": [
       "Index(['Case Number', 'Date', 'Year', 'Type', 'Country', 'Area', 'Location',\n",
       "       'Activity', 'Name', 'Sex ', 'Age', 'Injury', 'Fatal (Y/N)', 'Time',\n",
       "       'Species ', 'Investigator or Source', 'pdf', 'href formula', 'href',\n",
       "       'Case Number.1', 'Case Number.2', 'original order', 'Unnamed: 22',\n",
       "       'Unnamed: 23'],\n",
       "      dtype='object')"
      ]
     },
     "execution_count": 341,
     "metadata": {},
     "output_type": "execute_result"
    }
   ],
   "source": [
    "df.columns"
   ]
  },
  {
   "cell_type": "code",
   "execution_count": 342,
   "metadata": {
    "ExecuteTime": {
     "end_time": "2020-09-30T02:12:33.384043Z",
     "start_time": "2020-09-30T02:12:33.373163Z"
    }
   },
   "outputs": [
    {
     "data": {
      "text/plain": [
       "25796"
      ]
     },
     "execution_count": 342,
     "metadata": {},
     "output_type": "execute_result"
    }
   ],
   "source": [
    "len(df)"
   ]
  },
  {
   "cell_type": "code",
   "execution_count": 343,
   "metadata": {
    "ExecuteTime": {
     "end_time": "2020-09-30T02:12:37.056309Z",
     "start_time": "2020-09-30T02:12:37.041283Z"
    }
   },
   "outputs": [],
   "source": [
    "df_bkp = df.copy()"
   ]
  },
  {
   "cell_type": "markdown",
   "metadata": {
    "ExecuteTime": {
     "end_time": "2020-09-23T00:02:42.096308Z",
     "start_time": "2020-09-23T00:02:42.075904Z"
    }
   },
   "source": [
    "- Analisar a quantidade de vazios nas colunas de interesse ('Year', 'Sex', 'Country', 'Fatal (Y/N)')"
   ]
  },
  {
   "cell_type": "code",
   "execution_count": 344,
   "metadata": {
    "ExecuteTime": {
     "end_time": "2020-09-30T02:12:39.191918Z",
     "start_time": "2020-09-30T02:12:39.121199Z"
    }
   },
   "outputs": [
    {
     "name": "stdout",
     "output_type": "stream",
     "text": [
      "<class 'pandas.core.frame.DataFrame'>\n",
      "RangeIndex: 25796 entries, 0 to 25795\n",
      "Data columns (total 24 columns):\n",
      " #   Column                  Non-Null Count  Dtype  \n",
      "---  ------                  --------------  -----  \n",
      " 0   Case Number             8775 non-null   object \n",
      " 1   Date                    6575 non-null   object \n",
      " 2   Year                    6573 non-null   float64\n",
      " 3   Type                    6566 non-null   object \n",
      " 4   Country                 6525 non-null   object \n",
      " 5   Area                    6108 non-null   object \n",
      " 6   Location                6025 non-null   object \n",
      " 7   Activity                6018 non-null   object \n",
      " 8   Name                    6360 non-null   object \n",
      " 9   Sex                     6003 non-null   object \n",
      " 10  Age                     3672 non-null   object \n",
      " 11  Injury                  6545 non-null   object \n",
      " 12  Fatal (Y/N)             6023 non-null   object \n",
      " 13  Time                    3154 non-null   object \n",
      " 14  Species                 3622 non-null   object \n",
      " 15  Investigator or Source  6558 non-null   object \n",
      " 16  pdf                     6574 non-null   object \n",
      " 17  href formula            6571 non-null   object \n",
      " 18  href                    6573 non-null   object \n",
      " 19  Case Number.1           6574 non-null   object \n",
      " 20  Case Number.2           6574 non-null   object \n",
      " 21  original order          6575 non-null   float64\n",
      " 22  Unnamed: 22             1 non-null      object \n",
      " 23  Unnamed: 23             2 non-null      object \n",
      "dtypes: float64(2), object(22)\n",
      "memory usage: 4.7+ MB\n"
     ]
    }
   ],
   "source": [
    "df_bkp.info()"
   ]
  },
  {
   "cell_type": "markdown",
   "metadata": {},
   "source": [
    "# HYPOTHESIS: \n",
    "- There is more death cases with **man than woman** (SEX AND FATAL (Y/N) COLUMNS) **OK**\n",
    "- There is more death cases with **man than woman** in all centuries **OK**\n",
    "- Surf is the activity which causes more accident **in the last years** (YEAR AND ACTIVITY COLUMNS)\n",
    "- Most of the cases were **unprovoked** (TYPE COLUMN)\n",
    "- **Young people** is more likely to die by shark attacks (AGE COLUMN)\n",
    "- The **location** with greater number of cases has no legislation or safety measures (COUNTRY AND AREA)\n",
    "- Season with more cases is summer (DATE COLUMN AND **NEW COLUMN SEASON**)\n",
    "- The most dangerous species of shark (SPECIES COLUMN) "
   ]
  },
  {
   "cell_type": "markdown",
   "metadata": {},
   "source": [
    "STEPS"
   ]
  },
  {
   "cell_type": "markdown",
   "metadata": {
    "ExecuteTime": {
     "end_time": "2020-09-23T01:01:19.232709Z",
     "start_time": "2020-09-23T01:01:19.199951Z"
    }
   },
   "source": [
    "- Use columns: \n",
    "\n",
    "`['Date', 'Year', 'Type', 'Country', 'Area', 'Sex ', 'Age','Species ','Activity','Fatal (Y/N)']`\n",
    "\n",
    "\n",
    "- Drop columns: \n",
    "\n",
    "`['Case Number', 'Name', 'Location', 'Injury', 'Time','Investigator or Source', 'pdf', 'href formula', 'href', 'Case Number.1', 'Case Number.2', 'original order', 'Unnamed: 22', 'Unnamed: 23']`\n",
    "\n",
    "\n",
    "- Rename columns (df = df.rename(columns = {'Date' : 'date'}) OR df.rename({'Date' : 'date'}, axis =1, inplace = True):\n",
    "    - lower case\n",
    "    - no spaces\n",
    "\n",
    "\n",
    "- Rename similar words in lines:\n",
    "    - **m:** male, M \n",
    "    - **f:** female, F \n",
    "    - **y:** Yes, Y, y \n",
    "    - **n:** No, no, N\n",
    "\n",
    "\n",
    "- Analise columns with NAN:\n",
    "    - Substitute NAN to 0 (`df.fillna(0)`) when necessary\n"
   ]
  },
  {
   "cell_type": "markdown",
   "metadata": {},
   "source": [
    "# RESULTS"
   ]
  },
  {
   "cell_type": "markdown",
   "metadata": {},
   "source": [
    "- Filtering Data Frame and renaming columns"
   ]
  },
  {
   "cell_type": "code",
   "execution_count": 345,
   "metadata": {
    "ExecuteTime": {
     "end_time": "2020-09-30T02:12:41.162285Z",
     "start_time": "2020-09-30T02:12:41.082942Z"
    }
   },
   "outputs": [
    {
     "data": {
      "text/html": [
       "<div>\n",
       "<style scoped>\n",
       "    .dataframe tbody tr th:only-of-type {\n",
       "        vertical-align: middle;\n",
       "    }\n",
       "\n",
       "    .dataframe tbody tr th {\n",
       "        vertical-align: top;\n",
       "    }\n",
       "\n",
       "    .dataframe thead th {\n",
       "        text-align: right;\n",
       "    }\n",
       "</style>\n",
       "<table border=\"1\" class=\"dataframe\">\n",
       "  <thead>\n",
       "    <tr style=\"text-align: right;\">\n",
       "      <th></th>\n",
       "      <th>Date</th>\n",
       "      <th>Year</th>\n",
       "      <th>Type</th>\n",
       "      <th>Country</th>\n",
       "      <th>Area</th>\n",
       "      <th>Sex</th>\n",
       "      <th>Age</th>\n",
       "      <th>Species</th>\n",
       "      <th>Activity</th>\n",
       "      <th>Fatal (Y/N)</th>\n",
       "    </tr>\n",
       "  </thead>\n",
       "  <tbody>\n",
       "    <tr>\n",
       "      <th>0</th>\n",
       "      <td>20-Sep-2020</td>\n",
       "      <td>2020.0</td>\n",
       "      <td>Unprovoked</td>\n",
       "      <td>USA</td>\n",
       "      <td>Florida</td>\n",
       "      <td>M</td>\n",
       "      <td>30</td>\n",
       "      <td>Bull shark</td>\n",
       "      <td>Snorkeling</td>\n",
       "      <td>N</td>\n",
       "    </tr>\n",
       "    <tr>\n",
       "      <th>1</th>\n",
       "      <td>17-Sep-2020</td>\n",
       "      <td>2020.0</td>\n",
       "      <td>Provoked</td>\n",
       "      <td>AUSTRALIA</td>\n",
       "      <td>Queensland</td>\n",
       "      <td>M</td>\n",
       "      <td>50s</td>\n",
       "      <td>\"whitetip shark\"</td>\n",
       "      <td>Fishing</td>\n",
       "      <td>N</td>\n",
       "    </tr>\n",
       "    <tr>\n",
       "      <th>2</th>\n",
       "      <td>16-Sep-2020</td>\n",
       "      <td>2020.0</td>\n",
       "      <td>Unprovoked</td>\n",
       "      <td>AUSTRALIA</td>\n",
       "      <td>New South Wales</td>\n",
       "      <td>M</td>\n",
       "      <td>NaN</td>\n",
       "      <td>White shark</td>\n",
       "      <td>Foil-boarding</td>\n",
       "      <td>N</td>\n",
       "    </tr>\n",
       "    <tr>\n",
       "      <th>3</th>\n",
       "      <td>16-Sep-2020</td>\n",
       "      <td>2020.0</td>\n",
       "      <td>NaN</td>\n",
       "      <td>USA</td>\n",
       "      <td>Florida</td>\n",
       "      <td>M</td>\n",
       "      <td>48</td>\n",
       "      <td>Shark involvement not confirmed</td>\n",
       "      <td>Swimming</td>\n",
       "      <td>N</td>\n",
       "    </tr>\n",
       "    <tr>\n",
       "      <th>4</th>\n",
       "      <td>15-Sep-2020</td>\n",
       "      <td>2020.0</td>\n",
       "      <td>Unprovoked</td>\n",
       "      <td>USA</td>\n",
       "      <td>Florida</td>\n",
       "      <td>M</td>\n",
       "      <td>15</td>\n",
       "      <td>NaN</td>\n",
       "      <td>Surfing</td>\n",
       "      <td>N</td>\n",
       "    </tr>\n",
       "  </tbody>\n",
       "</table>\n",
       "</div>"
      ],
      "text/plain": [
       "          Date    Year        Type    Country             Area Sex   Age  \\\n",
       "0  20-Sep-2020  2020.0  Unprovoked        USA          Florida    M   30   \n",
       "1  17-Sep-2020  2020.0    Provoked  AUSTRALIA       Queensland    M  50s   \n",
       "2  16-Sep-2020  2020.0  Unprovoked  AUSTRALIA  New South Wales    M  NaN   \n",
       "3  16-Sep-2020  2020.0         NaN        USA          Florida    M   48   \n",
       "4  15-Sep-2020  2020.0  Unprovoked        USA          Florida    M   15   \n",
       "\n",
       "                          Species        Activity Fatal (Y/N)  \n",
       "0                       Bull shark     Snorkeling           N  \n",
       "1                 \"whitetip shark\"        Fishing           N  \n",
       "2                      White shark  Foil-boarding           N  \n",
       "3  Shark involvement not confirmed       Swimming           N  \n",
       "4                              NaN        Surfing           N  "
      ]
     },
     "execution_count": 345,
     "metadata": {},
     "output_type": "execute_result"
    }
   ],
   "source": [
    "# Filtering data frame with useful columns\n",
    "\n",
    "df = df.loc[:,['Date', 'Year', 'Type', 'Country', 'Area', 'Sex ', 'Age','Species ','Activity','Fatal (Y/N)']]\n",
    "df.head()"
   ]
  },
  {
   "cell_type": "code",
   "execution_count": 346,
   "metadata": {
    "ExecuteTime": {
     "end_time": "2020-09-30T02:12:43.204405Z",
     "start_time": "2020-09-30T02:12:43.162042Z"
    }
   },
   "outputs": [
    {
     "data": {
      "text/html": [
       "<div>\n",
       "<style scoped>\n",
       "    .dataframe tbody tr th:only-of-type {\n",
       "        vertical-align: middle;\n",
       "    }\n",
       "\n",
       "    .dataframe tbody tr th {\n",
       "        vertical-align: top;\n",
       "    }\n",
       "\n",
       "    .dataframe thead th {\n",
       "        text-align: right;\n",
       "    }\n",
       "</style>\n",
       "<table border=\"1\" class=\"dataframe\">\n",
       "  <thead>\n",
       "    <tr style=\"text-align: right;\">\n",
       "      <th></th>\n",
       "      <th>date</th>\n",
       "      <th>year</th>\n",
       "      <th>type</th>\n",
       "      <th>country</th>\n",
       "      <th>area</th>\n",
       "      <th>sex</th>\n",
       "      <th>age</th>\n",
       "      <th>species</th>\n",
       "      <th>activity</th>\n",
       "      <th>fatal</th>\n",
       "    </tr>\n",
       "  </thead>\n",
       "  <tbody>\n",
       "    <tr>\n",
       "      <th>0</th>\n",
       "      <td>20-Sep-2020</td>\n",
       "      <td>2020.0</td>\n",
       "      <td>Unprovoked</td>\n",
       "      <td>USA</td>\n",
       "      <td>Florida</td>\n",
       "      <td>M</td>\n",
       "      <td>30</td>\n",
       "      <td>Bull shark</td>\n",
       "      <td>Snorkeling</td>\n",
       "      <td>N</td>\n",
       "    </tr>\n",
       "    <tr>\n",
       "      <th>1</th>\n",
       "      <td>17-Sep-2020</td>\n",
       "      <td>2020.0</td>\n",
       "      <td>Provoked</td>\n",
       "      <td>AUSTRALIA</td>\n",
       "      <td>Queensland</td>\n",
       "      <td>M</td>\n",
       "      <td>50s</td>\n",
       "      <td>\"whitetip shark\"</td>\n",
       "      <td>Fishing</td>\n",
       "      <td>N</td>\n",
       "    </tr>\n",
       "    <tr>\n",
       "      <th>2</th>\n",
       "      <td>16-Sep-2020</td>\n",
       "      <td>2020.0</td>\n",
       "      <td>Unprovoked</td>\n",
       "      <td>AUSTRALIA</td>\n",
       "      <td>New South Wales</td>\n",
       "      <td>M</td>\n",
       "      <td>NaN</td>\n",
       "      <td>White shark</td>\n",
       "      <td>Foil-boarding</td>\n",
       "      <td>N</td>\n",
       "    </tr>\n",
       "    <tr>\n",
       "      <th>3</th>\n",
       "      <td>16-Sep-2020</td>\n",
       "      <td>2020.0</td>\n",
       "      <td>NaN</td>\n",
       "      <td>USA</td>\n",
       "      <td>Florida</td>\n",
       "      <td>M</td>\n",
       "      <td>48</td>\n",
       "      <td>Shark involvement not confirmed</td>\n",
       "      <td>Swimming</td>\n",
       "      <td>N</td>\n",
       "    </tr>\n",
       "    <tr>\n",
       "      <th>4</th>\n",
       "      <td>15-Sep-2020</td>\n",
       "      <td>2020.0</td>\n",
       "      <td>Unprovoked</td>\n",
       "      <td>USA</td>\n",
       "      <td>Florida</td>\n",
       "      <td>M</td>\n",
       "      <td>15</td>\n",
       "      <td>NaN</td>\n",
       "      <td>Surfing</td>\n",
       "      <td>N</td>\n",
       "    </tr>\n",
       "  </tbody>\n",
       "</table>\n",
       "</div>"
      ],
      "text/plain": [
       "          date    year        type    country             area sex  age  \\\n",
       "0  20-Sep-2020  2020.0  Unprovoked        USA          Florida   M   30   \n",
       "1  17-Sep-2020  2020.0    Provoked  AUSTRALIA       Queensland   M  50s   \n",
       "2  16-Sep-2020  2020.0  Unprovoked  AUSTRALIA  New South Wales   M  NaN   \n",
       "3  16-Sep-2020  2020.0         NaN        USA          Florida   M   48   \n",
       "4  15-Sep-2020  2020.0  Unprovoked        USA          Florida   M   15   \n",
       "\n",
       "                           species       activity fatal  \n",
       "0                       Bull shark     Snorkeling     N  \n",
       "1                 \"whitetip shark\"        Fishing     N  \n",
       "2                      White shark  Foil-boarding     N  \n",
       "3  Shark involvement not confirmed       Swimming     N  \n",
       "4                              NaN        Surfing     N  "
      ]
     },
     "execution_count": 346,
     "metadata": {},
     "output_type": "execute_result"
    }
   ],
   "source": [
    "# Renaming columns\n",
    "\n",
    "df.rename({'Date':'date', 'Year':'year', 'Type':'type', 'Country':'country', 'Area':'area', \n",
    "                 'Sex ':'sex', 'Age':'age','Species ':'species','Activity':'activity',\n",
    "                 'Fatal (Y/N)':'fatal'}, axis =1, inplace = True)\n",
    "df.head()"
   ]
  },
  {
   "cell_type": "markdown",
   "metadata": {},
   "source": [
    "## There is more death cases with **man than woman** (DATE, YEAR, SEX AND FATAL (Y/N) COLUMNS)\n"
   ]
  },
  {
   "cell_type": "markdown",
   "metadata": {},
   "source": [
    "### **Working with `date` and `year`:**"
   ]
  },
  {
   "cell_type": "markdown",
   "metadata": {},
   "source": [
    " - Delete null values\n",
    "    \n",
    "    - regex to use only the year\n",
    "    \n",
    "        `pattern = '\\d\\d\\d\\d'`\n",
    "        \n",
    "        `print(re.findall(pattern, text))`\n",
    "        \n",
    "    - group the number of fatal cases of the same year\n",
    "    \n",
    "        `fatal_cases_year = df.groupby('date', as_index = False)`"
   ]
  },
  {
   "cell_type": "code",
   "execution_count": 347,
   "metadata": {
    "ExecuteTime": {
     "end_time": "2020-09-30T02:12:45.089965Z",
     "start_time": "2020-09-30T02:12:45.070627Z"
    }
   },
   "outputs": [
    {
     "data": {
      "text/plain": [
       "1957           9\n",
       "1942           8\n",
       "1958           7\n",
       "No date        6\n",
       "1956           6\n",
       "              ..\n",
       "26-Mar-1951    1\n",
       "Aug-1950       1\n",
       "09-Apr-2002    1\n",
       "27-Jul-1960    1\n",
       "08-Mar-1942    1\n",
       "Name: date, Length: 5685, dtype: int64"
      ]
     },
     "execution_count": 347,
     "metadata": {},
     "output_type": "execute_result"
    }
   ],
   "source": [
    "df['date'].value_counts()"
   ]
  },
  {
   "cell_type": "code",
   "execution_count": 348,
   "metadata": {
    "ExecuteTime": {
     "end_time": "2020-09-30T02:12:47.090411Z",
     "start_time": "2020-09-30T02:12:47.071147Z"
    }
   },
   "outputs": [
    {
     "data": {
      "text/plain": [
       "2015.0    143\n",
       "2017.0    139\n",
       "2016.0    131\n",
       "2011.0    128\n",
       "2014.0    127\n",
       "         ... \n",
       "1753.0      1\n",
       "77.0        1\n",
       "1785.0      1\n",
       "1800.0      1\n",
       "1543.0      1\n",
       "Name: year, Length: 251, dtype: int64"
      ]
     },
     "execution_count": 348,
     "metadata": {},
     "output_type": "execute_result"
    }
   ],
   "source": [
    "df['year'].value_counts()"
   ]
  },
  {
   "cell_type": "code",
   "execution_count": 349,
   "metadata": {
    "ExecuteTime": {
     "end_time": "2020-09-30T02:12:48.952861Z",
     "start_time": "2020-09-30T02:12:48.925905Z"
    }
   },
   "outputs": [
    {
     "name": "stdout",
     "output_type": "stream",
     "text": [
      "<class 'pandas.core.frame.DataFrame'>\n",
      "RangeIndex: 25796 entries, 0 to 25795\n",
      "Data columns (total 10 columns):\n",
      " #   Column    Non-Null Count  Dtype  \n",
      "---  ------    --------------  -----  \n",
      " 0   date      6575 non-null   object \n",
      " 1   year      6573 non-null   float64\n",
      " 2   type      6566 non-null   object \n",
      " 3   country   6525 non-null   object \n",
      " 4   area      6108 non-null   object \n",
      " 5   sex       6003 non-null   object \n",
      " 6   age       3672 non-null   object \n",
      " 7   species   3622 non-null   object \n",
      " 8   activity  6018 non-null   object \n",
      " 9   fatal     6023 non-null   object \n",
      "dtypes: float64(1), object(9)\n",
      "memory usage: 2.0+ MB\n"
     ]
    }
   ],
   "source": [
    "df.info()"
   ]
  },
  {
   "cell_type": "code",
   "execution_count": 350,
   "metadata": {
    "ExecuteTime": {
     "end_time": "2020-09-30T02:12:50.823830Z",
     "start_time": "2020-09-30T02:12:50.790996Z"
    }
   },
   "outputs": [
    {
     "data": {
      "text/html": [
       "<div>\n",
       "<style scoped>\n",
       "    .dataframe tbody tr th:only-of-type {\n",
       "        vertical-align: middle;\n",
       "    }\n",
       "\n",
       "    .dataframe tbody tr th {\n",
       "        vertical-align: top;\n",
       "    }\n",
       "\n",
       "    .dataframe thead th {\n",
       "        text-align: right;\n",
       "    }\n",
       "</style>\n",
       "<table border=\"1\" class=\"dataframe\">\n",
       "  <thead>\n",
       "    <tr style=\"text-align: right;\">\n",
       "      <th></th>\n",
       "      <th>date</th>\n",
       "      <th>year</th>\n",
       "      <th>type</th>\n",
       "      <th>country</th>\n",
       "      <th>area</th>\n",
       "      <th>sex</th>\n",
       "      <th>age</th>\n",
       "      <th>species</th>\n",
       "      <th>activity</th>\n",
       "      <th>fatal</th>\n",
       "    </tr>\n",
       "  </thead>\n",
       "  <tbody>\n",
       "    <tr>\n",
       "      <th>444</th>\n",
       "      <td>Reported 08-Jan-2017</td>\n",
       "      <td>NaN</td>\n",
       "      <td>Invalid</td>\n",
       "      <td>AUSTRALIA</td>\n",
       "      <td>Queensland</td>\n",
       "      <td>M</td>\n",
       "      <td>35</td>\n",
       "      <td>Bull shark</td>\n",
       "      <td>Spearfishing</td>\n",
       "      <td>NaN</td>\n",
       "    </tr>\n",
       "    <tr>\n",
       "      <th>6351</th>\n",
       "      <td>Reported 19-Aug-1836</td>\n",
       "      <td>NaN</td>\n",
       "      <td>Unprovoked</td>\n",
       "      <td>ENGLAND</td>\n",
       "      <td>Cumberland</td>\n",
       "      <td>M</td>\n",
       "      <td>NaN</td>\n",
       "      <td>NaN</td>\n",
       "      <td>Swimming</td>\n",
       "      <td>Y</td>\n",
       "    </tr>\n",
       "    <tr>\n",
       "      <th>6575</th>\n",
       "      <td>NaN</td>\n",
       "      <td>NaN</td>\n",
       "      <td>NaN</td>\n",
       "      <td>NaN</td>\n",
       "      <td>NaN</td>\n",
       "      <td>NaN</td>\n",
       "      <td>NaN</td>\n",
       "      <td>NaN</td>\n",
       "      <td>NaN</td>\n",
       "      <td>NaN</td>\n",
       "    </tr>\n",
       "    <tr>\n",
       "      <th>6576</th>\n",
       "      <td>NaN</td>\n",
       "      <td>NaN</td>\n",
       "      <td>NaN</td>\n",
       "      <td>NaN</td>\n",
       "      <td>NaN</td>\n",
       "      <td>NaN</td>\n",
       "      <td>NaN</td>\n",
       "      <td>NaN</td>\n",
       "      <td>NaN</td>\n",
       "      <td>NaN</td>\n",
       "    </tr>\n",
       "    <tr>\n",
       "      <th>6577</th>\n",
       "      <td>NaN</td>\n",
       "      <td>NaN</td>\n",
       "      <td>NaN</td>\n",
       "      <td>NaN</td>\n",
       "      <td>NaN</td>\n",
       "      <td>NaN</td>\n",
       "      <td>NaN</td>\n",
       "      <td>NaN</td>\n",
       "      <td>NaN</td>\n",
       "      <td>NaN</td>\n",
       "    </tr>\n",
       "    <tr>\n",
       "      <th>...</th>\n",
       "      <td>...</td>\n",
       "      <td>...</td>\n",
       "      <td>...</td>\n",
       "      <td>...</td>\n",
       "      <td>...</td>\n",
       "      <td>...</td>\n",
       "      <td>...</td>\n",
       "      <td>...</td>\n",
       "      <td>...</td>\n",
       "      <td>...</td>\n",
       "    </tr>\n",
       "    <tr>\n",
       "      <th>25791</th>\n",
       "      <td>NaN</td>\n",
       "      <td>NaN</td>\n",
       "      <td>NaN</td>\n",
       "      <td>NaN</td>\n",
       "      <td>NaN</td>\n",
       "      <td>NaN</td>\n",
       "      <td>NaN</td>\n",
       "      <td>NaN</td>\n",
       "      <td>NaN</td>\n",
       "      <td>NaN</td>\n",
       "    </tr>\n",
       "    <tr>\n",
       "      <th>25792</th>\n",
       "      <td>NaN</td>\n",
       "      <td>NaN</td>\n",
       "      <td>NaN</td>\n",
       "      <td>NaN</td>\n",
       "      <td>NaN</td>\n",
       "      <td>NaN</td>\n",
       "      <td>NaN</td>\n",
       "      <td>NaN</td>\n",
       "      <td>NaN</td>\n",
       "      <td>NaN</td>\n",
       "    </tr>\n",
       "    <tr>\n",
       "      <th>25793</th>\n",
       "      <td>NaN</td>\n",
       "      <td>NaN</td>\n",
       "      <td>NaN</td>\n",
       "      <td>NaN</td>\n",
       "      <td>NaN</td>\n",
       "      <td>NaN</td>\n",
       "      <td>NaN</td>\n",
       "      <td>NaN</td>\n",
       "      <td>NaN</td>\n",
       "      <td>NaN</td>\n",
       "    </tr>\n",
       "    <tr>\n",
       "      <th>25794</th>\n",
       "      <td>NaN</td>\n",
       "      <td>NaN</td>\n",
       "      <td>NaN</td>\n",
       "      <td>NaN</td>\n",
       "      <td>NaN</td>\n",
       "      <td>NaN</td>\n",
       "      <td>NaN</td>\n",
       "      <td>NaN</td>\n",
       "      <td>NaN</td>\n",
       "      <td>NaN</td>\n",
       "    </tr>\n",
       "    <tr>\n",
       "      <th>25795</th>\n",
       "      <td>NaN</td>\n",
       "      <td>NaN</td>\n",
       "      <td>NaN</td>\n",
       "      <td>NaN</td>\n",
       "      <td>NaN</td>\n",
       "      <td>NaN</td>\n",
       "      <td>NaN</td>\n",
       "      <td>NaN</td>\n",
       "      <td>NaN</td>\n",
       "      <td>NaN</td>\n",
       "    </tr>\n",
       "  </tbody>\n",
       "</table>\n",
       "<p>19223 rows × 10 columns</p>\n",
       "</div>"
      ],
      "text/plain": [
       "                       date  year        type    country        area  sex  \\\n",
       "444    Reported 08-Jan-2017   NaN     Invalid  AUSTRALIA  Queensland    M   \n",
       "6351   Reported 19-Aug-1836   NaN  Unprovoked    ENGLAND  Cumberland    M   \n",
       "6575                    NaN   NaN         NaN        NaN         NaN  NaN   \n",
       "6576                    NaN   NaN         NaN        NaN         NaN  NaN   \n",
       "6577                    NaN   NaN         NaN        NaN         NaN  NaN   \n",
       "...                     ...   ...         ...        ...         ...  ...   \n",
       "25791                   NaN   NaN         NaN        NaN         NaN  NaN   \n",
       "25792                   NaN   NaN         NaN        NaN         NaN  NaN   \n",
       "25793                   NaN   NaN         NaN        NaN         NaN  NaN   \n",
       "25794                   NaN   NaN         NaN        NaN         NaN  NaN   \n",
       "25795                   NaN   NaN         NaN        NaN         NaN  NaN   \n",
       "\n",
       "       age     species      activity fatal  \n",
       "444     35  Bull shark  Spearfishing   NaN  \n",
       "6351   NaN         NaN      Swimming     Y  \n",
       "6575   NaN         NaN           NaN   NaN  \n",
       "6576   NaN         NaN           NaN   NaN  \n",
       "6577   NaN         NaN           NaN   NaN  \n",
       "...    ...         ...           ...   ...  \n",
       "25791  NaN         NaN           NaN   NaN  \n",
       "25792  NaN         NaN           NaN   NaN  \n",
       "25793  NaN         NaN           NaN   NaN  \n",
       "25794  NaN         NaN           NaN   NaN  \n",
       "25795  NaN         NaN           NaN   NaN  \n",
       "\n",
       "[19223 rows x 10 columns]"
      ]
     },
     "execution_count": 350,
     "metadata": {},
     "output_type": "execute_result"
    }
   ],
   "source": [
    "null_lines = df['year'].isnull()\n",
    "df[null_lines]"
   ]
  },
  {
   "cell_type": "code",
   "execution_count": 351,
   "metadata": {
    "ExecuteTime": {
     "end_time": "2020-09-30T02:12:52.428798Z",
     "start_time": "2020-09-30T02:12:52.415566Z"
    }
   },
   "outputs": [
    {
     "data": {
      "text/plain": [
       "19223"
      ]
     },
     "execution_count": 351,
     "metadata": {},
     "output_type": "execute_result"
    }
   ],
   "source": [
    "len(df[null_lines])"
   ]
  },
  {
   "cell_type": "code",
   "execution_count": 352,
   "metadata": {
    "ExecuteTime": {
     "end_time": "2020-09-30T02:12:53.839829Z",
     "start_time": "2020-09-30T02:12:53.808674Z"
    }
   },
   "outputs": [
    {
     "data": {
      "text/plain": [
       "6573"
      ]
     },
     "execution_count": 352,
     "metadata": {},
     "output_type": "execute_result"
    }
   ],
   "source": [
    "drop_lines = list(df[null_lines].index)\n",
    "df = df.drop(drop_lines, axis = 0)\n",
    "len(df)"
   ]
  },
  {
   "cell_type": "code",
   "execution_count": 353,
   "metadata": {
    "ExecuteTime": {
     "end_time": "2020-09-30T02:12:55.300011Z",
     "start_time": "2020-09-30T02:12:55.264211Z"
    }
   },
   "outputs": [
    {
     "data": {
      "text/html": [
       "<div>\n",
       "<style scoped>\n",
       "    .dataframe tbody tr th:only-of-type {\n",
       "        vertical-align: middle;\n",
       "    }\n",
       "\n",
       "    .dataframe tbody tr th {\n",
       "        vertical-align: top;\n",
       "    }\n",
       "\n",
       "    .dataframe thead th {\n",
       "        text-align: right;\n",
       "    }\n",
       "</style>\n",
       "<table border=\"1\" class=\"dataframe\">\n",
       "  <thead>\n",
       "    <tr style=\"text-align: right;\">\n",
       "      <th></th>\n",
       "      <th>date</th>\n",
       "      <th>year</th>\n",
       "      <th>type</th>\n",
       "      <th>country</th>\n",
       "      <th>area</th>\n",
       "      <th>sex</th>\n",
       "      <th>age</th>\n",
       "      <th>species</th>\n",
       "      <th>activity</th>\n",
       "      <th>fatal</th>\n",
       "    </tr>\n",
       "  </thead>\n",
       "  <tbody>\n",
       "    <tr>\n",
       "      <th>6449</th>\n",
       "      <td>Ca. 214 B.C.</td>\n",
       "      <td>0.0</td>\n",
       "      <td>Unprovoked</td>\n",
       "      <td>NaN</td>\n",
       "      <td>Ionian Sea</td>\n",
       "      <td>M</td>\n",
       "      <td>NaN</td>\n",
       "      <td>NaN</td>\n",
       "      <td>Ascending from a dive</td>\n",
       "      <td>Y</td>\n",
       "    </tr>\n",
       "    <tr>\n",
       "      <th>6450</th>\n",
       "      <td>Ca. 336.B.C..</td>\n",
       "      <td>0.0</td>\n",
       "      <td>Unprovoked</td>\n",
       "      <td>GREECE</td>\n",
       "      <td>Piraeus</td>\n",
       "      <td>M</td>\n",
       "      <td>NaN</td>\n",
       "      <td>NaN</td>\n",
       "      <td>Washing his pig in preparation for a religious...</td>\n",
       "      <td>Y</td>\n",
       "    </tr>\n",
       "    <tr>\n",
       "      <th>6451</th>\n",
       "      <td>493 B.C.</td>\n",
       "      <td>0.0</td>\n",
       "      <td>Sea Disaster</td>\n",
       "      <td>GREECE</td>\n",
       "      <td>Off Thessaly</td>\n",
       "      <td>M</td>\n",
       "      <td>NaN</td>\n",
       "      <td>NaN</td>\n",
       "      <td>Shipwrecked Persian Fleet</td>\n",
       "      <td>Y</td>\n",
       "    </tr>\n",
       "    <tr>\n",
       "      <th>6452</th>\n",
       "      <td>Ca. 725 B.C.</td>\n",
       "      <td>0.0</td>\n",
       "      <td>Sea Disaster</td>\n",
       "      <td>ITALY</td>\n",
       "      <td>Tyrrhenian Sea</td>\n",
       "      <td>M</td>\n",
       "      <td>NaN</td>\n",
       "      <td>NaN</td>\n",
       "      <td>Shipwreck</td>\n",
       "      <td>Y</td>\n",
       "    </tr>\n",
       "    <tr>\n",
       "      <th>6453</th>\n",
       "      <td>After 2013</td>\n",
       "      <td>0.0</td>\n",
       "      <td>Unprovoked</td>\n",
       "      <td>AUSTRALIA</td>\n",
       "      <td>Queensland</td>\n",
       "      <td>M</td>\n",
       "      <td>NaN</td>\n",
       "      <td>Hammerhead shark</td>\n",
       "      <td>Spearfishing</td>\n",
       "      <td>N</td>\n",
       "    </tr>\n",
       "    <tr>\n",
       "      <th>...</th>\n",
       "      <td>...</td>\n",
       "      <td>...</td>\n",
       "      <td>...</td>\n",
       "      <td>...</td>\n",
       "      <td>...</td>\n",
       "      <td>...</td>\n",
       "      <td>...</td>\n",
       "      <td>...</td>\n",
       "      <td>...</td>\n",
       "      <td>...</td>\n",
       "    </tr>\n",
       "    <tr>\n",
       "      <th>6570</th>\n",
       "      <td>Before 1903</td>\n",
       "      <td>0.0</td>\n",
       "      <td>Unprovoked</td>\n",
       "      <td>AUSTRALIA</td>\n",
       "      <td>Western Australia</td>\n",
       "      <td>M</td>\n",
       "      <td>NaN</td>\n",
       "      <td>NaN</td>\n",
       "      <td>Diving</td>\n",
       "      <td>Y</td>\n",
       "    </tr>\n",
       "    <tr>\n",
       "      <th>6571</th>\n",
       "      <td>Before 1903</td>\n",
       "      <td>0.0</td>\n",
       "      <td>Unprovoked</td>\n",
       "      <td>AUSTRALIA</td>\n",
       "      <td>Western Australia</td>\n",
       "      <td>M</td>\n",
       "      <td>NaN</td>\n",
       "      <td>NaN</td>\n",
       "      <td>Pearl diving</td>\n",
       "      <td>Y</td>\n",
       "    </tr>\n",
       "    <tr>\n",
       "      <th>6572</th>\n",
       "      <td>1900-1905</td>\n",
       "      <td>0.0</td>\n",
       "      <td>Unprovoked</td>\n",
       "      <td>USA</td>\n",
       "      <td>North Carolina</td>\n",
       "      <td>M</td>\n",
       "      <td>NaN</td>\n",
       "      <td>NaN</td>\n",
       "      <td>Swimming</td>\n",
       "      <td>Y</td>\n",
       "    </tr>\n",
       "    <tr>\n",
       "      <th>6573</th>\n",
       "      <td>1883-1889</td>\n",
       "      <td>0.0</td>\n",
       "      <td>Unprovoked</td>\n",
       "      <td>PANAMA</td>\n",
       "      <td>NaN</td>\n",
       "      <td>M</td>\n",
       "      <td>NaN</td>\n",
       "      <td>NaN</td>\n",
       "      <td>NaN</td>\n",
       "      <td>Y</td>\n",
       "    </tr>\n",
       "    <tr>\n",
       "      <th>6574</th>\n",
       "      <td>1845-1853</td>\n",
       "      <td>0.0</td>\n",
       "      <td>Unprovoked</td>\n",
       "      <td>CEYLON (SRI LANKA)</td>\n",
       "      <td>Eastern Province</td>\n",
       "      <td>M</td>\n",
       "      <td>15</td>\n",
       "      <td>NaN</td>\n",
       "      <td>Swimming</td>\n",
       "      <td>Y</td>\n",
       "    </tr>\n",
       "  </tbody>\n",
       "</table>\n",
       "<p>126 rows × 10 columns</p>\n",
       "</div>"
      ],
      "text/plain": [
       "               date  year          type             country  \\\n",
       "6449   Ca. 214 B.C.   0.0    Unprovoked                 NaN   \n",
       "6450  Ca. 336.B.C..   0.0    Unprovoked              GREECE   \n",
       "6451       493 B.C.   0.0  Sea Disaster              GREECE   \n",
       "6452   Ca. 725 B.C.   0.0  Sea Disaster               ITALY   \n",
       "6453     After 2013   0.0    Unprovoked           AUSTRALIA   \n",
       "...             ...   ...           ...                 ...   \n",
       "6570    Before 1903   0.0    Unprovoked           AUSTRALIA   \n",
       "6571    Before 1903   0.0    Unprovoked           AUSTRALIA   \n",
       "6572      1900-1905   0.0    Unprovoked                 USA   \n",
       "6573      1883-1889   0.0    Unprovoked              PANAMA   \n",
       "6574      1845-1853   0.0    Unprovoked  CEYLON (SRI LANKA)   \n",
       "\n",
       "                   area sex  age           species  \\\n",
       "6449         Ionian Sea   M  NaN               NaN   \n",
       "6450            Piraeus   M  NaN               NaN   \n",
       "6451       Off Thessaly   M  NaN               NaN   \n",
       "6452     Tyrrhenian Sea   M  NaN               NaN   \n",
       "6453         Queensland   M  NaN  Hammerhead shark   \n",
       "...                 ...  ..  ...               ...   \n",
       "6570  Western Australia   M  NaN               NaN   \n",
       "6571  Western Australia   M  NaN               NaN   \n",
       "6572     North Carolina   M  NaN               NaN   \n",
       "6573                NaN   M  NaN               NaN   \n",
       "6574   Eastern Province   M   15               NaN   \n",
       "\n",
       "                                               activity fatal  \n",
       "6449                              Ascending from a dive     Y  \n",
       "6450  Washing his pig in preparation for a religious...     Y  \n",
       "6451                          Shipwrecked Persian Fleet     Y  \n",
       "6452                                          Shipwreck     Y  \n",
       "6453                                      Spearfishing      N  \n",
       "...                                                 ...   ...  \n",
       "6570                                             Diving     Y  \n",
       "6571                                       Pearl diving     Y  \n",
       "6572                                           Swimming     Y  \n",
       "6573                                                NaN     Y  \n",
       "6574                                           Swimming     Y  \n",
       "\n",
       "[126 rows x 10 columns]"
      ]
     },
     "execution_count": 353,
     "metadata": {},
     "output_type": "execute_result"
    }
   ],
   "source": [
    "zero = df.loc[(df['year'] == 0)]\n",
    "zero"
   ]
  },
  {
   "cell_type": "markdown",
   "metadata": {},
   "source": [
    "- **When year is equal 0, it is related to data from around 1900**\n",
    "    - Before Century XIX: <= 1800\n",
    "    - Century XIX: 1801 to 1900\n",
    "    - Century XX: 1901 to 2000\n",
    "    - Century XXI: 2001 to 2100"
   ]
  },
  {
   "cell_type": "code",
   "execution_count": 354,
   "metadata": {
    "ExecuteTime": {
     "end_time": "2020-09-30T02:12:56.763385Z",
     "start_time": "2020-09-30T02:12:56.756060Z"
    }
   },
   "outputs": [],
   "source": [
    "df['year'] = df['year'].astype('int')"
   ]
  },
  {
   "cell_type": "code",
   "execution_count": 355,
   "metadata": {
    "ExecuteTime": {
     "end_time": "2020-09-30T02:12:58.261395Z",
     "start_time": "2020-09-30T02:12:58.229273Z"
    }
   },
   "outputs": [
    {
     "data": {
      "text/html": [
       "<div>\n",
       "<style scoped>\n",
       "    .dataframe tbody tr th:only-of-type {\n",
       "        vertical-align: middle;\n",
       "    }\n",
       "\n",
       "    .dataframe tbody tr th {\n",
       "        vertical-align: top;\n",
       "    }\n",
       "\n",
       "    .dataframe thead th {\n",
       "        text-align: right;\n",
       "    }\n",
       "</style>\n",
       "<table border=\"1\" class=\"dataframe\">\n",
       "  <thead>\n",
       "    <tr style=\"text-align: right;\">\n",
       "      <th></th>\n",
       "      <th>date</th>\n",
       "      <th>year</th>\n",
       "      <th>type</th>\n",
       "      <th>country</th>\n",
       "      <th>area</th>\n",
       "      <th>sex</th>\n",
       "      <th>age</th>\n",
       "      <th>species</th>\n",
       "      <th>activity</th>\n",
       "      <th>fatal</th>\n",
       "    </tr>\n",
       "  </thead>\n",
       "  <tbody>\n",
       "    <tr>\n",
       "      <th>0</th>\n",
       "      <td>20-Sep-2020</td>\n",
       "      <td>2020</td>\n",
       "      <td>Unprovoked</td>\n",
       "      <td>USA</td>\n",
       "      <td>Florida</td>\n",
       "      <td>M</td>\n",
       "      <td>30</td>\n",
       "      <td>Bull shark</td>\n",
       "      <td>Snorkeling</td>\n",
       "      <td>N</td>\n",
       "    </tr>\n",
       "    <tr>\n",
       "      <th>1</th>\n",
       "      <td>17-Sep-2020</td>\n",
       "      <td>2020</td>\n",
       "      <td>Provoked</td>\n",
       "      <td>AUSTRALIA</td>\n",
       "      <td>Queensland</td>\n",
       "      <td>M</td>\n",
       "      <td>50s</td>\n",
       "      <td>\"whitetip shark\"</td>\n",
       "      <td>Fishing</td>\n",
       "      <td>N</td>\n",
       "    </tr>\n",
       "    <tr>\n",
       "      <th>2</th>\n",
       "      <td>16-Sep-2020</td>\n",
       "      <td>2020</td>\n",
       "      <td>Unprovoked</td>\n",
       "      <td>AUSTRALIA</td>\n",
       "      <td>New South Wales</td>\n",
       "      <td>M</td>\n",
       "      <td>NaN</td>\n",
       "      <td>White shark</td>\n",
       "      <td>Foil-boarding</td>\n",
       "      <td>N</td>\n",
       "    </tr>\n",
       "    <tr>\n",
       "      <th>3</th>\n",
       "      <td>16-Sep-2020</td>\n",
       "      <td>2020</td>\n",
       "      <td>NaN</td>\n",
       "      <td>USA</td>\n",
       "      <td>Florida</td>\n",
       "      <td>M</td>\n",
       "      <td>48</td>\n",
       "      <td>Shark involvement not confirmed</td>\n",
       "      <td>Swimming</td>\n",
       "      <td>N</td>\n",
       "    </tr>\n",
       "    <tr>\n",
       "      <th>4</th>\n",
       "      <td>15-Sep-2020</td>\n",
       "      <td>2020</td>\n",
       "      <td>Unprovoked</td>\n",
       "      <td>USA</td>\n",
       "      <td>Florida</td>\n",
       "      <td>M</td>\n",
       "      <td>15</td>\n",
       "      <td>NaN</td>\n",
       "      <td>Surfing</td>\n",
       "      <td>N</td>\n",
       "    </tr>\n",
       "    <tr>\n",
       "      <th>...</th>\n",
       "      <td>...</td>\n",
       "      <td>...</td>\n",
       "      <td>...</td>\n",
       "      <td>...</td>\n",
       "      <td>...</td>\n",
       "      <td>...</td>\n",
       "      <td>...</td>\n",
       "      <td>...</td>\n",
       "      <td>...</td>\n",
       "      <td>...</td>\n",
       "    </tr>\n",
       "    <tr>\n",
       "      <th>6570</th>\n",
       "      <td>Before 1903</td>\n",
       "      <td>0</td>\n",
       "      <td>Unprovoked</td>\n",
       "      <td>AUSTRALIA</td>\n",
       "      <td>Western Australia</td>\n",
       "      <td>M</td>\n",
       "      <td>NaN</td>\n",
       "      <td>NaN</td>\n",
       "      <td>Diving</td>\n",
       "      <td>Y</td>\n",
       "    </tr>\n",
       "    <tr>\n",
       "      <th>6571</th>\n",
       "      <td>Before 1903</td>\n",
       "      <td>0</td>\n",
       "      <td>Unprovoked</td>\n",
       "      <td>AUSTRALIA</td>\n",
       "      <td>Western Australia</td>\n",
       "      <td>M</td>\n",
       "      <td>NaN</td>\n",
       "      <td>NaN</td>\n",
       "      <td>Pearl diving</td>\n",
       "      <td>Y</td>\n",
       "    </tr>\n",
       "    <tr>\n",
       "      <th>6572</th>\n",
       "      <td>1900-1905</td>\n",
       "      <td>0</td>\n",
       "      <td>Unprovoked</td>\n",
       "      <td>USA</td>\n",
       "      <td>North Carolina</td>\n",
       "      <td>M</td>\n",
       "      <td>NaN</td>\n",
       "      <td>NaN</td>\n",
       "      <td>Swimming</td>\n",
       "      <td>Y</td>\n",
       "    </tr>\n",
       "    <tr>\n",
       "      <th>6573</th>\n",
       "      <td>1883-1889</td>\n",
       "      <td>0</td>\n",
       "      <td>Unprovoked</td>\n",
       "      <td>PANAMA</td>\n",
       "      <td>NaN</td>\n",
       "      <td>M</td>\n",
       "      <td>NaN</td>\n",
       "      <td>NaN</td>\n",
       "      <td>NaN</td>\n",
       "      <td>Y</td>\n",
       "    </tr>\n",
       "    <tr>\n",
       "      <th>6574</th>\n",
       "      <td>1845-1853</td>\n",
       "      <td>0</td>\n",
       "      <td>Unprovoked</td>\n",
       "      <td>CEYLON (SRI LANKA)</td>\n",
       "      <td>Eastern Province</td>\n",
       "      <td>M</td>\n",
       "      <td>15</td>\n",
       "      <td>NaN</td>\n",
       "      <td>Swimming</td>\n",
       "      <td>Y</td>\n",
       "    </tr>\n",
       "  </tbody>\n",
       "</table>\n",
       "<p>6573 rows × 10 columns</p>\n",
       "</div>"
      ],
      "text/plain": [
       "             date  year        type             country               area  \\\n",
       "0     20-Sep-2020  2020  Unprovoked                 USA            Florida   \n",
       "1     17-Sep-2020  2020    Provoked           AUSTRALIA         Queensland   \n",
       "2     16-Sep-2020  2020  Unprovoked           AUSTRALIA    New South Wales   \n",
       "3     16-Sep-2020  2020         NaN                 USA            Florida   \n",
       "4     15-Sep-2020  2020  Unprovoked                 USA            Florida   \n",
       "...           ...   ...         ...                 ...                ...   \n",
       "6570  Before 1903     0  Unprovoked           AUSTRALIA  Western Australia   \n",
       "6571  Before 1903     0  Unprovoked           AUSTRALIA  Western Australia   \n",
       "6572    1900-1905     0  Unprovoked                 USA     North Carolina   \n",
       "6573    1883-1889     0  Unprovoked              PANAMA                NaN   \n",
       "6574    1845-1853     0  Unprovoked  CEYLON (SRI LANKA)   Eastern Province   \n",
       "\n",
       "     sex  age                          species       activity fatal  \n",
       "0      M   30                       Bull shark     Snorkeling     N  \n",
       "1      M  50s                 \"whitetip shark\"        Fishing     N  \n",
       "2      M  NaN                      White shark  Foil-boarding     N  \n",
       "3      M   48  Shark involvement not confirmed       Swimming     N  \n",
       "4      M   15                              NaN        Surfing     N  \n",
       "...   ..  ...                              ...            ...   ...  \n",
       "6570   M  NaN                              NaN         Diving     Y  \n",
       "6571   M  NaN                              NaN   Pearl diving     Y  \n",
       "6572   M  NaN                              NaN       Swimming     Y  \n",
       "6573   M  NaN                              NaN            NaN     Y  \n",
       "6574   M   15                              NaN       Swimming     Y  \n",
       "\n",
       "[6573 rows x 10 columns]"
      ]
     },
     "execution_count": 355,
     "metadata": {},
     "output_type": "execute_result"
    }
   ],
   "source": [
    "df"
   ]
  },
  {
   "cell_type": "code",
   "execution_count": 356,
   "metadata": {
    "ExecuteTime": {
     "end_time": "2020-09-30T02:12:58.280545Z",
     "start_time": "2020-09-30T02:12:58.267481Z"
    }
   },
   "outputs": [
    {
     "data": {
      "text/plain": [
       "False    6573\n",
       "Name: year, dtype: int64"
      ]
     },
     "execution_count": 356,
     "metadata": {},
     "output_type": "execute_result"
    }
   ],
   "source": [
    "#Test if the column has null value\n",
    "\n",
    "df['year'].isnull().value_counts()"
   ]
  },
  {
   "cell_type": "code",
   "execution_count": 357,
   "metadata": {
    "ExecuteTime": {
     "end_time": "2020-09-30T02:13:01.199609Z",
     "start_time": "2020-09-30T02:13:01.187735Z"
    }
   },
   "outputs": [
    {
     "name": "stderr",
     "output_type": "stream",
     "text": [
      "/Users/aldreybaldovi/opt/anaconda3/lib/python3.7/site-packages/pandas/core/indexing.py:670: SettingWithCopyWarning: \n",
      "A value is trying to be set on a copy of a slice from a DataFrame\n",
      "\n",
      "See the caveats in the documentation: https://pandas.pydata.org/pandas-docs/stable/user_guide/indexing.html#returning-a-view-versus-a-copy\n",
      "  self._setitem_with_indexer(indexer, value)\n"
     ]
    }
   ],
   "source": [
    "#to update zero values to 1900 in column `year`\n",
    "df['year'].loc[(df['year'] == 0)] = 1800"
   ]
  },
  {
   "cell_type": "code",
   "execution_count": 358,
   "metadata": {
    "ExecuteTime": {
     "end_time": "2020-09-30T02:13:02.605260Z",
     "start_time": "2020-09-30T02:13:02.586896Z"
    }
   },
   "outputs": [
    {
     "data": {
      "text/plain": [
       "2015    143\n",
       "2017    139\n",
       "2016    131\n",
       "2011    128\n",
       "1800    127\n",
       "       ... \n",
       "1822      1\n",
       "1834      1\n",
       "1859      1\n",
       "77        1\n",
       "500       1\n",
       "Name: year, Length: 250, dtype: int64"
      ]
     },
     "execution_count": 358,
     "metadata": {},
     "output_type": "execute_result"
    }
   ],
   "source": [
    "df['year'].value_counts()"
   ]
  },
  {
   "cell_type": "markdown",
   "metadata": {},
   "source": [
    "**Try to find the 4 last numbers in date and replace it after:**"
   ]
  },
  {
   "cell_type": "code",
   "execution_count": 359,
   "metadata": {
    "ExecuteTime": {
     "end_time": "2020-09-30T02:13:06.321523Z",
     "start_time": "2020-09-30T02:13:06.311636Z"
    }
   },
   "outputs": [
    {
     "data": {
      "text/plain": [
       "\"df['date'] = df['date'].astype('str')\""
      ]
     },
     "execution_count": 359,
     "metadata": {},
     "output_type": "execute_result"
    }
   ],
   "source": [
    "'''df['date'] = df['date'].astype('str')'''"
   ]
  },
  {
   "cell_type": "code",
   "execution_count": 360,
   "metadata": {
    "ExecuteTime": {
     "end_time": "2020-09-30T02:13:09.052851Z",
     "start_time": "2020-09-30T02:13:09.034117Z"
    }
   },
   "outputs": [
    {
     "data": {
      "text/plain": [
       "\"text = [i for i in df['date']]\\npattern = '\\\\d\\\\d\\\\d\\\\d$'\\ndf['date_2'] = [re.findall(pattern, text)]\\ndf.head()\""
      ]
     },
     "execution_count": 360,
     "metadata": {},
     "output_type": "execute_result"
    }
   ],
   "source": [
    "'''text = [i for i in df['date']]\n",
    "pattern = '\\d\\d\\d\\d$'\n",
    "df['date_2'] = [re.findall(pattern, text)]\n",
    "df.head()'''"
   ]
  },
  {
   "cell_type": "markdown",
   "metadata": {
    "ExecuteTime": {
     "end_time": "2020-09-30T00:51:07.539443Z",
     "start_time": "2020-09-30T00:51:07.532440Z"
    }
   },
   "source": [
    "### **Working with `sex`:**"
   ]
  },
  {
   "cell_type": "markdown",
   "metadata": {
    "ExecuteTime": {
     "end_time": "2020-09-24T19:23:06.396357Z",
     "start_time": "2020-09-24T19:23:06.385215Z"
    }
   },
   "source": [
    "- Fatality cases per year according to sex:"
   ]
  },
  {
   "cell_type": "code",
   "execution_count": 361,
   "metadata": {
    "ExecuteTime": {
     "end_time": "2020-09-30T02:13:11.109086Z",
     "start_time": "2020-09-30T02:13:11.087973Z"
    }
   },
   "outputs": [],
   "source": [
    "def fill(x):\n",
    "    '''\n",
    "    Function to correct data from df['sex']\n",
    "    '''\n",
    "    \n",
    "    pattern_F = '.*[fF].*'\n",
    "    pattern_M = '.*[mM].*'\n",
    "    \n",
    "    if x != x:\n",
    "        return 'NaN'\n",
    "    \n",
    "    if len(re.findall(pattern_F, x)) == 0 and len(re.findall(pattern_M, x)) == 0:\n",
    "        return 'NaN'\n",
    "\n",
    "    \n",
    "    text = re.sub(pattern_F, 'F', x)\n",
    "    \n",
    "    text = re.sub(pattern_M, 'M', text)\n",
    "    \n",
    "    \n",
    "    \n",
    "    return text"
   ]
  },
  {
   "cell_type": "code",
   "execution_count": 362,
   "metadata": {
    "ExecuteTime": {
     "end_time": "2020-09-30T02:13:12.569940Z",
     "start_time": "2020-09-30T02:13:12.559092Z"
    }
   },
   "outputs": [
    {
     "name": "stdout",
     "output_type": "stream",
     "text": [
      "M\n",
      "M\n",
      "F\n",
      "F\n",
      "NaN\n",
      "M\n",
      "NaN\n"
     ]
    }
   ],
   "source": [
    "#test\n",
    "\n",
    "print(fill(' M'))\n",
    "print(fill('M '))\n",
    "print(fill(' F'))\n",
    "print(fill('F '))\n",
    "print(fill('lli'))\n",
    "print(fill('M x 2'))\n",
    "print(fill(np.nan))\n"
   ]
  },
  {
   "cell_type": "code",
   "execution_count": 363,
   "metadata": {
    "ExecuteTime": {
     "end_time": "2020-09-30T02:13:14.517166Z",
     "start_time": "2020-09-30T02:13:14.504601Z"
    }
   },
   "outputs": [
    {
     "data": {
      "text/plain": [
       "M        5299\n",
       "F         695\n",
       "M           2\n",
       "N           2\n",
       ".           1\n",
       "M x 2       1\n",
       "lli         1\n",
       "Name: sex, dtype: int64"
      ]
     },
     "execution_count": 363,
     "metadata": {},
     "output_type": "execute_result"
    }
   ],
   "source": [
    "df['sex'].value_counts()"
   ]
  },
  {
   "cell_type": "code",
   "execution_count": 364,
   "metadata": {
    "ExecuteTime": {
     "end_time": "2020-09-30T02:13:16.808644Z",
     "start_time": "2020-09-30T02:13:16.702807Z"
    }
   },
   "outputs": [
    {
     "data": {
      "text/plain": [
       "0       M\n",
       "1       M\n",
       "2       M\n",
       "3       M\n",
       "4       M\n",
       "       ..\n",
       "6570    M\n",
       "6571    M\n",
       "6572    M\n",
       "6573    M\n",
       "6574    M\n",
       "Name: sex, Length: 6573, dtype: object"
      ]
     },
     "execution_count": 364,
     "metadata": {},
     "output_type": "execute_result"
    }
   ],
   "source": [
    "df['sex'].apply(fill)"
   ]
  },
  {
   "cell_type": "code",
   "execution_count": 365,
   "metadata": {
    "ExecuteTime": {
     "end_time": "2020-09-30T02:13:19.244904Z",
     "start_time": "2020-09-30T02:13:19.129753Z"
    }
   },
   "outputs": [
    {
     "data": {
      "text/plain": [
       "M        5299\n",
       "F         695\n",
       "M           2\n",
       "N           2\n",
       ".           1\n",
       "M x 2       1\n",
       "lli         1\n",
       "Name: sex, dtype: int64"
      ]
     },
     "execution_count": 365,
     "metadata": {},
     "output_type": "execute_result"
    }
   ],
   "source": [
    "df['sex'].value_counts()"
   ]
  },
  {
   "cell_type": "markdown",
   "metadata": {},
   "source": [
    "### **Working with `fatal`:**"
   ]
  },
  {
   "cell_type": "code",
   "execution_count": 458,
   "metadata": {
    "ExecuteTime": {
     "end_time": "2020-09-30T03:08:31.192344Z",
     "start_time": "2020-09-30T03:08:31.127659Z"
    }
   },
   "outputs": [
    {
     "name": "stderr",
     "output_type": "stream",
     "text": [
      "/Users/aldreybaldovi/opt/anaconda3/lib/python3.7/site-packages/pandas/core/indexing.py:670: SettingWithCopyWarning: \n",
      "A value is trying to be set on a copy of a slice from a DataFrame\n",
      "\n",
      "See the caveats in the documentation: https://pandas.pydata.org/pandas-docs/stable/user_guide/indexing.html#returning-a-view-versus-a-copy\n",
      "  self._setitem_with_indexer(indexer, value)\n"
     ]
    },
    {
     "data": {
      "text/plain": [
       "\"df_fatal_year['fatal'].rename({' Y':'Y', 'Y ':'Y', 'y':'Y', 'y ':'Y', ' y':'Y', 'Y x 2':'Y', 'F':'Y',\\n                               ' N':'N', 'N ':'N', '2017':'UNKNOWN', 'M':'UNKNOWN', 'nan':'UNKNOWN'},\\n                               axis = 0, inplace = True)\\ndf_fatal_year['fatal'].value_counts()\\n\""
      ]
     },
     "execution_count": 458,
     "metadata": {},
     "output_type": "execute_result"
    }
   ],
   "source": [
    "#Correcting data from df['fatal']\n",
    "\n",
    "df['fatal'].fillna(0)\n",
    "df['fatal'].loc[(df['fatal'] == ' Y')] = 'Y'\n",
    "df['fatal'].loc[(df['fatal'] == 'Y ')] = 'Y'\n",
    "df['fatal'].loc[(df['fatal'] == 'y')] = 'Y'\n",
    "df['fatal'].loc[(df['fatal'] == 'y ')] = 'Y'\n",
    "df['fatal'].loc[(df['fatal'] == ' y')] = 'Y'\n",
    "df['fatal'].loc[(df['fatal'] == 'Y x 2')] = 'Y'\n",
    "df['fatal'].loc[(df['fatal'] == 'F')] = 'Y'\n",
    "df['fatal'].loc[(df['fatal'] == ' N')] = 'N'\n",
    "df['fatal'].loc[(df['fatal'] == 'N ')] = 'N'\n",
    "df['fatal'].loc[(df['fatal'] == '2017')] = 'NaN'\n",
    "df['fatal'].loc[(df['fatal'] == 'M')] = 'NaN'\n",
    "df['fatal'].loc[(df['fatal'] == 'nan')] = 'NaN'\n",
    "df['fatal'].loc[(df['fatal'] == 'UNKNOWN')] = 'NaN'\n",
    "\n",
    "\n",
    "'''df_fatal_year['fatal'].rename({' Y':'Y', 'Y ':'Y', 'y':'Y', 'y ':'Y', ' y':'Y', 'Y x 2':'Y', 'F':'Y',\n",
    "                               ' N':'N', 'N ':'N', '2017':'UNKNOWN', 'M':'UNKNOWN', 'nan':'UNKNOWN'},\n",
    "                               axis = 0, inplace = True)\n",
    "df_fatal_year['fatal'].value_counts()\n",
    "'''"
   ]
  },
  {
   "cell_type": "code",
   "execution_count": 459,
   "metadata": {
    "ExecuteTime": {
     "end_time": "2020-09-30T03:09:37.529741Z",
     "start_time": "2020-09-30T03:09:37.516486Z"
    }
   },
   "outputs": [
    {
     "data": {
      "text/plain": [
       "N      4537\n",
       "Y      1412\n",
       "NaN     624\n",
       "Name: fatal, dtype: int64"
      ]
     },
     "execution_count": 459,
     "metadata": {},
     "output_type": "execute_result"
    }
   ],
   "source": [
    "df['fatal'].value_counts()"
   ]
  },
  {
   "cell_type": "code",
   "execution_count": 460,
   "metadata": {
    "ExecuteTime": {
     "end_time": "2020-09-30T03:09:44.306209Z",
     "start_time": "2020-09-30T03:09:44.285463Z"
    }
   },
   "outputs": [
    {
     "data": {
      "text/html": [
       "<div>\n",
       "<style scoped>\n",
       "    .dataframe tbody tr th:only-of-type {\n",
       "        vertical-align: middle;\n",
       "    }\n",
       "\n",
       "    .dataframe tbody tr th {\n",
       "        vertical-align: top;\n",
       "    }\n",
       "\n",
       "    .dataframe thead th {\n",
       "        text-align: right;\n",
       "    }\n",
       "</style>\n",
       "<table border=\"1\" class=\"dataframe\">\n",
       "  <thead>\n",
       "    <tr style=\"text-align: right;\">\n",
       "      <th></th>\n",
       "      <th>year</th>\n",
       "      <th>fatal</th>\n",
       "      <th>sex</th>\n",
       "    </tr>\n",
       "  </thead>\n",
       "  <tbody>\n",
       "    <tr>\n",
       "      <th>0</th>\n",
       "      <td>2020</td>\n",
       "      <td>N</td>\n",
       "      <td>M</td>\n",
       "    </tr>\n",
       "    <tr>\n",
       "      <th>1</th>\n",
       "      <td>2020</td>\n",
       "      <td>N</td>\n",
       "      <td>M</td>\n",
       "    </tr>\n",
       "    <tr>\n",
       "      <th>2</th>\n",
       "      <td>2020</td>\n",
       "      <td>N</td>\n",
       "      <td>M</td>\n",
       "    </tr>\n",
       "    <tr>\n",
       "      <th>3</th>\n",
       "      <td>2020</td>\n",
       "      <td>N</td>\n",
       "      <td>M</td>\n",
       "    </tr>\n",
       "    <tr>\n",
       "      <th>4</th>\n",
       "      <td>2020</td>\n",
       "      <td>N</td>\n",
       "      <td>M</td>\n",
       "    </tr>\n",
       "    <tr>\n",
       "      <th>...</th>\n",
       "      <td>...</td>\n",
       "      <td>...</td>\n",
       "      <td>...</td>\n",
       "    </tr>\n",
       "    <tr>\n",
       "      <th>6570</th>\n",
       "      <td>1800</td>\n",
       "      <td>Y</td>\n",
       "      <td>M</td>\n",
       "    </tr>\n",
       "    <tr>\n",
       "      <th>6571</th>\n",
       "      <td>1800</td>\n",
       "      <td>Y</td>\n",
       "      <td>M</td>\n",
       "    </tr>\n",
       "    <tr>\n",
       "      <th>6572</th>\n",
       "      <td>1800</td>\n",
       "      <td>Y</td>\n",
       "      <td>M</td>\n",
       "    </tr>\n",
       "    <tr>\n",
       "      <th>6573</th>\n",
       "      <td>1800</td>\n",
       "      <td>Y</td>\n",
       "      <td>M</td>\n",
       "    </tr>\n",
       "    <tr>\n",
       "      <th>6574</th>\n",
       "      <td>1800</td>\n",
       "      <td>Y</td>\n",
       "      <td>M</td>\n",
       "    </tr>\n",
       "  </tbody>\n",
       "</table>\n",
       "<p>6573 rows × 3 columns</p>\n",
       "</div>"
      ],
      "text/plain": [
       "      year fatal sex\n",
       "0     2020     N   M\n",
       "1     2020     N   M\n",
       "2     2020     N   M\n",
       "3     2020     N   M\n",
       "4     2020     N   M\n",
       "...    ...   ...  ..\n",
       "6570  1800     Y   M\n",
       "6571  1800     Y   M\n",
       "6572  1800     Y   M\n",
       "6573  1800     Y   M\n",
       "6574  1800     Y   M\n",
       "\n",
       "[6573 rows x 3 columns]"
      ]
     },
     "execution_count": 460,
     "metadata": {},
     "output_type": "execute_result"
    }
   ],
   "source": [
    "df_fatal_year = df.loc[:,['year', 'fatal', 'sex']]\n",
    "df_fatal_year"
   ]
  },
  {
   "cell_type": "markdown",
   "metadata": {},
   "source": [
    "### **Answering the question:**"
   ]
  },
  {
   "cell_type": "code",
   "execution_count": 461,
   "metadata": {
    "ExecuteTime": {
     "end_time": "2020-09-30T03:09:52.382007Z",
     "start_time": "2020-09-30T03:09:52.371585Z"
    }
   },
   "outputs": [
    {
     "name": "stdout",
     "output_type": "stream",
     "text": [
      "(1412, 10)\n"
     ]
    }
   ],
   "source": [
    "# How many fatal cases in general\n",
    "\n",
    "fatal_cases = df.loc[df['fatal'] == 'Y']\n",
    "print(fatal_cases.shape)"
   ]
  },
  {
   "cell_type": "code",
   "execution_count": 462,
   "metadata": {
    "ExecuteTime": {
     "end_time": "2020-09-30T03:09:54.234996Z",
     "start_time": "2020-09-30T03:09:54.192093Z"
    }
   },
   "outputs": [
    {
     "name": "stdout",
     "output_type": "stream",
     "text": [
      "(1194, 2)\n"
     ]
    }
   ],
   "source": [
    "#How many fatal cases with **man**\n",
    "\n",
    "sex_M = df.loc[(df['fatal'] == 'Y') & (df['sex'] == 'M'),['fatal','sex']]\n",
    "print(sex_M.shape)"
   ]
  },
  {
   "cell_type": "code",
   "execution_count": 463,
   "metadata": {
    "ExecuteTime": {
     "end_time": "2020-09-30T03:09:56.069336Z",
     "start_time": "2020-09-30T03:09:56.054009Z"
    }
   },
   "outputs": [
    {
     "name": "stdout",
     "output_type": "stream",
     "text": [
      "(108, 2)\n"
     ]
    }
   ],
   "source": [
    "#How many fatal cases with **woman**\n",
    "\n",
    "sex_F = df.loc[(df['fatal'] == 'Y') & (df['sex'] == 'F'),['fatal','sex']]\n",
    "print(sex_F.shape)"
   ]
  },
  {
   "cell_type": "markdown",
   "metadata": {},
   "source": [
    "## There is more death cases with **man than woman** in all centuries (SEX, FATAL, DATE AND YEAR)\n"
   ]
  },
  {
   "cell_type": "markdown",
   "metadata": {},
   "source": [
    "### **Separating intervals between centuries:**"
   ]
  },
  {
   "cell_type": "code",
   "execution_count": 464,
   "metadata": {
    "ExecuteTime": {
     "end_time": "2020-09-30T03:09:57.926973Z",
     "start_time": "2020-09-30T03:09:57.919466Z"
    }
   },
   "outputs": [],
   "source": [
    "df['fatal'] = df['fatal'].astype('str')"
   ]
  },
  {
   "cell_type": "code",
   "execution_count": 465,
   "metadata": {
    "ExecuteTime": {
     "end_time": "2020-09-30T03:09:59.701324Z",
     "start_time": "2020-09-30T03:09:59.671718Z"
    }
   },
   "outputs": [
    {
     "data": {
      "text/html": [
       "<div>\n",
       "<style scoped>\n",
       "    .dataframe tbody tr th:only-of-type {\n",
       "        vertical-align: middle;\n",
       "    }\n",
       "\n",
       "    .dataframe tbody tr th {\n",
       "        vertical-align: top;\n",
       "    }\n",
       "\n",
       "    .dataframe thead th {\n",
       "        text-align: right;\n",
       "    }\n",
       "</style>\n",
       "<table border=\"1\" class=\"dataframe\">\n",
       "  <thead>\n",
       "    <tr style=\"text-align: right;\">\n",
       "      <th></th>\n",
       "      <th>year</th>\n",
       "      <th>fatal</th>\n",
       "      <th>sex</th>\n",
       "    </tr>\n",
       "  </thead>\n",
       "  <tbody>\n",
       "    <tr>\n",
       "      <th>0</th>\n",
       "      <td>5</td>\n",
       "      <td>1</td>\n",
       "      <td>1</td>\n",
       "    </tr>\n",
       "    <tr>\n",
       "      <th>1</th>\n",
       "      <td>77</td>\n",
       "      <td>1</td>\n",
       "      <td>1</td>\n",
       "    </tr>\n",
       "    <tr>\n",
       "      <th>2</th>\n",
       "      <td>500</td>\n",
       "      <td>1</td>\n",
       "      <td>1</td>\n",
       "    </tr>\n",
       "    <tr>\n",
       "      <th>3</th>\n",
       "      <td>1543</td>\n",
       "      <td>1</td>\n",
       "      <td>1</td>\n",
       "    </tr>\n",
       "    <tr>\n",
       "      <th>4</th>\n",
       "      <td>1554</td>\n",
       "      <td>1</td>\n",
       "      <td>1</td>\n",
       "    </tr>\n",
       "    <tr>\n",
       "      <th>...</th>\n",
       "      <td>...</td>\n",
       "      <td>...</td>\n",
       "      <td>...</td>\n",
       "    </tr>\n",
       "    <tr>\n",
       "      <th>245</th>\n",
       "      <td>2016</td>\n",
       "      <td>131</td>\n",
       "      <td>127</td>\n",
       "    </tr>\n",
       "    <tr>\n",
       "      <th>246</th>\n",
       "      <td>2017</td>\n",
       "      <td>139</td>\n",
       "      <td>134</td>\n",
       "    </tr>\n",
       "    <tr>\n",
       "      <th>247</th>\n",
       "      <td>2018</td>\n",
       "      <td>121</td>\n",
       "      <td>121</td>\n",
       "    </tr>\n",
       "    <tr>\n",
       "      <th>248</th>\n",
       "      <td>2019</td>\n",
       "      <td>111</td>\n",
       "      <td>108</td>\n",
       "    </tr>\n",
       "    <tr>\n",
       "      <th>249</th>\n",
       "      <td>2020</td>\n",
       "      <td>75</td>\n",
       "      <td>70</td>\n",
       "    </tr>\n",
       "  </tbody>\n",
       "</table>\n",
       "<p>250 rows × 3 columns</p>\n",
       "</div>"
      ],
      "text/plain": [
       "     year  fatal  sex\n",
       "0       5      1    1\n",
       "1      77      1    1\n",
       "2     500      1    1\n",
       "3    1543      1    1\n",
       "4    1554      1    1\n",
       "..    ...    ...  ...\n",
       "245  2016    131  127\n",
       "246  2017    139  134\n",
       "247  2018    121  121\n",
       "248  2019    111  108\n",
       "249  2020     75   70\n",
       "\n",
       "[250 rows x 3 columns]"
      ]
     },
     "execution_count": 465,
     "metadata": {},
     "output_type": "execute_result"
    }
   ],
   "source": [
    "df_fatal_year.groupby('year', as_index = False).count()"
   ]
  },
  {
   "cell_type": "code",
   "execution_count": 466,
   "metadata": {
    "ExecuteTime": {
     "end_time": "2020-09-30T03:10:08.858546Z",
     "start_time": "2020-09-30T03:10:08.846794Z"
    }
   },
   "outputs": [],
   "source": [
    "#separating intervals between centuries\n",
    "\n",
    "#Before century XIX\n",
    "start_date_BXIX = 0\n",
    "end_date_BXIX = 1800\n",
    "\n",
    "#Century XIX\n",
    "start_date_XIX = 1801\n",
    "end_date_XIX = 1900\n",
    "\n",
    "#Century XX\n",
    "start_date_XX = 1901\n",
    "end_date_XX = 2000\n",
    "\n",
    "#Century XXI\n",
    "start_date_XXI = 2001\n",
    "end_date_XXI = 2020\n",
    "\n",
    "#masks:\n",
    "mask_BXIX = (df_fatal_year['year'] > start_date_BXIX) & (df_fatal_year['year'] <= end_date_BXIX)\n",
    "\n",
    "mask_XIX = (df_fatal_year['year'] > start_date_XIX) & (df_fatal_year['year'] <= end_date_XIX)\n",
    "\n",
    "mask_XX = (df_fatal_year['year'] > start_date_XX) & (df_fatal_year['year'] <= end_date_XX)\n",
    "\n",
    "mask_XXI = (df_fatal_year['year'] > start_date_XXI) & (df_fatal_year['year'] <= end_date_XXI)\n"
   ]
  },
  {
   "cell_type": "markdown",
   "metadata": {},
   "source": [
    "### **Answering the question:**"
   ]
  },
  {
   "cell_type": "markdown",
   "metadata": {
    "ExecuteTime": {
     "end_time": "2020-09-30T00:59:53.120891Z",
     "start_time": "2020-09-30T00:59:53.117198Z"
    }
   },
   "source": [
    "#### Before century XIX"
   ]
  },
  {
   "cell_type": "code",
   "execution_count": 467,
   "metadata": {
    "ExecuteTime": {
     "end_time": "2020-09-30T03:10:11.012482Z",
     "start_time": "2020-09-30T03:10:10.994464Z"
    }
   },
   "outputs": [
    {
     "data": {
      "text/html": [
       "<div>\n",
       "<style scoped>\n",
       "    .dataframe tbody tr th:only-of-type {\n",
       "        vertical-align: middle;\n",
       "    }\n",
       "\n",
       "    .dataframe tbody tr th {\n",
       "        vertical-align: top;\n",
       "    }\n",
       "\n",
       "    .dataframe thead th {\n",
       "        text-align: right;\n",
       "    }\n",
       "</style>\n",
       "<table border=\"1\" class=\"dataframe\">\n",
       "  <thead>\n",
       "    <tr style=\"text-align: right;\">\n",
       "      <th></th>\n",
       "      <th>fatal</th>\n",
       "      <th>year</th>\n",
       "    </tr>\n",
       "  </thead>\n",
       "  <tbody>\n",
       "    <tr>\n",
       "      <th>0</th>\n",
       "      <td>N</td>\n",
       "      <td>72</td>\n",
       "    </tr>\n",
       "    <tr>\n",
       "      <th>1</th>\n",
       "      <td>NaN</td>\n",
       "      <td>14</td>\n",
       "    </tr>\n",
       "    <tr>\n",
       "      <th>2</th>\n",
       "      <td>Y</td>\n",
       "      <td>85</td>\n",
       "    </tr>\n",
       "  </tbody>\n",
       "</table>\n",
       "</div>"
      ],
      "text/plain": [
       "  fatal  year\n",
       "0     N    72\n",
       "1   NaN    14\n",
       "2     Y    85"
      ]
     },
     "execution_count": 467,
     "metadata": {},
     "output_type": "execute_result"
    }
   ],
   "source": [
    "# Before century XIX : Fatal cases\n",
    "bxix = df_fatal_year.loc[mask_BXIX].groupby('fatal', as_index = False).count()\n",
    "bxix.loc[:,['fatal', 'year']]"
   ]
  },
  {
   "cell_type": "code",
   "execution_count": 468,
   "metadata": {
    "ExecuteTime": {
     "end_time": "2020-09-30T03:10:12.996452Z",
     "start_time": "2020-09-30T03:10:12.957406Z"
    }
   },
   "outputs": [
    {
     "data": {
      "text/plain": [
       "(74, 2)"
      ]
     },
     "execution_count": 468,
     "metadata": {},
     "output_type": "execute_result"
    }
   ],
   "source": [
    "# Before century XIX : Fatal cases by sex (male)\n",
    "(df_fatal_year.loc[mask_BXIX].loc[(df['fatal'] == 'Y') & (df['sex'] == 'M'),['fatal','sex']]).shape"
   ]
  },
  {
   "cell_type": "code",
   "execution_count": 469,
   "metadata": {
    "ExecuteTime": {
     "end_time": "2020-09-30T03:10:14.762881Z",
     "start_time": "2020-09-30T03:10:14.744393Z"
    }
   },
   "outputs": [
    {
     "data": {
      "text/plain": [
       "(5, 2)"
      ]
     },
     "execution_count": 469,
     "metadata": {},
     "output_type": "execute_result"
    }
   ],
   "source": [
    "# Before century XIX : Fatal cases by sex (female)\n",
    "(df_fatal_year.loc[mask_BXIX].loc[(df['fatal'] == 'Y') & (df['sex'] == 'F'),['fatal','sex']]).shape"
   ]
  },
  {
   "cell_type": "markdown",
   "metadata": {},
   "source": [
    "#### Century XIX"
   ]
  },
  {
   "cell_type": "code",
   "execution_count": 470,
   "metadata": {
    "ExecuteTime": {
     "end_time": "2020-09-30T03:10:16.486330Z",
     "start_time": "2020-09-30T03:10:16.458521Z"
    }
   },
   "outputs": [
    {
     "data": {
      "text/html": [
       "<div>\n",
       "<style scoped>\n",
       "    .dataframe tbody tr th:only-of-type {\n",
       "        vertical-align: middle;\n",
       "    }\n",
       "\n",
       "    .dataframe tbody tr th {\n",
       "        vertical-align: top;\n",
       "    }\n",
       "\n",
       "    .dataframe thead th {\n",
       "        text-align: right;\n",
       "    }\n",
       "</style>\n",
       "<table border=\"1\" class=\"dataframe\">\n",
       "  <thead>\n",
       "    <tr style=\"text-align: right;\">\n",
       "      <th></th>\n",
       "      <th>fatal</th>\n",
       "      <th>year</th>\n",
       "    </tr>\n",
       "  </thead>\n",
       "  <tbody>\n",
       "    <tr>\n",
       "      <th>0</th>\n",
       "      <td>N</td>\n",
       "      <td>223</td>\n",
       "    </tr>\n",
       "    <tr>\n",
       "      <th>1</th>\n",
       "      <td>NaN</td>\n",
       "      <td>81</td>\n",
       "    </tr>\n",
       "    <tr>\n",
       "      <th>2</th>\n",
       "      <td>Y</td>\n",
       "      <td>278</td>\n",
       "    </tr>\n",
       "  </tbody>\n",
       "</table>\n",
       "</div>"
      ],
      "text/plain": [
       "  fatal  year\n",
       "0     N   223\n",
       "1   NaN    81\n",
       "2     Y   278"
      ]
     },
     "execution_count": 470,
     "metadata": {},
     "output_type": "execute_result"
    }
   ],
   "source": [
    "# Century XIX : Fatal cases\n",
    "xix = df_fatal_year.loc[mask_XIX].groupby('fatal', as_index = False).count()\n",
    "xix.loc[:,['fatal', 'year']]"
   ]
  },
  {
   "cell_type": "code",
   "execution_count": 471,
   "metadata": {
    "ExecuteTime": {
     "end_time": "2020-09-30T03:10:18.249681Z",
     "start_time": "2020-09-30T03:10:18.232841Z"
    }
   },
   "outputs": [
    {
     "data": {
      "text/plain": [
       "(256, 2)"
      ]
     },
     "execution_count": 471,
     "metadata": {},
     "output_type": "execute_result"
    }
   ],
   "source": [
    "# Century XIX : Fatal cases : Fatal cases by sex (male)\n",
    "(df_fatal_year.loc[mask_XIX].loc[(df['fatal'] == 'Y') & (df['sex'] == 'M'),['fatal','sex']]).shape"
   ]
  },
  {
   "cell_type": "code",
   "execution_count": 472,
   "metadata": {
    "ExecuteTime": {
     "end_time": "2020-09-30T03:10:20.085401Z",
     "start_time": "2020-09-30T03:10:20.069478Z"
    }
   },
   "outputs": [
    {
     "data": {
      "text/plain": [
       "(9, 2)"
      ]
     },
     "execution_count": 472,
     "metadata": {},
     "output_type": "execute_result"
    }
   ],
   "source": [
    "# Century XIX : Fatal cases : Fatal cases by sex (female)\n",
    "(df_fatal_year.loc[mask_XIX].loc[(df['fatal'] == 'Y') & (df['sex'] == 'F'),['fatal','sex']]).shape"
   ]
  },
  {
   "cell_type": "markdown",
   "metadata": {
    "ExecuteTime": {
     "end_time": "2020-09-30T01:00:40.809764Z",
     "start_time": "2020-09-30T01:00:40.805792Z"
    }
   },
   "source": [
    "#### Century XX"
   ]
  },
  {
   "cell_type": "code",
   "execution_count": 473,
   "metadata": {
    "ExecuteTime": {
     "end_time": "2020-09-30T03:10:21.935246Z",
     "start_time": "2020-09-30T03:10:21.912372Z"
    }
   },
   "outputs": [
    {
     "data": {
      "text/html": [
       "<div>\n",
       "<style scoped>\n",
       "    .dataframe tbody tr th:only-of-type {\n",
       "        vertical-align: middle;\n",
       "    }\n",
       "\n",
       "    .dataframe tbody tr th {\n",
       "        vertical-align: top;\n",
       "    }\n",
       "\n",
       "    .dataframe thead th {\n",
       "        text-align: right;\n",
       "    }\n",
       "</style>\n",
       "<table border=\"1\" class=\"dataframe\">\n",
       "  <thead>\n",
       "    <tr style=\"text-align: right;\">\n",
       "      <th></th>\n",
       "      <th>fatal</th>\n",
       "      <th>year</th>\n",
       "    </tr>\n",
       "  </thead>\n",
       "  <tbody>\n",
       "    <tr>\n",
       "      <th>0</th>\n",
       "      <td>N</td>\n",
       "      <td>2348</td>\n",
       "    </tr>\n",
       "    <tr>\n",
       "      <th>1</th>\n",
       "      <td>NaN</td>\n",
       "      <td>358</td>\n",
       "    </tr>\n",
       "    <tr>\n",
       "      <th>2</th>\n",
       "      <td>Y</td>\n",
       "      <td>864</td>\n",
       "    </tr>\n",
       "  </tbody>\n",
       "</table>\n",
       "</div>"
      ],
      "text/plain": [
       "  fatal  year\n",
       "0     N  2348\n",
       "1   NaN   358\n",
       "2     Y   864"
      ]
     },
     "execution_count": 473,
     "metadata": {},
     "output_type": "execute_result"
    }
   ],
   "source": [
    "# Century XX : Fatal cases\n",
    "xx = df_fatal_year.loc[mask_XX].groupby('fatal', as_index = False).count()\n",
    "xx.loc[:,['fatal', 'year']]"
   ]
  },
  {
   "cell_type": "code",
   "execution_count": 474,
   "metadata": {
    "ExecuteTime": {
     "end_time": "2020-09-30T03:10:23.575528Z",
     "start_time": "2020-09-30T03:10:23.560774Z"
    }
   },
   "outputs": [
    {
     "data": {
      "text/plain": [
       "(713, 2)"
      ]
     },
     "execution_count": 474,
     "metadata": {},
     "output_type": "execute_result"
    }
   ],
   "source": [
    "# Century XX : Fatal cases : Fatal cases by sex (male)\n",
    "(df_fatal_year.loc[mask_XX].loc[(df['fatal'] == 'Y') & (df['sex'] == 'M'),['fatal','sex']]).shape"
   ]
  },
  {
   "cell_type": "code",
   "execution_count": 475,
   "metadata": {
    "ExecuteTime": {
     "end_time": "2020-09-30T03:10:25.268389Z",
     "start_time": "2020-09-30T03:10:25.250139Z"
    }
   },
   "outputs": [
    {
     "data": {
      "text/plain": [
       "(72, 2)"
      ]
     },
     "execution_count": 475,
     "metadata": {},
     "output_type": "execute_result"
    }
   ],
   "source": [
    "# Century XX : Fatal cases : Fatal cases by sex (female)\n",
    "(df_fatal_year.loc[mask_XX].loc[(df['fatal'] == 'Y') & (df['sex'] == 'F'),['fatal','sex']]).shape"
   ]
  },
  {
   "cell_type": "markdown",
   "metadata": {},
   "source": [
    "#### Century XXI"
   ]
  },
  {
   "cell_type": "code",
   "execution_count": 476,
   "metadata": {
    "ExecuteTime": {
     "end_time": "2020-09-30T03:10:27.158411Z",
     "start_time": "2020-09-30T03:10:27.118958Z"
    }
   },
   "outputs": [
    {
     "data": {
      "text/html": [
       "<div>\n",
       "<style scoped>\n",
       "    .dataframe tbody tr th:only-of-type {\n",
       "        vertical-align: middle;\n",
       "    }\n",
       "\n",
       "    .dataframe tbody tr th {\n",
       "        vertical-align: top;\n",
       "    }\n",
       "\n",
       "    .dataframe thead th {\n",
       "        text-align: right;\n",
       "    }\n",
       "</style>\n",
       "<table border=\"1\" class=\"dataframe\">\n",
       "  <thead>\n",
       "    <tr style=\"text-align: right;\">\n",
       "      <th></th>\n",
       "      <th>fatal</th>\n",
       "      <th>year</th>\n",
       "    </tr>\n",
       "  </thead>\n",
       "  <tbody>\n",
       "    <tr>\n",
       "      <th>0</th>\n",
       "      <td>N</td>\n",
       "      <td>1809</td>\n",
       "    </tr>\n",
       "    <tr>\n",
       "      <th>1</th>\n",
       "      <td>NaN</td>\n",
       "      <td>164</td>\n",
       "    </tr>\n",
       "    <tr>\n",
       "      <th>2</th>\n",
       "      <td>Y</td>\n",
       "      <td>175</td>\n",
       "    </tr>\n",
       "  </tbody>\n",
       "</table>\n",
       "</div>"
      ],
      "text/plain": [
       "  fatal  year\n",
       "0     N  1809\n",
       "1   NaN   164\n",
       "2     Y   175"
      ]
     },
     "execution_count": 476,
     "metadata": {},
     "output_type": "execute_result"
    }
   ],
   "source": [
    "# Century XXI : Fatal cases\n",
    "xxi = df_fatal_year.loc[mask_XXI].groupby('fatal', as_index = False).count()\n",
    "xxi.loc[:,['fatal', 'year']]"
   ]
  },
  {
   "cell_type": "code",
   "execution_count": 477,
   "metadata": {
    "ExecuteTime": {
     "end_time": "2020-09-30T03:10:29.101668Z",
     "start_time": "2020-09-30T03:10:29.084846Z"
    }
   },
   "outputs": [
    {
     "data": {
      "text/plain": [
       "(143, 2)"
      ]
     },
     "execution_count": 477,
     "metadata": {},
     "output_type": "execute_result"
    }
   ],
   "source": [
    "# Century XXI : Fatal cases : Fatal cases by sex (male)\n",
    "(df_fatal_year.loc[mask_XXI].loc[(df['fatal'] == 'Y') & (df['sex'] == 'M'),['fatal','sex']]).shape"
   ]
  },
  {
   "cell_type": "code",
   "execution_count": 478,
   "metadata": {
    "ExecuteTime": {
     "end_time": "2020-09-30T03:10:31.192832Z",
     "start_time": "2020-09-30T03:10:31.176052Z"
    }
   },
   "outputs": [
    {
     "data": {
      "text/plain": [
       "(22, 2)"
      ]
     },
     "execution_count": 478,
     "metadata": {},
     "output_type": "execute_result"
    }
   ],
   "source": [
    "# Century XXI : Fatal cases : Fatal cases by sex (female)\n",
    "(df_fatal_year.loc[mask_XXI].loc[(df['fatal'] == 'Y') & (df['sex'] == 'F'),['fatal','sex']]).shape"
   ]
  },
  {
   "cell_type": "code",
   "execution_count": 479,
   "metadata": {
    "ExecuteTime": {
     "end_time": "2020-09-30T03:10:32.962779Z",
     "start_time": "2020-09-30T03:10:32.933989Z"
    }
   },
   "outputs": [
    {
     "name": "stdout",
     "output_type": "stream",
     "text": [
      "Before Century XIX: 2    85\n",
      "Name: year, dtype: int64, Century XIX: 2    278\n",
      "Name: year, dtype: int64, Century XX: 2    864\n",
      "Name: year, dtype: int64, Century XXI: 2    165\n",
      "Name: sex, dtype: int64\n"
     ]
    }
   ],
   "source": [
    "bxix_y = bxix['year'][bxix['fatal']=='Y']\n",
    "xix_y = xix['year'][xix['fatal']=='Y']\n",
    "xx_y = xx['year'][xx['fatal']=='Y']\n",
    "xxi_y = xxi['sex'][xxi['fatal']=='Y']\n",
    "\n",
    "print(f'Before Century XIX: {bxix_y}, Century XIX: {xix_y}, Century XX: {xx_y}, Century XXI: {xxi_y}')"
   ]
  },
  {
   "cell_type": "markdown",
   "metadata": {},
   "source": [
    "## **Young people** is more likely to die by shark attacks (AGE COLUMN)\n"
   ]
  },
  {
   "cell_type": "markdown",
   "metadata": {},
   "source": [
    "### **Working with `age` column**"
   ]
  },
  {
   "cell_type": "code",
   "execution_count": 480,
   "metadata": {
    "ExecuteTime": {
     "end_time": "2020-09-30T03:10:34.970582Z",
     "start_time": "2020-09-30T03:10:34.956035Z"
    }
   },
   "outputs": [
    {
     "data": {
      "text/plain": [
       "<bound method NDFrame.head of 0        30\n",
       "1       50s\n",
       "2       NaN\n",
       "3        48\n",
       "4        15\n",
       "       ... \n",
       "6570    NaN\n",
       "6571    NaN\n",
       "6572    NaN\n",
       "6573    NaN\n",
       "6574     15\n",
       "Name: age, Length: 6573, dtype: object>"
      ]
     },
     "execution_count": 480,
     "metadata": {},
     "output_type": "execute_result"
    }
   ],
   "source": [
    "df['age'].head"
   ]
  },
  {
   "cell_type": "code",
   "execution_count": 481,
   "metadata": {
    "ExecuteTime": {
     "end_time": "2020-09-30T03:10:36.816837Z",
     "start_time": "2020-09-30T03:10:36.803913Z"
    }
   },
   "outputs": [
    {
     "data": {
      "text/plain": [
       "19                 86\n",
       "16                 86\n",
       "18                 82\n",
       "17                 82\n",
       "17                 80\n",
       "                   ..\n",
       "MAKE LINE GREEN     1\n",
       "30 or 36            1\n",
       "36 & 26             1\n",
       "74                  1\n",
       "1                   1\n",
       "Name: age, Length: 236, dtype: int64"
      ]
     },
     "execution_count": 481,
     "metadata": {},
     "output_type": "execute_result"
    }
   ],
   "source": [
    "df['age'].value_counts()"
   ]
  },
  {
   "cell_type": "code",
   "execution_count": 482,
   "metadata": {
    "ExecuteTime": {
     "end_time": "2020-09-30T03:10:38.577228Z",
     "start_time": "2020-09-30T03:10:38.547626Z"
    }
   },
   "outputs": [
    {
     "data": {
      "text/html": [
       "<div>\n",
       "<style scoped>\n",
       "    .dataframe tbody tr th:only-of-type {\n",
       "        vertical-align: middle;\n",
       "    }\n",
       "\n",
       "    .dataframe tbody tr th {\n",
       "        vertical-align: top;\n",
       "    }\n",
       "\n",
       "    .dataframe thead th {\n",
       "        text-align: right;\n",
       "    }\n",
       "</style>\n",
       "<table border=\"1\" class=\"dataframe\">\n",
       "  <thead>\n",
       "    <tr style=\"text-align: right;\">\n",
       "      <th></th>\n",
       "      <th>date</th>\n",
       "      <th>year</th>\n",
       "      <th>type</th>\n",
       "      <th>country</th>\n",
       "      <th>area</th>\n",
       "      <th>sex</th>\n",
       "      <th>age</th>\n",
       "      <th>species</th>\n",
       "      <th>activity</th>\n",
       "      <th>fatal</th>\n",
       "    </tr>\n",
       "  </thead>\n",
       "  <tbody>\n",
       "    <tr>\n",
       "      <th>2</th>\n",
       "      <td>16-Sep-2020</td>\n",
       "      <td>2020</td>\n",
       "      <td>Unprovoked</td>\n",
       "      <td>AUSTRALIA</td>\n",
       "      <td>New South Wales</td>\n",
       "      <td>M</td>\n",
       "      <td>NaN</td>\n",
       "      <td>White shark</td>\n",
       "      <td>Foil-boarding</td>\n",
       "      <td>N</td>\n",
       "    </tr>\n",
       "    <tr>\n",
       "      <th>9</th>\n",
       "      <td>02-Sep-2020</td>\n",
       "      <td>2020</td>\n",
       "      <td>Unprovoked</td>\n",
       "      <td>USA</td>\n",
       "      <td>Florida</td>\n",
       "      <td>M</td>\n",
       "      <td>NaN</td>\n",
       "      <td>Nurse shark, juvenile</td>\n",
       "      <td>NaN</td>\n",
       "      <td>N</td>\n",
       "    </tr>\n",
       "    <tr>\n",
       "      <th>10</th>\n",
       "      <td>30-Aug-2020</td>\n",
       "      <td>2020</td>\n",
       "      <td>Watercraft</td>\n",
       "      <td>AUSTRALIA</td>\n",
       "      <td>New South Wales</td>\n",
       "      <td>NaN</td>\n",
       "      <td>NaN</td>\n",
       "      <td>White shark</td>\n",
       "      <td>Fishing / Filming sharks feeding on whale carcass</td>\n",
       "      <td>N</td>\n",
       "    </tr>\n",
       "    <tr>\n",
       "      <th>12</th>\n",
       "      <td>28-Aug-2020</td>\n",
       "      <td>2020</td>\n",
       "      <td>Unprovoked</td>\n",
       "      <td>USA</td>\n",
       "      <td>California</td>\n",
       "      <td>M</td>\n",
       "      <td>NaN</td>\n",
       "      <td>White shark</td>\n",
       "      <td>Kayak fishing</td>\n",
       "      <td>N</td>\n",
       "    </tr>\n",
       "    <tr>\n",
       "      <th>16</th>\n",
       "      <td>19-Aug-2020</td>\n",
       "      <td>2020</td>\n",
       "      <td>NaN</td>\n",
       "      <td>USA</td>\n",
       "      <td>South Carolina</td>\n",
       "      <td>F</td>\n",
       "      <td>NaN</td>\n",
       "      <td>NaN</td>\n",
       "      <td>Wading</td>\n",
       "      <td>N</td>\n",
       "    </tr>\n",
       "  </tbody>\n",
       "</table>\n",
       "</div>"
      ],
      "text/plain": [
       "           date  year        type    country             area  sex  age  \\\n",
       "2   16-Sep-2020  2020  Unprovoked  AUSTRALIA  New South Wales    M  NaN   \n",
       "9   02-Sep-2020  2020  Unprovoked        USA          Florida    M  NaN   \n",
       "10  30-Aug-2020  2020  Watercraft  AUSTRALIA  New South Wales  NaN  NaN   \n",
       "12  28-Aug-2020  2020  Unprovoked        USA       California    M  NaN   \n",
       "16  19-Aug-2020  2020         NaN        USA   South Carolina    F  NaN   \n",
       "\n",
       "                  species                                           activity  \\\n",
       "2             White shark                                      Foil-boarding   \n",
       "9   Nurse shark, juvenile                                                NaN   \n",
       "10            White shark  Fishing / Filming sharks feeding on whale carcass   \n",
       "12            White shark                                      Kayak fishing   \n",
       "16                    NaN                                             Wading   \n",
       "\n",
       "   fatal  \n",
       "2      N  \n",
       "9      N  \n",
       "10     N  \n",
       "12     N  \n",
       "16     N  "
      ]
     },
     "execution_count": 482,
     "metadata": {},
     "output_type": "execute_result"
    }
   ],
   "source": [
    "null_lines_age = df['age'].isnull()\n",
    "df[null_lines_age].head()"
   ]
  },
  {
   "cell_type": "code",
   "execution_count": 483,
   "metadata": {
    "ExecuteTime": {
     "end_time": "2020-09-30T03:10:40.162799Z",
     "start_time": "2020-09-30T03:10:40.153073Z"
    }
   },
   "outputs": [
    {
     "data": {
      "text/plain": [
       "2902"
      ]
     },
     "execution_count": 483,
     "metadata": {},
     "output_type": "execute_result"
    }
   ],
   "source": [
    "len(df[null_lines_age])"
   ]
  },
  {
   "cell_type": "code",
   "execution_count": 484,
   "metadata": {
    "ExecuteTime": {
     "end_time": "2020-09-30T03:10:41.912682Z",
     "start_time": "2020-09-30T03:10:41.903818Z"
    }
   },
   "outputs": [],
   "source": [
    "drop_lines_age = list(df[null_lines_age].index)"
   ]
  },
  {
   "cell_type": "code",
   "execution_count": 485,
   "metadata": {
    "ExecuteTime": {
     "end_time": "2020-09-30T03:10:43.568955Z",
     "start_time": "2020-09-30T03:10:43.558207Z"
    }
   },
   "outputs": [
    {
     "data": {
      "text/plain": [
       "3671"
      ]
     },
     "execution_count": 485,
     "metadata": {},
     "output_type": "execute_result"
    }
   ],
   "source": [
    "# Dropping null lines\n",
    "\n",
    "df_age = df.drop(drop_lines_age, axis = 0)\n",
    "len(df_age)"
   ]
  },
  {
   "cell_type": "code",
   "execution_count": 486,
   "metadata": {
    "ExecuteTime": {
     "end_time": "2020-09-30T03:10:45.346590Z",
     "start_time": "2020-09-30T03:10:45.334189Z"
    }
   },
   "outputs": [
    {
     "data": {
      "text/plain": [
       "16                86\n",
       "19                86\n",
       "17                82\n",
       "18                82\n",
       "17                80\n",
       "                  ..\n",
       "16 to 18           1\n",
       "21, 34,24 & 35     1\n",
       "86                 1\n",
       "18 to 22           1\n",
       "1                  1\n",
       "Name: age, Length: 236, dtype: int64"
      ]
     },
     "execution_count": 486,
     "metadata": {},
     "output_type": "execute_result"
    }
   ],
   "source": [
    "df_age['age'].value_counts()"
   ]
  },
  {
   "cell_type": "code",
   "execution_count": 487,
   "metadata": {
    "ExecuteTime": {
     "end_time": "2020-09-30T03:10:47.078084Z",
     "start_time": "2020-09-30T03:10:47.068197Z"
    }
   },
   "outputs": [],
   "source": [
    "df_age['age'] = df_age['age'].astype('str')"
   ]
  },
  {
   "cell_type": "code",
   "execution_count": 488,
   "metadata": {
    "ExecuteTime": {
     "end_time": "2020-09-30T03:10:48.719366Z",
     "start_time": "2020-09-30T03:10:48.702197Z"
    }
   },
   "outputs": [],
   "source": [
    "def fix_age(x):\n",
    "    '''\n",
    "    Function to correct data from df['age']\n",
    "    \n",
    "    This function takes the last numbers of the text\n",
    "    '''\n",
    "    \n",
    "    pattern = '\\d?\\d$'\n",
    "    \n",
    "    if x != x:\n",
    "        return '0'\n",
    "    \n",
    "    if len(re.findall(pattern, x)) == 0: \n",
    "        return '0'\n",
    "    \n",
    "    text = re.findall(pattern, x)[0]\n",
    "    \n",
    "   \n",
    "    \n",
    "    return text"
   ]
  },
  {
   "cell_type": "code",
   "execution_count": 489,
   "metadata": {
    "ExecuteTime": {
     "end_time": "2020-09-30T03:10:50.281862Z",
     "start_time": "2020-09-30T03:10:50.274488Z"
    }
   },
   "outputs": [
    {
     "data": {
      "text/plain": [
       "'0'"
      ]
     },
     "execution_count": 489,
     "metadata": {},
     "output_type": "execute_result"
    }
   ],
   "source": [
    "#test\n",
    "\n",
    "fix_age('18 e 12 e 03543350s')"
   ]
  },
  {
   "cell_type": "code",
   "execution_count": 490,
   "metadata": {
    "ExecuteTime": {
     "end_time": "2020-09-30T03:10:52.084243Z",
     "start_time": "2020-09-30T03:10:52.048617Z"
    }
   },
   "outputs": [
    {
     "data": {
      "text/html": [
       "<div>\n",
       "<style scoped>\n",
       "    .dataframe tbody tr th:only-of-type {\n",
       "        vertical-align: middle;\n",
       "    }\n",
       "\n",
       "    .dataframe tbody tr th {\n",
       "        vertical-align: top;\n",
       "    }\n",
       "\n",
       "    .dataframe thead th {\n",
       "        text-align: right;\n",
       "    }\n",
       "</style>\n",
       "<table border=\"1\" class=\"dataframe\">\n",
       "  <thead>\n",
       "    <tr style=\"text-align: right;\">\n",
       "      <th></th>\n",
       "      <th>date</th>\n",
       "      <th>year</th>\n",
       "      <th>type</th>\n",
       "      <th>country</th>\n",
       "      <th>area</th>\n",
       "      <th>sex</th>\n",
       "      <th>age</th>\n",
       "      <th>species</th>\n",
       "      <th>activity</th>\n",
       "      <th>fatal</th>\n",
       "    </tr>\n",
       "  </thead>\n",
       "  <tbody>\n",
       "    <tr>\n",
       "      <th>0</th>\n",
       "      <td>20-Sep-2020</td>\n",
       "      <td>2020</td>\n",
       "      <td>Unprovoked</td>\n",
       "      <td>USA</td>\n",
       "      <td>Florida</td>\n",
       "      <td>M</td>\n",
       "      <td>30</td>\n",
       "      <td>Bull shark</td>\n",
       "      <td>Snorkeling</td>\n",
       "      <td>N</td>\n",
       "    </tr>\n",
       "    <tr>\n",
       "      <th>1</th>\n",
       "      <td>17-Sep-2020</td>\n",
       "      <td>2020</td>\n",
       "      <td>Provoked</td>\n",
       "      <td>AUSTRALIA</td>\n",
       "      <td>Queensland</td>\n",
       "      <td>M</td>\n",
       "      <td>50s</td>\n",
       "      <td>\"whitetip shark\"</td>\n",
       "      <td>Fishing</td>\n",
       "      <td>N</td>\n",
       "    </tr>\n",
       "    <tr>\n",
       "      <th>3</th>\n",
       "      <td>16-Sep-2020</td>\n",
       "      <td>2020</td>\n",
       "      <td>NaN</td>\n",
       "      <td>USA</td>\n",
       "      <td>Florida</td>\n",
       "      <td>M</td>\n",
       "      <td>48</td>\n",
       "      <td>Shark involvement not confirmed</td>\n",
       "      <td>Swimming</td>\n",
       "      <td>N</td>\n",
       "    </tr>\n",
       "    <tr>\n",
       "      <th>4</th>\n",
       "      <td>15-Sep-2020</td>\n",
       "      <td>2020</td>\n",
       "      <td>Unprovoked</td>\n",
       "      <td>USA</td>\n",
       "      <td>Florida</td>\n",
       "      <td>M</td>\n",
       "      <td>15</td>\n",
       "      <td>NaN</td>\n",
       "      <td>Surfing</td>\n",
       "      <td>N</td>\n",
       "    </tr>\n",
       "    <tr>\n",
       "      <th>5</th>\n",
       "      <td>15-Sep-2020</td>\n",
       "      <td>2020</td>\n",
       "      <td>Unprovoked</td>\n",
       "      <td>USA</td>\n",
       "      <td>Florida</td>\n",
       "      <td>M</td>\n",
       "      <td>25</td>\n",
       "      <td>NaN</td>\n",
       "      <td>Surfing</td>\n",
       "      <td>N</td>\n",
       "    </tr>\n",
       "    <tr>\n",
       "      <th>...</th>\n",
       "      <td>...</td>\n",
       "      <td>...</td>\n",
       "      <td>...</td>\n",
       "      <td>...</td>\n",
       "      <td>...</td>\n",
       "      <td>...</td>\n",
       "      <td>...</td>\n",
       "      <td>...</td>\n",
       "      <td>...</td>\n",
       "      <td>...</td>\n",
       "    </tr>\n",
       "    <tr>\n",
       "      <th>6516</th>\n",
       "      <td>1960s</td>\n",
       "      <td>1800</td>\n",
       "      <td>Unprovoked</td>\n",
       "      <td>IRAQ</td>\n",
       "      <td>Basrah</td>\n",
       "      <td>M</td>\n",
       "      <td>16</td>\n",
       "      <td>Bull shark</td>\n",
       "      <td>Swimming in section of river used for washing ...</td>\n",
       "      <td>N</td>\n",
       "    </tr>\n",
       "    <tr>\n",
       "      <th>6527</th>\n",
       "      <td>Before 1957</td>\n",
       "      <td>1800</td>\n",
       "      <td>Provoked</td>\n",
       "      <td>CUBA</td>\n",
       "      <td>Havana Province</td>\n",
       "      <td>M</td>\n",
       "      <td>50</td>\n",
       "      <td>NaN</td>\n",
       "      <td>Shark fishing, knocked overboard</td>\n",
       "      <td>Y</td>\n",
       "    </tr>\n",
       "    <tr>\n",
       "      <th>6538</th>\n",
       "      <td>1941-1942</td>\n",
       "      <td>1800</td>\n",
       "      <td>Unprovoked</td>\n",
       "      <td>IRAQ</td>\n",
       "      <td>Basrah</td>\n",
       "      <td>M</td>\n",
       "      <td>13 or 14</td>\n",
       "      <td>Bull shark</td>\n",
       "      <td>Swimming</td>\n",
       "      <td>Y</td>\n",
       "    </tr>\n",
       "    <tr>\n",
       "      <th>6549</th>\n",
       "      <td>Early 1930s</td>\n",
       "      <td>1800</td>\n",
       "      <td>Unprovoked</td>\n",
       "      <td>BELIZE</td>\n",
       "      <td>NaN</td>\n",
       "      <td>M</td>\n",
       "      <td>16</td>\n",
       "      <td>12' tiger shark</td>\n",
       "      <td>Standing</td>\n",
       "      <td>Y</td>\n",
       "    </tr>\n",
       "    <tr>\n",
       "      <th>6574</th>\n",
       "      <td>1845-1853</td>\n",
       "      <td>1800</td>\n",
       "      <td>Unprovoked</td>\n",
       "      <td>CEYLON (SRI LANKA)</td>\n",
       "      <td>Eastern Province</td>\n",
       "      <td>M</td>\n",
       "      <td>15</td>\n",
       "      <td>NaN</td>\n",
       "      <td>Swimming</td>\n",
       "      <td>Y</td>\n",
       "    </tr>\n",
       "  </tbody>\n",
       "</table>\n",
       "<p>3671 rows × 10 columns</p>\n",
       "</div>"
      ],
      "text/plain": [
       "             date  year        type             country              area sex  \\\n",
       "0     20-Sep-2020  2020  Unprovoked                 USA           Florida   M   \n",
       "1     17-Sep-2020  2020    Provoked           AUSTRALIA        Queensland   M   \n",
       "3     16-Sep-2020  2020         NaN                 USA           Florida   M   \n",
       "4     15-Sep-2020  2020  Unprovoked                 USA           Florida   M   \n",
       "5     15-Sep-2020  2020  Unprovoked                 USA           Florida   M   \n",
       "...           ...   ...         ...                 ...               ...  ..   \n",
       "6516        1960s  1800  Unprovoked                IRAQ            Basrah   M   \n",
       "6527  Before 1957  1800    Provoked                CUBA   Havana Province   M   \n",
       "6538    1941-1942  1800  Unprovoked                IRAQ            Basrah   M   \n",
       "6549  Early 1930s  1800  Unprovoked              BELIZE               NaN   M   \n",
       "6574    1845-1853  1800  Unprovoked  CEYLON (SRI LANKA)  Eastern Province   M   \n",
       "\n",
       "           age                          species  \\\n",
       "0           30                       Bull shark   \n",
       "1          50s                 \"whitetip shark\"   \n",
       "3           48  Shark involvement not confirmed   \n",
       "4           15                              NaN   \n",
       "5           25                              NaN   \n",
       "...        ...                              ...   \n",
       "6516        16                       Bull shark   \n",
       "6527        50                              NaN   \n",
       "6538  13 or 14                       Bull shark   \n",
       "6549        16                  12' tiger shark   \n",
       "6574        15                              NaN   \n",
       "\n",
       "                                               activity fatal  \n",
       "0                                            Snorkeling     N  \n",
       "1                                               Fishing     N  \n",
       "3                                              Swimming     N  \n",
       "4                                               Surfing     N  \n",
       "5                                               Surfing     N  \n",
       "...                                                 ...   ...  \n",
       "6516  Swimming in section of river used for washing ...     N  \n",
       "6527                   Shark fishing, knocked overboard     Y  \n",
       "6538                                           Swimming     Y  \n",
       "6549                                           Standing     Y  \n",
       "6574                                           Swimming     Y  \n",
       "\n",
       "[3671 rows x 10 columns]"
      ]
     },
     "execution_count": 490,
     "metadata": {},
     "output_type": "execute_result"
    }
   ],
   "source": [
    "df_age"
   ]
  },
  {
   "cell_type": "code",
   "execution_count": 491,
   "metadata": {
    "ExecuteTime": {
     "end_time": "2020-09-30T03:10:53.777409Z",
     "start_time": "2020-09-30T03:10:53.756118Z"
    }
   },
   "outputs": [],
   "source": [
    "# Applying the function fix_age in df_age['age']\n",
    "\n",
    "df_age['age'] = df_age['age'].apply(fix_age)"
   ]
  },
  {
   "cell_type": "code",
   "execution_count": 492,
   "metadata": {
    "ExecuteTime": {
     "end_time": "2020-09-30T03:10:55.435554Z",
     "start_time": "2020-09-30T03:10:55.417754Z"
    }
   },
   "outputs": [
    {
     "data": {
      "text/plain": [
       "17    162\n",
       "18    157\n",
       "19    147\n",
       "20    146\n",
       "16    144\n",
       "     ... \n",
       "86      1\n",
       "82      1\n",
       "72      1\n",
       "87      1\n",
       "81      1\n",
       "Name: age, Length: 82, dtype: int64"
      ]
     },
     "execution_count": 492,
     "metadata": {},
     "output_type": "execute_result"
    }
   ],
   "source": [
    "df_age['age'].value_counts()"
   ]
  },
  {
   "cell_type": "code",
   "execution_count": 493,
   "metadata": {
    "ExecuteTime": {
     "end_time": "2020-09-30T03:10:57.218269Z",
     "start_time": "2020-09-30T03:10:57.211318Z"
    }
   },
   "outputs": [],
   "source": [
    "df_age['age'] = df_age['age'].astype('int')"
   ]
  },
  {
   "cell_type": "code",
   "execution_count": 494,
   "metadata": {
    "ExecuteTime": {
     "end_time": "2020-09-30T03:10:58.815684Z",
     "start_time": "2020-09-30T03:10:58.809076Z"
    }
   },
   "outputs": [],
   "source": [
    "# # Defining age groups:\n",
    "\n",
    "# #kids = 0 to 12\n",
    "# mask_kids = (df_age['age'] > 0) & (df_age['age'] <= 12)\n",
    "\n",
    "# #teenager = 13 to 17\n",
    "# mask_teenager = (df_age['age'] > 12) & (df_age['age'] <= 17)\n",
    "\n",
    "# #young_adult = 18 to 32\n",
    "# mask_young_adult = (df_age['age'] > 17) & (df_age['age'] <= 32)\n",
    "\n",
    "# #adult = 33 to 55\n",
    "# mask_adult = (df_age['age'] > 32) & (df_age['age'] <= 55)\n",
    "\n",
    "# #older > 55\n",
    "# mask_older = (df_age['age'] > 55)\n"
   ]
  },
  {
   "cell_type": "code",
   "execution_count": 495,
   "metadata": {
    "ExecuteTime": {
     "end_time": "2020-09-30T03:11:00.589376Z",
     "start_time": "2020-09-30T03:11:00.550744Z"
    }
   },
   "outputs": [
    {
     "data": {
      "text/html": [
       "<div>\n",
       "<style scoped>\n",
       "    .dataframe tbody tr th:only-of-type {\n",
       "        vertical-align: middle;\n",
       "    }\n",
       "\n",
       "    .dataframe tbody tr th {\n",
       "        vertical-align: top;\n",
       "    }\n",
       "\n",
       "    .dataframe thead th {\n",
       "        text-align: right;\n",
       "    }\n",
       "</style>\n",
       "<table border=\"1\" class=\"dataframe\">\n",
       "  <thead>\n",
       "    <tr style=\"text-align: right;\">\n",
       "      <th></th>\n",
       "      <th>date</th>\n",
       "      <th>year</th>\n",
       "      <th>type</th>\n",
       "      <th>country</th>\n",
       "      <th>area</th>\n",
       "      <th>sex</th>\n",
       "      <th>age</th>\n",
       "      <th>species</th>\n",
       "      <th>activity</th>\n",
       "      <th>fatal</th>\n",
       "      <th>age_group</th>\n",
       "    </tr>\n",
       "  </thead>\n",
       "  <tbody>\n",
       "    <tr>\n",
       "      <th>0</th>\n",
       "      <td>20-Sep-2020</td>\n",
       "      <td>2020</td>\n",
       "      <td>Unprovoked</td>\n",
       "      <td>USA</td>\n",
       "      <td>Florida</td>\n",
       "      <td>M</td>\n",
       "      <td>30</td>\n",
       "      <td>Bull shark</td>\n",
       "      <td>Snorkeling</td>\n",
       "      <td>N</td>\n",
       "      <td>young_adult</td>\n",
       "    </tr>\n",
       "    <tr>\n",
       "      <th>1</th>\n",
       "      <td>17-Sep-2020</td>\n",
       "      <td>2020</td>\n",
       "      <td>Provoked</td>\n",
       "      <td>AUSTRALIA</td>\n",
       "      <td>Queensland</td>\n",
       "      <td>M</td>\n",
       "      <td>0</td>\n",
       "      <td>\"whitetip shark\"</td>\n",
       "      <td>Fishing</td>\n",
       "      <td>N</td>\n",
       "      <td>NaN</td>\n",
       "    </tr>\n",
       "    <tr>\n",
       "      <th>3</th>\n",
       "      <td>16-Sep-2020</td>\n",
       "      <td>2020</td>\n",
       "      <td>NaN</td>\n",
       "      <td>USA</td>\n",
       "      <td>Florida</td>\n",
       "      <td>M</td>\n",
       "      <td>48</td>\n",
       "      <td>Shark involvement not confirmed</td>\n",
       "      <td>Swimming</td>\n",
       "      <td>N</td>\n",
       "      <td>adult</td>\n",
       "    </tr>\n",
       "    <tr>\n",
       "      <th>4</th>\n",
       "      <td>15-Sep-2020</td>\n",
       "      <td>2020</td>\n",
       "      <td>Unprovoked</td>\n",
       "      <td>USA</td>\n",
       "      <td>Florida</td>\n",
       "      <td>M</td>\n",
       "      <td>15</td>\n",
       "      <td>NaN</td>\n",
       "      <td>Surfing</td>\n",
       "      <td>N</td>\n",
       "      <td>teenager</td>\n",
       "    </tr>\n",
       "    <tr>\n",
       "      <th>5</th>\n",
       "      <td>15-Sep-2020</td>\n",
       "      <td>2020</td>\n",
       "      <td>Unprovoked</td>\n",
       "      <td>USA</td>\n",
       "      <td>Florida</td>\n",
       "      <td>M</td>\n",
       "      <td>25</td>\n",
       "      <td>NaN</td>\n",
       "      <td>Surfing</td>\n",
       "      <td>N</td>\n",
       "      <td>young_adult</td>\n",
       "    </tr>\n",
       "  </tbody>\n",
       "</table>\n",
       "</div>"
      ],
      "text/plain": [
       "          date  year        type    country        area sex  age  \\\n",
       "0  20-Sep-2020  2020  Unprovoked        USA     Florida   M   30   \n",
       "1  17-Sep-2020  2020    Provoked  AUSTRALIA  Queensland   M    0   \n",
       "3  16-Sep-2020  2020         NaN        USA     Florida   M   48   \n",
       "4  15-Sep-2020  2020  Unprovoked        USA     Florida   M   15   \n",
       "5  15-Sep-2020  2020  Unprovoked        USA     Florida   M   25   \n",
       "\n",
       "                           species    activity fatal    age_group  \n",
       "0                       Bull shark  Snorkeling     N  young_adult  \n",
       "1                 \"whitetip shark\"     Fishing     N          NaN  \n",
       "3  Shark involvement not confirmed    Swimming     N        adult  \n",
       "4                              NaN     Surfing     N     teenager  \n",
       "5                              NaN     Surfing     N  young_adult  "
      ]
     },
     "execution_count": 495,
     "metadata": {},
     "output_type": "execute_result"
    }
   ],
   "source": [
    "# Defining age groups:\n",
    "df_age['age_group'] = pd.cut(df_age['age'],[0,12,17,32,55,200], labels = ['kids','teenager','young_adult','adult','older'])\n",
    "df_age.head()"
   ]
  },
  {
   "cell_type": "code",
   "execution_count": 503,
   "metadata": {
    "ExecuteTime": {
     "end_time": "2020-09-30T03:13:04.275754Z",
     "start_time": "2020-09-30T03:13:04.216394Z"
    }
   },
   "outputs": [
    {
     "data": {
      "text/html": [
       "<div>\n",
       "<style scoped>\n",
       "    .dataframe tbody tr th:only-of-type {\n",
       "        vertical-align: middle;\n",
       "    }\n",
       "\n",
       "    .dataframe tbody tr th {\n",
       "        vertical-align: top;\n",
       "    }\n",
       "\n",
       "    .dataframe thead th {\n",
       "        text-align: right;\n",
       "    }\n",
       "</style>\n",
       "<table border=\"1\" class=\"dataframe\">\n",
       "  <thead>\n",
       "    <tr style=\"text-align: right;\">\n",
       "      <th></th>\n",
       "      <th>date</th>\n",
       "      <th>year</th>\n",
       "      <th>type</th>\n",
       "      <th>country</th>\n",
       "      <th>area</th>\n",
       "      <th>sex</th>\n",
       "      <th>age</th>\n",
       "      <th>species</th>\n",
       "      <th>activity</th>\n",
       "      <th>fatal</th>\n",
       "      <th>age_group</th>\n",
       "      <th>century</th>\n",
       "    </tr>\n",
       "  </thead>\n",
       "  <tbody>\n",
       "    <tr>\n",
       "      <th>0</th>\n",
       "      <td>20-Sep-2020</td>\n",
       "      <td>2020</td>\n",
       "      <td>Unprovoked</td>\n",
       "      <td>USA</td>\n",
       "      <td>Florida</td>\n",
       "      <td>M</td>\n",
       "      <td>30</td>\n",
       "      <td>Bull shark</td>\n",
       "      <td>Snorkeling</td>\n",
       "      <td>N</td>\n",
       "      <td>young_adult</td>\n",
       "      <td>21</td>\n",
       "    </tr>\n",
       "    <tr>\n",
       "      <th>1</th>\n",
       "      <td>17-Sep-2020</td>\n",
       "      <td>2020</td>\n",
       "      <td>Provoked</td>\n",
       "      <td>AUSTRALIA</td>\n",
       "      <td>Queensland</td>\n",
       "      <td>M</td>\n",
       "      <td>0</td>\n",
       "      <td>\"whitetip shark\"</td>\n",
       "      <td>Fishing</td>\n",
       "      <td>N</td>\n",
       "      <td>NaN</td>\n",
       "      <td>21</td>\n",
       "    </tr>\n",
       "    <tr>\n",
       "      <th>3</th>\n",
       "      <td>16-Sep-2020</td>\n",
       "      <td>2020</td>\n",
       "      <td>NaN</td>\n",
       "      <td>USA</td>\n",
       "      <td>Florida</td>\n",
       "      <td>M</td>\n",
       "      <td>48</td>\n",
       "      <td>Shark involvement not confirmed</td>\n",
       "      <td>Swimming</td>\n",
       "      <td>N</td>\n",
       "      <td>adult</td>\n",
       "      <td>21</td>\n",
       "    </tr>\n",
       "    <tr>\n",
       "      <th>4</th>\n",
       "      <td>15-Sep-2020</td>\n",
       "      <td>2020</td>\n",
       "      <td>Unprovoked</td>\n",
       "      <td>USA</td>\n",
       "      <td>Florida</td>\n",
       "      <td>M</td>\n",
       "      <td>15</td>\n",
       "      <td>NaN</td>\n",
       "      <td>Surfing</td>\n",
       "      <td>N</td>\n",
       "      <td>teenager</td>\n",
       "      <td>21</td>\n",
       "    </tr>\n",
       "    <tr>\n",
       "      <th>5</th>\n",
       "      <td>15-Sep-2020</td>\n",
       "      <td>2020</td>\n",
       "      <td>Unprovoked</td>\n",
       "      <td>USA</td>\n",
       "      <td>Florida</td>\n",
       "      <td>M</td>\n",
       "      <td>25</td>\n",
       "      <td>NaN</td>\n",
       "      <td>Surfing</td>\n",
       "      <td>N</td>\n",
       "      <td>young_adult</td>\n",
       "      <td>21</td>\n",
       "    </tr>\n",
       "    <tr>\n",
       "      <th>...</th>\n",
       "      <td>...</td>\n",
       "      <td>...</td>\n",
       "      <td>...</td>\n",
       "      <td>...</td>\n",
       "      <td>...</td>\n",
       "      <td>...</td>\n",
       "      <td>...</td>\n",
       "      <td>...</td>\n",
       "      <td>...</td>\n",
       "      <td>...</td>\n",
       "      <td>...</td>\n",
       "      <td>...</td>\n",
       "    </tr>\n",
       "    <tr>\n",
       "      <th>6516</th>\n",
       "      <td>1960s</td>\n",
       "      <td>1800</td>\n",
       "      <td>Unprovoked</td>\n",
       "      <td>IRAQ</td>\n",
       "      <td>Basrah</td>\n",
       "      <td>M</td>\n",
       "      <td>16</td>\n",
       "      <td>Bull shark</td>\n",
       "      <td>Swimming in section of river used for washing ...</td>\n",
       "      <td>N</td>\n",
       "      <td>teenager</td>\n",
       "      <td>18</td>\n",
       "    </tr>\n",
       "    <tr>\n",
       "      <th>6527</th>\n",
       "      <td>Before 1957</td>\n",
       "      <td>1800</td>\n",
       "      <td>Provoked</td>\n",
       "      <td>CUBA</td>\n",
       "      <td>Havana Province</td>\n",
       "      <td>M</td>\n",
       "      <td>50</td>\n",
       "      <td>NaN</td>\n",
       "      <td>Shark fishing, knocked overboard</td>\n",
       "      <td>Y</td>\n",
       "      <td>adult</td>\n",
       "      <td>18</td>\n",
       "    </tr>\n",
       "    <tr>\n",
       "      <th>6538</th>\n",
       "      <td>1941-1942</td>\n",
       "      <td>1800</td>\n",
       "      <td>Unprovoked</td>\n",
       "      <td>IRAQ</td>\n",
       "      <td>Basrah</td>\n",
       "      <td>M</td>\n",
       "      <td>14</td>\n",
       "      <td>Bull shark</td>\n",
       "      <td>Swimming</td>\n",
       "      <td>Y</td>\n",
       "      <td>teenager</td>\n",
       "      <td>18</td>\n",
       "    </tr>\n",
       "    <tr>\n",
       "      <th>6549</th>\n",
       "      <td>Early 1930s</td>\n",
       "      <td>1800</td>\n",
       "      <td>Unprovoked</td>\n",
       "      <td>BELIZE</td>\n",
       "      <td>NaN</td>\n",
       "      <td>M</td>\n",
       "      <td>16</td>\n",
       "      <td>12' tiger shark</td>\n",
       "      <td>Standing</td>\n",
       "      <td>Y</td>\n",
       "      <td>teenager</td>\n",
       "      <td>18</td>\n",
       "    </tr>\n",
       "    <tr>\n",
       "      <th>6574</th>\n",
       "      <td>1845-1853</td>\n",
       "      <td>1800</td>\n",
       "      <td>Unprovoked</td>\n",
       "      <td>CEYLON (SRI LANKA)</td>\n",
       "      <td>Eastern Province</td>\n",
       "      <td>M</td>\n",
       "      <td>15</td>\n",
       "      <td>NaN</td>\n",
       "      <td>Swimming</td>\n",
       "      <td>Y</td>\n",
       "      <td>teenager</td>\n",
       "      <td>18</td>\n",
       "    </tr>\n",
       "  </tbody>\n",
       "</table>\n",
       "<p>3671 rows × 12 columns</p>\n",
       "</div>"
      ],
      "text/plain": [
       "             date  year        type             country              area sex  \\\n",
       "0     20-Sep-2020  2020  Unprovoked                 USA           Florida   M   \n",
       "1     17-Sep-2020  2020    Provoked           AUSTRALIA        Queensland   M   \n",
       "3     16-Sep-2020  2020         NaN                 USA           Florida   M   \n",
       "4     15-Sep-2020  2020  Unprovoked                 USA           Florida   M   \n",
       "5     15-Sep-2020  2020  Unprovoked                 USA           Florida   M   \n",
       "...           ...   ...         ...                 ...               ...  ..   \n",
       "6516        1960s  1800  Unprovoked                IRAQ            Basrah   M   \n",
       "6527  Before 1957  1800    Provoked                CUBA   Havana Province   M   \n",
       "6538    1941-1942  1800  Unprovoked                IRAQ            Basrah   M   \n",
       "6549  Early 1930s  1800  Unprovoked              BELIZE               NaN   M   \n",
       "6574    1845-1853  1800  Unprovoked  CEYLON (SRI LANKA)  Eastern Province   M   \n",
       "\n",
       "      age                          species  \\\n",
       "0      30                       Bull shark   \n",
       "1       0                 \"whitetip shark\"   \n",
       "3      48  Shark involvement not confirmed   \n",
       "4      15                              NaN   \n",
       "5      25                              NaN   \n",
       "...   ...                              ...   \n",
       "6516   16                       Bull shark   \n",
       "6527   50                              NaN   \n",
       "6538   14                       Bull shark   \n",
       "6549   16                  12' tiger shark   \n",
       "6574   15                              NaN   \n",
       "\n",
       "                                               activity fatal    age_group  \\\n",
       "0                                            Snorkeling     N  young_adult   \n",
       "1                                               Fishing     N          NaN   \n",
       "3                                              Swimming     N        adult   \n",
       "4                                               Surfing     N     teenager   \n",
       "5                                               Surfing     N  young_adult   \n",
       "...                                                 ...   ...          ...   \n",
       "6516  Swimming in section of river used for washing ...     N     teenager   \n",
       "6527                   Shark fishing, knocked overboard     Y        adult   \n",
       "6538                                           Swimming     Y     teenager   \n",
       "6549                                           Standing     Y     teenager   \n",
       "6574                                           Swimming     Y     teenager   \n",
       "\n",
       "     century  \n",
       "0         21  \n",
       "1         21  \n",
       "3         21  \n",
       "4         21  \n",
       "5         21  \n",
       "...      ...  \n",
       "6516      18  \n",
       "6527      18  \n",
       "6538      18  \n",
       "6549      18  \n",
       "6574      18  \n",
       "\n",
       "[3671 rows x 12 columns]"
      ]
     },
     "execution_count": 503,
     "metadata": {},
     "output_type": "execute_result"
    }
   ],
   "source": [
    "# Before century XIX : Verifying the number of fatal cases by age group\n",
    "df_age.loc[mask_BXIX,'century'] = 18\n",
    "df_age.loc[mask_XIX,'century'] = 19\n",
    "df_age.loc[mask_XX,'century'] = 20\n",
    "df_age.loc[mask_XXI,'century'] = 21\n",
    "\n",
    "\n",
    "df_age\n"
   ]
  },
  {
   "cell_type": "code",
   "execution_count": 514,
   "metadata": {
    "ExecuteTime": {
     "end_time": "2020-09-30T03:22:27.289832Z",
     "start_time": "2020-09-30T03:22:27.229953Z"
    }
   },
   "outputs": [
    {
     "data": {
      "text/html": [
       "<div>\n",
       "<style scoped>\n",
       "    .dataframe tbody tr th:only-of-type {\n",
       "        vertical-align: middle;\n",
       "    }\n",
       "\n",
       "    .dataframe tbody tr th {\n",
       "        vertical-align: top;\n",
       "    }\n",
       "\n",
       "    .dataframe thead th {\n",
       "        text-align: right;\n",
       "    }\n",
       "</style>\n",
       "<table border=\"1\" class=\"dataframe\">\n",
       "  <thead>\n",
       "    <tr style=\"text-align: right;\">\n",
       "      <th></th>\n",
       "      <th>fatal</th>\n",
       "      <th>age_group</th>\n",
       "      <th>century</th>\n",
       "      <th>sex</th>\n",
       "      <th>count_cases</th>\n",
       "    </tr>\n",
       "  </thead>\n",
       "  <tbody>\n",
       "    <tr>\n",
       "      <th>0</th>\n",
       "      <td>N</td>\n",
       "      <td>kids</td>\n",
       "      <td>18</td>\n",
       "      <td>F</td>\n",
       "      <td>0</td>\n",
       "    </tr>\n",
       "    <tr>\n",
       "      <th>1</th>\n",
       "      <td>N</td>\n",
       "      <td>kids</td>\n",
       "      <td>18</td>\n",
       "      <td>M</td>\n",
       "      <td>1</td>\n",
       "    </tr>\n",
       "    <tr>\n",
       "      <th>2</th>\n",
       "      <td>N</td>\n",
       "      <td>kids</td>\n",
       "      <td>18</td>\n",
       "      <td>M</td>\n",
       "      <td>0</td>\n",
       "    </tr>\n",
       "    <tr>\n",
       "      <th>3</th>\n",
       "      <td>N</td>\n",
       "      <td>kids</td>\n",
       "      <td>18</td>\n",
       "      <td>lli</td>\n",
       "      <td>0</td>\n",
       "    </tr>\n",
       "    <tr>\n",
       "      <th>4</th>\n",
       "      <td>N</td>\n",
       "      <td>kids</td>\n",
       "      <td>19</td>\n",
       "      <td>F</td>\n",
       "      <td>0</td>\n",
       "    </tr>\n",
       "    <tr>\n",
       "      <th>...</th>\n",
       "      <td>...</td>\n",
       "      <td>...</td>\n",
       "      <td>...</td>\n",
       "      <td>...</td>\n",
       "      <td>...</td>\n",
       "    </tr>\n",
       "    <tr>\n",
       "      <th>235</th>\n",
       "      <td>Y</td>\n",
       "      <td>older</td>\n",
       "      <td>20</td>\n",
       "      <td>lli</td>\n",
       "      <td>0</td>\n",
       "    </tr>\n",
       "    <tr>\n",
       "      <th>236</th>\n",
       "      <td>Y</td>\n",
       "      <td>older</td>\n",
       "      <td>21</td>\n",
       "      <td>F</td>\n",
       "      <td>7</td>\n",
       "    </tr>\n",
       "    <tr>\n",
       "      <th>237</th>\n",
       "      <td>Y</td>\n",
       "      <td>older</td>\n",
       "      <td>21</td>\n",
       "      <td>M</td>\n",
       "      <td>14</td>\n",
       "    </tr>\n",
       "    <tr>\n",
       "      <th>238</th>\n",
       "      <td>Y</td>\n",
       "      <td>older</td>\n",
       "      <td>21</td>\n",
       "      <td>M</td>\n",
       "      <td>0</td>\n",
       "    </tr>\n",
       "    <tr>\n",
       "      <th>239</th>\n",
       "      <td>Y</td>\n",
       "      <td>older</td>\n",
       "      <td>21</td>\n",
       "      <td>lli</td>\n",
       "      <td>0</td>\n",
       "    </tr>\n",
       "  </tbody>\n",
       "</table>\n",
       "<p>240 rows × 5 columns</p>\n",
       "</div>"
      ],
      "text/plain": [
       "    fatal age_group  century  sex  count_cases\n",
       "0       N      kids       18    F            0\n",
       "1       N      kids       18    M            1\n",
       "2       N      kids       18   M             0\n",
       "3       N      kids       18  lli            0\n",
       "4       N      kids       19    F            0\n",
       "..    ...       ...      ...  ...          ...\n",
       "235     Y     older       20  lli            0\n",
       "236     Y     older       21    F            7\n",
       "237     Y     older       21    M           14\n",
       "238     Y     older       21   M             0\n",
       "239     Y     older       21  lli            0\n",
       "\n",
       "[240 rows x 5 columns]"
      ]
     },
     "execution_count": 514,
     "metadata": {},
     "output_type": "execute_result"
    }
   ],
   "source": [
    "df_grouped = df_age.groupby(['fatal','age_group','century','sex']).agg(count_cases = ('date','count')).reset_index()\n",
    "#df_grouped.loc[:,['fatal','age_group','century','sex']]\n",
    "\n",
    "df_grouped"
   ]
  },
  {
   "cell_type": "code",
   "execution_count": 505,
   "metadata": {
    "ExecuteTime": {
     "end_time": "2020-09-30T03:13:25.353199Z",
     "start_time": "2020-09-30T03:13:25.109785Z"
    }
   },
   "outputs": [
    {
     "data": {
      "text/plain": [
       "40"
      ]
     },
     "execution_count": 505,
     "metadata": {},
     "output_type": "execute_result"
    }
   ],
   "source": [
    "import gc\n",
    "gc.collect()"
   ]
  },
  {
   "cell_type": "code",
   "execution_count": 517,
   "metadata": {
    "ExecuteTime": {
     "end_time": "2020-09-30T03:25:38.148993Z",
     "start_time": "2020-09-30T03:25:38.120188Z"
    }
   },
   "outputs": [
    {
     "data": {
      "text/html": [
       "<div>\n",
       "<style scoped>\n",
       "    .dataframe tbody tr th:only-of-type {\n",
       "        vertical-align: middle;\n",
       "    }\n",
       "\n",
       "    .dataframe tbody tr th {\n",
       "        vertical-align: top;\n",
       "    }\n",
       "\n",
       "    .dataframe thead th {\n",
       "        text-align: right;\n",
       "    }\n",
       "</style>\n",
       "<table border=\"1\" class=\"dataframe\">\n",
       "  <thead>\n",
       "    <tr style=\"text-align: right;\">\n",
       "      <th></th>\n",
       "      <th>fatal</th>\n",
       "      <th>age_group</th>\n",
       "      <th>century</th>\n",
       "      <th>sex</th>\n",
       "      <th>count_cases</th>\n",
       "    </tr>\n",
       "  </thead>\n",
       "  <tbody>\n",
       "    <tr>\n",
       "      <th>160</th>\n",
       "      <td>Y</td>\n",
       "      <td>kids</td>\n",
       "      <td>18</td>\n",
       "      <td>F</td>\n",
       "      <td>0</td>\n",
       "    </tr>\n",
       "    <tr>\n",
       "      <th>161</th>\n",
       "      <td>Y</td>\n",
       "      <td>kids</td>\n",
       "      <td>18</td>\n",
       "      <td>M</td>\n",
       "      <td>0</td>\n",
       "    </tr>\n",
       "    <tr>\n",
       "      <th>162</th>\n",
       "      <td>Y</td>\n",
       "      <td>kids</td>\n",
       "      <td>18</td>\n",
       "      <td>M</td>\n",
       "      <td>0</td>\n",
       "    </tr>\n",
       "    <tr>\n",
       "      <th>163</th>\n",
       "      <td>Y</td>\n",
       "      <td>kids</td>\n",
       "      <td>18</td>\n",
       "      <td>lli</td>\n",
       "      <td>0</td>\n",
       "    </tr>\n",
       "    <tr>\n",
       "      <th>164</th>\n",
       "      <td>Y</td>\n",
       "      <td>kids</td>\n",
       "      <td>19</td>\n",
       "      <td>F</td>\n",
       "      <td>0</td>\n",
       "    </tr>\n",
       "    <tr>\n",
       "      <th>...</th>\n",
       "      <td>...</td>\n",
       "      <td>...</td>\n",
       "      <td>...</td>\n",
       "      <td>...</td>\n",
       "      <td>...</td>\n",
       "    </tr>\n",
       "    <tr>\n",
       "      <th>235</th>\n",
       "      <td>Y</td>\n",
       "      <td>older</td>\n",
       "      <td>20</td>\n",
       "      <td>lli</td>\n",
       "      <td>0</td>\n",
       "    </tr>\n",
       "    <tr>\n",
       "      <th>236</th>\n",
       "      <td>Y</td>\n",
       "      <td>older</td>\n",
       "      <td>21</td>\n",
       "      <td>F</td>\n",
       "      <td>7</td>\n",
       "    </tr>\n",
       "    <tr>\n",
       "      <th>237</th>\n",
       "      <td>Y</td>\n",
       "      <td>older</td>\n",
       "      <td>21</td>\n",
       "      <td>M</td>\n",
       "      <td>14</td>\n",
       "    </tr>\n",
       "    <tr>\n",
       "      <th>238</th>\n",
       "      <td>Y</td>\n",
       "      <td>older</td>\n",
       "      <td>21</td>\n",
       "      <td>M</td>\n",
       "      <td>0</td>\n",
       "    </tr>\n",
       "    <tr>\n",
       "      <th>239</th>\n",
       "      <td>Y</td>\n",
       "      <td>older</td>\n",
       "      <td>21</td>\n",
       "      <td>lli</td>\n",
       "      <td>0</td>\n",
       "    </tr>\n",
       "  </tbody>\n",
       "</table>\n",
       "<p>80 rows × 5 columns</p>\n",
       "</div>"
      ],
      "text/plain": [
       "    fatal age_group  century  sex  count_cases\n",
       "160     Y      kids       18    F            0\n",
       "161     Y      kids       18    M            0\n",
       "162     Y      kids       18   M             0\n",
       "163     Y      kids       18  lli            0\n",
       "164     Y      kids       19    F            0\n",
       "..    ...       ...      ...  ...          ...\n",
       "235     Y     older       20  lli            0\n",
       "236     Y     older       21    F            7\n",
       "237     Y     older       21    M           14\n",
       "238     Y     older       21   M             0\n",
       "239     Y     older       21  lli            0\n",
       "\n",
       "[80 rows x 5 columns]"
      ]
     },
     "execution_count": 517,
     "metadata": {},
     "output_type": "execute_result"
    }
   ],
   "source": [
    "# Verifying the number of fatal cases by age by sex by century\n",
    "df_grouped.query('fatal == \"Y\"')"
   ]
  },
  {
   "cell_type": "code",
   "execution_count": null,
   "metadata": {},
   "outputs": [],
   "source": []
  },
  {
   "cell_type": "markdown",
   "metadata": {},
   "source": [
    "## Surf is the activity which causes more accident **in the last years** (YEAR AND ACTIVITY COLUMNS)\n"
   ]
  },
  {
   "cell_type": "markdown",
   "metadata": {},
   "source": [
    "- Grouping the activities which shows the greatest number of fatalities"
   ]
  },
  {
   "cell_type": "code",
   "execution_count": 328,
   "metadata": {
    "ExecuteTime": {
     "end_time": "2020-09-30T01:49:03.824099Z",
     "start_time": "2020-09-30T01:49:03.806961Z"
    }
   },
   "outputs": [
    {
     "data": {
      "text/html": [
       "<div>\n",
       "<style scoped>\n",
       "    .dataframe tbody tr th:only-of-type {\n",
       "        vertical-align: middle;\n",
       "    }\n",
       "\n",
       "    .dataframe tbody tr th {\n",
       "        vertical-align: top;\n",
       "    }\n",
       "\n",
       "    .dataframe thead th {\n",
       "        text-align: right;\n",
       "    }\n",
       "</style>\n",
       "<table border=\"1\" class=\"dataframe\">\n",
       "  <thead>\n",
       "    <tr style=\"text-align: right;\">\n",
       "      <th></th>\n",
       "      <th>activity</th>\n",
       "      <th>fatal</th>\n",
       "    </tr>\n",
       "  </thead>\n",
       "  <tbody>\n",
       "    <tr>\n",
       "      <th>0</th>\n",
       "      <td>Snorkeling</td>\n",
       "      <td>N</td>\n",
       "    </tr>\n",
       "    <tr>\n",
       "      <th>1</th>\n",
       "      <td>Fishing</td>\n",
       "      <td>N</td>\n",
       "    </tr>\n",
       "    <tr>\n",
       "      <th>2</th>\n",
       "      <td>Foil-boarding</td>\n",
       "      <td>N</td>\n",
       "    </tr>\n",
       "    <tr>\n",
       "      <th>3</th>\n",
       "      <td>Swimming</td>\n",
       "      <td>N</td>\n",
       "    </tr>\n",
       "    <tr>\n",
       "      <th>4</th>\n",
       "      <td>Surfing</td>\n",
       "      <td>N</td>\n",
       "    </tr>\n",
       "    <tr>\n",
       "      <th>...</th>\n",
       "      <td>...</td>\n",
       "      <td>...</td>\n",
       "    </tr>\n",
       "    <tr>\n",
       "      <th>6570</th>\n",
       "      <td>Diving</td>\n",
       "      <td>Y</td>\n",
       "    </tr>\n",
       "    <tr>\n",
       "      <th>6571</th>\n",
       "      <td>Pearl diving</td>\n",
       "      <td>Y</td>\n",
       "    </tr>\n",
       "    <tr>\n",
       "      <th>6572</th>\n",
       "      <td>Swimming</td>\n",
       "      <td>Y</td>\n",
       "    </tr>\n",
       "    <tr>\n",
       "      <th>6573</th>\n",
       "      <td>NaN</td>\n",
       "      <td>Y</td>\n",
       "    </tr>\n",
       "    <tr>\n",
       "      <th>6574</th>\n",
       "      <td>Swimming</td>\n",
       "      <td>Y</td>\n",
       "    </tr>\n",
       "  </tbody>\n",
       "</table>\n",
       "<p>6573 rows × 2 columns</p>\n",
       "</div>"
      ],
      "text/plain": [
       "           activity fatal\n",
       "0        Snorkeling     N\n",
       "1           Fishing     N\n",
       "2     Foil-boarding     N\n",
       "3          Swimming     N\n",
       "4           Surfing     N\n",
       "...             ...   ...\n",
       "6570         Diving     Y\n",
       "6571   Pearl diving     Y\n",
       "6572       Swimming     Y\n",
       "6573            NaN     Y\n",
       "6574       Swimming     Y\n",
       "\n",
       "[6573 rows x 2 columns]"
      ]
     },
     "execution_count": 328,
     "metadata": {},
     "output_type": "execute_result"
    }
   ],
   "source": [
    "df_fatal_act = df.loc[:,['activity', 'fatal']]\n",
    "df_fatal_act"
   ]
  },
  {
   "cell_type": "code",
   "execution_count": 330,
   "metadata": {
    "ExecuteTime": {
     "end_time": "2020-09-30T01:49:18.996674Z",
     "start_time": "2020-09-30T01:49:18.973219Z"
    }
   },
   "outputs": [
    {
     "data": {
      "text/html": [
       "<div>\n",
       "<style scoped>\n",
       "    .dataframe tbody tr th:only-of-type {\n",
       "        vertical-align: middle;\n",
       "    }\n",
       "\n",
       "    .dataframe tbody tr th {\n",
       "        vertical-align: top;\n",
       "    }\n",
       "\n",
       "    .dataframe thead th {\n",
       "        text-align: right;\n",
       "    }\n",
       "</style>\n",
       "<table border=\"1\" class=\"dataframe\">\n",
       "  <thead>\n",
       "    <tr style=\"text-align: right;\">\n",
       "      <th></th>\n",
       "      <th>activity</th>\n",
       "      <th>fatal</th>\n",
       "    </tr>\n",
       "  </thead>\n",
       "  <tbody>\n",
       "    <tr>\n",
       "      <th>0</th>\n",
       "      <td></td>\n",
       "      <td>1</td>\n",
       "    </tr>\n",
       "    <tr>\n",
       "      <th>1</th>\n",
       "      <td></td>\n",
       "      <td>1</td>\n",
       "    </tr>\n",
       "    <tr>\n",
       "      <th>2</th>\n",
       "      <td>Diving for abalone (Hookah)</td>\n",
       "      <td>1</td>\n",
       "    </tr>\n",
       "    <tr>\n",
       "      <th>3</th>\n",
       "      <td>a canoe was pursuing a schooner that had forc...</td>\n",
       "      <td>1</td>\n",
       "    </tr>\n",
       "    <tr>\n",
       "      <th>4</th>\n",
       "      <td>\"Boat accident\"</td>\n",
       "      <td>1</td>\n",
       "    </tr>\n",
       "    <tr>\n",
       "      <th>...</th>\n",
       "      <td>...</td>\n",
       "      <td>...</td>\n",
       "    </tr>\n",
       "    <tr>\n",
       "      <th>1547</th>\n",
       "      <td>ship torpedoed 400 miles off the African coas....</td>\n",
       "      <td>1</td>\n",
       "    </tr>\n",
       "    <tr>\n",
       "      <th>1548</th>\n",
       "      <td>small boat</td>\n",
       "      <td>1</td>\n",
       "    </tr>\n",
       "    <tr>\n",
       "      <th>1549</th>\n",
       "      <td>wreck of the State Oil Company ship Permina</td>\n",
       "      <td>1</td>\n",
       "    </tr>\n",
       "    <tr>\n",
       "      <th>1550</th>\n",
       "      <td>yachting accident</td>\n",
       "      <td>1</td>\n",
       "    </tr>\n",
       "    <tr>\n",
       "      <th>1551</th>\n",
       "      <td>yachtsman in a zodiac</td>\n",
       "      <td>1</td>\n",
       "    </tr>\n",
       "  </tbody>\n",
       "</table>\n",
       "<p>1552 rows × 2 columns</p>\n",
       "</div>"
      ],
      "text/plain": [
       "                                               activity  fatal\n",
       "0                                                            1\n",
       "1                                                            1\n",
       "2                           Diving for abalone (Hookah)      1\n",
       "3      a canoe was pursuing a schooner that had forc...      1\n",
       "4                                       \"Boat accident\"      1\n",
       "...                                                 ...    ...\n",
       "1547  ship torpedoed 400 miles off the African coas....      1\n",
       "1548                                         small boat      1\n",
       "1549        wreck of the State Oil Company ship Permina      1\n",
       "1550                                  yachting accident      1\n",
       "1551                              yachtsman in a zodiac      1\n",
       "\n",
       "[1552 rows x 2 columns]"
      ]
     },
     "execution_count": 330,
     "metadata": {},
     "output_type": "execute_result"
    }
   ],
   "source": [
    "df_fatal_act.groupby('activity', as_index = False).count()"
   ]
  },
  {
   "cell_type": "code",
   "execution_count": null,
   "metadata": {},
   "outputs": [],
   "source": []
  },
  {
   "cell_type": "markdown",
   "metadata": {
    "heading_collapsed": true
   },
   "source": [
    "## Most of the cases were **unprovoked** (TYPE COLUMN)\n"
   ]
  },
  {
   "cell_type": "markdown",
   "metadata": {
    "heading_collapsed": true
   },
   "source": [
    "## The **location** with greater number of cases has no legislation or safety measures (COUNTRY AND AREA)\n"
   ]
  },
  {
   "cell_type": "code",
   "execution_count": 137,
   "metadata": {
    "ExecuteTime": {
     "end_time": "2020-09-29T20:59:45.493624Z",
     "start_time": "2020-09-29T20:59:45.449713Z"
    },
    "hidden": true
   },
   "outputs": [
    {
     "data": {
      "text/html": [
       "<div>\n",
       "<style scoped>\n",
       "    .dataframe tbody tr th:only-of-type {\n",
       "        vertical-align: middle;\n",
       "    }\n",
       "\n",
       "    .dataframe tbody tr th {\n",
       "        vertical-align: top;\n",
       "    }\n",
       "\n",
       "    .dataframe thead th {\n",
       "        text-align: right;\n",
       "    }\n",
       "</style>\n",
       "<table border=\"1\" class=\"dataframe\">\n",
       "  <thead>\n",
       "    <tr style=\"text-align: right;\">\n",
       "      <th></th>\n",
       "      <th>country</th>\n",
       "      <th>date</th>\n",
       "      <th>year</th>\n",
       "      <th>type</th>\n",
       "      <th>area</th>\n",
       "      <th>sex</th>\n",
       "      <th>age</th>\n",
       "      <th>species</th>\n",
       "      <th>activity</th>\n",
       "      <th>fatal</th>\n",
       "    </tr>\n",
       "  </thead>\n",
       "  <tbody>\n",
       "    <tr>\n",
       "      <th>0</th>\n",
       "      <td>PHILIPPINES</td>\n",
       "      <td>1</td>\n",
       "      <td>1</td>\n",
       "      <td>1</td>\n",
       "      <td>1</td>\n",
       "      <td>1</td>\n",
       "      <td>0</td>\n",
       "      <td>0</td>\n",
       "      <td>1</td>\n",
       "      <td>1</td>\n",
       "    </tr>\n",
       "    <tr>\n",
       "      <th>1</th>\n",
       "      <td>TONGA</td>\n",
       "      <td>3</td>\n",
       "      <td>3</td>\n",
       "      <td>3</td>\n",
       "      <td>3</td>\n",
       "      <td>3</td>\n",
       "      <td>1</td>\n",
       "      <td>3</td>\n",
       "      <td>3</td>\n",
       "      <td>3</td>\n",
       "    </tr>\n",
       "    <tr>\n",
       "      <th>2</th>\n",
       "      <td>ADMIRALTY ISLANDS</td>\n",
       "      <td>1</td>\n",
       "      <td>1</td>\n",
       "      <td>1</td>\n",
       "      <td>1</td>\n",
       "      <td>1</td>\n",
       "      <td>1</td>\n",
       "      <td>0</td>\n",
       "      <td>0</td>\n",
       "      <td>1</td>\n",
       "    </tr>\n",
       "    <tr>\n",
       "      <th>3</th>\n",
       "      <td>AFRICA</td>\n",
       "      <td>1</td>\n",
       "      <td>1</td>\n",
       "      <td>1</td>\n",
       "      <td>0</td>\n",
       "      <td>1</td>\n",
       "      <td>0</td>\n",
       "      <td>0</td>\n",
       "      <td>1</td>\n",
       "      <td>1</td>\n",
       "    </tr>\n",
       "    <tr>\n",
       "      <th>4</th>\n",
       "      <td>ALGERIA</td>\n",
       "      <td>1</td>\n",
       "      <td>1</td>\n",
       "      <td>1</td>\n",
       "      <td>0</td>\n",
       "      <td>1</td>\n",
       "      <td>0</td>\n",
       "      <td>0</td>\n",
       "      <td>1</td>\n",
       "      <td>1</td>\n",
       "    </tr>\n",
       "    <tr>\n",
       "      <th>...</th>\n",
       "      <td>...</td>\n",
       "      <td>...</td>\n",
       "      <td>...</td>\n",
       "      <td>...</td>\n",
       "      <td>...</td>\n",
       "      <td>...</td>\n",
       "      <td>...</td>\n",
       "      <td>...</td>\n",
       "      <td>...</td>\n",
       "      <td>...</td>\n",
       "    </tr>\n",
       "    <tr>\n",
       "      <th>209</th>\n",
       "      <td>VIETNAM</td>\n",
       "      <td>15</td>\n",
       "      <td>15</td>\n",
       "      <td>14</td>\n",
       "      <td>10</td>\n",
       "      <td>15</td>\n",
       "      <td>6</td>\n",
       "      <td>4</td>\n",
       "      <td>12</td>\n",
       "      <td>15</td>\n",
       "    </tr>\n",
       "    <tr>\n",
       "      <th>210</th>\n",
       "      <td>WEST INDIES</td>\n",
       "      <td>2</td>\n",
       "      <td>2</td>\n",
       "      <td>2</td>\n",
       "      <td>0</td>\n",
       "      <td>2</td>\n",
       "      <td>0</td>\n",
       "      <td>0</td>\n",
       "      <td>2</td>\n",
       "      <td>2</td>\n",
       "    </tr>\n",
       "    <tr>\n",
       "      <th>211</th>\n",
       "      <td>WESTERN SAMOA</td>\n",
       "      <td>1</td>\n",
       "      <td>1</td>\n",
       "      <td>1</td>\n",
       "      <td>1</td>\n",
       "      <td>1</td>\n",
       "      <td>1</td>\n",
       "      <td>1</td>\n",
       "      <td>1</td>\n",
       "      <td>1</td>\n",
       "    </tr>\n",
       "    <tr>\n",
       "      <th>212</th>\n",
       "      <td>YEMEN</td>\n",
       "      <td>2</td>\n",
       "      <td>2</td>\n",
       "      <td>2</td>\n",
       "      <td>2</td>\n",
       "      <td>1</td>\n",
       "      <td>0</td>\n",
       "      <td>1</td>\n",
       "      <td>2</td>\n",
       "      <td>2</td>\n",
       "    </tr>\n",
       "    <tr>\n",
       "      <th>213</th>\n",
       "      <td>YEMEN</td>\n",
       "      <td>7</td>\n",
       "      <td>7</td>\n",
       "      <td>7</td>\n",
       "      <td>7</td>\n",
       "      <td>6</td>\n",
       "      <td>2</td>\n",
       "      <td>1</td>\n",
       "      <td>7</td>\n",
       "      <td>7</td>\n",
       "    </tr>\n",
       "  </tbody>\n",
       "</table>\n",
       "<p>214 rows × 10 columns</p>\n",
       "</div>"
      ],
      "text/plain": [
       "               country  date  year  type  area  sex  age  species  activity  \\\n",
       "0          PHILIPPINES     1     1     1     1    1    0        0         1   \n",
       "1                TONGA     3     3     3     3    3    1        3         3   \n",
       "2    ADMIRALTY ISLANDS     1     1     1     1    1    1        0         0   \n",
       "3               AFRICA     1     1     1     0    1    0        0         1   \n",
       "4              ALGERIA     1     1     1     0    1    0        0         1   \n",
       "..                 ...   ...   ...   ...   ...  ...  ...      ...       ...   \n",
       "209            VIETNAM    15    15    14    10   15    6        4        12   \n",
       "210        WEST INDIES     2     2     2     0    2    0        0         2   \n",
       "211      WESTERN SAMOA     1     1     1     1    1    1        1         1   \n",
       "212              YEMEN     2     2     2     2    1    0        1         2   \n",
       "213             YEMEN      7     7     7     7    6    2        1         7   \n",
       "\n",
       "     fatal  \n",
       "0        1  \n",
       "1        3  \n",
       "2        1  \n",
       "3        1  \n",
       "4        1  \n",
       "..     ...  \n",
       "209     15  \n",
       "210      2  \n",
       "211      1  \n",
       "212      2  \n",
       "213      7  \n",
       "\n",
       "[214 rows x 10 columns]"
      ]
     },
     "execution_count": 137,
     "metadata": {},
     "output_type": "execute_result"
    }
   ],
   "source": [
    "df.groupby('country', as_index = False).count()"
   ]
  },
  {
   "cell_type": "markdown",
   "metadata": {
    "heading_collapsed": true
   },
   "source": [
    "## Season with more cases is summer (DATE COLUMN AND **NEW COLUMN SEASON**)\n"
   ]
  },
  {
   "cell_type": "markdown",
   "metadata": {
    "heading_collapsed": true
   },
   "source": [
    "## The most dangerous species of shark (SPECIES COLUMN) "
   ]
  },
  {
   "cell_type": "code",
   "execution_count": null,
   "metadata": {
    "hidden": true
   },
   "outputs": [],
   "source": []
  },
  {
   "cell_type": "code",
   "execution_count": null,
   "metadata": {
    "hidden": true
   },
   "outputs": [],
   "source": []
  },
  {
   "cell_type": "code",
   "execution_count": null,
   "metadata": {
    "hidden": true
   },
   "outputs": [],
   "source": []
  }
 ],
 "metadata": {
  "hide_input": false,
  "kernelspec": {
   "display_name": "Python 3",
   "language": "python",
   "name": "python3"
  },
  "language_info": {
   "codemirror_mode": {
    "name": "ipython",
    "version": 3
   },
   "file_extension": ".py",
   "mimetype": "text/x-python",
   "name": "python",
   "nbconvert_exporter": "python",
   "pygments_lexer": "ipython3",
   "version": "3.7.6"
  },
  "toc": {
   "base_numbering": 1,
   "nav_menu": {},
   "number_sections": true,
   "sideBar": true,
   "skip_h1_title": false,
   "title_cell": "Table of Contents",
   "title_sidebar": "Contents",
   "toc_cell": false,
   "toc_position": {},
   "toc_section_display": true,
   "toc_window_display": true
  },
  "varInspector": {
   "cols": {
    "lenName": 16,
    "lenType": 16,
    "lenVar": 40
   },
   "kernels_config": {
    "python": {
     "delete_cmd_postfix": "",
     "delete_cmd_prefix": "del ",
     "library": "var_list.py",
     "varRefreshCmd": "print(var_dic_list())"
    },
    "r": {
     "delete_cmd_postfix": ") ",
     "delete_cmd_prefix": "rm(",
     "library": "var_list.r",
     "varRefreshCmd": "cat(var_dic_list()) "
    }
   },
   "types_to_exclude": [
    "module",
    "function",
    "builtin_function_or_method",
    "instance",
    "_Feature"
   ],
   "window_display": false
  }
 },
 "nbformat": 4,
 "nbformat_minor": 4
}
