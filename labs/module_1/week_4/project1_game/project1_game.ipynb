{
 "cells": [
  {
   "cell_type": "code",
   "execution_count": 1,
   "metadata": {},
   "outputs": [
    {
     "name": "stdout",
     "output_type": "stream",
     "text": [
      "pygame 1.9.6\n",
      "Hello from the pygame community. https://www.pygame.org/contribute.html\n"
     ]
    }
   ],
   "source": [
    "import pygame"
   ]
  },
  {
   "cell_type": "code",
   "execution_count": 2,
   "metadata": {},
   "outputs": [],
   "source": [
    "CAN_WIDTH, CAN_HEIGHT = (180, 250)"
   ]
  },
  {
   "cell_type": "code",
   "execution_count": 3,
   "metadata": {},
   "outputs": [],
   "source": [
    "OBJ_DICT = {'organic':['apple.png','banana_peel.png'], \n",
    "            'glass':['glass_bottle.png','glass.png'],\n",
    "            'metal':['can.png','can_2.png','can_3.png'],\n",
    "            'non_rec':['charger.png','clip.png','mirror.png'],\n",
    "            'paper':['jornal_paper.png','paper.png'],\n",
    "            'plastic':['plastic_bottle.png','plastic_ketchup.png']}"
   ]
  },
  {
   "cell_type": "code",
   "execution_count": 4,
   "metadata": {},
   "outputs": [],
   "source": [
    "def resize(obj_image):\n",
    "    \n",
    "    img_size = obj_image.get_size()\n",
    "    \n",
    "    # if widht is greater than height\n",
    "    if img_size[0] > img_size[1]:\n",
    "        height = 50\n",
    "        wpercent = (height/float(img_size[1]))\n",
    "        width = int((float(img_size[0])*float(wpercent)))\n",
    "    else:\n",
    "        width = 50\n",
    "        wpercent = (width/float(img_size[0]))\n",
    "        height = int((float(img_size[1])*float(wpercent)))\n",
    "    \n",
    "    return width, height"
   ]
  },
  {
   "cell_type": "code",
   "execution_count": 5,
   "metadata": {},
   "outputs": [],
   "source": [
    "import os\n",
    "import numpy as np\n",
    "\n",
    "image_folder = 'images/'\n",
    "bg_name = 'background.jpg'\n",
    "\n",
    "path_to_background = os.path.join(image_folder, bg_name)\n",
    "bg_image = pygame.image.load(path_to_background)\n",
    "SCREEN_WIDTH, SCREEN_HEIGHT = bg_image.get_size()\n",
    "#SCREEN_WIDTH, SCREEN_HEIGHT = (400, 600)"
   ]
  },
  {
   "cell_type": "code",
   "execution_count": 6,
   "metadata": {},
   "outputs": [],
   "source": [
    "object_name = 'apple.png'\n",
    "\n",
    "object_path = os.path.join(image_folder, object_name)\n",
    "obj_image = pygame.image.load(object_path)\n",
    "#obj_image = pygame.transform.scale(obj_image, (IMG_WIDTH, IMG_HEIGHT))\n",
    "#obj_image = pygame.transform.scale(obj_image, (np.array(obj_image.get_size())//50))\n",
    "\"\"\"img_size = obj_image.get_size()\n",
    "wpercent = (IMG_WIDTH/float(img_size[0]))\n",
    "IMG_HEIGHT = int((float(img_size[1])*float(wpercent)))\"\"\"\n",
    "img_width, img_height = resize(obj_image)\n",
    "obj_image = pygame.transform.scale(obj_image, (img_width, img_height))"
   ]
  },
  {
   "cell_type": "code",
   "execution_count": 7,
   "metadata": {},
   "outputs": [],
   "source": [
    "can_name = 'trash_can_blue.png'\n",
    "\n",
    "can_path = os.path.join(image_folder, can_name)\n",
    "can_image = pygame.image.load(can_path)\n",
    "can_image = pygame.transform.scale(can_image, (CAN_WIDTH, CAN_HEIGHT))"
   ]
  },
  {
   "cell_type": "code",
   "execution_count": 8,
   "metadata": {},
   "outputs": [],
   "source": [
    "def drop_object(list_objects):\n",
    "    \"\"\"\n",
    "    Select a random object and place it in a random x position at the top at the screen\n",
    "    \"\"\"\n",
    "    global obj_image, obj_x_pos, obj_y_pos\n",
    "    \n",
    "    selected_obj = np.random.choice(list_objects)\n",
    "    \n",
    "    object_path = os.path.join(image_folder, selected_obj)\n",
    "    obj_image = pygame.image.load(object_path)\n",
    "    #obj_image = pygame.transform.scale(obj_image, (np.array(obj_image.get_size())//50))\n",
    "    \n",
    "    img_width, img_height = resize(obj_image)\n",
    "    \n",
    "    obj_image = pygame.transform.scale(obj_image, (img_width, img_height))\n",
    "        \n",
    "    obj_x_pos = np.random.randint(0,SCREEN_WIDTH)\n",
    "    obj_y_pos = -img_height\n",
    "    \n"
   ]
  },
  {
   "cell_type": "code",
   "execution_count": null,
   "metadata": {},
   "outputs": [],
   "source": []
  },
  {
   "cell_type": "code",
   "execution_count": 9,
   "metadata": {},
   "outputs": [
    {
     "data": {
      "text/plain": [
       "array([1, 1])"
      ]
     },
     "execution_count": 9,
     "metadata": {},
     "output_type": "execute_result"
    }
   ],
   "source": [
    "np.array(obj_image.get_size())//50"
   ]
  },
  {
   "cell_type": "code",
   "execution_count": 10,
   "metadata": {},
   "outputs": [],
   "source": [
    "def check_events():\n",
    "    \"\"\"\n",
    "    Change the state of movement flags to True if key is pressed and False if key is released.\n",
    "    \"\"\"\n",
    "    global fl_mov_right, fl_mov_left, fl_mov_down, fl_mov_up\n",
    "    \n",
    "    for event in pygame.event.get():\n",
    "        if event.type == pygame.QUIT:\n",
    "            pygame.display.quit()\n",
    "\n",
    "        if event.type == pygame.KEYDOWN:\n",
    "            if event.key == pygame.K_RIGHT:\n",
    "                fl_mov_right = True\n",
    "            if event.key == pygame.K_LEFT:\n",
    "                fl_mov_left = True\n",
    "            if event.key == pygame.K_DOWN:\n",
    "                fl_mov_down = True\n",
    "            if event.key == pygame.K_UP:\n",
    "                fl_mov_up = True\n",
    "                \n",
    "        if event.type == pygame.KEYUP:\n",
    "            if event.key == pygame.K_RIGHT:\n",
    "                fl_mov_right = False\n",
    "            if event.key == pygame.K_LEFT:\n",
    "                fl_mov_left = False\n",
    "            if event.key == pygame.K_DOWN:\n",
    "                fl_mov_down = False\n",
    "            if event.key == pygame.K_UP:\n",
    "                fl_mov_up = False"
   ]
  },
  {
   "cell_type": "code",
   "execution_count": 11,
   "metadata": {},
   "outputs": [],
   "source": [
    "def update_position():\n",
    "    \"\"\"\n",
    "    Update the object position\n",
    "    \"\"\"\n",
    "    global fl_mov_right, fl_mov_left, fl_mov_down, fl_mov_up, obj_x_pos, obj_y_pos\n",
    "    \n",
    "    \n",
    "    if fl_mov_right == True:\n",
    "        obj_x_pos += SPEED\n",
    "    if fl_mov_left:\n",
    "        obj_x_pos -= SPEED\n",
    "    if fl_mov_down:\n",
    "        obj_y_pos += SPEED\n",
    "    if fl_mov_up:\n",
    "        obj_y_pos -= SPEED\n",
    "    \n",
    "    if obj_x_pos > (SCREEN_WIDTH - obj_image.get_rect().right):\n",
    "        obj_x_pos = SCREEN_WIDTH - obj_image.get_rect().right\n",
    "        \n",
    "    if obj_x_pos < (0 + obj_image.get_rect().left):\n",
    "        obj_x_pos = 0 + obj_image.get_rect().left\n",
    "    \n",
    "    obj_y_pos += FLOATING_SPEED"
   ]
  },
  {
   "cell_type": "code",
   "execution_count": 13,
   "metadata": {},
   "outputs": [],
   "source": [
    "obj_list = []\n",
    "\n",
    "for key in OBJ_DICT.keys():\n",
    "    obj_list += OBJ_DICT[key] \n",
    "    \n",
    "\n",
    "#OBJ_DICT['organic'] + OBJ_DICT['glass'] + OBJ_DICT['metal'] + OBJ_DICT['non_rec'] + OBJ_DICT['paper'] + OBJ_DICT['plastic']"
   ]
  },
  {
   "cell_type": "code",
   "execution_count": 14,
   "metadata": {},
   "outputs": [
    {
     "name": "stdout",
     "output_type": "stream",
     "text": [
      "paper.png\n",
      "plastic_bottle.png\n",
      "plastic_bottle.png\n",
      "jornal_paper.png\n",
      "glass_bottle.png\n",
      "plastic_ketchup.png\n",
      "charger.png\n",
      "plastic_ketchup.png\n",
      "banana_peel.png\n",
      "mirror.png\n",
      "clip.png\n",
      "can_3.png\n",
      "mirror.png\n"
     ]
    },
    {
     "ename": "KeyboardInterrupt",
     "evalue": "",
     "output_type": "error",
     "traceback": [
      "\u001b[0;31m---------------------------------------------------------------------------\u001b[0m",
      "\u001b[0;31mKeyboardInterrupt\u001b[0m                         Traceback (most recent call last)",
      "\u001b[0;32m<ipython-input-14-e04d418ccd07>\u001b[0m in \u001b[0;36m<module>\u001b[0;34m\u001b[0m\n\u001b[1;32m     24\u001b[0m \u001b[0;34m\u001b[0m\u001b[0m\n\u001b[1;32m     25\u001b[0m     \u001b[0;31m# update background\u001b[0m\u001b[0;34m\u001b[0m\u001b[0;34m\u001b[0m\u001b[0;34m\u001b[0m\u001b[0m\n\u001b[0;32m---> 26\u001b[0;31m     \u001b[0mscreen\u001b[0m\u001b[0;34m.\u001b[0m\u001b[0mblit\u001b[0m\u001b[0;34m(\u001b[0m\u001b[0mbg_image\u001b[0m\u001b[0;34m,\u001b[0m \u001b[0;34m(\u001b[0m\u001b[0;36m0\u001b[0m\u001b[0;34m,\u001b[0m\u001b[0;36m0\u001b[0m\u001b[0;34m,\u001b[0m\u001b[0;36m0\u001b[0m\u001b[0;34m,\u001b[0m\u001b[0;36m0\u001b[0m\u001b[0;34m)\u001b[0m\u001b[0;34m)\u001b[0m\u001b[0;34m\u001b[0m\u001b[0;34m\u001b[0m\u001b[0m\n\u001b[0m\u001b[1;32m     27\u001b[0m     \u001b[0mscreen\u001b[0m\u001b[0;34m.\u001b[0m\u001b[0mblit\u001b[0m\u001b[0;34m(\u001b[0m\u001b[0mcan_image\u001b[0m\u001b[0;34m,\u001b[0m \u001b[0mcan_rect\u001b[0m\u001b[0;34m)\u001b[0m\u001b[0;34m\u001b[0m\u001b[0;34m\u001b[0m\u001b[0m\n\u001b[1;32m     28\u001b[0m     \u001b[0mscreen\u001b[0m\u001b[0;34m.\u001b[0m\u001b[0mblit\u001b[0m\u001b[0;34m(\u001b[0m\u001b[0mobj_image\u001b[0m\u001b[0;34m,\u001b[0m \u001b[0mobj_rect\u001b[0m\u001b[0;34m)\u001b[0m\u001b[0;34m\u001b[0m\u001b[0;34m\u001b[0m\u001b[0m\n",
      "\u001b[0;31mKeyboardInterrupt\u001b[0m: "
     ]
    }
   ],
   "source": [
    "# initialize the pygame module\n",
    "pygame.init()\n",
    "\n",
    "# create a surface on screen that has the size of bg_image\n",
    "screen = pygame.display.set_mode((SCREEN_WIDTH,SCREEN_HEIGHT))\n",
    "\n",
    "\n",
    "\n",
    "import numpy as np\n",
    "\n",
    "SPEED = 5\n",
    "FLOATING_SPEED = 2\n",
    "obj_x_pos = np.random.randint(0,SCREEN_WIDTH)\n",
    "obj_y_pos = 0\n",
    "fl_mov_right = False\n",
    "fl_mov_left = False\n",
    "fl_mov_down = False\n",
    "fl_mov_up = False\n",
    "\n",
    "while True:\n",
    "    \n",
    "    obj_rect = pygame.Rect(obj_x_pos,obj_y_pos,0,0)\n",
    "    can_rect = pygame.Rect(SCREEN_WIDTH/3,SCREEN_HEIGHT - CAN_HEIGHT, CAN_WIDTH, CAN_HEIGHT)\n",
    "    \n",
    "    # update background\n",
    "    screen.blit(bg_image, (0,0,0,0))\n",
    "    screen.blit(can_image, can_rect)\n",
    "    screen.blit(obj_image, obj_rect)\n",
    "\n",
    "\n",
    "    # checking events\n",
    "    check_events()\n",
    "    \n",
    "    # updating position           \n",
    "    update_position()\n",
    "    \n",
    "    #trash can\n",
    "    \n",
    "    # pad = pygame.Rect(0,SCREEN_HEIGHT - CAN_HEIGHT, SCREEN_WIDTH, SCREEN_HEIGHT)\n",
    "    \n",
    "    \n",
    "    #can_rect = can_image.get_rect()\n",
    "    #obj_rect = obj_image.get_rect()\n",
    "\n",
    "    if obj_rect.colliderect(can_rect):\n",
    "        #if obj_name in OBJ_DICT['organic']:\n",
    "            #score += 1\n",
    "        drop_object(obj_list)\n",
    "\n",
    "    if obj_y_pos > SCREEN_HEIGHT:\n",
    "        drop_object(obj_list)\n",
    "        \n",
    "        \n",
    "    pygame.display.flip()\n",
    "    #pygame.display.update()    "
   ]
  },
  {
   "cell_type": "code",
   "execution_count": null,
   "metadata": {},
   "outputs": [],
   "source": [
    "if 'apple.png' in OBJ_DICT['organic']:\n",
    "    print('PONTO')"
   ]
  },
  {
   "cell_type": "code",
   "execution_count": null,
   "metadata": {},
   "outputs": [],
   "source": []
  },
  {
   "cell_type": "code",
   "execution_count": null,
   "metadata": {},
   "outputs": [],
   "source": []
  },
  {
   "cell_type": "code",
   "execution_count": null,
   "metadata": {},
   "outputs": [],
   "source": [
    "OBJ_DICT['organic']"
   ]
  },
  {
   "cell_type": "code",
   "execution_count": null,
   "metadata": {},
   "outputs": [],
   "source": [
    "OBJ_DICT"
   ]
  },
  {
   "cell_type": "code",
   "execution_count": null,
   "metadata": {},
   "outputs": [],
   "source": [
    "can_image.get_rect()"
   ]
  },
  {
   "cell_type": "code",
   "execution_count": null,
   "metadata": {},
   "outputs": [],
   "source": [
    "obj_rect"
   ]
  },
  {
   "cell_type": "code",
   "execution_count": null,
   "metadata": {},
   "outputs": [],
   "source": [
    "\"\"\"def pad(pad):\n",
    "    \n",
    "    Position of the collision pad for each trash can\n",
    "   \n",
    "    if pad == blue_pad:\n",
    "        pad = pygame.Rect(SCREEN_WIDTH,SCREEN_HEIGHT - CAN_HEIGHT,0,0)\n",
    "    if pad == yellow_pad:\n",
    "        pad = pygame.Rect(20,20,0,0)\n",
    "    if pad == red_pad:\n",
    "        pad = pygame.Rect(20,20,0,0)\n",
    "    if pad == green_pad:\n",
    "        pad = pygame.Rect(20,20,0,0)\n",
    "    if pad == brown_pad:\n",
    "        pad = pygame.Rect(20,20,0,0)\n",
    "    if pad == gray_pad:\n",
    "        pad = pygame.Rect(20,20,0,0)\"\"\""
   ]
  },
  {
   "cell_type": "code",
   "execution_count": null,
   "metadata": {},
   "outputs": [],
   "source": [
    "obj_rect.colliderect(pad)"
   ]
  },
  {
   "cell_type": "code",
   "execution_count": null,
   "metadata": {},
   "outputs": [],
   "source": [
    "class Trash:\n",
    "    pass"
   ]
  },
  {
   "cell_type": "code",
   "execution_count": null,
   "metadata": {},
   "outputs": [],
   "source": [
    "class TrashCan:\n",
    "    pass"
   ]
  },
  {
   "cell_type": "code",
   "execution_count": null,
   "metadata": {},
   "outputs": [],
   "source": [
    "# blue = TrashCan(path='blue.png', rect=(20,20,0,0))\n",
    "# yellow = TrashCan(path='yellow.png', rect=(40,20,0,0))"
   ]
  },
  {
   "cell_type": "code",
   "execution_count": null,
   "metadata": {},
   "outputs": [],
   "source": [
    "obj.rect.collide(yellow.rect) and obj.name in ['metal','...']:\n",
    "    #"
   ]
  },
  {
   "cell_type": "markdown",
   "metadata": {},
   "source": [
    "Next steps:\n",
    "\n",
    "- [x] Add dict with each type of trash\n",
    "- [x] Download images for each trash (at least 2 of each)\n",
    "- [ ] Select two cans (reciclavel/nao reciclavel) for level 1\n",
    "- [ ] Create a function check_results - encontrou uma colisao, checa se esta na lata de lixo correta"
   ]
  },
  {
   "cell_type": "code",
   "execution_count": null,
   "metadata": {},
   "outputs": [],
   "source": []
  },
  {
   "cell_type": "code",
   "execution_count": null,
   "metadata": {},
   "outputs": [],
   "source": []
  }
 ],
 "metadata": {
  "kernelspec": {
   "display_name": "Python 3",
   "language": "python",
   "name": "python3"
  },
  "language_info": {
   "codemirror_mode": {
    "name": "ipython",
    "version": 3
   },
   "file_extension": ".py",
   "mimetype": "text/x-python",
   "name": "python",
   "nbconvert_exporter": "python",
   "pygments_lexer": "ipython3",
   "version": "3.7.6"
  }
 },
 "nbformat": 4,
 "nbformat_minor": 4
}
