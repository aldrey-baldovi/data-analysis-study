{
 "cells": [
  {
   "cell_type": "code",
   "execution_count": 1,
   "metadata": {},
   "outputs": [
    {
     "name": "stdout",
     "output_type": "stream",
     "text": [
      "pygame 1.9.6\n",
      "Hello from the pygame community. https://www.pygame.org/contribute.html\n"
     ]
    }
   ],
   "source": [
    "import pygame"
   ]
  },
  {
   "cell_type": "code",
   "execution_count": 2,
   "metadata": {},
   "outputs": [],
   "source": [
    "IMG_WIDTH, IMG_HEIGHT = (50, 50)"
   ]
  },
  {
   "cell_type": "code",
   "execution_count": 3,
   "metadata": {},
   "outputs": [],
   "source": [
    "OBJ_LIST = ['apple.png', 'glass_bottle.png']"
   ]
  },
  {
   "cell_type": "code",
   "execution_count": 4,
   "metadata": {},
   "outputs": [],
   "source": [
    "import os\n",
    "\n",
    "image_folder = 'images/'\n",
    "bg_name = 'background.jpg'\n",
    "\n",
    "path_to_background = os.path.join(image_folder, bg_name)\n",
    "bg_image = pygame.image.load(path_to_background)\n",
    "SCREEN_WIDTH, SCREEN_HEIGHT = bg_image.get_size()\n",
    "#SCREEN_WIDTH, SCREEN_HEIGHT = (400, 600)"
   ]
  },
  {
   "cell_type": "code",
   "execution_count": 5,
   "metadata": {},
   "outputs": [],
   "source": [
    "object_name = 'apple.png'\n",
    "\n",
    "object_path = os.path.join(image_folder, object_name)\n",
    "obj_image = pygame.image.load(object_path)\n",
    "obj_image = pygame.transform.scale(obj_image, (IMG_WIDTH, IMG_HEIGHT))\n"
   ]
  },
  {
   "cell_type": "code",
   "execution_count": 6,
   "metadata": {},
   "outputs": [],
   "source": [
    "def drop_object(list_objects):\n",
    "    \"\"\"\n",
    "    Select a random object and place it in a random x position at the top at the screen\n",
    "    \"\"\"\n",
    "    global obj_image, obj_x_pos, obj_y_pos\n",
    "    \n",
    "    selected_obj = np.random.choice(list_objects)\n",
    "    \n",
    "    object_path = os.path.join(image_folder, selected_obj)\n",
    "    obj_image = pygame.image.load(object_path)\n",
    "    obj_image = pygame.transform.scale(obj_image, (IMG_WIDTH, IMG_HEIGHT))\n",
    "    \n",
    "        \n",
    "    obj_x_pos = np.random.randint(0,SCREEN_WIDTH)\n",
    "    obj_y_pos = -IMG_HEIGHT"
   ]
  },
  {
   "cell_type": "code",
   "execution_count": 7,
   "metadata": {},
   "outputs": [],
   "source": [
    "def check_events():\n",
    "    \"\"\"\n",
    "    Change the state of movement flags to True if key is pressed and False if key is released.\n",
    "    \"\"\"\n",
    "    global fl_mov_right, fl_mov_left, fl_mov_down, fl_mov_up\n",
    "    \n",
    "    for event in pygame.event.get():\n",
    "        if event.type == pygame.QUIT:\n",
    "            pygame.display.quit()\n",
    "\n",
    "        if event.type == pygame.KEYDOWN:\n",
    "            if event.key == pygame.K_RIGHT:\n",
    "                fl_mov_right = True\n",
    "            if event.key == pygame.K_LEFT:\n",
    "                fl_mov_left = True\n",
    "            if event.key == pygame.K_DOWN:\n",
    "                fl_mov_down = True\n",
    "            if event.key == pygame.K_UP:\n",
    "                fl_mov_up = True\n",
    "                \n",
    "        if event.type == pygame.KEYUP:\n",
    "            if event.key == pygame.K_RIGHT:\n",
    "                fl_mov_right = False\n",
    "            if event.key == pygame.K_LEFT:\n",
    "                fl_mov_left = False\n",
    "            if event.key == pygame.K_DOWN:\n",
    "                fl_mov_down = False\n",
    "            if event.key == pygame.K_UP:\n",
    "                fl_mov_up = False"
   ]
  },
  {
   "cell_type": "code",
   "execution_count": 8,
   "metadata": {},
   "outputs": [],
   "source": [
    "def update_position():\n",
    "    \"\"\"\n",
    "    Update the object position\n",
    "    \"\"\"\n",
    "    global fl_mov_right, fl_mov_left, fl_mov_down, fl_mov_up, obj_x_pos, obj_y_pos\n",
    "    \n",
    "    \n",
    "    if fl_mov_right == True:\n",
    "        obj_x_pos += SPEED\n",
    "    if fl_mov_left:\n",
    "        obj_x_pos -= SPEED\n",
    "    if fl_mov_down:\n",
    "        obj_y_pos += SPEED\n",
    "    if fl_mov_up:\n",
    "        obj_y_pos -= SPEED\n",
    "    \n",
    "    if obj_x_pos > (SCREEN_WIDTH - obj_image.get_rect().right):\n",
    "        obj_x_pos = SCREEN_WIDTH - obj_image.get_rect().right\n",
    "        \n",
    "    if obj_x_pos < (0 + obj_image.get_rect().left):\n",
    "        obj_x_pos = 0 + obj_image.get_rect().left\n",
    "    \n",
    "    obj_y_pos += FLOATING_SPEED"
   ]
  },
  {
   "cell_type": "code",
   "execution_count": 9,
   "metadata": {},
   "outputs": [
    {
     "ename": "error",
     "evalue": "video system not initialized",
     "output_type": "error",
     "traceback": [
      "\u001b[0;31m---------------------------------------------------------------------------\u001b[0m",
      "\u001b[0;31merror\u001b[0m                                     Traceback (most recent call last)",
      "\u001b[0;32m<ipython-input-9-11b63921d244>\u001b[0m in \u001b[0;36m<module>\u001b[0;34m\u001b[0m\n\u001b[1;32m     34\u001b[0m \u001b[0;34m\u001b[0m\u001b[0m\n\u001b[1;32m     35\u001b[0m \u001b[0;34m\u001b[0m\u001b[0m\n\u001b[0;32m---> 36\u001b[0;31m     \u001b[0mpygame\u001b[0m\u001b[0;34m.\u001b[0m\u001b[0mdisplay\u001b[0m\u001b[0;34m.\u001b[0m\u001b[0mflip\u001b[0m\u001b[0;34m(\u001b[0m\u001b[0;34m)\u001b[0m\u001b[0;34m\u001b[0m\u001b[0;34m\u001b[0m\u001b[0m\n\u001b[0m\u001b[1;32m     37\u001b[0m     \u001b[0;31m#pygame.display.update()\u001b[0m\u001b[0;34m\u001b[0m\u001b[0;34m\u001b[0m\u001b[0;34m\u001b[0m\u001b[0m\n",
      "\u001b[0;31merror\u001b[0m: video system not initialized"
     ]
    }
   ],
   "source": [
    "# initialize the pygame module\n",
    "pygame.init()\n",
    "\n",
    "# create a surface on screen that has the size of bg_image\n",
    "screen = pygame.display.set_mode((SCREEN_WIDTH,SCREEN_HEIGHT))\n",
    "\n",
    "\n",
    "\n",
    "import numpy as np\n",
    "\n",
    "SPEED = 10\n",
    "FLOATING_SPEED = 5\n",
    "obj_x_pos = np.random.randint(0,SCREEN_WIDTH)\n",
    "obj_y_pos = 0\n",
    "fl_mov_right = False\n",
    "fl_mov_left = False\n",
    "fl_mov_down = False\n",
    "fl_mov_up = False\n",
    "\n",
    "while True:\n",
    "    # update background\n",
    "    screen.blit(bg_image, (0,-100,0,0))\n",
    "    screen.blit(obj_image, (obj_x_pos,obj_y_pos,0,0))\n",
    "\n",
    "    # checking events\n",
    "    check_events()\n",
    "    \n",
    "    # updating position           \n",
    "    update_position()\n",
    "    \n",
    "    #\n",
    "    if obj_y_pos > SCREEN_HEIGHT:\n",
    "        drop_object(OBJ_LIST)\n",
    "        \n",
    "        \n",
    "    pygame.display.flip()\n",
    "    #pygame.display.update()    "
   ]
  },
  {
   "cell_type": "code",
   "execution_count": null,
   "metadata": {},
   "outputs": [],
   "source": []
  },
  {
   "cell_type": "code",
   "execution_count": null,
   "metadata": {},
   "outputs": [],
   "source": []
  },
  {
   "cell_type": "code",
   "execution_count": null,
   "metadata": {},
   "outputs": [],
   "source": []
  },
  {
   "cell_type": "code",
   "execution_count": null,
   "metadata": {},
   "outputs": [],
   "source": []
  }
 ],
 "metadata": {
  "kernelspec": {
   "display_name": "Python 3",
   "language": "python",
   "name": "python3"
  },
  "language_info": {
   "codemirror_mode": {
    "name": "ipython",
    "version": 3
   },
   "file_extension": ".py",
   "mimetype": "text/x-python",
   "name": "python",
   "nbconvert_exporter": "python",
   "pygments_lexer": "ipython3",
   "version": "3.7.6"
  }
 },
 "nbformat": 4,
 "nbformat_minor": 4
}
