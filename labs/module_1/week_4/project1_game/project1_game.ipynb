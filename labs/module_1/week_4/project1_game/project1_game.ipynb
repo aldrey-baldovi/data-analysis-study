{
 "cells": [
  {
   "cell_type": "code",
   "execution_count": 1,
   "metadata": {},
   "outputs": [
    {
     "name": "stdout",
     "output_type": "stream",
     "text": [
      "pygame 1.9.6\n",
      "Hello from the pygame community. https://www.pygame.org/contribute.html\n"
     ]
    }
   ],
   "source": [
    "import pygame"
   ]
  },
  {
   "cell_type": "code",
   "execution_count": 2,
   "metadata": {},
   "outputs": [],
   "source": [
    "CAN_WIDTH, CAN_HEIGHT = (90, 125)"
   ]
  },
  {
   "cell_type": "code",
   "execution_count": 3,
   "metadata": {},
   "outputs": [],
   "source": [
    "OBJ_DICT = {'paper':['jornal_paper.png','paper.png'],\n",
    "            'plastic':['plastic_bottle.png','plastic_ketchup.png'],\n",
    "            'glass':['glass_bottle.png','glass.png'],\n",
    "            'metal':['can.png','can_2.png','can_3.png'],\n",
    "            'organic':['apple.png','banana_peel.png'],\n",
    "            'non_rec':['charger.png','clip.png','mirror.png']}"
   ]
  },
  {
   "cell_type": "code",
   "execution_count": 4,
   "metadata": {},
   "outputs": [],
   "source": [
    "def resize(obj_image):\n",
    "    \n",
    "    img_size = obj_image.get_size()\n",
    "    \n",
    "    # if widht is greater than height\n",
    "    if img_size[0] > img_size[1]:\n",
    "        height = 30\n",
    "        wpercent = (height/float(img_size[1]))\n",
    "        width = int((float(img_size[0])*float(wpercent)))\n",
    "    else:\n",
    "        width = 30\n",
    "        wpercent = (width/float(img_size[0]))\n",
    "        height = int((float(img_size[1])*float(wpercent)))\n",
    "    \n",
    "    return width, height"
   ]
  },
  {
   "cell_type": "code",
   "execution_count": 5,
   "metadata": {},
   "outputs": [],
   "source": [
    "import os\n",
    "import numpy as np\n",
    "\n",
    "image_folder = 'images/'\n",
    "bg_name = 'background.jpg'\n",
    "\n",
    "path_to_background = os.path.join(image_folder, bg_name)\n",
    "bg_image = pygame.image.load(path_to_background)\n",
    "SCREEN_WIDTH, SCREEN_HEIGHT = bg_image.get_size()\n",
    "SCREEN_WIDTH, SCREEN_HEIGHT = (640, 700)"
   ]
  },
  {
   "cell_type": "code",
   "execution_count": 6,
   "metadata": {},
   "outputs": [
    {
     "data": {
      "text/plain": [
       "(640, 854)"
      ]
     },
     "execution_count": 6,
     "metadata": {},
     "output_type": "execute_result"
    }
   ],
   "source": [
    "bg_image.get_size()"
   ]
  },
  {
   "cell_type": "code",
   "execution_count": 7,
   "metadata": {},
   "outputs": [],
   "source": [
    "object_name = 'apple.png'\n",
    "\n",
    "object_path = os.path.join(image_folder, object_name)\n",
    "obj_image = pygame.image.load(object_path)\n",
    "#obj_image = pygame.transform.scale(obj_image, (IMG_WIDTH, IMG_HEIGHT))\n",
    "#obj_image = pygame.transform.scale(obj_image, (np.array(obj_image.get_size())//50))\n",
    "\"\"\"img_size = obj_image.get_size()\n",
    "wpercent = (IMG_WIDTH/float(img_size[0]))\n",
    "IMG_HEIGHT = int((float(img_size[1])*float(wpercent)))\"\"\"\n",
    "img_width, img_height = resize(obj_image)\n",
    "obj_image = pygame.transform.scale(obj_image, (img_width, img_height))\n",
    "\n",
    "selected_obj = object_name"
   ]
  },
  {
   "cell_type": "code",
   "execution_count": 8,
   "metadata": {},
   "outputs": [],
   "source": [
    "TRASH_DICT = {'blue':'paper_trash.png',\n",
    "              'red':'plastic_trash.png',\n",
    "              'green':'glass_trash.png',\n",
    "              'yellow':'metal_trash.png',\n",
    "              'brown':'organic_trash.png',\n",
    "              'grey':'non_rec_trash.png'}\n",
    "\n",
    "\n",
    "can_blue_name = 'paper_trash.png'\n",
    "can_blue_path = os.path.join(image_folder, can_blue_name)\n",
    "can_blue_image = pygame.image.load(can_blue_path)\n",
    "can_blue_image = pygame.transform.scale(can_blue_image, (CAN_WIDTH, CAN_HEIGHT))\n",
    "\n",
    "\n",
    "can_red_name = 'plastic_trash.png'\n",
    "can_red_path = os.path.join(image_folder, can_red_name)\n",
    "can_red_image = pygame.image.load(can_red_path)\n",
    "can_red_image = pygame.transform.scale(can_red_image, (CAN_WIDTH, CAN_HEIGHT))\n",
    "\n",
    "can_green_name = 'glass_trash.png'\n",
    "can_green_path = os.path.join(image_folder, can_green_name)\n",
    "can_green_image = pygame.image.load(can_green_path)\n",
    "can_green_image = pygame.transform.scale(can_green_image, (CAN_WIDTH, CAN_HEIGHT))\n",
    "\n",
    "can_yellow_name = 'metal_trash.png'\n",
    "can_yellow_path = os.path.join(image_folder, can_yellow_name)\n",
    "can_yellow_image = pygame.image.load(can_yellow_path)\n",
    "can_yellow_image = pygame.transform.scale(can_yellow_image, (CAN_WIDTH, CAN_HEIGHT))\n",
    "\n",
    "can_brown_name = 'organic_trash.png'\n",
    "can_brown_path = os.path.join(image_folder, can_brown_name)\n",
    "can_brown_image = pygame.image.load(can_brown_path)\n",
    "can_brown_image = pygame.transform.scale(can_brown_image, (CAN_WIDTH, CAN_HEIGHT))\n",
    "\n",
    "can_grey_name = 'non_rec_trash.png'\n",
    "can_grey_path = os.path.join(image_folder, can_grey_name)\n",
    "can_grey_image = pygame.image.load(can_grey_path)\n",
    "can_grey_image = pygame.transform.scale(can_grey_image, (CAN_WIDTH, CAN_HEIGHT))\n",
    "\n"
   ]
  },
  {
   "cell_type": "code",
   "execution_count": 9,
   "metadata": {},
   "outputs": [],
   "source": [
    "def drop_object(list_objects):\n",
    "    \"\"\"\n",
    "    Select a random object and place it in a random x position at the top at the screen\n",
    "    \"\"\"\n",
    "    global obj_image, obj_x_pos, obj_y_pos, selected_obj\n",
    "    \n",
    "    selected_obj = np.random.choice(list_objects)\n",
    "    \n",
    "    object_path = os.path.join(image_folder, selected_obj)\n",
    "    obj_image = pygame.image.load(object_path)\n",
    "    #obj_image = pygame.transform.scale(obj_image, (np.array(obj_image.get_size())//50))\n",
    "    \n",
    "    img_width, img_height = resize(obj_image)\n",
    "    \n",
    "    obj_image = pygame.transform.scale(obj_image, (img_width, img_height))\n",
    "        \n",
    "    obj_x_pos = np.random.randint(0,SCREEN_WIDTH)\n",
    "    obj_y_pos = -img_height\n",
    "    \n"
   ]
  },
  {
   "cell_type": "code",
   "execution_count": 10,
   "metadata": {},
   "outputs": [],
   "source": [
    "def check_events():\n",
    "    \"\"\"\n",
    "    Change the state of movement flags to True if key is pressed and False if key is released.\n",
    "    \"\"\"\n",
    "    global fl_mov_right, fl_mov_left, fl_mov_down, fl_mov_up\n",
    "    \n",
    "    for event in pygame.event.get():\n",
    "        if event.type == pygame.QUIT:\n",
    "            pygame.display.quit()\n",
    "\n",
    "        if event.type == pygame.KEYDOWN:\n",
    "            if event.key == pygame.K_RIGHT:\n",
    "                fl_mov_right = True\n",
    "            if event.key == pygame.K_LEFT:\n",
    "                fl_mov_left = True\n",
    "            if event.key == pygame.K_DOWN:\n",
    "                fl_mov_down = True\n",
    "            if event.key == pygame.K_UP:\n",
    "                fl_mov_up = True\n",
    "                \n",
    "        if event.type == pygame.KEYUP:\n",
    "            if event.key == pygame.K_RIGHT:\n",
    "                fl_mov_right = False\n",
    "            if event.key == pygame.K_LEFT:\n",
    "                fl_mov_left = False\n",
    "            if event.key == pygame.K_DOWN:\n",
    "                fl_mov_down = False\n",
    "            if event.key == pygame.K_UP:\n",
    "                fl_mov_up = False"
   ]
  },
  {
   "cell_type": "code",
   "execution_count": 11,
   "metadata": {},
   "outputs": [],
   "source": [
    "def update_position():\n",
    "    \"\"\"\n",
    "    Update the object position\n",
    "    \"\"\"\n",
    "    global fl_mov_right, fl_mov_left, fl_mov_down, fl_mov_up, obj_x_pos, obj_y_pos\n",
    "    \n",
    "    \n",
    "    if fl_mov_right == True:\n",
    "        obj_x_pos += SPEED\n",
    "    if fl_mov_left:\n",
    "        obj_x_pos -= SPEED\n",
    "    if fl_mov_down:\n",
    "        obj_y_pos += SPEED\n",
    "    if fl_mov_up:\n",
    "        obj_y_pos -= SPEED\n",
    "    \n",
    "    if obj_x_pos > (SCREEN_WIDTH - obj_image.get_rect().right):\n",
    "        obj_x_pos = SCREEN_WIDTH - obj_image.get_rect().right\n",
    "        \n",
    "    if obj_x_pos < (0 + obj_image.get_rect().left):\n",
    "        obj_x_pos = 0 + obj_image.get_rect().left\n",
    "    \n",
    "    obj_y_pos += FLOATING_SPEED"
   ]
  },
  {
   "cell_type": "code",
   "execution_count": 12,
   "metadata": {},
   "outputs": [
    {
     "data": {
      "text/plain": [
       "['jornal_paper.png',\n",
       " 'paper.png',\n",
       " 'plastic_bottle.png',\n",
       " 'plastic_ketchup.png',\n",
       " 'glass_bottle.png',\n",
       " 'glass.png',\n",
       " 'can.png',\n",
       " 'can_2.png',\n",
       " 'can_3.png',\n",
       " 'apple.png',\n",
       " 'banana_peel.png',\n",
       " 'charger.png',\n",
       " 'clip.png',\n",
       " 'mirror.png']"
      ]
     },
     "execution_count": 12,
     "metadata": {},
     "output_type": "execute_result"
    }
   ],
   "source": [
    "#includes in a list the objects of the dictionary OBJ_DICT\n",
    "\n",
    "obj_list = []\n",
    "\n",
    "for key in OBJ_DICT.keys():\n",
    "    obj_list += OBJ_DICT[key] \n",
    "    \n",
    "obj_list\n",
    "#OBJ_DICT['organic'] + OBJ_DICT['glass'] + OBJ_DICT['metal'] + OBJ_DICT['non_rec'] + OBJ_DICT['paper'] + OBJ_DICT['plastic']"
   ]
  },
  {
   "cell_type": "code",
   "execution_count": 13,
   "metadata": {},
   "outputs": [],
   "source": [
    "\n",
    "def check_results():\n",
    "    \"\"\"\n",
    "    When there is a collision, check if the object is in the correct trash can.\n",
    "    If it's True: Add 5 points \n",
    "    If it's False: Remove 5 points\n",
    "    \"\"\"\n",
    "    global score, obj_image, blue_rect, red_rect, green_rect, yellow_rect, brown_rect, grey_rect, OBJ_DICT, selected_obj\n",
    "    \n",
    "    score = score\n",
    "    print(selected_obj)\n",
    "\n",
    "    \n",
    "    if obj_rect.colliderect(blue_rect):\n",
    "        if selected_obj in OBJ_DICT['paper']:\n",
    "            score += 5\n",
    "        else:\n",
    "            score -= 5\n",
    "            \n",
    "    elif obj_rect.colliderect(red_rect):\n",
    "        if selected_obj in OBJ_DICT['plastic']:\n",
    "            score += 5\n",
    "        else:\n",
    "            score -= 5\n",
    "            \n",
    "            \n",
    "    elif obj_rect.colliderect(green_rect):\n",
    "        if selected_obj in OBJ_DICT['glass']:\n",
    "            score += 5\n",
    "        else:\n",
    "            score -= 5\n",
    "    \n",
    "    elif obj_rect.colliderect(yellow_rect):\n",
    "        if selected_obj in OBJ_DICT['metal']:\n",
    "            score += 5\n",
    "        else:\n",
    "            score -= 5\n",
    "    \n",
    "    elif obj_rect.colliderect(brown_rect):\n",
    "        if selected_obj in OBJ_DICT['organic']:\n",
    "            score += 5\n",
    "        else:\n",
    "            score -= 5\n",
    "    \n",
    "    elif obj_rect.colliderect(grey_rect):\n",
    "        if obj_image in OBJ_DICT['non_rec']:\n",
    "            score += 5\n",
    "        else:\n",
    "            score -= 5\n",
    "    \n",
    "    else:\n",
    "        score -= 5\n",
    "    \n",
    "    print(score)\n",
    "            "
   ]
  },
  {
   "cell_type": "code",
   "execution_count": 15,
   "metadata": {},
   "outputs": [
    {
     "name": "stdout",
     "output_type": "stream",
     "text": [
      "apple.png\n",
      "5\n",
      "can_3.png\n",
      "10\n",
      "charger.png\n",
      "5\n",
      "mirror.png\n",
      "0\n",
      "glass.png\n",
      "5\n",
      "can.png\n",
      "10\n",
      "apple.png\n",
      "15\n",
      "banana_peel.png\n",
      "20\n",
      "paper.png\n",
      "25\n",
      "can.png\n",
      "20\n",
      "clip.png\n",
      "15\n",
      "plastic_ketchup.png\n",
      "10\n",
      "apple.png\n",
      "5\n",
      "banana_peel.png\n",
      "0\n",
      "glass_bottle.png\n",
      "-5\n",
      "charger.png\n",
      "-10\n"
     ]
    },
    {
     "ename": "KeyboardInterrupt",
     "evalue": "",
     "output_type": "error",
     "traceback": [
      "\u001b[0;31m---------------------------------------------------------------------------\u001b[0m",
      "\u001b[0;31mKeyboardInterrupt\u001b[0m                         Traceback (most recent call last)",
      "\u001b[0;32m<ipython-input-15-6eade7554246>\u001b[0m in \u001b[0;36m<module>\u001b[0;34m\u001b[0m\n\u001b[1;32m     32\u001b[0m \u001b[0;34m\u001b[0m\u001b[0m\n\u001b[1;32m     33\u001b[0m     \u001b[0;31m# update background\u001b[0m\u001b[0;34m\u001b[0m\u001b[0;34m\u001b[0m\u001b[0;34m\u001b[0m\u001b[0m\n\u001b[0;32m---> 34\u001b[0;31m     \u001b[0mscreen\u001b[0m\u001b[0;34m.\u001b[0m\u001b[0mblit\u001b[0m\u001b[0;34m(\u001b[0m\u001b[0mbg_image\u001b[0m\u001b[0;34m,\u001b[0m \u001b[0;34m(\u001b[0m\u001b[0;36m0\u001b[0m\u001b[0;34m,\u001b[0m\u001b[0;36m0\u001b[0m\u001b[0;34m,\u001b[0m\u001b[0;36m0\u001b[0m\u001b[0;34m,\u001b[0m\u001b[0;36m0\u001b[0m\u001b[0;34m)\u001b[0m\u001b[0;34m)\u001b[0m\u001b[0;34m\u001b[0m\u001b[0;34m\u001b[0m\u001b[0m\n\u001b[0m\u001b[1;32m     35\u001b[0m \u001b[0;34m\u001b[0m\u001b[0m\n\u001b[1;32m     36\u001b[0m     \u001b[0;31m#screen.blit(can_image, can_rect)\u001b[0m\u001b[0;34m\u001b[0m\u001b[0;34m\u001b[0m\u001b[0;34m\u001b[0m\u001b[0m\n",
      "\u001b[0;31mKeyboardInterrupt\u001b[0m: "
     ]
    }
   ],
   "source": [
    "# initialize the pygame module\n",
    "pygame.init()\n",
    "\n",
    "# create a surface on screen that has the size of bg_image\n",
    "screen = pygame.display.set_mode((SCREEN_WIDTH,SCREEN_HEIGHT))\n",
    "\n",
    "\n",
    "\n",
    "import numpy as np\n",
    "\n",
    "SPEED = 5\n",
    "FLOATING_SPEED = 2\n",
    "obj_x_pos = np.random.randint(0,SCREEN_WIDTH)\n",
    "obj_y_pos = 0\n",
    "fl_mov_right = False\n",
    "fl_mov_left = False\n",
    "fl_mov_down = False\n",
    "fl_mov_up = False\n",
    "score = 0\n",
    "\n",
    "while True:\n",
    "    \n",
    "    obj_rect = pygame.Rect(obj_x_pos,obj_y_pos,0,0)\n",
    "    #can_rect = pygame.Rect(SCREEN_WIDTH/3,SCREEN_HEIGHT - CAN_HEIGHT, CAN_WIDTH, CAN_HEIGHT)\n",
    "    \n",
    "    blue_rect = pygame.Rect(SCREEN_WIDTH/2 - 315,SCREEN_HEIGHT - CAN_HEIGHT, CAN_WIDTH, CAN_HEIGHT)\n",
    "    red_rect = pygame.Rect(SCREEN_WIDTH/2 - 210,SCREEN_HEIGHT - CAN_HEIGHT, CAN_WIDTH, CAN_HEIGHT)\n",
    "    green_rect = pygame.Rect(SCREEN_WIDTH/2 - 100,SCREEN_HEIGHT - CAN_HEIGHT, CAN_WIDTH, CAN_HEIGHT)\n",
    "    yellow_rect = pygame.Rect(SCREEN_WIDTH/2 + 15,SCREEN_HEIGHT - CAN_HEIGHT, CAN_WIDTH, CAN_HEIGHT)\n",
    "    brown_rect = pygame.Rect(SCREEN_WIDTH/2 + 120,SCREEN_HEIGHT - CAN_HEIGHT, CAN_WIDTH, CAN_HEIGHT)\n",
    "    grey_rect = pygame.Rect(SCREEN_WIDTH/2 + 225,SCREEN_HEIGHT - CAN_HEIGHT, CAN_WIDTH, CAN_HEIGHT)\n",
    "\n",
    "    # update background\n",
    "    screen.blit(bg_image, (0,0,0,0))\n",
    "    \n",
    "    #screen.blit(can_image, can_rect)\n",
    "    \n",
    "    screen.blit(can_blue_image, blue_rect)\n",
    "    screen.blit(can_red_image, red_rect)\n",
    "    screen.blit(can_green_image, green_rect)\n",
    "    screen.blit(can_yellow_image, yellow_rect)\n",
    "    screen.blit(can_brown_image, brown_rect)\n",
    "    screen.blit(can_grey_image, grey_rect)\n",
    "    \n",
    "    screen.blit(obj_image, obj_rect)\n",
    "    \n",
    "    # score label\n",
    "    largeFont = pygame.font.SysFont('comicsans', 40)\n",
    "    text = largeFont.render('SCORE: ' + str(score), 1, (40, 138, 66))\n",
    "\n",
    "    screen.blit(text, (SCREEN_WIDTH - 160, 10))\n",
    "    pygame.display.update()\n",
    "\n",
    "    # checking events\n",
    "    check_events()\n",
    "    \n",
    "    # updating position           \n",
    "    update_position()\n",
    "    \n",
    "    #trash can\n",
    "    \n",
    "    # pad = pygame.Rect(0,SCREEN_HEIGHT - CAN_HEIGHT, SCREEN_WIDTH, SCREEN_HEIGHT)\n",
    "    \n",
    "    \n",
    "    #can_rect = can_image.get_rect()\n",
    "    #obj_rect = obj_image.get_rect()\n",
    "\n",
    "    if obj_rect.colliderect(blue_rect):\n",
    "        check_results()\n",
    "        drop_object(obj_list)\n",
    "        \n",
    "    if obj_rect.colliderect(red_rect):\n",
    "        check_results()\n",
    "        drop_object(obj_list)\n",
    "        \n",
    "    if obj_rect.colliderect(green_rect):\n",
    "        check_results()\n",
    "        drop_object(obj_list)\n",
    "        \n",
    "    if obj_rect.colliderect(yellow_rect):\n",
    "        check_results()\n",
    "        drop_object(obj_list)\n",
    "        \n",
    "    if obj_rect.colliderect(brown_rect):\n",
    "        check_results()\n",
    "        drop_object(obj_list)\n",
    "        \n",
    "    if obj_rect.colliderect(grey_rect):\n",
    "        check_results()\n",
    "        drop_object(obj_list)\n",
    "    \n",
    "    \n",
    "    if obj_y_pos > SCREEN_HEIGHT:\n",
    "        drop_object(obj_list)\n",
    "        \n",
    "    pygame.display.flip()\n",
    "    #pygame.display.update()    "
   ]
  },
  {
   "cell_type": "code",
   "execution_count": null,
   "metadata": {},
   "outputs": [],
   "source": [
    "\n",
    "    \n",
    "    "
   ]
  },
  {
   "cell_type": "code",
   "execution_count": null,
   "metadata": {},
   "outputs": [],
   "source": [
    "# Level 1:\n",
    "\n",
    "#while n < 10:\n"
   ]
  },
  {
   "cell_type": "code",
   "execution_count": null,
   "metadata": {},
   "outputs": [],
   "source": [
    "#can_image.get_rect()"
   ]
  },
  {
   "cell_type": "code",
   "execution_count": null,
   "metadata": {},
   "outputs": [],
   "source": []
  },
  {
   "cell_type": "code",
   "execution_count": null,
   "metadata": {},
   "outputs": [],
   "source": [
    "obj_rect.colliderect(trash_can)"
   ]
  },
  {
   "cell_type": "code",
   "execution_count": null,
   "metadata": {},
   "outputs": [],
   "source": [
    "class Trash:\n",
    "    pass"
   ]
  },
  {
   "cell_type": "code",
   "execution_count": null,
   "metadata": {},
   "outputs": [],
   "source": [
    "class TrashCan:\n",
    "    pass"
   ]
  },
  {
   "cell_type": "code",
   "execution_count": null,
   "metadata": {},
   "outputs": [],
   "source": [
    "# blue = TrashCan(path='blue.png', rect=(20,20,0,0))\n",
    "# yellow = TrashCan(path='yellow.png', rect=(40,20,0,0))"
   ]
  },
  {
   "cell_type": "code",
   "execution_count": null,
   "metadata": {},
   "outputs": [],
   "source": []
  },
  {
   "cell_type": "markdown",
   "metadata": {},
   "source": [
    "Next steps:\n",
    "\n",
    "- [x] Add dict with each type of trash\n",
    "- [x] Download images for each trash (at least 2 of each)\n",
    "- [ ] Select two cans (reciclavel/nao reciclavel) for level 1\n",
    "- [x] Create a function check_results - encontrou uma colisao, checa se esta na lata de lixo correta\n",
    "- [ ] Incluir os pontos na tela"
   ]
  },
  {
   "cell_type": "code",
   "execution_count": null,
   "metadata": {},
   "outputs": [],
   "source": []
  },
  {
   "cell_type": "code",
   "execution_count": null,
   "metadata": {},
   "outputs": [],
   "source": []
  }
 ],
 "metadata": {
  "kernelspec": {
   "display_name": "Python 3",
   "language": "python",
   "name": "python3"
  },
  "language_info": {
   "codemirror_mode": {
    "name": "ipython",
    "version": 3
   },
   "file_extension": ".py",
   "mimetype": "text/x-python",
   "name": "python",
   "nbconvert_exporter": "python",
   "pygments_lexer": "ipython3",
   "version": "3.7.6"
  }
 },
 "nbformat": 4,
 "nbformat_minor": 4
}
