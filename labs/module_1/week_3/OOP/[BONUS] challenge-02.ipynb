{
 "cells": [
  {
   "cell_type": "markdown",
   "metadata": {
    "colab_type": "text",
    "id": "IGVndfDXTYvF"
   },
   "source": [
    "# Lab - Object Oriented Programming"
   ]
  },
  {
   "cell_type": "code",
   "execution_count": 1,
   "metadata": {
    "colab": {},
    "colab_type": "code",
    "id": "eFUM14nhTYvJ"
   },
   "outputs": [],
   "source": [
    "import pandas as pd\n",
    "import numpy as np"
   ]
  },
  {
   "cell_type": "markdown",
   "metadata": {
    "colab_type": "text",
    "id": "VAdTxKlPTYvP"
   },
   "source": [
    "# Challenge 2"
   ]
  },
  {
   "cell_type": "markdown",
   "metadata": {
    "colab_type": "text",
    "id": "r1ytbMg1TYvR"
   },
   "source": [
    "In order to understand the benefits of simple object-oriented programming, we have to build up our classes from the beginning. "
   ]
  },
  {
   "cell_type": "markdown",
   "metadata": {
    "colab_type": "text",
    "id": "X0QMBMXqTYvS"
   },
   "source": [
    "You'll use the following dataframe generator to test some things. Try to understand what the following function does."
   ]
  },
  {
   "cell_type": "code",
   "execution_count": 2,
   "metadata": {
    "colab": {},
    "colab_type": "code",
    "id": "X45Itv4vTYvU"
   },
   "outputs": [],
   "source": [
    "chars = ['a', 'b', 'c','d', 'e', 'f', ' ', 'á','é','ó']\n",
    "\n",
    "def create_weird_dataframe(size=10):\n",
    "    def create_weird_colnames(size=size):\n",
    "        probs = [.2,.2,.15,.1,.1,.1,.05,.05,.025,.025]\n",
    "\n",
    "        return [''.join(\n",
    "            [(char.upper() if np.random.random() < 0.2 else char) \n",
    "                     for char in np.random.choice(chars,size=12, p=probs)]) for i in range(size)]\n",
    "    \n",
    "    data = np.random.random(size=(size,size))\n",
    "    colnames = create_weird_colnames(size)\n",
    "    return pd.DataFrame(data=data, columns=colnames)"
   ]
  },
  {
   "cell_type": "markdown",
   "metadata": {
    "colab_type": "text",
    "id": "u2mUOpnbTYvY"
   },
   "source": [
    "Test the results of running that function below. Run it several times"
   ]
  },
  {
   "cell_type": "code",
   "execution_count": 3,
   "metadata": {
    "colab": {},
    "colab_type": "code",
    "id": "sN4YC6L2TYvZ"
   },
   "outputs": [
    {
     "data": {
      "text/html": [
       "<div>\n",
       "<style scoped>\n",
       "    .dataframe tbody tr th:only-of-type {\n",
       "        vertical-align: middle;\n",
       "    }\n",
       "\n",
       "    .dataframe tbody tr th {\n",
       "        vertical-align: top;\n",
       "    }\n",
       "\n",
       "    .dataframe thead th {\n",
       "        text-align: right;\n",
       "    }\n",
       "</style>\n",
       "<table border=\"1\" class=\"dataframe\">\n",
       "  <thead>\n",
       "    <tr style=\"text-align: right;\">\n",
       "      <th></th>\n",
       "      <th>dbAabFÁÁfóee</th>\n",
       "      <th>befbadcDóba</th>\n",
       "      <th>dbeceecfbaba</th>\n",
       "      <th>ÁcfadcafCÁbA</th>\n",
       "      <th>acaáÁbcdffa</th>\n",
       "      <th>ddAdFccAcfda</th>\n",
       "      <th>b óáádfbábBe</th>\n",
       "      <th>ábAAeaBc fAa</th>\n",
       "      <th>EaafcfbÉCaaB</th>\n",
       "      <th>eadaabae db</th>\n",
       "    </tr>\n",
       "  </thead>\n",
       "  <tbody>\n",
       "    <tr>\n",
       "      <th>0</th>\n",
       "      <td>0.832937</td>\n",
       "      <td>0.769406</td>\n",
       "      <td>0.301760</td>\n",
       "      <td>0.952458</td>\n",
       "      <td>0.502216</td>\n",
       "      <td>0.355087</td>\n",
       "      <td>0.310840</td>\n",
       "      <td>0.798624</td>\n",
       "      <td>0.804225</td>\n",
       "      <td>0.241552</td>\n",
       "    </tr>\n",
       "    <tr>\n",
       "      <th>1</th>\n",
       "      <td>0.715352</td>\n",
       "      <td>0.232911</td>\n",
       "      <td>0.255348</td>\n",
       "      <td>0.302425</td>\n",
       "      <td>0.700295</td>\n",
       "      <td>0.270620</td>\n",
       "      <td>0.802789</td>\n",
       "      <td>0.571201</td>\n",
       "      <td>0.373515</td>\n",
       "      <td>0.301756</td>\n",
       "    </tr>\n",
       "    <tr>\n",
       "      <th>2</th>\n",
       "      <td>0.647627</td>\n",
       "      <td>0.916805</td>\n",
       "      <td>0.372218</td>\n",
       "      <td>0.684945</td>\n",
       "      <td>0.206967</td>\n",
       "      <td>0.370761</td>\n",
       "      <td>0.547854</td>\n",
       "      <td>0.189569</td>\n",
       "      <td>0.707718</td>\n",
       "      <td>0.512081</td>\n",
       "    </tr>\n",
       "    <tr>\n",
       "      <th>3</th>\n",
       "      <td>0.514160</td>\n",
       "      <td>0.386404</td>\n",
       "      <td>0.181874</td>\n",
       "      <td>0.765299</td>\n",
       "      <td>0.706728</td>\n",
       "      <td>0.376028</td>\n",
       "      <td>0.491603</td>\n",
       "      <td>0.067649</td>\n",
       "      <td>0.629088</td>\n",
       "      <td>0.943620</td>\n",
       "    </tr>\n",
       "    <tr>\n",
       "      <th>4</th>\n",
       "      <td>0.837216</td>\n",
       "      <td>0.175440</td>\n",
       "      <td>0.920006</td>\n",
       "      <td>0.484481</td>\n",
       "      <td>0.836141</td>\n",
       "      <td>0.114527</td>\n",
       "      <td>0.000049</td>\n",
       "      <td>0.094516</td>\n",
       "      <td>0.921951</td>\n",
       "      <td>0.149547</td>\n",
       "    </tr>\n",
       "  </tbody>\n",
       "</table>\n",
       "</div>"
      ],
      "text/plain": [
       "   dbAabFÁÁfóee  befbadcDóba   dbeceecfbaba  ÁcfadcafCÁbA  acaáÁbcdffa   \\\n",
       "0      0.832937      0.769406      0.301760      0.952458      0.502216   \n",
       "1      0.715352      0.232911      0.255348      0.302425      0.700295   \n",
       "2      0.647627      0.916805      0.372218      0.684945      0.206967   \n",
       "3      0.514160      0.386404      0.181874      0.765299      0.706728   \n",
       "4      0.837216      0.175440      0.920006      0.484481      0.836141   \n",
       "\n",
       "   ddAdFccAcfda  b óáádfbábBe  ábAAeaBc fAa  EaafcfbÉCaaB   eadaabae db  \n",
       "0      0.355087      0.310840      0.798624      0.804225      0.241552  \n",
       "1      0.270620      0.802789      0.571201      0.373515      0.301756  \n",
       "2      0.370761      0.547854      0.189569      0.707718      0.512081  \n",
       "3      0.376028      0.491603      0.067649      0.629088      0.943620  \n",
       "4      0.114527      0.000049      0.094516      0.921951      0.149547  "
      ]
     },
     "execution_count": 3,
     "metadata": {},
     "output_type": "execute_result"
    }
   ],
   "source": [
    "df = create_weird_dataframe()\n",
    "df.head()"
   ]
  },
  {
   "cell_type": "code",
   "execution_count": 4,
   "metadata": {},
   "outputs": [
    {
     "data": {
      "text/plain": [
       "Index(['dbAabFÁÁfóee', 'befbadcDóba ', 'dbeceecfbaba', 'ÁcfadcafCÁbA',\n",
       "       'acaáÁbcdffa ', 'ddAdFccAcfda', 'b óáádfbábBe', 'ábAAeaBc fAa',\n",
       "       'EaafcfbÉCaaB', ' eadaabae db'],\n",
       "      dtype='object')"
      ]
     },
     "execution_count": 4,
     "metadata": {},
     "output_type": "execute_result"
    }
   ],
   "source": [
    "df.columns"
   ]
  },
  {
   "cell_type": "markdown",
   "metadata": {
    "colab_type": "text",
    "id": "uk4PrJFfTYvd"
   },
   "source": [
    "## Correcting the column names\n",
    "\n",
    "We'll create a function that rename the weird column names. The idea is to, later, extend that idea to our own brand new dataframe class."
   ]
  },
  {
   "cell_type": "markdown",
   "metadata": {
    "colab_type": "text",
    "id": "n7Zt4bABTYvf"
   },
   "source": [
    "### let's start simple: get the column names of the dataframe.\n",
    "\n",
    "Store it in a variable called `col_names`\n"
   ]
  },
  {
   "cell_type": "code",
   "execution_count": 5,
   "metadata": {
    "colab": {},
    "colab_type": "code",
    "id": "ZPR1hdCITYvg"
   },
   "outputs": [
    {
     "ename": "NameError",
     "evalue": "name 'create_weird_colnames' is not defined",
     "output_type": "error",
     "traceback": [
      "\u001b[0;31m---------------------------------------------------------------------------\u001b[0m",
      "\u001b[0;31mNameError\u001b[0m                                 Traceback (most recent call last)",
      "\u001b[0;32m<ipython-input-5-71f053ecee9b>\u001b[0m in \u001b[0;36m<module>\u001b[0;34m\u001b[0m\n\u001b[0;32m----> 1\u001b[0;31m \u001b[0mcolnames\u001b[0m \u001b[0;34m=\u001b[0m \u001b[0mcreate_weird_colnames\u001b[0m\u001b[0;34m(\u001b[0m\u001b[0msize\u001b[0m\u001b[0;34m)\u001b[0m\u001b[0;34m\u001b[0m\u001b[0;34m\u001b[0m\u001b[0m\n\u001b[0m",
      "\u001b[0;31mNameError\u001b[0m: name 'create_weird_colnames' is not defined"
     ]
    }
   ],
   "source": [
    "colnames = create_weird_colnames(size)"
   ]
  },
  {
   "cell_type": "markdown",
   "metadata": {
    "colab_type": "text",
    "id": "CIkkr475TYvk"
   },
   "source": [
    "### Let's iterate through this columns and transform them into lower-case column names\n",
    "\n",
    "Create a list comprehension to do that if possible. Store it in a variable called `lower_colnames`"
   ]
  },
  {
   "cell_type": "code",
   "execution_count": 6,
   "metadata": {
    "colab": {},
    "colab_type": "code",
    "id": "6TXYfFx5TYvl"
   },
   "outputs": [
    {
     "data": {
      "text/plain": [
       "['dbaabfááfóee',\n",
       " 'befbadcdóba ',\n",
       " 'dbeceecfbaba',\n",
       " 'ácfadcafcába',\n",
       " 'acaáábcdffa ',\n",
       " 'ddadfccacfda',\n",
       " 'b óáádfbábbe',\n",
       " 'ábaaeabc faa',\n",
       " 'eaafcfbécaab',\n",
       " ' eadaabae db']"
      ]
     },
     "execution_count": 6,
     "metadata": {},
     "output_type": "execute_result"
    }
   ],
   "source": [
    "lower_colnames = [colnames.lower() for colnames in (list(df.columns))]\n",
    "\n",
    "lower_colnames"
   ]
  },
  {
   "cell_type": "markdown",
   "metadata": {
    "colab_type": "text",
    "id": "qlTchgNbTYvp"
   },
   "source": [
    "### Let's remove the spaces of these column names!\n",
    "\n",
    "Replace each column name space ` ` for an underline `_`. Again, try to use a list comprehension to do that. \n",
    "For this first task use `.replace(' ','_')` method to do that."
   ]
  },
  {
   "cell_type": "code",
   "execution_count": 7,
   "metadata": {
    "colab": {},
    "colab_type": "code",
    "id": "y0JFfKgFTYvq"
   },
   "outputs": [
    {
     "data": {
      "text/plain": [
       "['dbaabfááfóee',\n",
       " 'befbadcdóba_',\n",
       " 'dbeceecfbaba',\n",
       " 'ácfadcafcába',\n",
       " 'acaáábcdffa_',\n",
       " 'ddadfccacfda',\n",
       " 'b_óáádfbábbe',\n",
       " 'ábaaeabc_faa',\n",
       " 'eaafcfbécaab',\n",
       " '_eadaabae_db']"
      ]
     },
     "execution_count": 7,
     "metadata": {},
     "output_type": "execute_result"
    }
   ],
   "source": [
    "normalize_cols = [colnames.replace(' ','_') for colnames in lower_colnames]\n",
    "normalize_cols"
   ]
  },
  {
   "cell_type": "markdown",
   "metadata": {
    "colab_type": "text",
    "id": "TCj5NklYTYvu"
   },
   "source": [
    "### Create a function that groups the results obtained above and return the lower case underlined names as a list\n",
    "\n",
    "Name the function `normalize_cols`. This function should receive a dataframe, get the column names of a it and return the treated list of column names."
   ]
  },
  {
   "cell_type": "code",
   "execution_count": 8,
   "metadata": {
    "colab": {},
    "colab_type": "code",
    "id": "aqYwg4EJTYvv"
   },
   "outputs": [],
   "source": [
    "def normalize_cols(dataframe):\n",
    "    treated_column = [colnames.lower().replace(' ','_') for colnames in (list(dataframe.columns))]\n",
    "\n",
    "    \n",
    "    return treated_column\n",
    "\n"
   ]
  },
  {
   "cell_type": "markdown",
   "metadata": {
    "colab_type": "text",
    "id": "YMpWYJFwTYvz"
   },
   "source": [
    "### Test your results\n",
    "\n",
    "Use the following line of code to test your results. Run it several times to see some behaviors."
   ]
  },
  {
   "cell_type": "code",
   "execution_count": 9,
   "metadata": {
    "colab": {},
    "colab_type": "code",
    "id": "fbXmMMd3TYv0"
   },
   "outputs": [
    {
     "data": {
      "text/plain": [
       "['cáácbafcfb_f',\n",
       " 'ca_bfbbebcae',\n",
       " 'cdefáacáaába',\n",
       " 'bcbaacbabab_',\n",
       " 'eeáe_addbccá',\n",
       " 'caáad_acafcf',\n",
       " 'cbdeaacacaeb',\n",
       " 'ébfcéaabebbb',\n",
       " 'ebaebaccbbad',\n",
       " 'bafbbbca_fbe']"
      ]
     },
     "execution_count": 9,
     "metadata": {},
     "output_type": "execute_result"
    }
   ],
   "source": [
    "normalize_cols(create_weird_dataframe())"
   ]
  },
  {
   "cell_type": "markdown",
   "metadata": {
    "colab_type": "text",
    "id": "LWMc9bikTYv4"
   },
   "source": [
    "### hmmm, we've made a mistake!\n",
    "\n",
    "We've commited several mistakes by doing this. Have observed any bugs associated with our results?"
   ]
  },
  {
   "cell_type": "markdown",
   "metadata": {
    "colab_type": "text",
    "id": "fGnyUzGATYv5"
   },
   "source": [
    "In order for us to see some problems in our results, we have to look for edge cases. \n",
    "\n",
    "For example: \n",
    "\n",
    "**Problem #1:** what if there are 2 or more following spaces? We want it to replace the spaces by several underlines or condense them into one?\n",
    "\n",
    "**Problem #2:** what if there are spaces at the beginning? Should we substitute them by underline or drop them?"
   ]
  },
  {
   "cell_type": "markdown",
   "metadata": {
    "colab_type": "text",
    "id": "BkJguuBITYv6"
   },
   "source": [
    "Let's correct each problem. Starting by problem 2."
   ]
  },
  {
   "cell_type": "markdown",
   "metadata": {
    "colab_type": "text",
    "id": "ikvacQQ3TYv7"
   },
   "source": [
    "## Correcting our function\n",
    "\n",
    "Instead of substituting the spaces at first place, let's remove the trailing and leading spaces!\n",
    "\n",
    "Recreate the `normalize_cols` with the solution to `Problem 2`.\n",
    "\n",
    "*Hint: Copy and paste the last `normalize_cols` function to change it.*"
   ]
  },
  {
   "cell_type": "code",
   "execution_count": 10,
   "metadata": {
    "colab": {},
    "colab_type": "code",
    "id": "u_kX4HS1TYv8"
   },
   "outputs": [
    {
     "data": {
      "text/plain": [
       "['debdddóddfbf',\n",
       " 'efaeaab cceá',\n",
       " 'daeb adfcbbá',\n",
       " 'feáaaaóbéfac',\n",
       " 'bbacbbcdccad',\n",
       " 'cabfdbaeccác',\n",
       " 'e c eáeádac',\n",
       " 'bccbbcfcacbd',\n",
       " 'edf aadé óbb',\n",
       " 'cf ábbeac é']"
      ]
     },
     "execution_count": 10,
     "metadata": {},
     "output_type": "execute_result"
    }
   ],
   "source": [
    "def normalize_cols(dataframe):\n",
    "    treated_column = [colnames.lower().strip() for colnames in (list(dataframe.columns))]\n",
    "\n",
    "    \n",
    "    return treated_column\n",
    "normalize_cols(create_weird_dataframe())"
   ]
  },
  {
   "cell_type": "markdown",
   "metadata": {
    "colab_type": "text",
    "id": "MXm2-PEbTYwA"
   },
   "source": [
    "### Test your results again.\n",
    "\n",
    "At least, for now, you should not have any trailing nor leading underlines."
   ]
  },
  {
   "cell_type": "code",
   "execution_count": 11,
   "metadata": {
    "colab": {},
    "colab_type": "code",
    "id": "Bm9ifu5QTYwB"
   },
   "outputs": [
    {
     "data": {
      "text/plain": [
       "['défabbfccbdc',\n",
       " 'cdaadcaab cb',\n",
       " 'faacfóáfdbáa',\n",
       " 'bababcdedacc',\n",
       " 'báaaaaféófbc',\n",
       " 'ebdaáóóbbfea',\n",
       " 'bbfbócf faad',\n",
       " 'ddbóaecbeaae',\n",
       " 'cbbdd a cc ó',\n",
       " 'bfadfácéábff']"
      ]
     },
     "execution_count": 11,
     "metadata": {},
     "output_type": "execute_result"
    }
   ],
   "source": [
    "normalize_cols(create_weird_dataframe())"
   ]
  },
  {
   "cell_type": "markdown",
   "metadata": {
    "colab_type": "text",
    "id": "zNR5w4cWTYwE"
   },
   "source": [
    "### Correcting problem 1"
   ]
  },
  {
   "cell_type": "markdown",
   "metadata": {
    "colab_type": "text",
    "id": "vSJu3qCCTYwG"
   },
   "source": [
    "To correct problem 1, instead of using `.replace()` string method, we want to use a regular expression. Use the module `re` to substitute the pattern of `1 or more spaces` by 1 underline `_`.\n",
    "\n",
    "Test your solution on the variable below:"
   ]
  },
  {
   "cell_type": "code",
   "execution_count": 12,
   "metadata": {
    "colab": {},
    "colab_type": "code",
    "id": "8dm4rS5mTYwH"
   },
   "outputs": [
    {
     "data": {
      "text/plain": [
       "'these_spaces_should_all_be_one_underline'"
      ]
     },
     "execution_count": 12,
     "metadata": {},
     "output_type": "execute_result"
    }
   ],
   "source": [
    "import re \n",
    "\n",
    "text = 'these spaces      should all be one underline'\n",
    "re.sub('\\s+','_', text)"
   ]
  },
  {
   "cell_type": "markdown",
   "metadata": {
    "colab_type": "text",
    "id": "iqffTpd3TYwU"
   },
   "source": [
    "### Now correct your `normalize_cols` function\n",
    "\n",
    "*Hint: Copy and paste the last `normalize_cols` function to change it.*"
   ]
  },
  {
   "cell_type": "code",
   "execution_count": 13,
   "metadata": {
    "colab": {},
    "colab_type": "code",
    "id": "7SxhpuOCTYwV"
   },
   "outputs": [],
   "source": [
    "def normalize_cols(dataframe):\n",
    "    import re\n",
    "    treated_column = [re.sub('\\s+','_', colnames.lower().strip()) for colnames in (list(dataframe.columns))]\n",
    "    \n",
    "    return treated_column"
   ]
  },
  {
   "cell_type": "markdown",
   "metadata": {
    "colab_type": "text",
    "id": "mn0UwlZATYwX"
   },
   "source": [
    "### Again, test your results.\n",
    "\n",
    "Now, sometimes some column names should have smaller sizes (because you are removing consecutive spaces)"
   ]
  },
  {
   "cell_type": "code",
   "execution_count": 14,
   "metadata": {
    "colab": {},
    "colab_type": "code",
    "id": "LzHIKAT4TYwZ"
   },
   "outputs": [
    {
     "data": {
      "text/plain": [
       "['bcéeadabéfab',\n",
       " 'cáabbb_fábbf',\n",
       " 'dfcdfacá_abb',\n",
       " 'bábcéca_ae_ó',\n",
       " 'bbcáfdadaebc',\n",
       " 'bbcbeccffbb',\n",
       " 'aecabdacfecó',\n",
       " 'abcfca_cabaó',\n",
       " 'bbe_bbáafcae',\n",
       " 'dbfaf_áaabba']"
      ]
     },
     "execution_count": 14,
     "metadata": {},
     "output_type": "execute_result"
    }
   ],
   "source": [
    "normalize_cols(create_weird_dataframe())"
   ]
  },
  {
   "cell_type": "markdown",
   "metadata": {
    "colab_type": "text",
    "id": "bs7KvyTwTYwc"
   },
   "source": [
    "## Last step: remove accents"
   ]
  },
  {
   "cell_type": "markdown",
   "metadata": {
    "colab_type": "text",
    "id": "rhQLRfoYTYwd"
   },
   "source": [
    "The last step consists in removing accents from the strings.\n",
    "\n",
    "Import the package `unidecode` to use its module also called `unidecode` to remove accents. Test on the word below."
   ]
  },
  {
   "cell_type": "code",
   "execution_count": 15,
   "metadata": {},
   "outputs": [
    {
     "name": "stdout",
     "output_type": "stream",
     "text": [
      "Requirement already satisfied: unidecode in /Users/aldreybaldovi/opt/anaconda3/lib/python3.7/site-packages (1.1.1)\n",
      "Note: you may need to restart the kernel to use updated packages.\n"
     ]
    }
   ],
   "source": [
    "pip install unidecode"
   ]
  },
  {
   "cell_type": "code",
   "execution_count": 16,
   "metadata": {
    "colab": {},
    "colab_type": "code",
    "id": "4fgbbUbZTYwg"
   },
   "outputs": [],
   "source": [
    "from unidecode import unidecode"
   ]
  },
  {
   "cell_type": "code",
   "execution_count": 17,
   "metadata": {
    "colab": {},
    "colab_type": "code",
    "id": "osrv7brdTYwe"
   },
   "outputs": [],
   "source": [
    "text = 'aéóúaorowó'"
   ]
  },
  {
   "cell_type": "code",
   "execution_count": 21,
   "metadata": {},
   "outputs": [
    {
     "data": {
      "text/plain": [
       "'aeouaorowo'"
      ]
     },
     "execution_count": 21,
     "metadata": {},
     "output_type": "execute_result"
    }
   ],
   "source": [
    "x = unidecode(text)\n",
    "x"
   ]
  },
  {
   "cell_type": "markdown",
   "metadata": {
    "colab_type": "text",
    "id": "tCoX4ZYLTYwj"
   },
   "source": [
    "### Now remove the accents for each column name in your `normalized_cols` function.\n",
    "\n",
    "*Hint: Copy and paste the last `normalize_cols` function to change it.*"
   ]
  },
  {
   "cell_type": "code",
   "execution_count": 24,
   "metadata": {
    "colab": {},
    "colab_type": "code",
    "id": "3ZW9No0uTYwk"
   },
   "outputs": [],
   "source": [
    "def normalize_cols(dataframe):\n",
    "    import re\n",
    "    treated_column = [unidecode(re.sub('\\s+','_', colnames.lower().strip())) for colnames in (list(dataframe.columns))]\n",
    "    \n",
    "    return treated_column"
   ]
  },
  {
   "cell_type": "markdown",
   "metadata": {
    "colab_type": "text",
    "id": "MTgNfgeYTYwm"
   },
   "source": [
    "### Test your results"
   ]
  },
  {
   "cell_type": "code",
   "execution_count": 25,
   "metadata": {
    "colab": {},
    "colab_type": "code",
    "id": "RxDiO0PzTYwn"
   },
   "outputs": [
    {
     "data": {
      "text/plain": [
       "['aeffobceebcc',\n",
       " 'aec_beceecd',\n",
       " 'a_fafaadfab',\n",
       " 'baaeofbaffec',\n",
       " 'aeb_eddcb_a',\n",
       " 'ccabe_cecbab',\n",
       " 'oaedabefao',\n",
       " 'caadacafaaeb',\n",
       " 'cbadfefadcaa',\n",
       " 'bfodbcbabcdb']"
      ]
     },
     "execution_count": 25,
     "metadata": {},
     "output_type": "execute_result"
    }
   ],
   "source": [
    "normalize_cols(create_weird_dataframe())"
   ]
  },
  {
   "cell_type": "markdown",
   "metadata": {
    "colab_type": "text",
    "id": "VQ9C0CjkTYwq"
   },
   "source": [
    "## Good job. \n",
    "\n",
    "Right now you have a function that receives a dataframe and returns its columns names with a good formatting."
   ]
  },
  {
   "cell_type": "markdown",
   "metadata": {
    "colab_type": "text",
    "id": "5swtawYcTYwq"
   },
   "source": [
    "# Creating our own dataframe."
   ]
  },
  {
   "cell_type": "code",
   "execution_count": 26,
   "metadata": {
    "colab": {},
    "colab_type": "code",
    "id": "69irk1odTYwr"
   },
   "outputs": [],
   "source": [
    "from pandas import DataFrame"
   ]
  },
  {
   "cell_type": "markdown",
   "metadata": {
    "colab_type": "text",
    "id": "3vUf_BFSTYwt"
   },
   "source": [
    "A dataframe is just a simple class. It contains its own attributes and methods. \n",
    "\n",
    "When you create a pd.DataFrame() you are just instantiating the DataFrame class as an object that you can store in a variable. From this point onwards, you have access to all DataFrame class attributes (`.columns` for example) and methods (`.isna()` for example). We've been using those since always! "
   ]
  },
  {
   "cell_type": "markdown",
   "metadata": {
    "colab_type": "text",
    "id": "A5I8dflETYwu"
   },
   "source": [
    "If we wish, we could create our own class inheriting everything from a DataFrame class."
   ]
  },
  {
   "cell_type": "code",
   "execution_count": 27,
   "metadata": {
    "colab": {},
    "colab_type": "code",
    "id": "xZUmnuzzTYwv"
   },
   "outputs": [],
   "source": [
    "class myDataFrame(DataFrame):\n",
    "    pass"
   ]
  },
  {
   "cell_type": "markdown",
   "metadata": {
    "colab_type": "text",
    "id": "mPSyMDn4TYwy"
   },
   "source": [
    "Instead of just creating myDataFrame, put your function inside your new inherited class, that is, transform `normalize_cols` into a method of your own DataFrame.\n",
    "\n",
    "Remember you'll have to give self as the first argument of the `normalize_cols`. So you could replace everything you once called `dataframe` inside your `normalize_cols` by `self`. \n",
    "\n",
    "At the end, return the list of the correct names."
   ]
  },
  {
   "cell_type": "code",
   "execution_count": 32,
   "metadata": {
    "colab": {},
    "colab_type": "code",
    "id": "UD3uk6bkTYwz"
   },
   "outputs": [],
   "source": [
    "class myDataFrame(DataFrame):\n",
    "    \n",
    "    def normalize_cols(self):\n",
    "        import re\n",
    "        treated_column = [unidecode(re.sub('\\s+','_', colnames.lower().strip())) for colnames in (list(self.columns))]\n",
    "\n",
    "        return treated_column"
   ]
  },
  {
   "cell_type": "markdown",
   "metadata": {
    "colab_type": "text",
    "id": "lCKiKMavTYw1"
   },
   "source": [
    "Test your results."
   ]
  },
  {
   "cell_type": "code",
   "execution_count": 33,
   "metadata": {
    "colab": {},
    "colab_type": "code",
    "id": "EaVQNJBbTYw2"
   },
   "outputs": [
    {
     "data": {
      "text/plain": [
       "['dccaebcaface',\n",
       " 'ccfcbedacfba',\n",
       " 'ea_befecfeea',\n",
       " 'ebbeebcacccd',\n",
       " 'bbdadbfaadab',\n",
       " 'ffbeabebaaof',\n",
       " 'becbbeefbcbc',\n",
       " 'addcdcoddaba',\n",
       " 'efeba_debaaf',\n",
       " 'bcbcacadeaab']"
      ]
     },
     "execution_count": 33,
     "metadata": {},
     "output_type": "execute_result"
    }
   ],
   "source": [
    "df = myDataFrame(create_weird_dataframe())\n",
    "df.normalize_cols()"
   ]
  },
  {
   "cell_type": "markdown",
   "metadata": {
    "colab_type": "text",
    "id": "I0IlScuLTYw5"
   },
   "source": [
    "## Understanding even more the `self` argument"
   ]
  },
  {
   "cell_type": "markdown",
   "metadata": {
    "colab_type": "text",
    "id": "UF5gjA1qTYw6"
   },
   "source": [
    "Instead of returning a list containing the correct columns, you should now assign the correct columns to the `self.columns` - this will effectively replace the values of your object by the correct columns.\n",
    "\n",
    "\n",
    "Now change your method to return the dataframe itself. That is, return the `self` argument this time and see the results! \n",
    "\n",
    "```python\n",
    "class myDataFrame(DataFrame):\n",
    "    def normalize_cos(self):\n",
    "        ...\n",
    "        return self\n",
    "```"
   ]
  },
  {
   "cell_type": "code",
   "execution_count": 53,
   "metadata": {
    "colab": {},
    "colab_type": "code",
    "id": "dTtylbdGTYw7"
   },
   "outputs": [],
   "source": [
    "class myDataFrame(DataFrame):\n",
    "    def normalize_cols(self):\n",
    "        import re\n",
    "        treated_column = [unidecode(re.sub('\\s+','_', colnames.lower().strip())) for colnames in (list(self.columns))]\n",
    "\n",
    "        self.columns = treated_column\n",
    "        return self"
   ]
  },
  {
   "cell_type": "code",
   "execution_count": 54,
   "metadata": {},
   "outputs": [
    {
     "data": {
      "text/html": [
       "<div>\n",
       "<style scoped>\n",
       "    .dataframe tbody tr th:only-of-type {\n",
       "        vertical-align: middle;\n",
       "    }\n",
       "\n",
       "    .dataframe tbody tr th {\n",
       "        vertical-align: top;\n",
       "    }\n",
       "\n",
       "    .dataframe thead th {\n",
       "        text-align: right;\n",
       "    }\n",
       "</style>\n",
       "<table border=\"1\" class=\"dataframe\">\n",
       "  <thead>\n",
       "    <tr style=\"text-align: right;\">\n",
       "      <th></th>\n",
       "      <th>bcfbcbbeAdEd</th>\n",
       "      <th>abafafcbBaóc</th>\n",
       "      <th>AAcabb fccFa</th>\n",
       "      <th>ebadafébfcfe</th>\n",
       "      <th>c DBAbb BBdf</th>\n",
       "      <th>éFéBCcaedCEC</th>\n",
       "      <th>babbaaBcbdc</th>\n",
       "      <th>aB baefbfcfD</th>\n",
       "      <th>Féáó cÉábaBc</th>\n",
       "      <th>aaAféFfcc Aa</th>\n",
       "    </tr>\n",
       "  </thead>\n",
       "  <tbody>\n",
       "    <tr>\n",
       "      <th>0</th>\n",
       "      <td>0.297757</td>\n",
       "      <td>0.570887</td>\n",
       "      <td>0.311847</td>\n",
       "      <td>0.749167</td>\n",
       "      <td>0.533306</td>\n",
       "      <td>0.018265</td>\n",
       "      <td>0.925528</td>\n",
       "      <td>0.093832</td>\n",
       "      <td>0.561108</td>\n",
       "      <td>0.969441</td>\n",
       "    </tr>\n",
       "    <tr>\n",
       "      <th>1</th>\n",
       "      <td>0.808092</td>\n",
       "      <td>0.578903</td>\n",
       "      <td>0.428504</td>\n",
       "      <td>0.153232</td>\n",
       "      <td>0.264628</td>\n",
       "      <td>0.595962</td>\n",
       "      <td>0.193105</td>\n",
       "      <td>0.351042</td>\n",
       "      <td>0.220575</td>\n",
       "      <td>0.715059</td>\n",
       "    </tr>\n",
       "    <tr>\n",
       "      <th>2</th>\n",
       "      <td>0.457857</td>\n",
       "      <td>0.231419</td>\n",
       "      <td>0.168292</td>\n",
       "      <td>0.560404</td>\n",
       "      <td>0.537190</td>\n",
       "      <td>0.564746</td>\n",
       "      <td>0.259711</td>\n",
       "      <td>0.744273</td>\n",
       "      <td>0.370990</td>\n",
       "      <td>0.006338</td>\n",
       "    </tr>\n",
       "    <tr>\n",
       "      <th>3</th>\n",
       "      <td>0.539280</td>\n",
       "      <td>0.505421</td>\n",
       "      <td>0.105460</td>\n",
       "      <td>0.506075</td>\n",
       "      <td>0.231060</td>\n",
       "      <td>0.280079</td>\n",
       "      <td>0.442383</td>\n",
       "      <td>0.231805</td>\n",
       "      <td>0.457478</td>\n",
       "      <td>0.146872</td>\n",
       "    </tr>\n",
       "    <tr>\n",
       "      <th>4</th>\n",
       "      <td>0.839326</td>\n",
       "      <td>0.999988</td>\n",
       "      <td>0.995065</td>\n",
       "      <td>0.292315</td>\n",
       "      <td>0.094592</td>\n",
       "      <td>0.091712</td>\n",
       "      <td>0.504636</td>\n",
       "      <td>0.257063</td>\n",
       "      <td>0.916640</td>\n",
       "      <td>0.423420</td>\n",
       "    </tr>\n",
       "    <tr>\n",
       "      <th>5</th>\n",
       "      <td>0.023922</td>\n",
       "      <td>0.005191</td>\n",
       "      <td>0.061170</td>\n",
       "      <td>0.069762</td>\n",
       "      <td>0.647027</td>\n",
       "      <td>0.621679</td>\n",
       "      <td>0.291780</td>\n",
       "      <td>0.916610</td>\n",
       "      <td>0.907280</td>\n",
       "      <td>0.577293</td>\n",
       "    </tr>\n",
       "    <tr>\n",
       "      <th>6</th>\n",
       "      <td>0.799428</td>\n",
       "      <td>0.142639</td>\n",
       "      <td>0.275642</td>\n",
       "      <td>0.873196</td>\n",
       "      <td>0.541442</td>\n",
       "      <td>0.821746</td>\n",
       "      <td>0.272702</td>\n",
       "      <td>0.646433</td>\n",
       "      <td>0.940519</td>\n",
       "      <td>0.104644</td>\n",
       "    </tr>\n",
       "    <tr>\n",
       "      <th>7</th>\n",
       "      <td>0.978400</td>\n",
       "      <td>0.476219</td>\n",
       "      <td>0.529806</td>\n",
       "      <td>0.093248</td>\n",
       "      <td>0.878261</td>\n",
       "      <td>0.129385</td>\n",
       "      <td>0.023349</td>\n",
       "      <td>0.788104</td>\n",
       "      <td>0.420515</td>\n",
       "      <td>0.656825</td>\n",
       "    </tr>\n",
       "    <tr>\n",
       "      <th>8</th>\n",
       "      <td>0.689449</td>\n",
       "      <td>0.442449</td>\n",
       "      <td>0.554378</td>\n",
       "      <td>0.722603</td>\n",
       "      <td>0.705576</td>\n",
       "      <td>0.162034</td>\n",
       "      <td>0.634017</td>\n",
       "      <td>0.280352</td>\n",
       "      <td>0.769626</td>\n",
       "      <td>0.123277</td>\n",
       "    </tr>\n",
       "    <tr>\n",
       "      <th>9</th>\n",
       "      <td>0.626104</td>\n",
       "      <td>0.897269</td>\n",
       "      <td>0.760253</td>\n",
       "      <td>0.977981</td>\n",
       "      <td>0.251798</td>\n",
       "      <td>0.760812</td>\n",
       "      <td>0.849754</td>\n",
       "      <td>0.773092</td>\n",
       "      <td>0.407095</td>\n",
       "      <td>0.770327</td>\n",
       "    </tr>\n",
       "  </tbody>\n",
       "</table>\n",
       "</div>"
      ],
      "text/plain": [
       "   bcfbcbbeAdEd  abafafcbBaóc  AAcabb fccFa  ebadafébfcfe  c DBAbb BBdf  \\\n",
       "0      0.297757      0.570887      0.311847      0.749167      0.533306   \n",
       "1      0.808092      0.578903      0.428504      0.153232      0.264628   \n",
       "2      0.457857      0.231419      0.168292      0.560404      0.537190   \n",
       "3      0.539280      0.505421      0.105460      0.506075      0.231060   \n",
       "4      0.839326      0.999988      0.995065      0.292315      0.094592   \n",
       "5      0.023922      0.005191      0.061170      0.069762      0.647027   \n",
       "6      0.799428      0.142639      0.275642      0.873196      0.541442   \n",
       "7      0.978400      0.476219      0.529806      0.093248      0.878261   \n",
       "8      0.689449      0.442449      0.554378      0.722603      0.705576   \n",
       "9      0.626104      0.897269      0.760253      0.977981      0.251798   \n",
       "\n",
       "   éFéBCcaedCEC   babbaaBcbdc  aB baefbfcfD  Féáó cÉábaBc  aaAféFfcc Aa  \n",
       "0      0.018265      0.925528      0.093832      0.561108      0.969441  \n",
       "1      0.595962      0.193105      0.351042      0.220575      0.715059  \n",
       "2      0.564746      0.259711      0.744273      0.370990      0.006338  \n",
       "3      0.280079      0.442383      0.231805      0.457478      0.146872  \n",
       "4      0.091712      0.504636      0.257063      0.916640      0.423420  \n",
       "5      0.621679      0.291780      0.916610      0.907280      0.577293  \n",
       "6      0.821746      0.272702      0.646433      0.940519      0.104644  \n",
       "7      0.129385      0.023349      0.788104      0.420515      0.656825  \n",
       "8      0.162034      0.634017      0.280352      0.769626      0.123277  \n",
       "9      0.760812      0.849754      0.773092      0.407095      0.770327  "
      ]
     },
     "execution_count": 54,
     "metadata": {},
     "output_type": "execute_result"
    }
   ],
   "source": [
    "df = myDataFrame(create_weird_dataframe())\n",
    "df"
   ]
  },
  {
   "cell_type": "code",
   "execution_count": 55,
   "metadata": {},
   "outputs": [
    {
     "data": {
      "text/html": [
       "<div>\n",
       "<style scoped>\n",
       "    .dataframe tbody tr th:only-of-type {\n",
       "        vertical-align: middle;\n",
       "    }\n",
       "\n",
       "    .dataframe tbody tr th {\n",
       "        vertical-align: top;\n",
       "    }\n",
       "\n",
       "    .dataframe thead th {\n",
       "        text-align: right;\n",
       "    }\n",
       "</style>\n",
       "<table border=\"1\" class=\"dataframe\">\n",
       "  <thead>\n",
       "    <tr style=\"text-align: right;\">\n",
       "      <th></th>\n",
       "      <th>bcfbcbbeaded</th>\n",
       "      <th>abafafcbbaoc</th>\n",
       "      <th>aacabb_fccfa</th>\n",
       "      <th>ebadafebfcfe</th>\n",
       "      <th>c_dbabb_bbdf</th>\n",
       "      <th>efebccaedcec</th>\n",
       "      <th>babbaabcbdc</th>\n",
       "      <th>ab_baefbfcfd</th>\n",
       "      <th>feao_ceababc</th>\n",
       "      <th>aaafeffcc_aa</th>\n",
       "    </tr>\n",
       "  </thead>\n",
       "  <tbody>\n",
       "    <tr>\n",
       "      <th>0</th>\n",
       "      <td>0.297757</td>\n",
       "      <td>0.570887</td>\n",
       "      <td>0.311847</td>\n",
       "      <td>0.749167</td>\n",
       "      <td>0.533306</td>\n",
       "      <td>0.018265</td>\n",
       "      <td>0.925528</td>\n",
       "      <td>0.093832</td>\n",
       "      <td>0.561108</td>\n",
       "      <td>0.969441</td>\n",
       "    </tr>\n",
       "    <tr>\n",
       "      <th>1</th>\n",
       "      <td>0.808092</td>\n",
       "      <td>0.578903</td>\n",
       "      <td>0.428504</td>\n",
       "      <td>0.153232</td>\n",
       "      <td>0.264628</td>\n",
       "      <td>0.595962</td>\n",
       "      <td>0.193105</td>\n",
       "      <td>0.351042</td>\n",
       "      <td>0.220575</td>\n",
       "      <td>0.715059</td>\n",
       "    </tr>\n",
       "    <tr>\n",
       "      <th>2</th>\n",
       "      <td>0.457857</td>\n",
       "      <td>0.231419</td>\n",
       "      <td>0.168292</td>\n",
       "      <td>0.560404</td>\n",
       "      <td>0.537190</td>\n",
       "      <td>0.564746</td>\n",
       "      <td>0.259711</td>\n",
       "      <td>0.744273</td>\n",
       "      <td>0.370990</td>\n",
       "      <td>0.006338</td>\n",
       "    </tr>\n",
       "    <tr>\n",
       "      <th>3</th>\n",
       "      <td>0.539280</td>\n",
       "      <td>0.505421</td>\n",
       "      <td>0.105460</td>\n",
       "      <td>0.506075</td>\n",
       "      <td>0.231060</td>\n",
       "      <td>0.280079</td>\n",
       "      <td>0.442383</td>\n",
       "      <td>0.231805</td>\n",
       "      <td>0.457478</td>\n",
       "      <td>0.146872</td>\n",
       "    </tr>\n",
       "    <tr>\n",
       "      <th>4</th>\n",
       "      <td>0.839326</td>\n",
       "      <td>0.999988</td>\n",
       "      <td>0.995065</td>\n",
       "      <td>0.292315</td>\n",
       "      <td>0.094592</td>\n",
       "      <td>0.091712</td>\n",
       "      <td>0.504636</td>\n",
       "      <td>0.257063</td>\n",
       "      <td>0.916640</td>\n",
       "      <td>0.423420</td>\n",
       "    </tr>\n",
       "    <tr>\n",
       "      <th>5</th>\n",
       "      <td>0.023922</td>\n",
       "      <td>0.005191</td>\n",
       "      <td>0.061170</td>\n",
       "      <td>0.069762</td>\n",
       "      <td>0.647027</td>\n",
       "      <td>0.621679</td>\n",
       "      <td>0.291780</td>\n",
       "      <td>0.916610</td>\n",
       "      <td>0.907280</td>\n",
       "      <td>0.577293</td>\n",
       "    </tr>\n",
       "    <tr>\n",
       "      <th>6</th>\n",
       "      <td>0.799428</td>\n",
       "      <td>0.142639</td>\n",
       "      <td>0.275642</td>\n",
       "      <td>0.873196</td>\n",
       "      <td>0.541442</td>\n",
       "      <td>0.821746</td>\n",
       "      <td>0.272702</td>\n",
       "      <td>0.646433</td>\n",
       "      <td>0.940519</td>\n",
       "      <td>0.104644</td>\n",
       "    </tr>\n",
       "    <tr>\n",
       "      <th>7</th>\n",
       "      <td>0.978400</td>\n",
       "      <td>0.476219</td>\n",
       "      <td>0.529806</td>\n",
       "      <td>0.093248</td>\n",
       "      <td>0.878261</td>\n",
       "      <td>0.129385</td>\n",
       "      <td>0.023349</td>\n",
       "      <td>0.788104</td>\n",
       "      <td>0.420515</td>\n",
       "      <td>0.656825</td>\n",
       "    </tr>\n",
       "    <tr>\n",
       "      <th>8</th>\n",
       "      <td>0.689449</td>\n",
       "      <td>0.442449</td>\n",
       "      <td>0.554378</td>\n",
       "      <td>0.722603</td>\n",
       "      <td>0.705576</td>\n",
       "      <td>0.162034</td>\n",
       "      <td>0.634017</td>\n",
       "      <td>0.280352</td>\n",
       "      <td>0.769626</td>\n",
       "      <td>0.123277</td>\n",
       "    </tr>\n",
       "    <tr>\n",
       "      <th>9</th>\n",
       "      <td>0.626104</td>\n",
       "      <td>0.897269</td>\n",
       "      <td>0.760253</td>\n",
       "      <td>0.977981</td>\n",
       "      <td>0.251798</td>\n",
       "      <td>0.760812</td>\n",
       "      <td>0.849754</td>\n",
       "      <td>0.773092</td>\n",
       "      <td>0.407095</td>\n",
       "      <td>0.770327</td>\n",
       "    </tr>\n",
       "  </tbody>\n",
       "</table>\n",
       "</div>"
      ],
      "text/plain": [
       "   bcfbcbbeaded  abafafcbbaoc  aacabb_fccfa  ebadafebfcfe  c_dbabb_bbdf  \\\n",
       "0      0.297757      0.570887      0.311847      0.749167      0.533306   \n",
       "1      0.808092      0.578903      0.428504      0.153232      0.264628   \n",
       "2      0.457857      0.231419      0.168292      0.560404      0.537190   \n",
       "3      0.539280      0.505421      0.105460      0.506075      0.231060   \n",
       "4      0.839326      0.999988      0.995065      0.292315      0.094592   \n",
       "5      0.023922      0.005191      0.061170      0.069762      0.647027   \n",
       "6      0.799428      0.142639      0.275642      0.873196      0.541442   \n",
       "7      0.978400      0.476219      0.529806      0.093248      0.878261   \n",
       "8      0.689449      0.442449      0.554378      0.722603      0.705576   \n",
       "9      0.626104      0.897269      0.760253      0.977981      0.251798   \n",
       "\n",
       "   efebccaedcec  babbaabcbdc  ab_baefbfcfd  feao_ceababc  aaafeffcc_aa  \n",
       "0      0.018265     0.925528      0.093832      0.561108      0.969441  \n",
       "1      0.595962     0.193105      0.351042      0.220575      0.715059  \n",
       "2      0.564746     0.259711      0.744273      0.370990      0.006338  \n",
       "3      0.280079     0.442383      0.231805      0.457478      0.146872  \n",
       "4      0.091712     0.504636      0.257063      0.916640      0.423420  \n",
       "5      0.621679     0.291780      0.916610      0.907280      0.577293  \n",
       "6      0.821746     0.272702      0.646433      0.940519      0.104644  \n",
       "7      0.129385     0.023349      0.788104      0.420515      0.656825  \n",
       "8      0.162034     0.634017      0.280352      0.769626      0.123277  \n",
       "9      0.760812     0.849754      0.773092      0.407095      0.770327  "
      ]
     },
     "execution_count": 55,
     "metadata": {},
     "output_type": "execute_result"
    }
   ],
   "source": [
    "df.normalize_cols()"
   ]
  },
  {
   "cell_type": "code",
   "execution_count": 56,
   "metadata": {},
   "outputs": [
    {
     "data": {
      "text/html": [
       "<div>\n",
       "<style scoped>\n",
       "    .dataframe tbody tr th:only-of-type {\n",
       "        vertical-align: middle;\n",
       "    }\n",
       "\n",
       "    .dataframe tbody tr th {\n",
       "        vertical-align: top;\n",
       "    }\n",
       "\n",
       "    .dataframe thead th {\n",
       "        text-align: right;\n",
       "    }\n",
       "</style>\n",
       "<table border=\"1\" class=\"dataframe\">\n",
       "  <thead>\n",
       "    <tr style=\"text-align: right;\">\n",
       "      <th></th>\n",
       "      <th>bcfbcbbeaded</th>\n",
       "      <th>abafafcbbaoc</th>\n",
       "      <th>aacabb_fccfa</th>\n",
       "      <th>ebadafebfcfe</th>\n",
       "      <th>c_dbabb_bbdf</th>\n",
       "      <th>efebccaedcec</th>\n",
       "      <th>babbaabcbdc</th>\n",
       "      <th>ab_baefbfcfd</th>\n",
       "      <th>feao_ceababc</th>\n",
       "      <th>aaafeffcc_aa</th>\n",
       "    </tr>\n",
       "  </thead>\n",
       "  <tbody>\n",
       "    <tr>\n",
       "      <th>0</th>\n",
       "      <td>0.297757</td>\n",
       "      <td>0.570887</td>\n",
       "      <td>0.311847</td>\n",
       "      <td>0.749167</td>\n",
       "      <td>0.533306</td>\n",
       "      <td>0.018265</td>\n",
       "      <td>0.925528</td>\n",
       "      <td>0.093832</td>\n",
       "      <td>0.561108</td>\n",
       "      <td>0.969441</td>\n",
       "    </tr>\n",
       "    <tr>\n",
       "      <th>1</th>\n",
       "      <td>0.808092</td>\n",
       "      <td>0.578903</td>\n",
       "      <td>0.428504</td>\n",
       "      <td>0.153232</td>\n",
       "      <td>0.264628</td>\n",
       "      <td>0.595962</td>\n",
       "      <td>0.193105</td>\n",
       "      <td>0.351042</td>\n",
       "      <td>0.220575</td>\n",
       "      <td>0.715059</td>\n",
       "    </tr>\n",
       "    <tr>\n",
       "      <th>2</th>\n",
       "      <td>0.457857</td>\n",
       "      <td>0.231419</td>\n",
       "      <td>0.168292</td>\n",
       "      <td>0.560404</td>\n",
       "      <td>0.537190</td>\n",
       "      <td>0.564746</td>\n",
       "      <td>0.259711</td>\n",
       "      <td>0.744273</td>\n",
       "      <td>0.370990</td>\n",
       "      <td>0.006338</td>\n",
       "    </tr>\n",
       "    <tr>\n",
       "      <th>3</th>\n",
       "      <td>0.539280</td>\n",
       "      <td>0.505421</td>\n",
       "      <td>0.105460</td>\n",
       "      <td>0.506075</td>\n",
       "      <td>0.231060</td>\n",
       "      <td>0.280079</td>\n",
       "      <td>0.442383</td>\n",
       "      <td>0.231805</td>\n",
       "      <td>0.457478</td>\n",
       "      <td>0.146872</td>\n",
       "    </tr>\n",
       "    <tr>\n",
       "      <th>4</th>\n",
       "      <td>0.839326</td>\n",
       "      <td>0.999988</td>\n",
       "      <td>0.995065</td>\n",
       "      <td>0.292315</td>\n",
       "      <td>0.094592</td>\n",
       "      <td>0.091712</td>\n",
       "      <td>0.504636</td>\n",
       "      <td>0.257063</td>\n",
       "      <td>0.916640</td>\n",
       "      <td>0.423420</td>\n",
       "    </tr>\n",
       "    <tr>\n",
       "      <th>5</th>\n",
       "      <td>0.023922</td>\n",
       "      <td>0.005191</td>\n",
       "      <td>0.061170</td>\n",
       "      <td>0.069762</td>\n",
       "      <td>0.647027</td>\n",
       "      <td>0.621679</td>\n",
       "      <td>0.291780</td>\n",
       "      <td>0.916610</td>\n",
       "      <td>0.907280</td>\n",
       "      <td>0.577293</td>\n",
       "    </tr>\n",
       "    <tr>\n",
       "      <th>6</th>\n",
       "      <td>0.799428</td>\n",
       "      <td>0.142639</td>\n",
       "      <td>0.275642</td>\n",
       "      <td>0.873196</td>\n",
       "      <td>0.541442</td>\n",
       "      <td>0.821746</td>\n",
       "      <td>0.272702</td>\n",
       "      <td>0.646433</td>\n",
       "      <td>0.940519</td>\n",
       "      <td>0.104644</td>\n",
       "    </tr>\n",
       "    <tr>\n",
       "      <th>7</th>\n",
       "      <td>0.978400</td>\n",
       "      <td>0.476219</td>\n",
       "      <td>0.529806</td>\n",
       "      <td>0.093248</td>\n",
       "      <td>0.878261</td>\n",
       "      <td>0.129385</td>\n",
       "      <td>0.023349</td>\n",
       "      <td>0.788104</td>\n",
       "      <td>0.420515</td>\n",
       "      <td>0.656825</td>\n",
       "    </tr>\n",
       "    <tr>\n",
       "      <th>8</th>\n",
       "      <td>0.689449</td>\n",
       "      <td>0.442449</td>\n",
       "      <td>0.554378</td>\n",
       "      <td>0.722603</td>\n",
       "      <td>0.705576</td>\n",
       "      <td>0.162034</td>\n",
       "      <td>0.634017</td>\n",
       "      <td>0.280352</td>\n",
       "      <td>0.769626</td>\n",
       "      <td>0.123277</td>\n",
       "    </tr>\n",
       "    <tr>\n",
       "      <th>9</th>\n",
       "      <td>0.626104</td>\n",
       "      <td>0.897269</td>\n",
       "      <td>0.760253</td>\n",
       "      <td>0.977981</td>\n",
       "      <td>0.251798</td>\n",
       "      <td>0.760812</td>\n",
       "      <td>0.849754</td>\n",
       "      <td>0.773092</td>\n",
       "      <td>0.407095</td>\n",
       "      <td>0.770327</td>\n",
       "    </tr>\n",
       "  </tbody>\n",
       "</table>\n",
       "</div>"
      ],
      "text/plain": [
       "   bcfbcbbeaded  abafafcbbaoc  aacabb_fccfa  ebadafebfcfe  c_dbabb_bbdf  \\\n",
       "0      0.297757      0.570887      0.311847      0.749167      0.533306   \n",
       "1      0.808092      0.578903      0.428504      0.153232      0.264628   \n",
       "2      0.457857      0.231419      0.168292      0.560404      0.537190   \n",
       "3      0.539280      0.505421      0.105460      0.506075      0.231060   \n",
       "4      0.839326      0.999988      0.995065      0.292315      0.094592   \n",
       "5      0.023922      0.005191      0.061170      0.069762      0.647027   \n",
       "6      0.799428      0.142639      0.275642      0.873196      0.541442   \n",
       "7      0.978400      0.476219      0.529806      0.093248      0.878261   \n",
       "8      0.689449      0.442449      0.554378      0.722603      0.705576   \n",
       "9      0.626104      0.897269      0.760253      0.977981      0.251798   \n",
       "\n",
       "   efebccaedcec  babbaabcbdc  ab_baefbfcfd  feao_ceababc  aaafeffcc_aa  \n",
       "0      0.018265     0.925528      0.093832      0.561108      0.969441  \n",
       "1      0.595962     0.193105      0.351042      0.220575      0.715059  \n",
       "2      0.564746     0.259711      0.744273      0.370990      0.006338  \n",
       "3      0.280079     0.442383      0.231805      0.457478      0.146872  \n",
       "4      0.091712     0.504636      0.257063      0.916640      0.423420  \n",
       "5      0.621679     0.291780      0.916610      0.907280      0.577293  \n",
       "6      0.821746     0.272702      0.646433      0.940519      0.104644  \n",
       "7      0.129385     0.023349      0.788104      0.420515      0.656825  \n",
       "8      0.162034     0.634017      0.280352      0.769626      0.123277  \n",
       "9      0.760812     0.849754      0.773092      0.407095      0.770327  "
      ]
     },
     "execution_count": 56,
     "metadata": {},
     "output_type": "execute_result"
    }
   ],
   "source": [
    "df"
   ]
  }
 ],
 "metadata": {
  "colab": {
   "collapsed_sections": [
    "YMpWYJFwTYvz",
    "LWMc9bikTYv4",
    "ikvacQQ3TYv7",
    "MXm2-PEbTYwA",
    "zNR5w4cWTYwE",
    "iqffTpd3TYwU",
    "mn0UwlZATYwX",
    "tCoX4ZYLTYwj",
    "MTgNfgeYTYwm",
    "VQ9C0CjkTYwq",
    "I0IlScuLTYw5",
    "bh1SJi3lTYxf",
    "EuP7N9DzTYxj",
    "FLmjUel1TYxo",
    "3fS9sCKjTYxs",
    "uu5Ma2rvTYxu",
    "cZV4Qq62TYx4",
    "ZoFEGcT1TYx8",
    "tfhgwGFDTYyA",
    "Zd2avbOGTYyE"
   ],
   "name": "[BONUS] challenge-02.ipynb",
   "provenance": []
  },
  "kernelspec": {
   "display_name": "Python 3",
   "language": "python",
   "name": "python3"
  },
  "language_info": {
   "codemirror_mode": {
    "name": "ipython",
    "version": 3
   },
   "file_extension": ".py",
   "mimetype": "text/x-python",
   "name": "python",
   "nbconvert_exporter": "python",
   "pygments_lexer": "ipython3",
   "version": "3.7.6"
  },
  "toc": {
   "base_numbering": 1,
   "nav_menu": {},
   "number_sections": true,
   "sideBar": true,
   "skip_h1_title": false,
   "title_cell": "Table of Contents",
   "title_sidebar": "Contents",
   "toc_cell": false,
   "toc_position": {},
   "toc_section_display": true,
   "toc_window_display": false
  }
 },
 "nbformat": 4,
 "nbformat_minor": 1
}
